{
 "cells": [
  {
   "cell_type": "markdown",
   "metadata": {},
   "source": [
    "# Numpy random sampling notebook"
   ]
  },
  {
   "cell_type": "markdown",
   "metadata": {},
   "source": [
    "---\n",
    "## [What is Numpy?](http://www.numpy.org)\n",
    "Numpy is a Python library used for scientific computing that can be used as a multi-dimensional container of data. \n",
    "It provides:\n",
    "* a N-dimensional array object\n",
    "* broadcasting functions\n",
    "* tools to integrate languages such as C and C++ \n",
    "* computations such as\n",
    "    * linear algebra\n",
    "    * Fourier transform \n",
    "    * random number capabilities\n",
    "---"
   ]
  },
  {
   "cell_type": "markdown",
   "metadata": {},
   "source": [
    "## Packages\n",
    "We need to import the packages require for this code to work."
   ]
  },
  {
   "cell_type": "code",
   "execution_count": 1,
   "metadata": {},
   "outputs": [],
   "source": [
    "# Random algebra\n",
    "import numpy as np\n",
    "\n",
    "# \n",
    "import scipy.special as sps\n",
    "\n",
    "# Visualise data\n",
    "import matplotlib.pyplot as plt\n",
    "%matplotlib inline"
   ]
  },
  {
   "cell_type": "code",
   "execution_count": 2,
   "metadata": {},
   "outputs": [],
   "source": [
    "# Initialise number of numbers to be used\n",
    "\n",
    "x = 10000          # amount of values used in all tests\n",
    "\n",
    "d = 100           # array dimensions used in permutations\n",
    "\n",
    "hs = 20           # size of histograms used in all tests"
   ]
  },
  {
   "cell_type": "markdown",
   "metadata": {},
   "source": [
    "___\n",
    "# Simple random data\n",
    "\n",
    "Positive dimension values of an array are passed in<br>\n",
    "If the argument is missing a random Python float is returned"
   ]
  },
  {
   "cell_type": "markdown",
   "metadata": {},
   "source": [
    "## [numpy.random.rand (d0, d1, d2, ..., dn)](https://docs.scipy.org/doc/numpy-1.15.1/reference/generated/numpy.random.rand.html#numpy.random.rand)\n",
    " Dimensions are passed in separate arguments. "
   ]
  },
  {
   "cell_type": "markdown",
   "metadata": {},
   "source": [
    "1. Parameter size: \n",
    "    * number of parameters signifies the size of the array (d2 = 2D array)\n",
    "2. d0 \n",
    "    * number of elements in a 1D array (x)\n",
    "3. d1 \n",
    "    * number of elements in a 2D array (y)\n",
    "4. d2\n",
    "    * number of elements in a 3D array (z)\n",
    "#### and so on\n",
    " \n",
    "The values of elements from the array are, between 0 (including 0) and 1 (not including 1) as shown in [this documentation](https://docs.scipy.org/doc/numpy-1.15.1/reference/generated/numpy.random.rand.html#numpy.random.rand)\n",
    "\n",
    "\n",
    "* Square bracked(s) - **[ ]**\n",
    "    * included\n",
    "* Round bracket(s) - **( )**\n",
    "    * not included"
   ]
  },
  {
   "cell_type": "code",
   "execution_count": 3,
   "metadata": {
    "scrolled": false
   },
   "outputs": [
    {
     "data": {
      "text/plain": [
       "array([[0.08519467, 0.96314499],\n",
       "       [0.74019368, 0.24404609],\n",
       "       [0.56979027, 0.2861661 ],\n",
       "       [0.83374368, 0.54569385]])"
      ]
     },
     "execution_count": 3,
     "metadata": {},
     "output_type": "execute_result"
    }
   ],
   "source": [
    "# Source code adapted from:\n",
    "# - https://docs.scipy.org/doc/numpy-1.15.1/reference/generated/numpy.random.rand.html#numpy.random.rand\n",
    "# Passing in arguments\n",
    "np.random.rand(4, 2)"
   ]
  },
  {
   "cell_type": "code",
   "execution_count": 4,
   "metadata": {},
   "outputs": [
    {
     "data": {
      "text/plain": [
       "0.47093447649834397"
      ]
     },
     "execution_count": 4,
     "metadata": {},
     "output_type": "execute_result"
    }
   ],
   "source": [
    "# No argument\n",
    "np.random.rand()"
   ]
  },
  {
   "cell_type": "markdown",
   "metadata": {},
   "source": [
    "### Visualise numpy.random.rand\n",
    "Displays a graph of how this function generates random numbers"
   ]
  },
  {
   "cell_type": "code",
   "execution_count": 5,
   "metadata": {},
   "outputs": [],
   "source": [
    "# Create a 1D array with 100 elements of random number values\n",
    "random_rand = np.random.rand(x)"
   ]
  },
  {
   "cell_type": "code",
   "execution_count": 6,
   "metadata": {
    "scrolled": true
   },
   "outputs": [
    {
     "data": {
      "text/plain": [
       "(array([499., 532., 506., 503., 522., 516., 459., 508., 520., 485., 491.,\n",
       "        511., 487., 481., 514., 481., 488., 486., 514., 497.]),\n",
       " array([3.51844984e-05, 5.00333075e-02, 1.00031431e-01, 1.50029554e-01,\n",
       "        2.00027677e-01, 2.50025800e-01, 3.00023923e-01, 3.50022046e-01,\n",
       "        4.00020169e-01, 4.50018292e-01, 5.00016415e-01, 5.50014538e-01,\n",
       "        6.00012661e-01, 6.50010784e-01, 7.00008907e-01, 7.50007030e-01,\n",
       "        8.00005153e-01, 8.50003276e-01, 9.00001399e-01, 9.49999522e-01,\n",
       "        9.99997646e-01]),\n",
       " <a list of 20 Patch objects>)"
      ]
     },
     "execution_count": 6,
     "metadata": {},
     "output_type": "execute_result"
    },
    {
     "data": {
      "image/png": "[encoded data removed]",
      "text/plain": [
       "<Figure size 432x288 with 1 Axes>"
      ]
     },
     "metadata": {
      "needs_background": "light"
     },
     "output_type": "display_data"
    }
   ],
   "source": [
    "# Show the relationship between the amount of numbers in the array and their values\n",
    "plt.hist(random_rand, hs)"
   ]
  },
  {
   "cell_type": "markdown",
   "metadata": {},
   "source": [
    "## [numpy.random.random_sample ([size])](https://docs.scipy.org/doc/numpy-1.15.1/reference/generated/numpy.random.random_sample.html#numpy.random.random_sample)\n",
    "Dimension are passed in a single tuple."
   ]
  },
  {
   "cell_type": "markdown",
   "metadata": {},
   "source": [
    "An idealized random number generator would be considered a [**continuous uniform distribution**](https://www.investopedia.com/terms/u/uniform-distribution.asp) which means every variable has an equal opportunity of appearing. <br>\n",
    "To sample  multiply the output of random_sample by (b-a) and add a:"
   ]
  },
  {
   "cell_type": "code",
   "execution_count": 7,
   "metadata": {
    "scrolled": false
   },
   "outputs": [
    {
     "data": {
      "text/plain": [
       "array([0.79824076, 0.16459531, 0.00238274, ..., 0.13284756, 0.50773826,\n",
       "       0.30272729])"
      ]
     },
     "execution_count": 7,
     "metadata": {},
     "output_type": "execute_result"
    }
   ],
   "source": [
    "# Passing in arguments\n",
    "np.random.random_sample((x,))"
   ]
  },
  {
   "cell_type": "code",
   "execution_count": 8,
   "metadata": {
    "scrolled": false
   },
   "outputs": [
    {
     "data": {
      "text/plain": [
       "array([[ -474.05003921, -9360.48576861],\n",
       "       [-9524.3826927 , -7354.31250802],\n",
       "       [ -404.60662526, -2814.17350486],\n",
       "       [-2383.99920392, -8738.37676268],\n",
       "       [-7988.43202941, -3114.17590407]])"
      ]
     },
     "execution_count": 8,
     "metadata": {},
     "output_type": "execute_result"
    }
   ],
   "source": [
    "rand_sample = x * np.random.random_sample((5, 2)) - x\n",
    "rand_sample"
   ]
  },
  {
   "cell_type": "markdown",
   "metadata": {},
   "source": [
    "### Visualise numpy.random.random_sample\n",
    "Displays a graph of how this function generates random numbers"
   ]
  },
  {
   "cell_type": "code",
   "execution_count": 9,
   "metadata": {
    "scrolled": true
   },
   "outputs": [
    {
     "data": {
      "text/plain": [
       "([array([1., 0., 0., 1., 0., 0., 0., 0., 0., 0., 0., 0., 0., 0., 0., 1., 0.,\n",
       "         0., 0., 2.]),\n",
       "  array([1., 1., 0., 0., 1., 0., 0., 0., 0., 0., 0., 0., 0., 0., 2., 0., 0.,\n",
       "         0., 0., 0.])],\n",
       " array([-9524.3826927 , -9068.39388933, -8612.40508595, -8156.41628258,\n",
       "        -7700.42747921, -7244.43867584, -6788.44987247, -6332.4610691 ,\n",
       "        -5876.47226572, -5420.48346235, -4964.49465898, -4508.50585561,\n",
       "        -4052.51705224, -3596.52824886, -3140.53944549, -2684.55064212,\n",
       "        -2228.56183875, -1772.57303538, -1316.58423201,  -860.59542863,\n",
       "         -404.60662526]),\n",
       " <a list of 2 Lists of Patches objects>)"
      ]
     },
     "execution_count": 9,
     "metadata": {},
     "output_type": "execute_result"
    },
    {
     "data": {
      "image/png": "[encoded data removed]",
      "text/plain": [
       "<Figure size 432x288 with 1 Axes>"
      ]
     },
     "metadata": {
      "needs_background": "light"
     },
     "output_type": "display_data"
    }
   ],
   "source": [
    "# Show the relationship between the amount of numbers in the array and their values\n",
    "plt.hist(rand_sample, hs)"
   ]
  },
  {
   "cell_type": "markdown",
   "metadata": {},
   "source": [
    "---\n",
    "# Permutations\n",
    "These are based on certain distribution functions <br>\n",
    "If no value is entered in the range an TypeError appears <br>\n",
    "The elements in the array can only be of integer vallues\n",
    "\n",
    "#### When shuffling a multi-dimentional array\n",
    "1. Formula - np.arange(x).reshape((d0, d1, ...., dn)) \n",
    "    * x = amount of numbers \n",
    "    * d = array dimensions\n",
    "    \n",
    "2. Explain formula\n",
    "    * Array dimensions must be the same\n",
    "        * i.e.\n",
    "            * d0 = d1 = ... = dn\n",
    "    * The number of numbers must be the dimension value at the power of the number of dimensions\n",
    "        * i.e.              \n",
    "            * x = d ^ n"
   ]
  },
  {
   "cell_type": "markdown",
   "metadata": {},
   "source": [
    "## [numpy.random.shuffle (x)](https://docs.scipy.org/doc/numpy-1.15.1/reference/generated/numpy.random.shuffle.html#numpy.random.shuffle)\n",
    "Randomly shuffles an array"
   ]
  },
  {
   "cell_type": "markdown",
   "metadata": {},
   "source": [
    "* It takes in the size of an array and randomly shuffles its contents <br>"
   ]
  },
  {
   "cell_type": "code",
   "execution_count": 10,
   "metadata": {},
   "outputs": [
    {
     "data": {
      "text/plain": [
       "array([0, 1, 2, 3, 4, 5, 6, 7, 8, 9])"
      ]
     },
     "execution_count": 10,
     "metadata": {},
     "output_type": "execute_result"
    }
   ],
   "source": [
    "# The original array of numbers\n",
    "sh_arr = np.arange(10)\n",
    "sh_arr"
   ]
  },
  {
   "cell_type": "code",
   "execution_count": 11,
   "metadata": {
    "scrolled": true
   },
   "outputs": [
    {
     "data": {
      "text/plain": [
       "array([2, 8, 0, 1, 7, 4, 3, 9, 6, 5])"
      ]
     },
     "execution_count": 11,
     "metadata": {},
     "output_type": "execute_result"
    }
   ],
   "source": [
    "# The array of numbers shuffle\n",
    "np.random.shuffle(sh_arr)\n",
    "sh_arr"
   ]
  },
  {
   "cell_type": "code",
   "execution_count": 12,
   "metadata": {},
   "outputs": [
    {
     "data": {
      "text/plain": [
       "array([[3400, 3401, 3402, ..., 3497, 3498, 3499],\n",
       "       [9200, 9201, 9202, ..., 9297, 9298, 9299],\n",
       "       [8900, 8901, 8902, ..., 8997, 8998, 8999],\n",
       "       ...,\n",
       "       [8300, 8301, 8302, ..., 8397, 8398, 8399],\n",
       "       [4700, 4701, 4702, ..., 4797, 4798, 4799],\n",
       "       [4000, 4001, 4002, ..., 4097, 4098, 4099]])"
      ]
     },
     "execution_count": 12,
     "metadata": {},
     "output_type": "execute_result"
    }
   ],
   "source": [
    "# Shuffle a multi-dimentional array by reshaping the size of an array\n",
    "shuffle_array = np.arange(x).reshape((d, d))\n",
    "np.random.shuffle(shuffle_array)\n",
    "shuffle_array"
   ]
  },
  {
   "cell_type": "markdown",
   "metadata": {},
   "source": [
    "### Visualise numpy.random.shuffle\n",
    "Displays a graph of how this function shuffles the random numbers"
   ]
  },
  {
   "cell_type": "code",
   "execution_count": 13,
   "metadata": {},
   "outputs": [
    {
     "data": {
      "text/plain": [
       "[<matplotlib.lines.Line2D at 0x2ca1449de80>,\n",
       " <matplotlib.lines.Line2D at 0x2ca144a60f0>,\n",
       " <matplotlib.lines.Line2D at 0x2ca144a6240>,\n",
       " <matplotlib.lines.Line2D at 0x2ca144a6390>,\n",
       " <matplotlib.lines.Line2D at 0x2ca144a64e0>,\n",
       " <matplotlib.lines.Line2D at 0x2ca144a6630>,\n",
       " <matplotlib.lines.Line2D at 0x2ca144a6780>,\n",
       " <matplotlib.lines.Line2D at 0x2ca144a68d0>,\n",
       " <matplotlib.lines.Line2D at 0x2ca144a6a20>,\n",
       " <matplotlib.lines.Line2D at 0x2ca144a6b70>,\n",
       " <matplotlib.lines.Line2D at 0x2ca144a6cc0>,\n",
       " <matplotlib.lines.Line2D at 0x2ca144a6e10>,\n",
       " <matplotlib.lines.Line2D at 0x2ca144a6f60>,\n",
       " <matplotlib.lines.Line2D at 0x2ca144ac0f0>,\n",
       " <matplotlib.lines.Line2D at 0x2ca144ac240>,\n",
       " <matplotlib.lines.Line2D at 0x2ca144ac390>,\n",
       " <matplotlib.lines.Line2D at 0x2ca144ac4e0>,\n",
       " <matplotlib.lines.Line2D at 0x2ca144ac630>,\n",
       " <matplotlib.lines.Line2D at 0x2ca144ac780>,\n",
       " <matplotlib.lines.Line2D at 0x2ca144ac8d0>,\n",
       " <matplotlib.lines.Line2D at 0x2ca144aca20>,\n",
       " <matplotlib.lines.Line2D at 0x2ca144acb70>,\n",
       " <matplotlib.lines.Line2D at 0x2ca144accc0>,\n",
       " <matplotlib.lines.Line2D at 0x2ca144ace10>,\n",
       " <matplotlib.lines.Line2D at 0x2ca144acf60>,\n",
       " <matplotlib.lines.Line2D at 0x2ca144b20f0>,\n",
       " <matplotlib.lines.Line2D at 0x2ca144b2240>,\n",
       " <matplotlib.lines.Line2D at 0x2ca144b2390>,\n",
       " <matplotlib.lines.Line2D at 0x2ca144b24e0>,\n",
       " <matplotlib.lines.Line2D at 0x2ca144b2630>,\n",
       " <matplotlib.lines.Line2D at 0x2ca144b2780>,\n",
       " <matplotlib.lines.Line2D at 0x2ca144b28d0>,\n",
       " <matplotlib.lines.Line2D at 0x2ca144b2a20>,\n",
       " <matplotlib.lines.Line2D at 0x2ca144b2b70>,\n",
       " <matplotlib.lines.Line2D at 0x2ca144b2cc0>,\n",
       " <matplotlib.lines.Line2D at 0x2ca144b2e10>,\n",
       " <matplotlib.lines.Line2D at 0x2ca144b2f60>,\n",
       " <matplotlib.lines.Line2D at 0x2ca144b60f0>,\n",
       " <matplotlib.lines.Line2D at 0x2ca144b6240>,\n",
       " <matplotlib.lines.Line2D at 0x2ca144b6390>,\n",
       " <matplotlib.lines.Line2D at 0x2ca144b64e0>,\n",
       " <matplotlib.lines.Line2D at 0x2ca144b6630>,\n",
       " <matplotlib.lines.Line2D at 0x2ca144b6780>,\n",
       " <matplotlib.lines.Line2D at 0x2ca144b68d0>,\n",
       " <matplotlib.lines.Line2D at 0x2ca144b6a20>,\n",
       " <matplotlib.lines.Line2D at 0x2ca144b6b70>,\n",
       " <matplotlib.lines.Line2D at 0x2ca144b6cc0>,\n",
       " <matplotlib.lines.Line2D at 0x2ca144b6e10>,\n",
       " <matplotlib.lines.Line2D at 0x2ca144b6f60>,\n",
       " <matplotlib.lines.Line2D at 0x2ca144ba0f0>,\n",
       " <matplotlib.lines.Line2D at 0x2ca144ba240>,\n",
       " <matplotlib.lines.Line2D at 0x2ca144ba390>,\n",
       " <matplotlib.lines.Line2D at 0x2ca144ba4e0>,\n",
       " <matplotlib.lines.Line2D at 0x2ca144ba630>,\n",
       " <matplotlib.lines.Line2D at 0x2ca144ba780>,\n",
       " <matplotlib.lines.Line2D at 0x2ca144ba8d0>,\n",
       " <matplotlib.lines.Line2D at 0x2ca144baa20>,\n",
       " <matplotlib.lines.Line2D at 0x2ca144bab70>,\n",
       " <matplotlib.lines.Line2D at 0x2ca144bacc0>,\n",
       " <matplotlib.lines.Line2D at 0x2ca144bae10>,\n",
       " <matplotlib.lines.Line2D at 0x2ca144baf60>,\n",
       " <matplotlib.lines.Line2D at 0x2ca144c10f0>,\n",
       " <matplotlib.lines.Line2D at 0x2ca144c1240>,\n",
       " <matplotlib.lines.Line2D at 0x2ca144c1390>,\n",
       " <matplotlib.lines.Line2D at 0x2ca144c14e0>,\n",
       " <matplotlib.lines.Line2D at 0x2ca144c1630>,\n",
       " <matplotlib.lines.Line2D at 0x2ca144c1780>,\n",
       " <matplotlib.lines.Line2D at 0x2ca144c18d0>,\n",
       " <matplotlib.lines.Line2D at 0x2ca144c1a20>,\n",
       " <matplotlib.lines.Line2D at 0x2ca144c1b70>,\n",
       " <matplotlib.lines.Line2D at 0x2ca144c1cc0>,\n",
       " <matplotlib.lines.Line2D at 0x2ca144c1e10>,\n",
       " <matplotlib.lines.Line2D at 0x2ca144c1f60>,\n",
       " <matplotlib.lines.Line2D at 0x2ca144c50f0>,\n",
       " <matplotlib.lines.Line2D at 0x2ca144c5240>,\n",
       " <matplotlib.lines.Line2D at 0x2ca144c5390>,\n",
       " <matplotlib.lines.Line2D at 0x2ca144c54e0>,\n",
       " <matplotlib.lines.Line2D at 0x2ca144c5630>,\n",
       " <matplotlib.lines.Line2D at 0x2ca144c5780>,\n",
       " <matplotlib.lines.Line2D at 0x2ca144c58d0>,\n",
       " <matplotlib.lines.Line2D at 0x2ca144c5a20>,\n",
       " <matplotlib.lines.Line2D at 0x2ca144c5b70>,\n",
       " <matplotlib.lines.Line2D at 0x2ca144c5cc0>,\n",
       " <matplotlib.lines.Line2D at 0x2ca144c5e10>,\n",
       " <matplotlib.lines.Line2D at 0x2ca144c5f60>,\n",
       " <matplotlib.lines.Line2D at 0x2ca144cb0f0>,\n",
       " <matplotlib.lines.Line2D at 0x2ca144cb240>,\n",
       " <matplotlib.lines.Line2D at 0x2ca144cb390>,\n",
       " <matplotlib.lines.Line2D at 0x2ca144cb4e0>,\n",
       " <matplotlib.lines.Line2D at 0x2ca144cb630>,\n",
       " <matplotlib.lines.Line2D at 0x2ca144cb780>,\n",
       " <matplotlib.lines.Line2D at 0x2ca144cb8d0>,\n",
       " <matplotlib.lines.Line2D at 0x2ca144cba20>,\n",
       " <matplotlib.lines.Line2D at 0x2ca144cbb70>,\n",
       " <matplotlib.lines.Line2D at 0x2ca144cbcc0>,\n",
       " <matplotlib.lines.Line2D at 0x2ca144cbe10>,\n",
       " <matplotlib.lines.Line2D at 0x2ca144cbf60>,\n",
       " <matplotlib.lines.Line2D at 0x2ca144ce0f0>,\n",
       " <matplotlib.lines.Line2D at 0x2ca144ce240>,\n",
       " <matplotlib.lines.Line2D at 0x2ca144ce390>]"
      ]
     },
     "execution_count": 13,
     "metadata": {},
     "output_type": "execute_result"
    },
    {
     "data": {
      "image/png": "[encoded data removed]",
      "text/plain": [
       "<Figure size 432x288 with 1 Axes>"
      ]
     },
     "metadata": {
      "needs_background": "light"
     },
     "output_type": "display_data"
    }
   ],
   "source": [
    "# Show the relationship between numbers in the original array and the numbers in the shuffled array\n",
    "# With lines\n",
    "plt.plot(shuffle_array, 'c-')"
   ]
  },
  {
   "cell_type": "code",
   "execution_count": 14,
   "metadata": {},
   "outputs": [
    {
     "data": {
      "text/plain": [
       "[<matplotlib.lines.Line2D at 0x2ca145ec5f8>,\n",
       " <matplotlib.lines.Line2D at 0x2ca145ec710>,\n",
       " <matplotlib.lines.Line2D at 0x2ca145ec860>,\n",
       " <matplotlib.lines.Line2D at 0x2ca145ec9b0>,\n",
       " <matplotlib.lines.Line2D at 0x2ca145ecb00>,\n",
       " <matplotlib.lines.Line2D at 0x2ca145ecc50>,\n",
       " <matplotlib.lines.Line2D at 0x2ca145ecda0>,\n",
       " <matplotlib.lines.Line2D at 0x2ca145ecef0>,\n",
       " <matplotlib.lines.Line2D at 0x2ca145f4080>,\n",
       " <matplotlib.lines.Line2D at 0x2ca145f41d0>,\n",
       " <matplotlib.lines.Line2D at 0x2ca145f4320>,\n",
       " <matplotlib.lines.Line2D at 0x2ca145f4470>,\n",
       " <matplotlib.lines.Line2D at 0x2ca145f45c0>,\n",
       " <matplotlib.lines.Line2D at 0x2ca145f4710>,\n",
       " <matplotlib.lines.Line2D at 0x2ca145f4860>,\n",
       " <matplotlib.lines.Line2D at 0x2ca145f49b0>,\n",
       " <matplotlib.lines.Line2D at 0x2ca145f4b00>,\n",
       " <matplotlib.lines.Line2D at 0x2ca145f4c50>,\n",
       " <matplotlib.lines.Line2D at 0x2ca145f4da0>,\n",
       " <matplotlib.lines.Line2D at 0x2ca145f4ef0>,\n",
       " <matplotlib.lines.Line2D at 0x2ca145f9080>,\n",
       " <matplotlib.lines.Line2D at 0x2ca145f91d0>,\n",
       " <matplotlib.lines.Line2D at 0x2ca145f9320>,\n",
       " <matplotlib.lines.Line2D at 0x2ca145f9470>,\n",
       " <matplotlib.lines.Line2D at 0x2ca145f95c0>,\n",
       " <matplotlib.lines.Line2D at 0x2ca145f9710>,\n",
       " <matplotlib.lines.Line2D at 0x2ca145f9860>,\n",
       " <matplotlib.lines.Line2D at 0x2ca145f99b0>,\n",
       " <matplotlib.lines.Line2D at 0x2ca145f9b00>,\n",
       " <matplotlib.lines.Line2D at 0x2ca145f9c50>,\n",
       " <matplotlib.lines.Line2D at 0x2ca145f9da0>,\n",
       " <matplotlib.lines.Line2D at 0x2ca145f9ef0>,\n",
       " <matplotlib.lines.Line2D at 0x2ca145fe080>,\n",
       " <matplotlib.lines.Line2D at 0x2ca145fe1d0>,\n",
       " <matplotlib.lines.Line2D at 0x2ca145fe320>,\n",
       " <matplotlib.lines.Line2D at 0x2ca145fe470>,\n",
       " <matplotlib.lines.Line2D at 0x2ca145fe5c0>,\n",
       " <matplotlib.lines.Line2D at 0x2ca145fe710>,\n",
       " <matplotlib.lines.Line2D at 0x2ca145fe860>,\n",
       " <matplotlib.lines.Line2D at 0x2ca145fe9b0>,\n",
       " <matplotlib.lines.Line2D at 0x2ca145feb00>,\n",
       " <matplotlib.lines.Line2D at 0x2ca145fec50>,\n",
       " <matplotlib.lines.Line2D at 0x2ca145feda0>,\n",
       " <matplotlib.lines.Line2D at 0x2ca145feef0>,\n",
       " <matplotlib.lines.Line2D at 0x2ca14604080>,\n",
       " <matplotlib.lines.Line2D at 0x2ca146041d0>,\n",
       " <matplotlib.lines.Line2D at 0x2ca14604320>,\n",
       " <matplotlib.lines.Line2D at 0x2ca14604470>,\n",
       " <matplotlib.lines.Line2D at 0x2ca146045c0>,\n",
       " <matplotlib.lines.Line2D at 0x2ca14604710>,\n",
       " <matplotlib.lines.Line2D at 0x2ca14604860>,\n",
       " <matplotlib.lines.Line2D at 0x2ca146049b0>,\n",
       " <matplotlib.lines.Line2D at 0x2ca14604b00>,\n",
       " <matplotlib.lines.Line2D at 0x2ca14604c50>,\n",
       " <matplotlib.lines.Line2D at 0x2ca14604da0>,\n",
       " <matplotlib.lines.Line2D at 0x2ca14604ef0>,\n",
       " <matplotlib.lines.Line2D at 0x2ca14608080>,\n",
       " <matplotlib.lines.Line2D at 0x2ca146081d0>,\n",
       " <matplotlib.lines.Line2D at 0x2ca14608320>,\n",
       " <matplotlib.lines.Line2D at 0x2ca14608470>,\n",
       " <matplotlib.lines.Line2D at 0x2ca146085c0>,\n",
       " <matplotlib.lines.Line2D at 0x2ca14608710>,\n",
       " <matplotlib.lines.Line2D at 0x2ca14608860>,\n",
       " <matplotlib.lines.Line2D at 0x2ca146089b0>,\n",
       " <matplotlib.lines.Line2D at 0x2ca14608b00>,\n",
       " <matplotlib.lines.Line2D at 0x2ca14608c50>,\n",
       " <matplotlib.lines.Line2D at 0x2ca14608da0>,\n",
       " <matplotlib.lines.Line2D at 0x2ca14608ef0>,\n",
       " <matplotlib.lines.Line2D at 0x2ca1460e080>,\n",
       " <matplotlib.lines.Line2D at 0x2ca1460e1d0>,\n",
       " <matplotlib.lines.Line2D at 0x2ca1460e320>,\n",
       " <matplotlib.lines.Line2D at 0x2ca1460e470>,\n",
       " <matplotlib.lines.Line2D at 0x2ca1460e5c0>,\n",
       " <matplotlib.lines.Line2D at 0x2ca1460e710>,\n",
       " <matplotlib.lines.Line2D at 0x2ca1460e860>,\n",
       " <matplotlib.lines.Line2D at 0x2ca1460e9b0>,\n",
       " <matplotlib.lines.Line2D at 0x2ca1460eb00>,\n",
       " <matplotlib.lines.Line2D at 0x2ca1460ec50>,\n",
       " <matplotlib.lines.Line2D at 0x2ca1460eda0>,\n",
       " <matplotlib.lines.Line2D at 0x2ca1460eef0>,\n",
       " <matplotlib.lines.Line2D at 0x2ca14614080>,\n",
       " <matplotlib.lines.Line2D at 0x2ca146141d0>,\n",
       " <matplotlib.lines.Line2D at 0x2ca14614320>,\n",
       " <matplotlib.lines.Line2D at 0x2ca14614470>,\n",
       " <matplotlib.lines.Line2D at 0x2ca146145c0>,\n",
       " <matplotlib.lines.Line2D at 0x2ca14614710>,\n",
       " <matplotlib.lines.Line2D at 0x2ca14614860>,\n",
       " <matplotlib.lines.Line2D at 0x2ca146149b0>,\n",
       " <matplotlib.lines.Line2D at 0x2ca14614b00>,\n",
       " <matplotlib.lines.Line2D at 0x2ca14614c50>,\n",
       " <matplotlib.lines.Line2D at 0x2ca14614da0>,\n",
       " <matplotlib.lines.Line2D at 0x2ca14614ef0>,\n",
       " <matplotlib.lines.Line2D at 0x2ca1461a080>,\n",
       " <matplotlib.lines.Line2D at 0x2ca1461a1d0>,\n",
       " <matplotlib.lines.Line2D at 0x2ca1461a320>,\n",
       " <matplotlib.lines.Line2D at 0x2ca1461a470>,\n",
       " <matplotlib.lines.Line2D at 0x2ca1461a5c0>,\n",
       " <matplotlib.lines.Line2D at 0x2ca1461a710>,\n",
       " <matplotlib.lines.Line2D at 0x2ca1461a860>,\n",
       " <matplotlib.lines.Line2D at 0x2ca1461a9b0>]"
      ]
     },
     "execution_count": 14,
     "metadata": {},
     "output_type": "execute_result"
    },
    {
     "data": {
      "image/png": "[encoded data removed]",
      "text/plain": [
       "<Figure size 432x288 with 1 Axes>"
      ]
     },
     "metadata": {
      "needs_background": "light"
     },
     "output_type": "display_data"
    }
   ],
   "source": [
    "# With pluses\n",
    "plt.plot(shuffle_array, 'c+')"
   ]
  },
  {
   "cell_type": "markdown",
   "metadata": {},
   "source": [
    "## [numpy.random.permutation (x)](https://docs.scipy.org/doc/numpy-1.15.1/reference/generated/numpy.random.permutation.html#numpy.random.permutation)\n",
    "Randomly permutes an array"
   ]
  },
  {
   "cell_type": "markdown",
   "metadata": {},
   "source": [
    "* It takes in \n",
    "    * size of an array \n",
    "        * dirrectly - without using np.arange(x)\n",
    "        * randomly permutes\n",
    "    * an array \n",
    "        * makes a copy of the array\n",
    "        * randomly shuffle its contents\n",
    "        * **Note**: if multi-dimensional - only shuffled along its first index"
   ]
  },
  {
   "cell_type": "code",
   "execution_count": 15,
   "metadata": {
    "scrolled": true
   },
   "outputs": [
    {
     "data": {
      "text/plain": [
       "array([0, 5, 2, 4, 9, 7, 1, 8, 3, 6])"
      ]
     },
     "execution_count": 15,
     "metadata": {},
     "output_type": "execute_result"
    }
   ],
   "source": [
    "# Permutes size of an array\n",
    "np.random.permutation(10)"
   ]
  },
  {
   "cell_type": "code",
   "execution_count": 16,
   "metadata": {
    "scrolled": true
   },
   "outputs": [
    {
     "data": {
      "text/plain": [
       "array([ 10,   4,  50,   5, 100])"
      ]
     },
     "execution_count": 16,
     "metadata": {},
     "output_type": "execute_result"
    }
   ],
   "source": [
    "# Makes a copy of an array and shuffles it\n",
    "np.random.permutation([100, 5, 10, 50, 4])"
   ]
  },
  {
   "cell_type": "code",
   "execution_count": 17,
   "metadata": {},
   "outputs": [
    {
     "data": {
      "text/plain": [
       "array([[0.06032072, 0.13547202],\n",
       "       [0.55142427, 0.74777577],\n",
       "       [0.76062411, 0.77423558],\n",
       "       [0.5680471 , 0.48450506]])"
      ]
     },
     "execution_count": 17,
     "metadata": {},
     "output_type": "execute_result"
    }
   ],
   "source": [
    "# Create multi-dimentional array\n",
    "mdp_array = np.random.rand(4, 2)\n",
    "mdp_array"
   ]
  },
  {
   "cell_type": "code",
   "execution_count": 18,
   "metadata": {},
   "outputs": [
    {
     "data": {
      "text/plain": [
       "array([[0.5680471 , 0.48450506],\n",
       "       [0.06032072, 0.13547202],\n",
       "       [0.55142427, 0.74777577],\n",
       "       [0.76062411, 0.77423558]])"
      ]
     },
     "execution_count": 18,
     "metadata": {},
     "output_type": "execute_result"
    }
   ],
   "source": [
    "# Permute the multi-dimentional array\n",
    "np.random.permutation(mdp_array)"
   ]
  },
  {
   "cell_type": "code",
   "execution_count": 19,
   "metadata": {},
   "outputs": [
    {
     "data": {
      "text/plain": [
       "array([[   0,    1,    2, ...,   97,   98,   99],\n",
       "       [ 100,  101,  102, ...,  197,  198,  199],\n",
       "       [ 200,  201,  202, ...,  297,  298,  299],\n",
       "       ...,\n",
       "       [9700, 9701, 9702, ..., 9797, 9798, 9799],\n",
       "       [9800, 9801, 9802, ..., 9897, 9898, 9899],\n",
       "       [9900, 9901, 9902, ..., 9997, 9998, 9999]])"
      ]
     },
     "execution_count": 19,
     "metadata": {},
     "output_type": "execute_result"
    }
   ],
   "source": [
    "# Reshape the size of an array\n",
    "permutation_array = np.arange(x).reshape((d, d))\n",
    "permutation_array"
   ]
  },
  {
   "cell_type": "code",
   "execution_count": 20,
   "metadata": {
    "scrolled": true
   },
   "outputs": [
    {
     "data": {
      "text/plain": [
       "array([[3500, 3501, 3502, ..., 3597, 3598, 3599],\n",
       "       [4700, 4701, 4702, ..., 4797, 4798, 4799],\n",
       "       [8200, 8201, 8202, ..., 8297, 8298, 8299],\n",
       "       ...,\n",
       "       [1900, 1901, 1902, ..., 1997, 1998, 1999],\n",
       "       [3200, 3201, 3202, ..., 3297, 3298, 3299],\n",
       "       [9900, 9901, 9902, ..., 9997, 9998, 9999]])"
      ]
     },
     "execution_count": 20,
     "metadata": {},
     "output_type": "execute_result"
    }
   ],
   "source": [
    "# Make a copy and shuffle the array\n",
    "np.random.permutation(permutation_array)"
   ]
  },
  {
   "cell_type": "markdown",
   "metadata": {},
   "source": [
    "### Visualise numpy.random.permutation\n",
    "Displays a graph of how this function permutes the random numbers"
   ]
  },
  {
   "cell_type": "code",
   "execution_count": 21,
   "metadata": {
    "scrolled": true
   },
   "outputs": [
    {
     "data": {
      "text/plain": [
       "[<matplotlib.lines.Line2D at 0x2ca14733ac8>,\n",
       " <matplotlib.lines.Line2D at 0x2ca14733c18>,\n",
       " <matplotlib.lines.Line2D at 0x2ca14733d68>,\n",
       " <matplotlib.lines.Line2D at 0x2ca14733eb8>,\n",
       " <matplotlib.lines.Line2D at 0x2ca1473c048>,\n",
       " <matplotlib.lines.Line2D at 0x2ca1473c198>,\n",
       " <matplotlib.lines.Line2D at 0x2ca1473c2e8>,\n",
       " <matplotlib.lines.Line2D at 0x2ca1473c438>,\n",
       " <matplotlib.lines.Line2D at 0x2ca1473c588>,\n",
       " <matplotlib.lines.Line2D at 0x2ca1473c6d8>,\n",
       " <matplotlib.lines.Line2D at 0x2ca1473c828>,\n",
       " <matplotlib.lines.Line2D at 0x2ca1473c978>,\n",
       " <matplotlib.lines.Line2D at 0x2ca1473cac8>,\n",
       " <matplotlib.lines.Line2D at 0x2ca1473cc18>,\n",
       " <matplotlib.lines.Line2D at 0x2ca1473cd68>,\n",
       " <matplotlib.lines.Line2D at 0x2ca1473ceb8>,\n",
       " <matplotlib.lines.Line2D at 0x2ca1473f048>,\n",
       " <matplotlib.lines.Line2D at 0x2ca1473f198>,\n",
       " <matplotlib.lines.Line2D at 0x2ca1473f2e8>,\n",
       " <matplotlib.lines.Line2D at 0x2ca1473f438>,\n",
       " <matplotlib.lines.Line2D at 0x2ca1473f588>,\n",
       " <matplotlib.lines.Line2D at 0x2ca1473f6d8>,\n",
       " <matplotlib.lines.Line2D at 0x2ca1473f828>,\n",
       " <matplotlib.lines.Line2D at 0x2ca1473f978>,\n",
       " <matplotlib.lines.Line2D at 0x2ca1473fac8>,\n",
       " <matplotlib.lines.Line2D at 0x2ca1473fc18>,\n",
       " <matplotlib.lines.Line2D at 0x2ca1473fd68>,\n",
       " <matplotlib.lines.Line2D at 0x2ca1473feb8>,\n",
       " <matplotlib.lines.Line2D at 0x2ca14746048>,\n",
       " <matplotlib.lines.Line2D at 0x2ca14746198>,\n",
       " <matplotlib.lines.Line2D at 0x2ca147462e8>,\n",
       " <matplotlib.lines.Line2D at 0x2ca14746438>,\n",
       " <matplotlib.lines.Line2D at 0x2ca14746588>,\n",
       " <matplotlib.lines.Line2D at 0x2ca147466d8>,\n",
       " <matplotlib.lines.Line2D at 0x2ca14746828>,\n",
       " <matplotlib.lines.Line2D at 0x2ca14746978>,\n",
       " <matplotlib.lines.Line2D at 0x2ca14746ac8>,\n",
       " <matplotlib.lines.Line2D at 0x2ca14746c18>,\n",
       " <matplotlib.lines.Line2D at 0x2ca14746d68>,\n",
       " <matplotlib.lines.Line2D at 0x2ca14746eb8>,\n",
       " <matplotlib.lines.Line2D at 0x2ca14749048>,\n",
       " <matplotlib.lines.Line2D at 0x2ca14749198>,\n",
       " <matplotlib.lines.Line2D at 0x2ca147492e8>,\n",
       " <matplotlib.lines.Line2D at 0x2ca14749438>,\n",
       " <matplotlib.lines.Line2D at 0x2ca14749588>,\n",
       " <matplotlib.lines.Line2D at 0x2ca147496d8>,\n",
       " <matplotlib.lines.Line2D at 0x2ca14749828>,\n",
       " <matplotlib.lines.Line2D at 0x2ca14749978>,\n",
       " <matplotlib.lines.Line2D at 0x2ca14749ac8>,\n",
       " <matplotlib.lines.Line2D at 0x2ca14749c18>,\n",
       " <matplotlib.lines.Line2D at 0x2ca14749d68>,\n",
       " <matplotlib.lines.Line2D at 0x2ca14749eb8>,\n",
       " <matplotlib.lines.Line2D at 0x2ca1474f048>,\n",
       " <matplotlib.lines.Line2D at 0x2ca1474f198>,\n",
       " <matplotlib.lines.Line2D at 0x2ca1474f2e8>,\n",
       " <matplotlib.lines.Line2D at 0x2ca1474f438>,\n",
       " <matplotlib.lines.Line2D at 0x2ca1474f588>,\n",
       " <matplotlib.lines.Line2D at 0x2ca1474f6d8>,\n",
       " <matplotlib.lines.Line2D at 0x2ca1474f828>,\n",
       " <matplotlib.lines.Line2D at 0x2ca1474f978>,\n",
       " <matplotlib.lines.Line2D at 0x2ca1474fac8>,\n",
       " <matplotlib.lines.Line2D at 0x2ca1474fc18>,\n",
       " <matplotlib.lines.Line2D at 0x2ca1474fd68>,\n",
       " <matplotlib.lines.Line2D at 0x2ca1474feb8>,\n",
       " <matplotlib.lines.Line2D at 0x2ca14754048>,\n",
       " <matplotlib.lines.Line2D at 0x2ca14754198>,\n",
       " <matplotlib.lines.Line2D at 0x2ca147542e8>,\n",
       " <matplotlib.lines.Line2D at 0x2ca14754438>,\n",
       " <matplotlib.lines.Line2D at 0x2ca14754588>,\n",
       " <matplotlib.lines.Line2D at 0x2ca147546d8>,\n",
       " <matplotlib.lines.Line2D at 0x2ca14754828>,\n",
       " <matplotlib.lines.Line2D at 0x2ca14754978>,\n",
       " <matplotlib.lines.Line2D at 0x2ca14754ac8>,\n",
       " <matplotlib.lines.Line2D at 0x2ca14754c18>,\n",
       " <matplotlib.lines.Line2D at 0x2ca14754d68>,\n",
       " <matplotlib.lines.Line2D at 0x2ca14754eb8>,\n",
       " <matplotlib.lines.Line2D at 0x2ca1475a048>,\n",
       " <matplotlib.lines.Line2D at 0x2ca1475a198>,\n",
       " <matplotlib.lines.Line2D at 0x2ca1475a2e8>,\n",
       " <matplotlib.lines.Line2D at 0x2ca1475a438>,\n",
       " <matplotlib.lines.Line2D at 0x2ca1475a588>,\n",
       " <matplotlib.lines.Line2D at 0x2ca1475a6d8>,\n",
       " <matplotlib.lines.Line2D at 0x2ca1475a828>,\n",
       " <matplotlib.lines.Line2D at 0x2ca1475a978>,\n",
       " <matplotlib.lines.Line2D at 0x2ca1475aac8>,\n",
       " <matplotlib.lines.Line2D at 0x2ca1475ac18>,\n",
       " <matplotlib.lines.Line2D at 0x2ca1475ad68>,\n",
       " <matplotlib.lines.Line2D at 0x2ca1475aeb8>,\n",
       " <matplotlib.lines.Line2D at 0x2ca1475f048>,\n",
       " <matplotlib.lines.Line2D at 0x2ca1475f198>,\n",
       " <matplotlib.lines.Line2D at 0x2ca1475f2e8>,\n",
       " <matplotlib.lines.Line2D at 0x2ca1475f438>,\n",
       " <matplotlib.lines.Line2D at 0x2ca1475f588>,\n",
       " <matplotlib.lines.Line2D at 0x2ca1475f6d8>,\n",
       " <matplotlib.lines.Line2D at 0x2ca1475f828>,\n",
       " <matplotlib.lines.Line2D at 0x2ca1475f978>,\n",
       " <matplotlib.lines.Line2D at 0x2ca1475fac8>,\n",
       " <matplotlib.lines.Line2D at 0x2ca1475fc18>,\n",
       " <matplotlib.lines.Line2D at 0x2ca1475fd68>,\n",
       " <matplotlib.lines.Line2D at 0x2ca1475feb8>]"
      ]
     },
     "execution_count": 21,
     "metadata": {},
     "output_type": "execute_result"
    },
    {
     "data": {
      "image/png": "[encoded data removed]",
      "text/plain": [
       "<Figure size 432x288 with 1 Axes>"
      ]
     },
     "metadata": {
      "needs_background": "light"
     },
     "output_type": "display_data"
    }
   ],
   "source": [
    "# Show the relationship between numbers in the original array and the numbers in the shuffled array\n",
    "# With lines\n",
    "plt.plot(permutation_array, 'c-')"
   ]
  },
  {
   "cell_type": "code",
   "execution_count": 22,
   "metadata": {},
   "outputs": [
    {
     "data": {
      "text/plain": [
       "[<matplotlib.lines.Line2D at 0x2ca14866908>,\n",
       " <matplotlib.lines.Line2D at 0x2ca14866a20>,\n",
       " <matplotlib.lines.Line2D at 0x2ca14866b70>,\n",
       " <matplotlib.lines.Line2D at 0x2ca14866cc0>,\n",
       " <matplotlib.lines.Line2D at 0x2ca14866e10>,\n",
       " <matplotlib.lines.Line2D at 0x2ca14866f60>,\n",
       " <matplotlib.lines.Line2D at 0x2ca1487e0f0>,\n",
       " <matplotlib.lines.Line2D at 0x2ca1487e240>,\n",
       " <matplotlib.lines.Line2D at 0x2ca1487e390>,\n",
       " <matplotlib.lines.Line2D at 0x2ca1487e4e0>,\n",
       " <matplotlib.lines.Line2D at 0x2ca1487e630>,\n",
       " <matplotlib.lines.Line2D at 0x2ca1487e780>,\n",
       " <matplotlib.lines.Line2D at 0x2ca1487e8d0>,\n",
       " <matplotlib.lines.Line2D at 0x2ca1487ea20>,\n",
       " <matplotlib.lines.Line2D at 0x2ca1487eb70>,\n",
       " <matplotlib.lines.Line2D at 0x2ca1487ecc0>,\n",
       " <matplotlib.lines.Line2D at 0x2ca1487ee10>,\n",
       " <matplotlib.lines.Line2D at 0x2ca1487ef60>,\n",
       " <matplotlib.lines.Line2D at 0x2ca148830f0>,\n",
       " <matplotlib.lines.Line2D at 0x2ca14883240>,\n",
       " <matplotlib.lines.Line2D at 0x2ca14883390>,\n",
       " <matplotlib.lines.Line2D at 0x2ca148834e0>,\n",
       " <matplotlib.lines.Line2D at 0x2ca14883630>,\n",
       " <matplotlib.lines.Line2D at 0x2ca14883780>,\n",
       " <matplotlib.lines.Line2D at 0x2ca148838d0>,\n",
       " <matplotlib.lines.Line2D at 0x2ca14883a20>,\n",
       " <matplotlib.lines.Line2D at 0x2ca14883b70>,\n",
       " <matplotlib.lines.Line2D at 0x2ca14883cc0>,\n",
       " <matplotlib.lines.Line2D at 0x2ca14883e10>,\n",
       " <matplotlib.lines.Line2D at 0x2ca14883f60>,\n",
       " <matplotlib.lines.Line2D at 0x2ca148880f0>,\n",
       " <matplotlib.lines.Line2D at 0x2ca14888240>,\n",
       " <matplotlib.lines.Line2D at 0x2ca14888390>,\n",
       " <matplotlib.lines.Line2D at 0x2ca148884e0>,\n",
       " <matplotlib.lines.Line2D at 0x2ca14888630>,\n",
       " <matplotlib.lines.Line2D at 0x2ca14888780>,\n",
       " <matplotlib.lines.Line2D at 0x2ca148888d0>,\n",
       " <matplotlib.lines.Line2D at 0x2ca14888a20>,\n",
       " <matplotlib.lines.Line2D at 0x2ca14888b70>,\n",
       " <matplotlib.lines.Line2D at 0x2ca14888cc0>,\n",
       " <matplotlib.lines.Line2D at 0x2ca14888e10>,\n",
       " <matplotlib.lines.Line2D at 0x2ca14888f60>,\n",
       " <matplotlib.lines.Line2D at 0x2ca1488d0f0>,\n",
       " <matplotlib.lines.Line2D at 0x2ca1488d240>,\n",
       " <matplotlib.lines.Line2D at 0x2ca1488d390>,\n",
       " <matplotlib.lines.Line2D at 0x2ca1488d4e0>,\n",
       " <matplotlib.lines.Line2D at 0x2ca1488d630>,\n",
       " <matplotlib.lines.Line2D at 0x2ca1488d780>,\n",
       " <matplotlib.lines.Line2D at 0x2ca1488d8d0>,\n",
       " <matplotlib.lines.Line2D at 0x2ca1488da20>,\n",
       " <matplotlib.lines.Line2D at 0x2ca1488db70>,\n",
       " <matplotlib.lines.Line2D at 0x2ca1488dcc0>,\n",
       " <matplotlib.lines.Line2D at 0x2ca1488de10>,\n",
       " <matplotlib.lines.Line2D at 0x2ca1488df60>,\n",
       " <matplotlib.lines.Line2D at 0x2ca148930f0>,\n",
       " <matplotlib.lines.Line2D at 0x2ca14893240>,\n",
       " <matplotlib.lines.Line2D at 0x2ca14893390>,\n",
       " <matplotlib.lines.Line2D at 0x2ca148934e0>,\n",
       " <matplotlib.lines.Line2D at 0x2ca14893630>,\n",
       " <matplotlib.lines.Line2D at 0x2ca14893780>,\n",
       " <matplotlib.lines.Line2D at 0x2ca148938d0>,\n",
       " <matplotlib.lines.Line2D at 0x2ca14893a20>,\n",
       " <matplotlib.lines.Line2D at 0x2ca14893b70>,\n",
       " <matplotlib.lines.Line2D at 0x2ca14893cc0>,\n",
       " <matplotlib.lines.Line2D at 0x2ca14893e10>,\n",
       " <matplotlib.lines.Line2D at 0x2ca14893f60>,\n",
       " <matplotlib.lines.Line2D at 0x2ca148990f0>,\n",
       " <matplotlib.lines.Line2D at 0x2ca14899240>,\n",
       " <matplotlib.lines.Line2D at 0x2ca14899390>,\n",
       " <matplotlib.lines.Line2D at 0x2ca148994e0>,\n",
       " <matplotlib.lines.Line2D at 0x2ca14899630>,\n",
       " <matplotlib.lines.Line2D at 0x2ca14899780>,\n",
       " <matplotlib.lines.Line2D at 0x2ca148998d0>,\n",
       " <matplotlib.lines.Line2D at 0x2ca14899a20>,\n",
       " <matplotlib.lines.Line2D at 0x2ca14899b70>,\n",
       " <matplotlib.lines.Line2D at 0x2ca14899cc0>,\n",
       " <matplotlib.lines.Line2D at 0x2ca14899e10>,\n",
       " <matplotlib.lines.Line2D at 0x2ca14899f60>,\n",
       " <matplotlib.lines.Line2D at 0x2ca1489e0f0>,\n",
       " <matplotlib.lines.Line2D at 0x2ca1489e240>,\n",
       " <matplotlib.lines.Line2D at 0x2ca1489e390>,\n",
       " <matplotlib.lines.Line2D at 0x2ca1489e4e0>,\n",
       " <matplotlib.lines.Line2D at 0x2ca1489e630>,\n",
       " <matplotlib.lines.Line2D at 0x2ca1489e780>,\n",
       " <matplotlib.lines.Line2D at 0x2ca1489e8d0>,\n",
       " <matplotlib.lines.Line2D at 0x2ca1489ea20>,\n",
       " <matplotlib.lines.Line2D at 0x2ca1489eb70>,\n",
       " <matplotlib.lines.Line2D at 0x2ca1489ecc0>,\n",
       " <matplotlib.lines.Line2D at 0x2ca1489ee10>,\n",
       " <matplotlib.lines.Line2D at 0x2ca1489ef60>,\n",
       " <matplotlib.lines.Line2D at 0x2ca148a30f0>,\n",
       " <matplotlib.lines.Line2D at 0x2ca148a3240>,\n",
       " <matplotlib.lines.Line2D at 0x2ca148a3390>,\n",
       " <matplotlib.lines.Line2D at 0x2ca148a34e0>,\n",
       " <matplotlib.lines.Line2D at 0x2ca148a3630>,\n",
       " <matplotlib.lines.Line2D at 0x2ca148a3780>,\n",
       " <matplotlib.lines.Line2D at 0x2ca148a38d0>,\n",
       " <matplotlib.lines.Line2D at 0x2ca148a3a20>,\n",
       " <matplotlib.lines.Line2D at 0x2ca148a3b70>,\n",
       " <matplotlib.lines.Line2D at 0x2ca148a3cc0>]"
      ]
     },
     "execution_count": 22,
     "metadata": {},
     "output_type": "execute_result"
    },
    {
     "data": {
      "image/png": "[encoded data removed]",
      "text/plain": [
       "<Figure size 432x288 with 1 Axes>"
      ]
     },
     "metadata": {
      "needs_background": "light"
     },
     "output_type": "display_data"
    }
   ],
   "source": [
    "# With pluses\n",
    "plt.plot(permutation_array, 'c+')"
   ]
  },
  {
   "cell_type": "markdown",
   "metadata": {},
   "source": [
    "___\n",
    "## Distributions\n",
    "If size is none by default & shape and scale are both scalars, a single value is returned <br>\n",
    "If the given shape is, e.g., (m, n, k), then m * n * k samples are drawn"
   ]
  },
  {
   "cell_type": "markdown",
   "metadata": {},
   "source": [
    "## [numpy.random.poisson ([lam, size])](https://docs.scipy.org/doc/numpy-1.15.1/reference/generated/numpy.random.poisson.html#numpy.random.poisson)\n",
    "It is a [discrete probability distribution](https://brilliant.org/wiki/discrete-random-variables-definition/) useful for [characterizing events with very low probabilities of occurrence](https://www.britannica.com/topic/Poisson-distribution) within a time or space interval.\n",
    "<br><br>\n",
    "In case of events where separation is expected, the distribution describes the probability of events occurring within an observed interval. <br>\n",
    "Because the output is limited to the range of the C long type, a ValueError is raised when lam is within 10 sigma of the maximum representable value."
   ]
  },
  {
   "attachments": {
    "image.png": {
     "image/png": "[encoded data removed]"
    }
   },
   "cell_type": "markdown",
   "metadata": {},
   "source": [
    "#### Poisson distribution\n",
    "\n",
    "![image.png](attachment:image.png)\n",
    "\n",
    "\n",
    "1. Lam - float or array_like of floats\n",
    "    * Expectation of interval, should be >= 0\n",
    "    * It uses a sequence of expected intervals or ranges\n",
    "2. Size - int or tuple of ints, optional\n",
    "    * If size is  not None (default) np.array(lam).size samples are drawn"
   ]
  },
  {
   "cell_type": "code",
   "execution_count": 23,
   "metadata": {},
   "outputs": [
    {
     "name": "stdout",
     "output_type": "stream",
     "text": [
      "Value of a:  100.0  \n",
      "Value of b:  300.0 \n",
      "Value of newX: 50.0\n"
     ]
    }
   ],
   "source": [
    "a, b = 100., 300.         # Give values to lambda\n",
    "newX = x/200              # Get the x (= 10000) value from earlier and devide it by 200 to get x to a value of 50\n",
    "print(\"Value of a: \", a, \" \\nValue of b: \", b, \"\\nValue of newX:\", newX)"
   ]
  },
  {
   "cell_type": "code",
   "execution_count": 24,
   "metadata": {},
   "outputs": [
    {
     "data": {
      "text/plain": [
       "array([3, 1, 4, ..., 2, 8, 3])"
      ]
     },
     "execution_count": 24,
     "metadata": {},
     "output_type": "execute_result"
    }
   ],
   "source": [
    "# Draw samples from the distribution:\n",
    "sample_poisson = np.random.poisson(5, x)\n",
    "sample_poisson"
   ]
  },
  {
   "cell_type": "code",
   "execution_count": 25,
   "metadata": {
    "scrolled": true
   },
   "outputs": [
    {
     "data": {
      "text/plain": [
       "array([[107, 300],\n",
       "       [105, 278],\n",
       "       [ 88, 297],\n",
       "       [104, 300],\n",
       "       [108, 279],\n",
       "       [ 92, 302],\n",
       "       [ 86, 289],\n",
       "       [ 84, 309],\n",
       "       [ 79, 295],\n",
       "       [ 97, 254],\n",
       "       [ 90, 290],\n",
       "       [ 95, 296],\n",
       "       [104, 309],\n",
       "       [ 94, 288],\n",
       "       [ 96, 287],\n",
       "       [ 89, 319],\n",
       "       [ 83, 304],\n",
       "       [107, 317],\n",
       "       [119, 331],\n",
       "       [ 95, 274],\n",
       "       [102, 274],\n",
       "       [105, 270],\n",
       "       [100, 282],\n",
       "       [ 77, 338],\n",
       "       [108, 332],\n",
       "       [ 89, 323],\n",
       "       [104, 264],\n",
       "       [107, 325],\n",
       "       [129, 290],\n",
       "       [103, 319],\n",
       "       [103, 295],\n",
       "       [ 95, 306],\n",
       "       [ 91, 327],\n",
       "       [ 98, 298],\n",
       "       [ 93, 264],\n",
       "       [ 90, 302],\n",
       "       [ 93, 316],\n",
       "       [101, 321],\n",
       "       [ 92, 304],\n",
       "       [113, 306],\n",
       "       [106, 314],\n",
       "       [105, 298],\n",
       "       [ 83, 321],\n",
       "       [ 88, 310],\n",
       "       [ 83, 297],\n",
       "       [104, 310],\n",
       "       [114, 269],\n",
       "       [ 96, 300],\n",
       "       [100, 284],\n",
       "       [101, 316]])"
      ]
     },
     "execution_count": 25,
     "metadata": {},
     "output_type": "execute_result"
    }
   ],
   "source": [
    "# Draw each \"newX\" values for lambda \"a\" and \"b\":\n",
    "range_poisson = np.random.poisson(lam=(a, b), size=(int(newX), 2))\n",
    "range_poisson"
   ]
  },
  {
   "cell_type": "markdown",
   "metadata": {},
   "source": [
    "### Visualise numpy.random.poisson\n",
    "Display the histogram of the samples"
   ]
  },
  {
   "cell_type": "code",
   "execution_count": 26,
   "metadata": {
    "scrolled": true
   },
   "outputs": [
    {
     "data": {
      "text/plain": [
       "(array([  77.,  357.,  809.,    0., 1358., 1803., 1786.,    0., 1403.,\n",
       "        1034.,  702.,    0.,  356.,  179.,   82.,    0.,   39.,   11.,\n",
       "           2.,    2.]),\n",
       " array([ 0.  ,  0.75,  1.5 ,  2.25,  3.  ,  3.75,  4.5 ,  5.25,  6.  ,\n",
       "         6.75,  7.5 ,  8.25,  9.  ,  9.75, 10.5 , 11.25, 12.  , 12.75,\n",
       "        13.5 , 14.25, 15.  ]),\n",
       " <a list of 20 Patch objects>)"
      ]
     },
     "execution_count": 26,
     "metadata": {},
     "output_type": "execute_result"
    },
    {
     "data": {
      "image/png": "[encoded data removed]",
      "text/plain": [
       "<Figure size 432x288 with 1 Axes>"
      ]
     },
     "metadata": {
      "needs_background": "light"
     },
     "output_type": "display_data"
    }
   ],
   "source": [
    "# Histogram of samples\n",
    "count, bins, ignored = plt.hist(sample_poisson, 14, density=True)\n",
    "plt.hist(sample_poisson, hs)"
   ]
  },
  {
   "cell_type": "code",
   "execution_count": 27,
   "metadata": {},
   "outputs": [
    {
     "data": {
      "text/plain": [
       "([array([13., 20., 15.,  2.,  0.,  0.,  0.,  0.,  0.,  0.,  0.,  0.,  0.,\n",
       "          0.,  0.,  0.,  0.,  0.,  0.,  0.]),\n",
       "  array([ 0.,  0.,  0.,  0.,  0.,  0.,  0.,  0.,  0.,  0.,  0.,  0.,  0.,\n",
       "          1.,  4.,  6., 12., 13.,  9.,  5.])],\n",
       " array([ 77.  ,  90.05, 103.1 , 116.15, 129.2 , 142.25, 155.3 , 168.35,\n",
       "        181.4 , 194.45, 207.5 , 220.55, 233.6 , 246.65, 259.7 , 272.75,\n",
       "        285.8 , 298.85, 311.9 , 324.95, 338.  ]),\n",
       " <a list of 2 Lists of Patches objects>)"
      ]
     },
     "execution_count": 27,
     "metadata": {},
     "output_type": "execute_result"
    },
    {
     "data": {
      "image/png": "[encoded data removed]",
      "text/plain": [
       "<Figure size 432x288 with 1 Axes>"
      ]
     },
     "metadata": {
      "needs_background": "light"
     },
     "output_type": "display_data"
    }
   ],
   "source": [
    "# Histogram of samples from lambda range\n",
    "count, bins, ignored = plt.hist(range_poisson, 14, density=True)\n",
    "plt.hist(range_poisson, hs)"
   ]
  },
  {
   "cell_type": "markdown",
   "metadata": {},
   "source": [
    "## [numpy.random.dirichlet (alpha[, size])](https://docs.scipy.org/doc/numpy-1.15.1/reference/generated/numpy.random.dirichlet.html#numpy.random.dirichlet)\n",
    "It is a [discrete probability distribution](https://brilliant.org/wiki/discrete-random-variables-definition/) and it's used to [model random probability mass functions (PMFs)](https://www.statisticshowto.datasciencecentral.com/dirichlet-distribution/) for finite sets. <br>"
   ]
  },
  {
   "cell_type": "markdown",
   "metadata": {},
   "source": [
    "### [Random PMF (probability mass function)](https://www.statisticshowto.datasciencecentral.com/dirichlet-distribution/)\n",
    "An example would be the distribution of words in books and other documents. A book of length \"k\" words can be modeled by the distribution with a PMF of length \"k\"."
   ]
  },
  {
   "cell_type": "markdown",
   "metadata": {},
   "source": [
    "### [Dirichlet Process](https://www.statisticshowto.datasciencecentral.com/dirichlet-distribution/)\n",
    "* A way to model randomness of a PMF with unlimited options\n",
    "* Polya's Urn is similar, but instead of a set number of options you have an unlimited amount.\n",
    "\n",
    "#### How does the Dirichlet Process work?\n",
    "* Start with an empty urn\n",
    "* Randomly pick an object ball and place it in the urn.\n",
    "\n",
    "The more elements in the urn, the lower the probability of choosing a different one. <br>\n",
    "The proportion of objects in the urn after an infinite amount of draws is a Dirichlet process."
   ]
  },
  {
   "attachments": {
    "image.png": {
     "image/png": "[encoded data removed]"
    }
   },
   "cell_type": "markdown",
   "metadata": {},
   "source": [
    "#### Dirichlet distribution\n",
    "\n",
    "![image.png](attachment:image.png)\n",
    "\n",
    "1. Alpha - array\n",
    "    * Parameter of the distribution (k dimension for sample of dimension k).\n",
    "2. Size - int or tuple of ints, optional\n",
    "    * If size is  not None (default) np.array(lam).size samples are drawn"
   ]
  },
  {
   "cell_type": "code",
   "execution_count": 28,
   "metadata": {
    "scrolled": false
   },
   "outputs": [
    {
     "data": {
      "text/plain": [
       "array([[0.68338637, 0.80247797, 0.58556108, 0.6847277 , 0.54620559,\n",
       "        0.53385947, 0.73304524, 0.57096039, 0.50967616, 0.52853258,\n",
       "        0.56640981, 0.77636721, 0.61550101, 0.49976495, 0.69746912,\n",
       "        0.62308066, 0.40321773, 0.47394602, 0.64005019, 0.52576408],\n",
       "       [0.25150617, 0.07805557, 0.24165004, 0.22050695, 0.16846209,\n",
       "        0.26791195, 0.17159002, 0.3077538 , 0.39695801, 0.32871588,\n",
       "        0.16147157, 0.17833729, 0.20048394, 0.29144376, 0.16171976,\n",
       "        0.27260247, 0.37037167, 0.39690283, 0.21261357, 0.26131337],\n",
       "       [0.06510747, 0.11946646, 0.17278889, 0.09476535, 0.28533232,\n",
       "        0.19822858, 0.09536474, 0.12128582, 0.09336583, 0.14275154,\n",
       "        0.27211861, 0.0452955 , 0.18401505, 0.20879129, 0.14081112,\n",
       "        0.10431688, 0.2264106 , 0.12915115, 0.14733624, 0.21292254]])"
      ]
     },
     "execution_count": 28,
     "metadata": {},
     "output_type": "execute_result"
    }
   ],
   "source": [
    "s = np.random.dirichlet((10, 5, 3), 20).transpose()\n",
    "s"
   ]
  },
  {
   "cell_type": "markdown",
   "metadata": {},
   "source": [
    "### Visualise numpy.random.dirichlet"
   ]
  },
  {
   "cell_type": "code",
   "execution_count": 29,
   "metadata": {},
   "outputs": [
    {
     "data": {
      "text/plain": [
       "Text(0.5, 1.0, 'Lengths of Strings')"
      ]
     },
     "execution_count": 29,
     "metadata": {},
     "output_type": "execute_result"
    },
    {
     "data": {
      "image/png": "[encoded data removed]",
      "text/plain": [
       "<Figure size 432x288 with 1 Axes>"
      ]
     },
     "metadata": {
      "needs_background": "light"
     },
     "output_type": "display_data"
    }
   ],
   "source": [
    "plt.barh(range(20), s[0])\n",
    "plt.barh(range(20), s[1], left=s[0], color='g')\n",
    "plt.barh(range(20), s[2], left=s[0]+s[1], color='r')\n",
    "plt.title(\"Lengths of Strings\")"
   ]
  },
  {
   "cell_type": "markdown",
   "metadata": {},
   "source": [
    "---\n",
    "## Random generator"
   ]
  },
  {
   "cell_type": "markdown",
   "metadata": {},
   "source": [
    "## [numpy.random.seed ([seed])](https://docs.scipy.org/doc/numpy-1.15.1/reference/routines.random.html)\n",
    "### [What is seed?](https://www.statisticshowto.datasciencecentral.com/random-seed-definition/)\n",
    "Random numbers are generated by deterministic algorithms and they follow a sequence with a very large period.  <br>\n",
    "The seed during random number generation specifies the start point in a sequence. This is usually affected by the seconds on a computer system’s clock. <br>\n",
    "If we use same seed every time, it will yield same sequence of random numbers. <br>\n",
    "The reason for using a seed of some value is when we want to debug the program using such deterministic behavior."
   ]
  },
  {
   "cell_type": "code",
   "execution_count": null,
   "metadata": {},
   "outputs": [],
   "source": [
    "s_no = 10       # Seed value"
   ]
  },
  {
   "cell_type": "code",
   "execution_count": 35,
   "metadata": {
    "scrolled": false
   },
   "outputs": [
    {
     "data": {
      "text/plain": [
       "0.6977288245972708"
      ]
     },
     "execution_count": 35,
     "metadata": {},
     "output_type": "execute_result"
    }
   ],
   "source": [
    "# Get a random number\n",
    "np.random.rand()"
   ]
  },
  {
   "cell_type": "code",
   "execution_count": 36,
   "metadata": {
    "scrolled": false
   },
   "outputs": [
    {
     "data": {
      "text/plain": [
       "(0.771320643266746, 0.0207519493594015)"
      ]
     },
     "execution_count": 36,
     "metadata": {},
     "output_type": "execute_result"
    }
   ],
   "source": [
    "# Get a specific seed and output random numbers after that\n",
    "np.random.seed(s_no)\n",
    "rand1 = np.random.rand()\n",
    "rand2 = np.random.rand()\n",
    "rand1, rand2"
   ]
  },
  {
   "cell_type": "markdown",
   "metadata": {},
   "source": [
    "**Note:** notice the value of the random numbers when the seed is 10"
   ]
  },
  {
   "cell_type": "code",
   "execution_count": 40,
   "metadata": {
    "scrolled": true
   },
   "outputs": [
    {
     "data": {
      "text/plain": [
       "0.7488038825386119"
      ]
     },
     "execution_count": 40,
     "metadata": {},
     "output_type": "execute_result"
    }
   ],
   "source": [
    "# Get a 2nd random number\n",
    "np.random.rand()"
   ]
  },
  {
   "cell_type": "code",
   "execution_count": 38,
   "metadata": {
    "scrolled": true
   },
   "outputs": [
    {
     "data": {
      "text/plain": [
       "(0.771320643266746, 0.0207519493594015)"
      ]
     },
     "execution_count": 38,
     "metadata": {},
     "output_type": "execute_result"
    }
   ],
   "source": [
    "# Get the same seed as used above and output random numbers after that\n",
    "np.random.seed(s_no)\n",
    "rand1 = np.random.rand()\n",
    "rand2 = np.random.rand()\n",
    "rand1, rand2"
   ]
  },
  {
   "cell_type": "markdown",
   "metadata": {},
   "source": [
    "**Note:** notice that values of the random numbers seeded in the *above cell* are exactly the same as the the *numbers seeded the first time*. The same see value was used which means the same random numbers will show up."
   ]
  },
  {
   "cell_type": "code",
   "execution_count": 39,
   "metadata": {
    "scrolled": true
   },
   "outputs": [
    {
     "data": {
      "text/plain": [
       "0.6336482349262754"
      ]
     },
     "execution_count": 39,
     "metadata": {},
     "output_type": "execute_result"
    }
   ],
   "source": [
    "# Get another random number\n",
    "np.random.rand()"
   ]
  }
 ],
 "metadata": {
  "kernelspec": {
   "display_name": "Python 3",
   "language": "python",
   "name": "python3"
  },
  "language_info": {
   "codemirror_mode": {
    "name": "ipython",
    "version": 3
   },
   "file_extension": ".py",
   "mimetype": "text/x-python",
   "name": "python",
   "nbconvert_exporter": "python",
   "pygments_lexer": "ipython3",
   "version": "3.6.7"
  }
 },
 "nbformat": 4,
 "nbformat_minor": 2
}
