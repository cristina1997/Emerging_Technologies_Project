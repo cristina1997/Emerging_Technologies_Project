{
 "cells": [
  {
   "cell_type": "markdown",
   "metadata": {},
   "source": [
    "# Numpy\n",
    "![image](https://miro.medium.com/max/800/1*mc5YIn7jvo5uwuqBOUDw7Q.jpeg)"
   ]
  },
  {
   "cell_type": "markdown",
   "metadata": {},
   "source": [
    "---\n",
    "\n",
    "## [What is Numpy?](http://www.numpy.org)\n",
    "Numpy is a Python library used for scientific computing that can be used as a multi-dimensional container of data. \n",
    "It provides:\n",
    "* a N-dimensional array object\n",
    "* broadcasting functions\n",
    "* tools to integrate languages such as C and C++ \n",
    "* computations such as\n",
    "    * linear algebra\n",
    "    * Fourier transform \n",
    "    * random number capabilities\n",
    "---"
   ]
  },
  {
   "cell_type": "markdown",
   "metadata": {},
   "source": [
    "## Packages\n",
    "We need to import the packages require for this code to work."
   ]
  },
  {
   "cell_type": "code",
   "execution_count": 1,
   "metadata": {},
   "outputs": [],
   "source": [
    "# Random algebra\n",
    "import numpy as np\n",
    "\n",
    "# Visualise data\n",
    "import matplotlib.pyplot as plt\n",
    "%matplotlib inline"
   ]
  },
  {
   "cell_type": "code",
   "execution_count": 2,
   "metadata": {},
   "outputs": [],
   "source": [
    "# Initialise number of numbers to be used\n",
    "\n",
    "x = 10000          # amount of values used in all tests\n",
    "\n",
    "d = 100           # array dimensions used in permutations\n",
    "\n",
    "hs = 20           # size of histograms used in all tests"
   ]
  },
  {
   "cell_type": "markdown",
   "metadata": {},
   "source": [
    "___\n",
    "# Simple random data\n",
    "\n",
    "Positive dimension values of an array are passed in<br>\n",
    "If the argument is missing a random Python float is returned"
   ]
  },
  {
   "cell_type": "markdown",
   "metadata": {},
   "source": [
    "## [numpy.random.rand (d0, d1, d2, ..., dn)](https://docs.scipy.org/doc/numpy-1.15.1/reference/generated/numpy.random.rand.html#numpy.random.rand)\n",
    " Dimensions are passed in separate arguments. "
   ]
  },
  {
   "cell_type": "markdown",
   "metadata": {},
   "source": [
    "1. Parameter size: \n",
    "    * number of parameters signifies the size of the array (d2 = 2D array)\n",
    "2. d0 \n",
    "    * number of elements in a 1D array (x)\n",
    "3. d1 \n",
    "    * number of elements in a 2D array (y)\n",
    "4. d2\n",
    "    * number of elements in a 3D array (z)\n",
    "#### and so on\n",
    " \n",
    "The values of elements from the array are, between 0 (including 0) and 1 (not including 1) as shown in [this documentation](https://docs.scipy.org/doc/numpy-1.15.1/reference/generated/numpy.random.rand.html#numpy.random.rand)\n",
    "\n",
    "\n",
    "* Square bracked(s) - **[ ]**\n",
    "    * included\n",
    "* Round bracket(s) - **( )**\n",
    "    * not included"
   ]
  },
  {
   "cell_type": "code",
   "execution_count": 3,
   "metadata": {
    "scrolled": false
   },
   "outputs": [
    {
     "data": {
      "text/plain": [
       "array([[0.65927124, 0.54821026],\n",
       "       [0.51329057, 0.39655126],\n",
       "       [0.67139429, 0.82287335],\n",
       "       [0.56321063, 0.00457205]])"
      ]
     },
     "execution_count": 3,
     "metadata": {},
     "output_type": "execute_result"
    }
   ],
   "source": [
    "# Source code adapted from:\n",
    "# - https://docs.scipy.org/doc/numpy-1.15.1/reference/generated/numpy.random.rand.html#numpy.random.rand\n",
    "# Passing in arguments\n",
    "np.random.rand(4, 2)"
   ]
  },
  {
   "cell_type": "code",
   "execution_count": 4,
   "metadata": {},
   "outputs": [
    {
     "data": {
      "text/plain": [
       "0.7325328900007505"
      ]
     },
     "execution_count": 4,
     "metadata": {},
     "output_type": "execute_result"
    }
   ],
   "source": [
    "# No argument\n",
    "np.random.rand()"
   ]
  },
  {
   "cell_type": "markdown",
   "metadata": {},
   "source": [
    "### Visualise numpy.random.rand\n",
    "Displays a graph of how this function generates random numbers"
   ]
  },
  {
   "cell_type": "code",
   "execution_count": 5,
   "metadata": {},
   "outputs": [],
   "source": [
    "# Create a 1D array with 100 elements of random number values\n",
    "random_rand = np.random.rand(x)"
   ]
  },
  {
   "cell_type": "code",
   "execution_count": 6,
   "metadata": {
    "scrolled": true
   },
   "outputs": [
    {
     "data": {
      "text/plain": [
       "(array([501., 494., 515., 549., 487., 515., 500., 470., 447., 491., 470.,\n",
       "        514., 477., 505., 483., 529., 556., 490., 512., 495.]),\n",
       " array([7.24157052e-05, 5.00656524e-02, 1.00058889e-01, 1.50052126e-01,\n",
       "        2.00045362e-01, 2.50038599e-01, 3.00031836e-01, 3.50025072e-01,\n",
       "        4.00018309e-01, 4.50011546e-01, 5.00004783e-01, 5.49998019e-01,\n",
       "        5.99991256e-01, 6.49984493e-01, 6.99977729e-01, 7.49970966e-01,\n",
       "        7.99964203e-01, 8.49957439e-01, 8.99950676e-01, 9.49943913e-01,\n",
       "        9.99937149e-01]),\n",
       " <a list of 20 Patch objects>)"
      ]
     },
     "execution_count": 6,
     "metadata": {},
     "output_type": "execute_result"
    },
    {
     "data": {
      "image/png": "[encoded data removed]",
      "text/plain": [
       "<Figure size 432x288 with 1 Axes>"
      ]
     },
     "metadata": {
      "needs_background": "light"
     },
     "output_type": "display_data"
    }
   ],
   "source": [
    "# Show the relationship between the amount of numbers in the array and their values\n",
    "plt.hist(random_rand, hs)"
   ]
  },
  {
   "cell_type": "markdown",
   "metadata": {},
   "source": [
    "## [numpy.random.random_sample ([size])](https://docs.scipy.org/doc/numpy-1.15.1/reference/generated/numpy.random.random_sample.html#numpy.random.random_sample)\n",
    "Dimension are passed in a single tuple."
   ]
  },
  {
   "cell_type": "markdown",
   "metadata": {},
   "source": [
    "An idealized random number generator would be considered a [**continuous uniform distribution**](https://www.investopedia.com/terms/u/uniform-distribution.asp) which means every variable has an equal opportunity of appearing. <br>\n",
    "To sample  multiply the output of random_sample by (b-a) and add a:"
   ]
  },
  {
   "cell_type": "code",
   "execution_count": 7,
   "metadata": {
    "scrolled": false
   },
   "outputs": [
    {
     "data": {
      "text/plain": [
       "array([0.89389679, 0.55483336, 0.67880504, ..., 0.29790695, 0.31941115,\n",
       "       0.09494203])"
      ]
     },
     "execution_count": 7,
     "metadata": {},
     "output_type": "execute_result"
    }
   ],
   "source": [
    "# Passing in arguments\n",
    "np.random.random_sample((x,))"
   ]
  },
  {
   "cell_type": "code",
   "execution_count": 8,
   "metadata": {
    "scrolled": false
   },
   "outputs": [
    {
     "data": {
      "text/plain": [
       "array([[-4783.36826289, -3313.68761933],\n",
       "       [-5399.38693483, -1844.70668868],\n",
       "       [-1751.01244058, -6286.13527779],\n",
       "       [-4411.28135684, -1375.79049385],\n",
       "       [-9364.50596118, -8612.21949857]])"
      ]
     },
     "execution_count": 8,
     "metadata": {},
     "output_type": "execute_result"
    }
   ],
   "source": [
    "rand_sample = x * np.random.random_sample((5, 2)) - x\n",
    "rand_sample"
   ]
  },
  {
   "cell_type": "markdown",
   "metadata": {},
   "source": [
    "### Visualise numpy.random.random_sample\n",
    "Displays a graph of how this function generates random numbers"
   ]
  },
  {
   "cell_type": "code",
   "execution_count": 9,
   "metadata": {
    "scrolled": true
   },
   "outputs": [
    {
     "data": {
      "text/plain": [
       "([array([1., 0., 0., 0., 0., 0., 0., 0., 0., 1., 0., 1., 1., 0., 0., 0., 0.,\n",
       "         0., 0., 1.]),\n",
       "  array([0., 1., 0., 0., 0., 0., 0., 1., 0., 0., 0., 0., 0., 0., 0., 1., 0.,\n",
       "         0., 1., 1.])],\n",
       " array([-9364.50596118, -8965.07018782, -8565.63441445, -8166.19864108,\n",
       "        -7766.76286772, -7367.32709435, -6967.89132099, -6568.45554762,\n",
       "        -6169.01977425, -5769.58400089, -5370.14822752, -4970.71245415,\n",
       "        -4571.27668079, -4171.84090742, -3772.40513405, -3372.96936069,\n",
       "        -2973.53358732, -2574.09781395, -2174.66204059, -1775.22626722,\n",
       "        -1375.79049385]),\n",
       " <a list of 2 Lists of Patches objects>)"
      ]
     },
     "execution_count": 9,
     "metadata": {},
     "output_type": "execute_result"
    },
    {
     "data": {
      "image/png": "[encoded data removed]",
      "text/plain": [
       "<Figure size 432x288 with 1 Axes>"
      ]
     },
     "metadata": {
      "needs_background": "light"
     },
     "output_type": "display_data"
    }
   ],
   "source": [
    "# Show the relationship between the amount of numbers in the array and their values\n",
    "plt.hist(rand_sample, hs)"
   ]
  },
  {
   "cell_type": "markdown",
   "metadata": {},
   "source": [
    "---\n",
    "# Permutations\n",
    "These are based on certain distribution functions <br>\n",
    "If no value is entered in the range an TypeError appears <br>\n",
    "The elements in the array can only be of integer vallues\n",
    "\n",
    "#### When shuffling a multi-dimentional array\n",
    "1. Formula - np.arange(x).reshape((d0, d1, ...., dn)) \n",
    "    * x = amount of numbers \n",
    "    * d = array dimensions\n",
    "    \n",
    "2. Explain formula\n",
    "    * Array dimensions must be the same\n",
    "        * i.e.\n",
    "            * d0 = d1 = ... = dn\n",
    "    * The number of numbers must be the dimension value at the power of the number of dimensions\n",
    "        * i.e.              \n",
    "            * x = d ^ n"
   ]
  },
  {
   "cell_type": "markdown",
   "metadata": {},
   "source": [
    "## [numpy.random.shuffle (x)](https://docs.scipy.org/doc/numpy-1.15.1/reference/generated/numpy.random.shuffle.html#numpy.random.shuffle)\n",
    "Randomly shuffles an array"
   ]
  },
  {
   "cell_type": "markdown",
   "metadata": {},
   "source": [
    "* It takes in the size of an array and randomly shuffles its contents <br>"
   ]
  },
  {
   "cell_type": "code",
   "execution_count": 10,
   "metadata": {},
   "outputs": [
    {
     "data": {
      "text/plain": [
       "array([0, 1, 2, 3, 4, 5, 6, 7, 8, 9])"
      ]
     },
     "execution_count": 10,
     "metadata": {},
     "output_type": "execute_result"
    }
   ],
   "source": [
    "# The original array of numbers\n",
    "sh_arr = np.arange(10)\n",
    "sh_arr"
   ]
  },
  {
   "cell_type": "code",
   "execution_count": 11,
   "metadata": {
    "scrolled": true
   },
   "outputs": [
    {
     "data": {
      "text/plain": [
       "array([5, 4, 8, 9, 0, 6, 7, 2, 3, 1])"
      ]
     },
     "execution_count": 11,
     "metadata": {},
     "output_type": "execute_result"
    }
   ],
   "source": [
    "# The array of numbers shuffle\n",
    "np.random.shuffle(sh_arr)\n",
    "sh_arr"
   ]
  },
  {
   "cell_type": "code",
   "execution_count": 12,
   "metadata": {},
   "outputs": [
    {
     "data": {
      "text/plain": [
       "array([[9100, 9101, 9102, ..., 9197, 9198, 9199],\n",
       "       [4000, 4001, 4002, ..., 4097, 4098, 4099],\n",
       "       [5500, 5501, 5502, ..., 5597, 5598, 5599],\n",
       "       ...,\n",
       "       [8800, 8801, 8802, ..., 8897, 8898, 8899],\n",
       "       [7200, 7201, 7202, ..., 7297, 7298, 7299],\n",
       "       [7000, 7001, 7002, ..., 7097, 7098, 7099]])"
      ]
     },
     "execution_count": 12,
     "metadata": {},
     "output_type": "execute_result"
    }
   ],
   "source": [
    "# Shuffle a multi-dimentional array by reshaping the size of an array\n",
    "shuffle_array = np.arange(x).reshape((d, d))\n",
    "np.random.shuffle(shuffle_array)\n",
    "shuffle_array"
   ]
  },
  {
   "cell_type": "markdown",
   "metadata": {},
   "source": [
    "### Visualise numpy.random.shuffle\n",
    "Displays a graph of how this function shuffles the random numbers"
   ]
  },
  {
   "cell_type": "code",
   "execution_count": 13,
   "metadata": {},
   "outputs": [
    {
     "data": {
      "text/plain": [
       "[<matplotlib.lines.Line2D at 0x1b5a6b777f0>,\n",
       " <matplotlib.lines.Line2D at 0x1b5a6b77a20>,\n",
       " <matplotlib.lines.Line2D at 0x1b5a6b77b70>,\n",
       " <matplotlib.lines.Line2D at 0x1b5a6b77cc0>,\n",
       " <matplotlib.lines.Line2D at 0x1b5a6b77e10>,\n",
       " <matplotlib.lines.Line2D at 0x1b5a6b77f60>,\n",
       " <matplotlib.lines.Line2D at 0x1b5a6b800f0>,\n",
       " <matplotlib.lines.Line2D at 0x1b5a6b80240>,\n",
       " <matplotlib.lines.Line2D at 0x1b5a6b80390>,\n",
       " <matplotlib.lines.Line2D at 0x1b5a6b804e0>,\n",
       " <matplotlib.lines.Line2D at 0x1b5a6b80630>,\n",
       " <matplotlib.lines.Line2D at 0x1b5a6b80780>,\n",
       " <matplotlib.lines.Line2D at 0x1b5a6b808d0>,\n",
       " <matplotlib.lines.Line2D at 0x1b5a6b80a20>,\n",
       " <matplotlib.lines.Line2D at 0x1b5a6b80b70>,\n",
       " <matplotlib.lines.Line2D at 0x1b5a6b80cc0>,\n",
       " <matplotlib.lines.Line2D at 0x1b5a6b80e10>,\n",
       " <matplotlib.lines.Line2D at 0x1b5a6b80f60>,\n",
       " <matplotlib.lines.Line2D at 0x1b5a6b850f0>,\n",
       " <matplotlib.lines.Line2D at 0x1b5a6b85240>,\n",
       " <matplotlib.lines.Line2D at 0x1b5a6b85390>,\n",
       " <matplotlib.lines.Line2D at 0x1b5a6b854e0>,\n",
       " <matplotlib.lines.Line2D at 0x1b5a6b85630>,\n",
       " <matplotlib.lines.Line2D at 0x1b5a6b85780>,\n",
       " <matplotlib.lines.Line2D at 0x1b5a6b858d0>,\n",
       " <matplotlib.lines.Line2D at 0x1b5a6b85a20>,\n",
       " <matplotlib.lines.Line2D at 0x1b5a6b85b70>,\n",
       " <matplotlib.lines.Line2D at 0x1b5a6b85cc0>,\n",
       " <matplotlib.lines.Line2D at 0x1b5a6b85e10>,\n",
       " <matplotlib.lines.Line2D at 0x1b5a6b85f60>,\n",
       " <matplotlib.lines.Line2D at 0x1b5a6b8b0f0>,\n",
       " <matplotlib.lines.Line2D at 0x1b5a6b8b240>,\n",
       " <matplotlib.lines.Line2D at 0x1b5a6b8b390>,\n",
       " <matplotlib.lines.Line2D at 0x1b5a6b8b4e0>,\n",
       " <matplotlib.lines.Line2D at 0x1b5a6b8b630>,\n",
       " <matplotlib.lines.Line2D at 0x1b5a6b8b780>,\n",
       " <matplotlib.lines.Line2D at 0x1b5a6b8b8d0>,\n",
       " <matplotlib.lines.Line2D at 0x1b5a6b8ba20>,\n",
       " <matplotlib.lines.Line2D at 0x1b5a6b8bb70>,\n",
       " <matplotlib.lines.Line2D at 0x1b5a6b8bcc0>,\n",
       " <matplotlib.lines.Line2D at 0x1b5a6b8be10>,\n",
       " <matplotlib.lines.Line2D at 0x1b5a6b8bf60>,\n",
       " <matplotlib.lines.Line2D at 0x1b5a6b8f0f0>,\n",
       " <matplotlib.lines.Line2D at 0x1b5a6b8f240>,\n",
       " <matplotlib.lines.Line2D at 0x1b5a6b8f390>,\n",
       " <matplotlib.lines.Line2D at 0x1b5a6b8f4e0>,\n",
       " <matplotlib.lines.Line2D at 0x1b5a6b8f630>,\n",
       " <matplotlib.lines.Line2D at 0x1b5a6b8f780>,\n",
       " <matplotlib.lines.Line2D at 0x1b5a6b8f8d0>,\n",
       " <matplotlib.lines.Line2D at 0x1b5a6b8fa20>,\n",
       " <matplotlib.lines.Line2D at 0x1b5a6b8fb70>,\n",
       " <matplotlib.lines.Line2D at 0x1b5a6b8fcc0>,\n",
       " <matplotlib.lines.Line2D at 0x1b5a6b8fe10>,\n",
       " <matplotlib.lines.Line2D at 0x1b5a6b8ff60>,\n",
       " <matplotlib.lines.Line2D at 0x1b5a6b940f0>,\n",
       " <matplotlib.lines.Line2D at 0x1b5a6b94240>,\n",
       " <matplotlib.lines.Line2D at 0x1b5a6b94390>,\n",
       " <matplotlib.lines.Line2D at 0x1b5a6b944e0>,\n",
       " <matplotlib.lines.Line2D at 0x1b5a6b94630>,\n",
       " <matplotlib.lines.Line2D at 0x1b5a6b94780>,\n",
       " <matplotlib.lines.Line2D at 0x1b5a6b948d0>,\n",
       " <matplotlib.lines.Line2D at 0x1b5a6b94a20>,\n",
       " <matplotlib.lines.Line2D at 0x1b5a6b94b70>,\n",
       " <matplotlib.lines.Line2D at 0x1b5a6b94cc0>,\n",
       " <matplotlib.lines.Line2D at 0x1b5a6b94e10>,\n",
       " <matplotlib.lines.Line2D at 0x1b5a6b94f60>,\n",
       " <matplotlib.lines.Line2D at 0x1b5a6b990f0>,\n",
       " <matplotlib.lines.Line2D at 0x1b5a6b99240>,\n",
       " <matplotlib.lines.Line2D at 0x1b5a6b99390>,\n",
       " <matplotlib.lines.Line2D at 0x1b5a6b994e0>,\n",
       " <matplotlib.lines.Line2D at 0x1b5a6b99630>,\n",
       " <matplotlib.lines.Line2D at 0x1b5a6b99780>,\n",
       " <matplotlib.lines.Line2D at 0x1b5a6b998d0>,\n",
       " <matplotlib.lines.Line2D at 0x1b5a6b99a20>,\n",
       " <matplotlib.lines.Line2D at 0x1b5a6b99b70>,\n",
       " <matplotlib.lines.Line2D at 0x1b5a6b99cc0>,\n",
       " <matplotlib.lines.Line2D at 0x1b5a6b99e10>,\n",
       " <matplotlib.lines.Line2D at 0x1b5a6b99f60>,\n",
       " <matplotlib.lines.Line2D at 0x1b5a6b9f0f0>,\n",
       " <matplotlib.lines.Line2D at 0x1b5a6b9f240>,\n",
       " <matplotlib.lines.Line2D at 0x1b5a6b9f390>,\n",
       " <matplotlib.lines.Line2D at 0x1b5a6b9f4e0>,\n",
       " <matplotlib.lines.Line2D at 0x1b5a6b9f630>,\n",
       " <matplotlib.lines.Line2D at 0x1b5a6b9f780>,\n",
       " <matplotlib.lines.Line2D at 0x1b5a6b9f8d0>,\n",
       " <matplotlib.lines.Line2D at 0x1b5a6b9fa20>,\n",
       " <matplotlib.lines.Line2D at 0x1b5a6b9fb70>,\n",
       " <matplotlib.lines.Line2D at 0x1b5a6b9fcc0>,\n",
       " <matplotlib.lines.Line2D at 0x1b5a6b9fe10>,\n",
       " <matplotlib.lines.Line2D at 0x1b5a6b9ff60>,\n",
       " <matplotlib.lines.Line2D at 0x1b5a6ba40f0>,\n",
       " <matplotlib.lines.Line2D at 0x1b5a6ba4240>,\n",
       " <matplotlib.lines.Line2D at 0x1b5a6ba4390>,\n",
       " <matplotlib.lines.Line2D at 0x1b5a6ba44e0>,\n",
       " <matplotlib.lines.Line2D at 0x1b5a6ba4630>,\n",
       " <matplotlib.lines.Line2D at 0x1b5a6ba4780>,\n",
       " <matplotlib.lines.Line2D at 0x1b5a6ba48d0>,\n",
       " <matplotlib.lines.Line2D at 0x1b5a6ba4a20>,\n",
       " <matplotlib.lines.Line2D at 0x1b5a6ba4b70>,\n",
       " <matplotlib.lines.Line2D at 0x1b5a6ba4cc0>]"
      ]
     },
     "execution_count": 13,
     "metadata": {},
     "output_type": "execute_result"
    },
    {
     "data": {
      "image/png": "[encoded data removed]",
      "text/plain": [
       "<Figure size 432x288 with 1 Axes>"
      ]
     },
     "metadata": {
      "needs_background": "light"
     },
     "output_type": "display_data"
    }
   ],
   "source": [
    "# Show the relationship between numbers in the original array and the numbers in the shuffled array\n",
    "# With lines\n",
    "plt.plot(shuffle_array, 'c-')"
   ]
  },
  {
   "cell_type": "code",
   "execution_count": 14,
   "metadata": {},
   "outputs": [
    {
     "data": {
      "text/plain": [
       "[<matplotlib.lines.Line2D at 0x1b5a6ca4f98>,\n",
       " <matplotlib.lines.Line2D at 0x1b5a6cbd0f0>,\n",
       " <matplotlib.lines.Line2D at 0x1b5a6cbd240>,\n",
       " <matplotlib.lines.Line2D at 0x1b5a6cbd390>,\n",
       " <matplotlib.lines.Line2D at 0x1b5a6cbd4e0>,\n",
       " <matplotlib.lines.Line2D at 0x1b5a6cbd630>,\n",
       " <matplotlib.lines.Line2D at 0x1b5a6cbd780>,\n",
       " <matplotlib.lines.Line2D at 0x1b5a6cbd8d0>,\n",
       " <matplotlib.lines.Line2D at 0x1b5a6cbda20>,\n",
       " <matplotlib.lines.Line2D at 0x1b5a6cbdb70>,\n",
       " <matplotlib.lines.Line2D at 0x1b5a6cbdcc0>,\n",
       " <matplotlib.lines.Line2D at 0x1b5a6cbde10>,\n",
       " <matplotlib.lines.Line2D at 0x1b5a6cbdf60>,\n",
       " <matplotlib.lines.Line2D at 0x1b5a6ccc0f0>,\n",
       " <matplotlib.lines.Line2D at 0x1b5a6ccc240>,\n",
       " <matplotlib.lines.Line2D at 0x1b5a6ccc390>,\n",
       " <matplotlib.lines.Line2D at 0x1b5a6ccc4e0>,\n",
       " <matplotlib.lines.Line2D at 0x1b5a6ccc630>,\n",
       " <matplotlib.lines.Line2D at 0x1b5a6ccc780>,\n",
       " <matplotlib.lines.Line2D at 0x1b5a6ccc8d0>,\n",
       " <matplotlib.lines.Line2D at 0x1b5a6ccca20>,\n",
       " <matplotlib.lines.Line2D at 0x1b5a6cccb70>,\n",
       " <matplotlib.lines.Line2D at 0x1b5a6ccccc0>,\n",
       " <matplotlib.lines.Line2D at 0x1b5a6ccce10>,\n",
       " <matplotlib.lines.Line2D at 0x1b5a6cccf60>,\n",
       " <matplotlib.lines.Line2D at 0x1b5a6cd20f0>,\n",
       " <matplotlib.lines.Line2D at 0x1b5a6cd2240>,\n",
       " <matplotlib.lines.Line2D at 0x1b5a6cd2390>,\n",
       " <matplotlib.lines.Line2D at 0x1b5a6cd24e0>,\n",
       " <matplotlib.lines.Line2D at 0x1b5a6cd2630>,\n",
       " <matplotlib.lines.Line2D at 0x1b5a6cd2780>,\n",
       " <matplotlib.lines.Line2D at 0x1b5a6cd28d0>,\n",
       " <matplotlib.lines.Line2D at 0x1b5a6cd2a20>,\n",
       " <matplotlib.lines.Line2D at 0x1b5a6cd2b70>,\n",
       " <matplotlib.lines.Line2D at 0x1b5a6cd2cc0>,\n",
       " <matplotlib.lines.Line2D at 0x1b5a6cd2e10>,\n",
       " <matplotlib.lines.Line2D at 0x1b5a6cd2f60>,\n",
       " <matplotlib.lines.Line2D at 0x1b5a6cd30f0>,\n",
       " <matplotlib.lines.Line2D at 0x1b5a6cd3240>,\n",
       " <matplotlib.lines.Line2D at 0x1b5a6cd3390>,\n",
       " <matplotlib.lines.Line2D at 0x1b5a6cd34e0>,\n",
       " <matplotlib.lines.Line2D at 0x1b5a6cd3630>,\n",
       " <matplotlib.lines.Line2D at 0x1b5a6cd3780>,\n",
       " <matplotlib.lines.Line2D at 0x1b5a6cd38d0>,\n",
       " <matplotlib.lines.Line2D at 0x1b5a6cd3a20>,\n",
       " <matplotlib.lines.Line2D at 0x1b5a6cd3b70>,\n",
       " <matplotlib.lines.Line2D at 0x1b5a6cd3cc0>,\n",
       " <matplotlib.lines.Line2D at 0x1b5a6cd3e10>,\n",
       " <matplotlib.lines.Line2D at 0x1b5a6cd3f60>,\n",
       " <matplotlib.lines.Line2D at 0x1b5a6cdd0f0>,\n",
       " <matplotlib.lines.Line2D at 0x1b5a6cdd240>,\n",
       " <matplotlib.lines.Line2D at 0x1b5a6cdd390>,\n",
       " <matplotlib.lines.Line2D at 0x1b5a6cdd4e0>,\n",
       " <matplotlib.lines.Line2D at 0x1b5a6cdd630>,\n",
       " <matplotlib.lines.Line2D at 0x1b5a6cdd780>,\n",
       " <matplotlib.lines.Line2D at 0x1b5a6cdd8d0>,\n",
       " <matplotlib.lines.Line2D at 0x1b5a6cdda20>,\n",
       " <matplotlib.lines.Line2D at 0x1b5a6cddb70>,\n",
       " <matplotlib.lines.Line2D at 0x1b5a6cddcc0>,\n",
       " <matplotlib.lines.Line2D at 0x1b5a6cdde10>,\n",
       " <matplotlib.lines.Line2D at 0x1b5a6cddf60>,\n",
       " <matplotlib.lines.Line2D at 0x1b5a6ce20f0>,\n",
       " <matplotlib.lines.Line2D at 0x1b5a6ce2240>,\n",
       " <matplotlib.lines.Line2D at 0x1b5a6ce2390>,\n",
       " <matplotlib.lines.Line2D at 0x1b5a6ce24e0>,\n",
       " <matplotlib.lines.Line2D at 0x1b5a6ce2630>,\n",
       " <matplotlib.lines.Line2D at 0x1b5a6ce2780>,\n",
       " <matplotlib.lines.Line2D at 0x1b5a6ce28d0>,\n",
       " <matplotlib.lines.Line2D at 0x1b5a6ce2a20>,\n",
       " <matplotlib.lines.Line2D at 0x1b5a6ce2b70>,\n",
       " <matplotlib.lines.Line2D at 0x1b5a6ce2cc0>,\n",
       " <matplotlib.lines.Line2D at 0x1b5a6ce2e10>,\n",
       " <matplotlib.lines.Line2D at 0x1b5a6ce2f60>,\n",
       " <matplotlib.lines.Line2D at 0x1b5a6ce80f0>,\n",
       " <matplotlib.lines.Line2D at 0x1b5a6ce8240>,\n",
       " <matplotlib.lines.Line2D at 0x1b5a6ce8390>,\n",
       " <matplotlib.lines.Line2D at 0x1b5a6ce84e0>,\n",
       " <matplotlib.lines.Line2D at 0x1b5a6ce8630>,\n",
       " <matplotlib.lines.Line2D at 0x1b5a6ce8780>,\n",
       " <matplotlib.lines.Line2D at 0x1b5a6ce88d0>,\n",
       " <matplotlib.lines.Line2D at 0x1b5a6ce8a20>,\n",
       " <matplotlib.lines.Line2D at 0x1b5a6ce8b70>,\n",
       " <matplotlib.lines.Line2D at 0x1b5a6ce8cc0>,\n",
       " <matplotlib.lines.Line2D at 0x1b5a6ce8e10>,\n",
       " <matplotlib.lines.Line2D at 0x1b5a6ce8f60>,\n",
       " <matplotlib.lines.Line2D at 0x1b5a6cec0f0>,\n",
       " <matplotlib.lines.Line2D at 0x1b5a6cec240>,\n",
       " <matplotlib.lines.Line2D at 0x1b5a6cec390>,\n",
       " <matplotlib.lines.Line2D at 0x1b5a6cec4e0>,\n",
       " <matplotlib.lines.Line2D at 0x1b5a6cec630>,\n",
       " <matplotlib.lines.Line2D at 0x1b5a6cec780>,\n",
       " <matplotlib.lines.Line2D at 0x1b5a6cec8d0>,\n",
       " <matplotlib.lines.Line2D at 0x1b5a6ceca20>,\n",
       " <matplotlib.lines.Line2D at 0x1b5a6cecb70>,\n",
       " <matplotlib.lines.Line2D at 0x1b5a6ceccc0>,\n",
       " <matplotlib.lines.Line2D at 0x1b5a6cece10>,\n",
       " <matplotlib.lines.Line2D at 0x1b5a6cecf60>,\n",
       " <matplotlib.lines.Line2D at 0x1b5a6cf20f0>,\n",
       " <matplotlib.lines.Line2D at 0x1b5a6cf2240>,\n",
       " <matplotlib.lines.Line2D at 0x1b5a6cf2390>]"
      ]
     },
     "execution_count": 14,
     "metadata": {},
     "output_type": "execute_result"
    },
    {
     "data": {
      "image/png": "[encoded data removed]",
      "text/plain": [
       "<Figure size 432x288 with 1 Axes>"
      ]
     },
     "metadata": {
      "needs_background": "light"
     },
     "output_type": "display_data"
    }
   ],
   "source": [
    "# With pluses\n",
    "plt.plot(shuffle_array, 'c+')"
   ]
  },
  {
   "cell_type": "markdown",
   "metadata": {},
   "source": [
    "## [numpy.random.permutation (x)](https://docs.scipy.org/doc/numpy-1.15.1/reference/generated/numpy.random.permutation.html#numpy.random.permutation)\n",
    "Randomly permutes an array"
   ]
  },
  {
   "cell_type": "markdown",
   "metadata": {},
   "source": [
    "* It takes in \n",
    "    * size of an array \n",
    "        * dirrectly - without using np.arange(x)\n",
    "        * randomly permutes\n",
    "    * an array \n",
    "        * makes a copy of the array\n",
    "        * randomly shuffle its contents\n",
    "        * **Note**: if multi-dimensional - only shuffled along its first index"
   ]
  },
  {
   "cell_type": "code",
   "execution_count": 15,
   "metadata": {
    "scrolled": true
   },
   "outputs": [
    {
     "data": {
      "text/plain": [
       "array([2, 5, 1, 7, 6, 3, 8, 9, 0, 4])"
      ]
     },
     "execution_count": 15,
     "metadata": {},
     "output_type": "execute_result"
    }
   ],
   "source": [
    "# Permutes size of an array\n",
    "np.random.permutation(10)"
   ]
  },
  {
   "cell_type": "code",
   "execution_count": 16,
   "metadata": {
    "scrolled": true
   },
   "outputs": [
    {
     "data": {
      "text/plain": [
       "array([ 50,  10,   5,   4, 100])"
      ]
     },
     "execution_count": 16,
     "metadata": {},
     "output_type": "execute_result"
    }
   ],
   "source": [
    "# Makes a copy of an array and shuffles it\n",
    "np.random.permutation([100, 5, 10, 50, 4])"
   ]
  },
  {
   "cell_type": "code",
   "execution_count": 17,
   "metadata": {},
   "outputs": [
    {
     "data": {
      "text/plain": [
       "array([[0.64614288, 0.15993746],\n",
       "       [0.30952484, 0.09251304],\n",
       "       [0.81739179, 0.96594531],\n",
       "       [0.46612906, 0.94618941]])"
      ]
     },
     "execution_count": 17,
     "metadata": {},
     "output_type": "execute_result"
    }
   ],
   "source": [
    "# Create multi-dimentional array\n",
    "mdp_array = np.random.rand(4, 2)\n",
    "mdp_array"
   ]
  },
  {
   "cell_type": "code",
   "execution_count": 18,
   "metadata": {},
   "outputs": [
    {
     "data": {
      "text/plain": [
       "array([[0.64614288, 0.15993746],\n",
       "       [0.81739179, 0.96594531],\n",
       "       [0.30952484, 0.09251304],\n",
       "       [0.46612906, 0.94618941]])"
      ]
     },
     "execution_count": 18,
     "metadata": {},
     "output_type": "execute_result"
    }
   ],
   "source": [
    "# Permute the multi-dimentional array\n",
    "np.random.permutation(mdp_array)"
   ]
  },
  {
   "cell_type": "code",
   "execution_count": 19,
   "metadata": {},
   "outputs": [
    {
     "data": {
      "text/plain": [
       "array([[   0,    1,    2, ...,   97,   98,   99],\n",
       "       [ 100,  101,  102, ...,  197,  198,  199],\n",
       "       [ 200,  201,  202, ...,  297,  298,  299],\n",
       "       ...,\n",
       "       [9700, 9701, 9702, ..., 9797, 9798, 9799],\n",
       "       [9800, 9801, 9802, ..., 9897, 9898, 9899],\n",
       "       [9900, 9901, 9902, ..., 9997, 9998, 9999]])"
      ]
     },
     "execution_count": 19,
     "metadata": {},
     "output_type": "execute_result"
    }
   ],
   "source": [
    "# Reshape the size of an array\n",
    "permutation_array = np.arange(x).reshape((d, d))\n",
    "permutation_array"
   ]
  },
  {
   "cell_type": "code",
   "execution_count": 20,
   "metadata": {
    "scrolled": true
   },
   "outputs": [
    {
     "data": {
      "text/plain": [
       "array([[ 600,  601,  602, ...,  697,  698,  699],\n",
       "       [8900, 8901, 8902, ..., 8997, 8998, 8999],\n",
       "       [3700, 3701, 3702, ..., 3797, 3798, 3799],\n",
       "       ...,\n",
       "       [6800, 6801, 6802, ..., 6897, 6898, 6899],\n",
       "       [4300, 4301, 4302, ..., 4397, 4398, 4399],\n",
       "       [4600, 4601, 4602, ..., 4697, 4698, 4699]])"
      ]
     },
     "execution_count": 20,
     "metadata": {},
     "output_type": "execute_result"
    }
   ],
   "source": [
    "# Make a copy and shuffle the array\n",
    "np.random.permutation(permutation_array)"
   ]
  },
  {
   "cell_type": "markdown",
   "metadata": {},
   "source": [
    "### Visualise numpy.random.permutation\n",
    "Displays a graph of how this function permutes the random numbers"
   ]
  },
  {
   "cell_type": "code",
   "execution_count": 21,
   "metadata": {
    "scrolled": true
   },
   "outputs": [
    {
     "data": {
      "text/plain": [
       "[<matplotlib.lines.Line2D at 0x1b5a6e104e0>,\n",
       " <matplotlib.lines.Line2D at 0x1b5a6e10630>,\n",
       " <matplotlib.lines.Line2D at 0x1b5a6e10780>,\n",
       " <matplotlib.lines.Line2D at 0x1b5a6e108d0>,\n",
       " <matplotlib.lines.Line2D at 0x1b5a6e10a20>,\n",
       " <matplotlib.lines.Line2D at 0x1b5a6e10b70>,\n",
       " <matplotlib.lines.Line2D at 0x1b5a6e10cc0>,\n",
       " <matplotlib.lines.Line2D at 0x1b5a6e10e10>,\n",
       " <matplotlib.lines.Line2D at 0x1b5a6e10f60>,\n",
       " <matplotlib.lines.Line2D at 0x1b5a6e160f0>,\n",
       " <matplotlib.lines.Line2D at 0x1b5a6e16240>,\n",
       " <matplotlib.lines.Line2D at 0x1b5a6e16390>,\n",
       " <matplotlib.lines.Line2D at 0x1b5a6e164e0>,\n",
       " <matplotlib.lines.Line2D at 0x1b5a6e16630>,\n",
       " <matplotlib.lines.Line2D at 0x1b5a6e16780>,\n",
       " <matplotlib.lines.Line2D at 0x1b5a6e168d0>,\n",
       " <matplotlib.lines.Line2D at 0x1b5a6e16a20>,\n",
       " <matplotlib.lines.Line2D at 0x1b5a6e16b70>,\n",
       " <matplotlib.lines.Line2D at 0x1b5a6e16cc0>,\n",
       " <matplotlib.lines.Line2D at 0x1b5a6e16e10>,\n",
       " <matplotlib.lines.Line2D at 0x1b5a6e16f60>,\n",
       " <matplotlib.lines.Line2D at 0x1b5a6e1b0f0>,\n",
       " <matplotlib.lines.Line2D at 0x1b5a6e1b240>,\n",
       " <matplotlib.lines.Line2D at 0x1b5a6e1b390>,\n",
       " <matplotlib.lines.Line2D at 0x1b5a6e1b4e0>,\n",
       " <matplotlib.lines.Line2D at 0x1b5a6e1b630>,\n",
       " <matplotlib.lines.Line2D at 0x1b5a6e1b780>,\n",
       " <matplotlib.lines.Line2D at 0x1b5a6e1b8d0>,\n",
       " <matplotlib.lines.Line2D at 0x1b5a6e1ba20>,\n",
       " <matplotlib.lines.Line2D at 0x1b5a6e1bb70>,\n",
       " <matplotlib.lines.Line2D at 0x1b5a6e1bcc0>,\n",
       " <matplotlib.lines.Line2D at 0x1b5a6e1be10>,\n",
       " <matplotlib.lines.Line2D at 0x1b5a6e1bf60>,\n",
       " <matplotlib.lines.Line2D at 0x1b5a6e210f0>,\n",
       " <matplotlib.lines.Line2D at 0x1b5a6e21240>,\n",
       " <matplotlib.lines.Line2D at 0x1b5a6e21390>,\n",
       " <matplotlib.lines.Line2D at 0x1b5a6e214e0>,\n",
       " <matplotlib.lines.Line2D at 0x1b5a6e21630>,\n",
       " <matplotlib.lines.Line2D at 0x1b5a6e21780>,\n",
       " <matplotlib.lines.Line2D at 0x1b5a6e218d0>,\n",
       " <matplotlib.lines.Line2D at 0x1b5a6e21a20>,\n",
       " <matplotlib.lines.Line2D at 0x1b5a6e21b70>,\n",
       " <matplotlib.lines.Line2D at 0x1b5a6e21cc0>,\n",
       " <matplotlib.lines.Line2D at 0x1b5a6e21e10>,\n",
       " <matplotlib.lines.Line2D at 0x1b5a6e21f60>,\n",
       " <matplotlib.lines.Line2D at 0x1b5a6e260f0>,\n",
       " <matplotlib.lines.Line2D at 0x1b5a6e26240>,\n",
       " <matplotlib.lines.Line2D at 0x1b5a6e26390>,\n",
       " <matplotlib.lines.Line2D at 0x1b5a6e264e0>,\n",
       " <matplotlib.lines.Line2D at 0x1b5a6e26630>,\n",
       " <matplotlib.lines.Line2D at 0x1b5a6e26780>,\n",
       " <matplotlib.lines.Line2D at 0x1b5a6e268d0>,\n",
       " <matplotlib.lines.Line2D at 0x1b5a6e26a20>,\n",
       " <matplotlib.lines.Line2D at 0x1b5a6e26b70>,\n",
       " <matplotlib.lines.Line2D at 0x1b5a6e26cc0>,\n",
       " <matplotlib.lines.Line2D at 0x1b5a6e26e10>,\n",
       " <matplotlib.lines.Line2D at 0x1b5a6e26f60>,\n",
       " <matplotlib.lines.Line2D at 0x1b5a6e2b0f0>,\n",
       " <matplotlib.lines.Line2D at 0x1b5a6e2b240>,\n",
       " <matplotlib.lines.Line2D at 0x1b5a6e2b390>,\n",
       " <matplotlib.lines.Line2D at 0x1b5a6e2b4e0>,\n",
       " <matplotlib.lines.Line2D at 0x1b5a6e2b630>,\n",
       " <matplotlib.lines.Line2D at 0x1b5a6e2b780>,\n",
       " <matplotlib.lines.Line2D at 0x1b5a6e2b8d0>,\n",
       " <matplotlib.lines.Line2D at 0x1b5a6e2ba20>,\n",
       " <matplotlib.lines.Line2D at 0x1b5a6e2bb70>,\n",
       " <matplotlib.lines.Line2D at 0x1b5a6e2bcc0>,\n",
       " <matplotlib.lines.Line2D at 0x1b5a6e2be10>,\n",
       " <matplotlib.lines.Line2D at 0x1b5a6e2bf60>,\n",
       " <matplotlib.lines.Line2D at 0x1b5a6e300f0>,\n",
       " <matplotlib.lines.Line2D at 0x1b5a6e30240>,\n",
       " <matplotlib.lines.Line2D at 0x1b5a6e30390>,\n",
       " <matplotlib.lines.Line2D at 0x1b5a6e304e0>,\n",
       " <matplotlib.lines.Line2D at 0x1b5a6e30630>,\n",
       " <matplotlib.lines.Line2D at 0x1b5a6e30780>,\n",
       " <matplotlib.lines.Line2D at 0x1b5a6e308d0>,\n",
       " <matplotlib.lines.Line2D at 0x1b5a6e30a20>,\n",
       " <matplotlib.lines.Line2D at 0x1b5a6e30b70>,\n",
       " <matplotlib.lines.Line2D at 0x1b5a6e30cc0>,\n",
       " <matplotlib.lines.Line2D at 0x1b5a6e30e10>,\n",
       " <matplotlib.lines.Line2D at 0x1b5a6e30f60>,\n",
       " <matplotlib.lines.Line2D at 0x1b5a6e350f0>,\n",
       " <matplotlib.lines.Line2D at 0x1b5a6e35240>,\n",
       " <matplotlib.lines.Line2D at 0x1b5a6e35390>,\n",
       " <matplotlib.lines.Line2D at 0x1b5a6e354e0>,\n",
       " <matplotlib.lines.Line2D at 0x1b5a6e35630>,\n",
       " <matplotlib.lines.Line2D at 0x1b5a6e35780>,\n",
       " <matplotlib.lines.Line2D at 0x1b5a6e358d0>,\n",
       " <matplotlib.lines.Line2D at 0x1b5a6e35a20>,\n",
       " <matplotlib.lines.Line2D at 0x1b5a6e35b70>,\n",
       " <matplotlib.lines.Line2D at 0x1b5a6e35cc0>,\n",
       " <matplotlib.lines.Line2D at 0x1b5a6e35e10>,\n",
       " <matplotlib.lines.Line2D at 0x1b5a6e35f60>,\n",
       " <matplotlib.lines.Line2D at 0x1b5a6e390f0>,\n",
       " <matplotlib.lines.Line2D at 0x1b5a6e39240>,\n",
       " <matplotlib.lines.Line2D at 0x1b5a6e39390>,\n",
       " <matplotlib.lines.Line2D at 0x1b5a6e394e0>,\n",
       " <matplotlib.lines.Line2D at 0x1b5a6e39630>,\n",
       " <matplotlib.lines.Line2D at 0x1b5a6e39780>,\n",
       " <matplotlib.lines.Line2D at 0x1b5a6e398d0>]"
      ]
     },
     "execution_count": 21,
     "metadata": {},
     "output_type": "execute_result"
    },
    {
     "data": {
      "image/png": "[encoded data removed]",
      "text/plain": [
       "<Figure size 432x288 with 1 Axes>"
      ]
     },
     "metadata": {
      "needs_background": "light"
     },
     "output_type": "display_data"
    }
   ],
   "source": [
    "# Show the relationship between numbers in the original array and the numbers in the shuffled array\n",
    "# With lines\n",
    "plt.plot(permutation_array, 'c-')"
   ]
  },
  {
   "cell_type": "code",
   "execution_count": 22,
   "metadata": {},
   "outputs": [
    {
     "data": {
      "text/plain": [
       "[<matplotlib.lines.Line2D at 0x1b5a6f4e3c8>,\n",
       " <matplotlib.lines.Line2D at 0x1b5a6f4e4e0>,\n",
       " <matplotlib.lines.Line2D at 0x1b5a6f4e630>,\n",
       " <matplotlib.lines.Line2D at 0x1b5a6f4e780>,\n",
       " <matplotlib.lines.Line2D at 0x1b5a6f4e8d0>,\n",
       " <matplotlib.lines.Line2D at 0x1b5a6f4ea20>,\n",
       " <matplotlib.lines.Line2D at 0x1b5a6f4eb70>,\n",
       " <matplotlib.lines.Line2D at 0x1b5a6f4ecc0>,\n",
       " <matplotlib.lines.Line2D at 0x1b5a6f4ee10>,\n",
       " <matplotlib.lines.Line2D at 0x1b5a6f4ef60>,\n",
       " <matplotlib.lines.Line2D at 0x1b5a6f5a0f0>,\n",
       " <matplotlib.lines.Line2D at 0x1b5a6f5a240>,\n",
       " <matplotlib.lines.Line2D at 0x1b5a6f5a390>,\n",
       " <matplotlib.lines.Line2D at 0x1b5a6f5a4e0>,\n",
       " <matplotlib.lines.Line2D at 0x1b5a6f5a630>,\n",
       " <matplotlib.lines.Line2D at 0x1b5a6f5a780>,\n",
       " <matplotlib.lines.Line2D at 0x1b5a6f5a8d0>,\n",
       " <matplotlib.lines.Line2D at 0x1b5a6f5aa20>,\n",
       " <matplotlib.lines.Line2D at 0x1b5a6f5ab70>,\n",
       " <matplotlib.lines.Line2D at 0x1b5a6f5acc0>,\n",
       " <matplotlib.lines.Line2D at 0x1b5a6f5ae10>,\n",
       " <matplotlib.lines.Line2D at 0x1b5a6f5af60>,\n",
       " <matplotlib.lines.Line2D at 0x1b5a6f5f0f0>,\n",
       " <matplotlib.lines.Line2D at 0x1b5a6f5f240>,\n",
       " <matplotlib.lines.Line2D at 0x1b5a6f5f390>,\n",
       " <matplotlib.lines.Line2D at 0x1b5a6f5f4e0>,\n",
       " <matplotlib.lines.Line2D at 0x1b5a6f5f630>,\n",
       " <matplotlib.lines.Line2D at 0x1b5a6f5f780>,\n",
       " <matplotlib.lines.Line2D at 0x1b5a6f5f8d0>,\n",
       " <matplotlib.lines.Line2D at 0x1b5a6f5fa20>,\n",
       " <matplotlib.lines.Line2D at 0x1b5a6f5fb70>,\n",
       " <matplotlib.lines.Line2D at 0x1b5a6f5fcc0>,\n",
       " <matplotlib.lines.Line2D at 0x1b5a6f5fe10>,\n",
       " <matplotlib.lines.Line2D at 0x1b5a6b1deb8>,\n",
       " <matplotlib.lines.Line2D at 0x1b5a6f67080>,\n",
       " <matplotlib.lines.Line2D at 0x1b5a6f671d0>,\n",
       " <matplotlib.lines.Line2D at 0x1b5a6f67320>,\n",
       " <matplotlib.lines.Line2D at 0x1b5a6f67470>,\n",
       " <matplotlib.lines.Line2D at 0x1b5a6f675c0>,\n",
       " <matplotlib.lines.Line2D at 0x1b5a6f67710>,\n",
       " <matplotlib.lines.Line2D at 0x1b5a6f67860>,\n",
       " <matplotlib.lines.Line2D at 0x1b5a6f679b0>,\n",
       " <matplotlib.lines.Line2D at 0x1b5a6f67b00>,\n",
       " <matplotlib.lines.Line2D at 0x1b5a6f67c50>,\n",
       " <matplotlib.lines.Line2D at 0x1b5a6f67da0>,\n",
       " <matplotlib.lines.Line2D at 0x1b5a6f67ef0>,\n",
       " <matplotlib.lines.Line2D at 0x1b5a6f6b080>,\n",
       " <matplotlib.lines.Line2D at 0x1b5a6f6b1d0>,\n",
       " <matplotlib.lines.Line2D at 0x1b5a6f6b320>,\n",
       " <matplotlib.lines.Line2D at 0x1b5a6f6b470>,\n",
       " <matplotlib.lines.Line2D at 0x1b5a6f6b5c0>,\n",
       " <matplotlib.lines.Line2D at 0x1b5a6f6b710>,\n",
       " <matplotlib.lines.Line2D at 0x1b5a6f6b860>,\n",
       " <matplotlib.lines.Line2D at 0x1b5a6f6b9b0>,\n",
       " <matplotlib.lines.Line2D at 0x1b5a6f6bb00>,\n",
       " <matplotlib.lines.Line2D at 0x1b5a6f6bc50>,\n",
       " <matplotlib.lines.Line2D at 0x1b5a6f6bda0>,\n",
       " <matplotlib.lines.Line2D at 0x1b5a6f6bef0>,\n",
       " <matplotlib.lines.Line2D at 0x1b5a6f6f080>,\n",
       " <matplotlib.lines.Line2D at 0x1b5a6f6f1d0>,\n",
       " <matplotlib.lines.Line2D at 0x1b5a6f6f320>,\n",
       " <matplotlib.lines.Line2D at 0x1b5a6f6f470>,\n",
       " <matplotlib.lines.Line2D at 0x1b5a6f6f5c0>,\n",
       " <matplotlib.lines.Line2D at 0x1b5a6f6f710>,\n",
       " <matplotlib.lines.Line2D at 0x1b5a6f6f860>,\n",
       " <matplotlib.lines.Line2D at 0x1b5a6f6f9b0>,\n",
       " <matplotlib.lines.Line2D at 0x1b5a6f6fb00>,\n",
       " <matplotlib.lines.Line2D at 0x1b5a6f6fc50>,\n",
       " <matplotlib.lines.Line2D at 0x1b5a6f6fda0>,\n",
       " <matplotlib.lines.Line2D at 0x1b5a6f6fef0>,\n",
       " <matplotlib.lines.Line2D at 0x1b5a6f75080>,\n",
       " <matplotlib.lines.Line2D at 0x1b5a6f751d0>,\n",
       " <matplotlib.lines.Line2D at 0x1b5a6f75320>,\n",
       " <matplotlib.lines.Line2D at 0x1b5a6f75470>,\n",
       " <matplotlib.lines.Line2D at 0x1b5a6f755c0>,\n",
       " <matplotlib.lines.Line2D at 0x1b5a6f75710>,\n",
       " <matplotlib.lines.Line2D at 0x1b5a6f75860>,\n",
       " <matplotlib.lines.Line2D at 0x1b5a6f759b0>,\n",
       " <matplotlib.lines.Line2D at 0x1b5a6f75b00>,\n",
       " <matplotlib.lines.Line2D at 0x1b5a6f75c50>,\n",
       " <matplotlib.lines.Line2D at 0x1b5a6f75da0>,\n",
       " <matplotlib.lines.Line2D at 0x1b5a6f75ef0>,\n",
       " <matplotlib.lines.Line2D at 0x1b5a6f7b080>,\n",
       " <matplotlib.lines.Line2D at 0x1b5a6f7b1d0>,\n",
       " <matplotlib.lines.Line2D at 0x1b5a6f7b320>,\n",
       " <matplotlib.lines.Line2D at 0x1b5a6f7b470>,\n",
       " <matplotlib.lines.Line2D at 0x1b5a6f7b5c0>,\n",
       " <matplotlib.lines.Line2D at 0x1b5a6f7b710>,\n",
       " <matplotlib.lines.Line2D at 0x1b5a6f7b860>,\n",
       " <matplotlib.lines.Line2D at 0x1b5a6f7b9b0>,\n",
       " <matplotlib.lines.Line2D at 0x1b5a6f7bb00>,\n",
       " <matplotlib.lines.Line2D at 0x1b5a6f7bc50>,\n",
       " <matplotlib.lines.Line2D at 0x1b5a6f7bda0>,\n",
       " <matplotlib.lines.Line2D at 0x1b5a6f7bef0>,\n",
       " <matplotlib.lines.Line2D at 0x1b5a6f7f080>,\n",
       " <matplotlib.lines.Line2D at 0x1b5a6f7f1d0>,\n",
       " <matplotlib.lines.Line2D at 0x1b5a6f7f320>,\n",
       " <matplotlib.lines.Line2D at 0x1b5a6f7f470>,\n",
       " <matplotlib.lines.Line2D at 0x1b5a6f7f5c0>,\n",
       " <matplotlib.lines.Line2D at 0x1b5a6f7f710>]"
      ]
     },
     "execution_count": 22,
     "metadata": {},
     "output_type": "execute_result"
    },
    {
     "data": {
      "image/png": "[encoded data removed]",
      "text/plain": [
       "<Figure size 432x288 with 1 Axes>"
      ]
     },
     "metadata": {
      "needs_background": "light"
     },
     "output_type": "display_data"
    }
   ],
   "source": [
    "# With pluses\n",
    "plt.plot(permutation_array, 'c+')"
   ]
  },
  {
   "cell_type": "markdown",
   "metadata": {},
   "source": [
    "___\n",
    "## Distributions\n",
    "If size is none by default & shape and scale are both scalars, a single value is returned <br>\n",
    "If the given shape is, e.g., (m, n, k), then m * n * k samples are drawn"
   ]
  },
  {
   "cell_type": "markdown",
   "metadata": {},
   "source": [
    "## [numpy.random.poisson ([lam, size])](https://docs.scipy.org/doc/numpy-1.15.1/reference/generated/numpy.random.poisson.html#numpy.random.poisson)\n",
    "It is a [discrete probability distribution](https://brilliant.org/wiki/discrete-random-variables-definition/) useful for [characterizing events with very low probabilities of occurrence](https://www.britannica.com/topic/Poisson-distribution) within a time or space interval.\n",
    "<br><br>\n",
    "In case of events where separation is expected, the distribution describes the probability of events occurring within an observed interval. <br>\n",
    "Because the output is limited to the range of the C long type, a ValueError is raised when lam is within 10 sigma of the maximum representable value."
   ]
  },
  {
   "cell_type": "markdown",
   "metadata": {},
   "source": [
    "#### Poisson distribution\n",
    "\n",
    "![image](https://wikimedia.org/api/rest_v1/media/math/render/svg/df3b6a7648b33ca3a987b970e4e8a719f888edb5)\n",
    "\n",
    "\n",
    "1. Lam - float or array_like of floats\n",
    "    * Expectation of interval, should be >= 0\n",
    "    * It uses a sequence of expected intervals or ranges\n",
    "2. Size - int or tuple of ints, optional\n",
    "    * If size is  not None (default) np.array(lam).size samples are drawn"
   ]
  },
  {
   "cell_type": "code",
   "execution_count": 23,
   "metadata": {},
   "outputs": [
    {
     "name": "stdout",
     "output_type": "stream",
     "text": [
      "Value of a:  100.0  \n",
      "Value of b:  300.0 \n",
      "Value of newX: 50.0\n"
     ]
    }
   ],
   "source": [
    "a, b = 100., 300.         # Give values to lambda\n",
    "newX = x/200              # Get the x (= 10000) value from earlier and devide it by 200 to get x to a value of 50\n",
    "print(\"Value of a: \", a, \" \\nValue of b: \", b, \"\\nValue of newX:\", newX)"
   ]
  },
  {
   "cell_type": "code",
   "execution_count": 24,
   "metadata": {},
   "outputs": [
    {
     "data": {
      "text/plain": [
       "array([5, 3, 7, ..., 6, 4, 2])"
      ]
     },
     "execution_count": 24,
     "metadata": {},
     "output_type": "execute_result"
    }
   ],
   "source": [
    "# Draw samples from the distribution:\n",
    "sample_poisson = np.random.poisson(5, x)\n",
    "sample_poisson"
   ]
  },
  {
   "cell_type": "code",
   "execution_count": 25,
   "metadata": {
    "scrolled": true
   },
   "outputs": [
    {
     "data": {
      "text/plain": [
       "array([[ 87, 313],\n",
       "       [ 90, 280],\n",
       "       [104, 327],\n",
       "       [102, 300],\n",
       "       [118, 304],\n",
       "       [ 80, 268],\n",
       "       [108, 319],\n",
       "       [112, 267],\n",
       "       [ 96, 306],\n",
       "       [ 99, 278],\n",
       "       [ 86, 311],\n",
       "       [101, 309],\n",
       "       [103, 268],\n",
       "       [101, 315],\n",
       "       [ 99, 305],\n",
       "       [105, 260],\n",
       "       [ 94, 321],\n",
       "       [121, 296],\n",
       "       [ 94, 266],\n",
       "       [101, 288],\n",
       "       [102, 322],\n",
       "       [ 98, 306],\n",
       "       [ 93, 305],\n",
       "       [ 98, 295],\n",
       "       [ 98, 307],\n",
       "       [ 90, 287],\n",
       "       [110, 305],\n",
       "       [ 78, 329],\n",
       "       [ 92, 301],\n",
       "       [ 92, 318],\n",
       "       [103, 327],\n",
       "       [102, 308],\n",
       "       [ 95, 316],\n",
       "       [ 99, 317],\n",
       "       [100, 298],\n",
       "       [126, 326],\n",
       "       [106, 308],\n",
       "       [107, 310],\n",
       "       [107, 296],\n",
       "       [104, 314],\n",
       "       [ 96, 280],\n",
       "       [105, 306],\n",
       "       [ 97, 324],\n",
       "       [ 93, 342],\n",
       "       [ 86, 283],\n",
       "       [107, 259],\n",
       "       [106, 297],\n",
       "       [ 99, 294],\n",
       "       [101, 304],\n",
       "       [ 99, 282]])"
      ]
     },
     "execution_count": 25,
     "metadata": {},
     "output_type": "execute_result"
    }
   ],
   "source": [
    "# Draw each \"newX\" values for lambda \"a\" and \"b\":\n",
    "range_poisson = np.random.poisson(lam=(a, b), size=(int(newX), 2))\n",
    "range_poisson"
   ]
  },
  {
   "cell_type": "markdown",
   "metadata": {},
   "source": [
    "### Visualise numpy.random.poisson\n",
    "Display the histogram of the samples"
   ]
  },
  {
   "cell_type": "code",
   "execution_count": 26,
   "metadata": {
    "scrolled": true
   },
   "outputs": [
    {
     "data": {
      "text/plain": [
       "(array([  78.,  356.,  824.,    0., 1404., 1728., 1815.,    0., 1477.,\n",
       "        1021.,  655.,    0.,  343.,  185.,   75.,    0.,   22.,   13.,\n",
       "           2.,    2.]),\n",
       " array([ 0.  ,  0.75,  1.5 ,  2.25,  3.  ,  3.75,  4.5 ,  5.25,  6.  ,\n",
       "         6.75,  7.5 ,  8.25,  9.  ,  9.75, 10.5 , 11.25, 12.  , 12.75,\n",
       "        13.5 , 14.25, 15.  ]),\n",
       " <a list of 20 Patch objects>)"
      ]
     },
     "execution_count": 26,
     "metadata": {},
     "output_type": "execute_result"
    },
    {
     "data": {
      "image/png": "[encoded data removed]",
      "text/plain": [
       "<Figure size 432x288 with 1 Axes>"
      ]
     },
     "metadata": {
      "needs_background": "light"
     },
     "output_type": "display_data"
    }
   ],
   "source": [
    "# Histogram of samples\n",
    "count, bins, ignored = plt.hist(sample_poisson, 14, density=True)\n",
    "plt.hist(sample_poisson, hs)"
   ]
  },
  {
   "cell_type": "code",
   "execution_count": 27,
   "metadata": {},
   "outputs": [
    {
     "data": {
      "text/plain": [
       "([array([ 7., 30., 10.,  3.,  0.,  0.,  0.,  0.,  0.,  0.,  0.,  0.,  0.,\n",
       "          0.,  0.,  0.,  0.,  0.,  0.,  0.]),\n",
       "  array([ 0.,  0.,  0.,  0.,  0.,  0.,  0.,  0.,  0.,  0.,  0.,  0.,  0.,\n",
       "          2.,  4.,  7.,  8., 17., 10.,  2.])],\n",
       " array([ 78. ,  91.2, 104.4, 117.6, 130.8, 144. , 157.2, 170.4, 183.6,\n",
       "        196.8, 210. , 223.2, 236.4, 249.6, 262.8, 276. , 289.2, 302.4,\n",
       "        315.6, 328.8, 342. ]),\n",
       " <a list of 2 Lists of Patches objects>)"
      ]
     },
     "execution_count": 27,
     "metadata": {},
     "output_type": "execute_result"
    },
    {
     "data": {
      "image/png": "[encoded data removed]",
      "text/plain": [
       "<Figure size 432x288 with 1 Axes>"
      ]
     },
     "metadata": {
      "needs_background": "light"
     },
     "output_type": "display_data"
    }
   ],
   "source": [
    "# Histogram of samples from lambda range\n",
    "count, bins, ignored = plt.hist(range_poisson, 14, density=True)\n",
    "plt.hist(range_poisson, hs)"
   ]
  },
  {
   "cell_type": "markdown",
   "metadata": {},
   "source": [
    "## [numpy.random.dirichlet (alpha[, size])](https://docs.scipy.org/doc/numpy-1.15.1/reference/generated/numpy.random.dirichlet.html#numpy.random.dirichlet)\n",
    "It is a [discrete probability distribution](https://brilliant.org/wiki/discrete-random-variables-definition/) and it's used to [model random probability mass functions (PMFs)](https://www.statisticshowto.datasciencecentral.com/dirichlet-distribution/) for finite sets. <br>"
   ]
  },
  {
   "cell_type": "markdown",
   "metadata": {},
   "source": [
    "### [Random PMF (probability mass function)](https://www.statisticshowto.datasciencecentral.com/dirichlet-distribution/)\n",
    "An example would be the distribution of words in books and other documents. A book of length \"k\" words can be modeled by the distribution with a PMF of length \"k\"."
   ]
  },
  {
   "cell_type": "markdown",
   "metadata": {},
   "source": [
    "### [Dirichlet Process](https://www.statisticshowto.datasciencecentral.com/dirichlet-distribution/)\n",
    "* A way to model randomness of a PMF with unlimited options\n",
    "* Polya's Urn is similar, but instead of a set number of options you have an unlimited amount.\n",
    "\n",
    "#### How does the Dirichlet Process work?\n",
    "* Start with an empty urn\n",
    "* Randomly pick an object ball and place it in the urn.\n",
    "\n",
    "The more elements in the urn, the lower the probability of choosing a different one. <br>\n",
    "The proportion of objects in the urn after an infinite amount of draws is a Dirichlet process."
   ]
  },
  {
   "cell_type": "markdown",
   "metadata": {},
   "source": [
    "#### Dirichlet distribution\n",
    "\n",
    "![image](https://docs.scipy.org/doc/numpy/_images/math/abe825f82947a4f83e886f159c1212d262de0fe5.svg)\n",
    "\n",
    "1. Alpha - array\n",
    "    * Parameter of the distribution (k dimension for sample of dimension k).\n",
    "2. Size - int or tuple of ints, optional\n",
    "    * If size is  not None (default) np.array(lam).size samples are drawn"
   ]
  },
  {
   "cell_type": "code",
   "execution_count": 28,
   "metadata": {
    "scrolled": false
   },
   "outputs": [
    {
     "data": {
      "text/plain": [
       "array([[0.43795103, 0.39896894, 0.50640297, 0.38719203, 0.43832326,\n",
       "        0.68713557, 0.57495592, 0.64997579, 0.65938957, 0.69821169,\n",
       "        0.62891219, 0.43057749, 0.33181588, 0.6453504 , 0.49418841,\n",
       "        0.50943837, 0.8228916 , 0.57166593, 0.63531225, 0.7272184 ],\n",
       "       [0.30627194, 0.41774391, 0.31146143, 0.41391151, 0.44240532,\n",
       "        0.1730349 , 0.36463762, 0.209664  , 0.15001226, 0.1984047 ,\n",
       "        0.19246914, 0.22119597, 0.29279104, 0.16038088, 0.37490652,\n",
       "        0.37688668, 0.09496038, 0.34264493, 0.19403019, 0.07344684],\n",
       "       [0.25577703, 0.18328715, 0.1821356 , 0.19889646, 0.11927141,\n",
       "        0.13982953, 0.06040646, 0.14036021, 0.19059816, 0.10338361,\n",
       "        0.17861868, 0.34822654, 0.37539307, 0.19426872, 0.13090507,\n",
       "        0.11367495, 0.08214801, 0.08568914, 0.17065756, 0.19933476]])"
      ]
     },
     "execution_count": 28,
     "metadata": {},
     "output_type": "execute_result"
    }
   ],
   "source": [
    "s = np.random.dirichlet((10, 5, 3), 20).transpose()\n",
    "s"
   ]
  },
  {
   "cell_type": "markdown",
   "metadata": {},
   "source": [
    "### Visualise numpy.random.dirichlet"
   ]
  },
  {
   "cell_type": "code",
   "execution_count": 29,
   "metadata": {},
   "outputs": [
    {
     "data": {
      "text/plain": [
       "Text(0.5, 1.0, 'Lengths of Strings')"
      ]
     },
     "execution_count": 29,
     "metadata": {},
     "output_type": "execute_result"
    },
    {
     "data": {
      "image/png": "[encoded data removed]",
      "text/plain": [
       "<Figure size 432x288 with 1 Axes>"
      ]
     },
     "metadata": {
      "needs_background": "light"
     },
     "output_type": "display_data"
    }
   ],
   "source": [
    "plt.barh(range(20), s[0])\n",
    "plt.barh(range(20), s[1], left=s[0], color='g')\n",
    "plt.barh(range(20), s[2], left=s[0]+s[1], color='r')\n",
    "plt.title(\"Lengths of Strings\")"
   ]
  },
  {
   "cell_type": "markdown",
   "metadata": {},
   "source": [
    "---\n",
    "## Random generator"
   ]
  },
  {
   "cell_type": "markdown",
   "metadata": {},
   "source": [
    "## [numpy.random.seed ([seed])](https://docs.scipy.org/doc/numpy-1.15.1/reference/routines.random.html)\n",
    "### [What is seed?](https://www.statisticshowto.datasciencecentral.com/random-seed-definition/)\n",
    "Random numbers are generated by deterministic algorithms and they follow a sequence with a very large period.  <br>\n",
    "The seed during random number generation specifies the start point in a sequence. This is usually affected by the seconds on a computer system’s clock. <br>\n",
    "If we use same seed every time, it will yield same sequence of random numbers. <br>\n",
    "The reason for using a seed of some value is when we want to debug the program using such deterministic behavior."
   ]
  },
  {
   "cell_type": "code",
   "execution_count": 30,
   "metadata": {},
   "outputs": [],
   "source": [
    "s_no = 10       # Seed value"
   ]
  },
  {
   "cell_type": "code",
   "execution_count": 31,
   "metadata": {
    "scrolled": false
   },
   "outputs": [
    {
     "data": {
      "text/plain": [
       "0.11733769205844413"
      ]
     },
     "execution_count": 31,
     "metadata": {},
     "output_type": "execute_result"
    }
   ],
   "source": [
    "# Get a random number\n",
    "np.random.rand()"
   ]
  },
  {
   "cell_type": "code",
   "execution_count": 32,
   "metadata": {
    "scrolled": false
   },
   "outputs": [
    {
     "data": {
      "text/plain": [
       "(0.771320643266746, 0.0207519493594015)"
      ]
     },
     "execution_count": 32,
     "metadata": {},
     "output_type": "execute_result"
    }
   ],
   "source": [
    "# Get a specific seed and output random numbers after that\n",
    "np.random.seed(s_no)\n",
    "rand1 = np.random.rand()\n",
    "rand2 = np.random.rand()\n",
    "rand1, rand2"
   ]
  },
  {
   "cell_type": "markdown",
   "metadata": {},
   "source": [
    "**Note:** notice the value of the random numbers when the seed is 10"
   ]
  },
  {
   "cell_type": "code",
   "execution_count": 33,
   "metadata": {
    "scrolled": true
   },
   "outputs": [
    {
     "data": {
      "text/plain": [
       "0.6336482349262754"
      ]
     },
     "execution_count": 33,
     "metadata": {},
     "output_type": "execute_result"
    }
   ],
   "source": [
    "# Get a 2nd random number\n",
    "np.random.rand()"
   ]
  },
  {
   "cell_type": "code",
   "execution_count": 34,
   "metadata": {
    "scrolled": true
   },
   "outputs": [
    {
     "data": {
      "text/plain": [
       "(0.771320643266746, 0.0207519493594015)"
      ]
     },
     "execution_count": 34,
     "metadata": {},
     "output_type": "execute_result"
    }
   ],
   "source": [
    "# Get the same seed as used above and output random numbers after that\n",
    "np.random.seed(s_no)\n",
    "rand1 = np.random.rand()\n",
    "rand2 = np.random.rand()\n",
    "rand1, rand2"
   ]
  },
  {
   "cell_type": "markdown",
   "metadata": {},
   "source": [
    "**Note:** notice that values of the random numbers seeded in the *above cell* are exactly the same as the the *numbers seeded the first time*. The same see value was used which means the same random numbers will show up."
   ]
  },
  {
   "cell_type": "code",
   "execution_count": 35,
   "metadata": {
    "scrolled": true
   },
   "outputs": [
    {
     "data": {
      "text/plain": [
       "0.6336482349262754"
      ]
     },
     "execution_count": 35,
     "metadata": {},
     "output_type": "execute_result"
    }
   ],
   "source": [
    "# Get another random number\n",
    "np.random.rand()"
   ]
  }
 ],
 "metadata": {
  "kernelspec": {
   "display_name": "Python 3",
   "language": "python",
   "name": "python3"
  },
  "language_info": {
   "codemirror_mode": {
    "name": "ipython",
    "version": 3
   },
   "file_extension": ".py",
   "mimetype": "text/x-python",
   "name": "python",
   "nbconvert_exporter": "python",
   "pygments_lexer": "ipython3",
   "version": "3.6.7"
  }
 },
 "nbformat": 4,
 "nbformat_minor": 2
}
