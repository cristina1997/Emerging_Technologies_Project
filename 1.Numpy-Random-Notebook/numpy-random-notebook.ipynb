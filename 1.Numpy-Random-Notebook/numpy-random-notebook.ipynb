{
 "cells": [
  {
   "cell_type": "markdown",
   "metadata": {},
   "source": [
    "# Numpy\n",
    "![image](https://miro.medium.com/max/800/1*mc5YIn7jvo5uwuqBOUDw7Q.jpeg)"
   ]
  },
  {
   "cell_type": "markdown",
   "metadata": {},
   "source": [
    "---\n",
    "\n",
    "## [What is Numpy?](http://www.numpy.org)\n",
    "Numpy is a Python library used for scientific computing that can be used as a multi-dimensional container of data. \n",
    "It provides:\n",
    "* a N-dimensional array object\n",
    "* broadcasting functions\n",
    "* tools to integrate languages such as C and C++ \n",
    "* computations such as\n",
    "    * linear algebra\n",
    "    * Fourier transform \n",
    "    * random number capabilities\n",
    "---"
   ]
  },
  {
   "cell_type": "markdown",
   "metadata": {},
   "source": [
    "## Packages\n",
    "We need to import the packages require for this code to work."
   ]
  },
  {
   "cell_type": "code",
   "execution_count": 1,
   "metadata": {},
   "outputs": [],
   "source": [
    "# Random algebra\n",
    "import numpy as np\n",
    "\n",
    "# Visualise data\n",
    "import matplotlib.pyplot as plt\n",
    "%matplotlib inline"
   ]
  },
  {
   "cell_type": "code",
   "execution_count": 2,
   "metadata": {},
   "outputs": [],
   "source": [
    "# Initialise number of numbers to be used\n",
    "\n",
    "x = 10000          # amount of values used in all tests\n",
    "\n",
    "d = 100           # array dimensions used in permutations\n",
    "\n",
    "hs = 20           # size of histograms used in all tests"
   ]
  },
  {
   "cell_type": "markdown",
   "metadata": {},
   "source": [
    "___\n",
    "# Simple random data\n",
    "\n",
    "Positive dimension values of an array are passed in<br>\n",
    "If the argument is missing a random Python float is returned"
   ]
  },
  {
   "cell_type": "markdown",
   "metadata": {},
   "source": [
    "## [numpy.random.rand (d0, d1, d2, ..., dn)](https://docs.scipy.org/doc/numpy-1.15.1/reference/generated/numpy.random.rand.html#numpy.random.rand)\n",
    " Dimensions are passed in separate arguments. "
   ]
  },
  {
   "cell_type": "markdown",
   "metadata": {},
   "source": [
    "1. Parameter size: \n",
    "    * number of parameters signifies the size of the array (d2 = 2D array)\n",
    "2. d0 \n",
    "    * number of elements in a 1D array (x)\n",
    "3. d1 \n",
    "    * number of elements in a 2D array (y)\n",
    "4. d2\n",
    "    * number of elements in a 3D array (z)\n",
    "#### and so on\n",
    " \n",
    "The values of elements from the array are, between 0 (including 0) and 1 (not including 1) as shown in [this documentation](https://docs.scipy.org/doc/numpy-1.15.1/reference/generated/numpy.random.rand.html#numpy.random.rand)\n",
    "\n",
    "\n",
    "* Square bracked(s) - **[ ]**\n",
    "    * included\n",
    "* Round bracket(s) - **( )**\n",
    "    * not included"
   ]
  },
  {
   "cell_type": "code",
   "execution_count": 3,
   "metadata": {
    "scrolled": false
   },
   "outputs": [
    {
     "data": {
      "text/plain": [
       "array([[0.4118863 , 0.50862454],\n",
       "       [0.86428795, 0.19194632],\n",
       "       [0.10358626, 0.65023638],\n",
       "       [0.83074997, 0.38587137]])"
      ]
     },
     "execution_count": 3,
     "metadata": {},
     "output_type": "execute_result"
    }
   ],
   "source": [
    "# Source code adapted from:\n",
    "# - https://docs.scipy.org/doc/numpy-1.15.1/reference/generated/numpy.random.rand.html#numpy.random.rand\n",
    "# Passing in arguments\n",
    "np.random.rand(4, 2)"
   ]
  },
  {
   "cell_type": "code",
   "execution_count": 4,
   "metadata": {},
   "outputs": [
    {
     "data": {
      "text/plain": [
       "0.21615300367528767"
      ]
     },
     "execution_count": 4,
     "metadata": {},
     "output_type": "execute_result"
    }
   ],
   "source": [
    "# No argument\n",
    "np.random.rand()"
   ]
  },
  {
   "cell_type": "markdown",
   "metadata": {},
   "source": [
    "### Visualise numpy.random.rand\n",
    "Displays a graph of how this function generates random numbers"
   ]
  },
  {
   "cell_type": "code",
   "execution_count": 5,
   "metadata": {},
   "outputs": [],
   "source": [
    "# Create a 1D array with 100 elements of random number values\n",
    "random_rand = np.random.rand(x)"
   ]
  },
  {
   "cell_type": "code",
   "execution_count": 6,
   "metadata": {
    "scrolled": true
   },
   "outputs": [
    {
     "data": {
      "text/plain": [
       "(array([528., 526., 510., 504., 523., 470., 485., 451., 477., 508., 459.,\n",
       "        533., 506., 501., 502., 467., 493., 484., 518., 555.]),\n",
       " array([1.01748578e-05, 5.00060106e-02, 1.00001846e-01, 1.49997682e-01,\n",
       "        1.99993518e-01, 2.49989353e-01, 2.99985189e-01, 3.49981025e-01,\n",
       "        3.99976860e-01, 4.49972696e-01, 4.99968532e-01, 5.49964368e-01,\n",
       "        5.99960203e-01, 6.49956039e-01, 6.99951875e-01, 7.49947710e-01,\n",
       "        7.99943546e-01, 8.49939382e-01, 8.99935217e-01, 9.49931053e-01,\n",
       "        9.99926889e-01]),\n",
       " <a list of 20 Patch objects>)"
      ]
     },
     "execution_count": 6,
     "metadata": {},
     "output_type": "execute_result"
    },
    {
     "data": {
      "image/png": "[encoded data removed]",
      "text/plain": [
       "<Figure size 432x288 with 1 Axes>"
      ]
     },
     "metadata": {
      "needs_background": "light"
     },
     "output_type": "display_data"
    }
   ],
   "source": [
    "# Show the relationship between the amount of numbers in the array and their values\n",
    "plt.hist(random_rand, hs)"
   ]
  },
  {
   "cell_type": "markdown",
   "metadata": {},
   "source": [
    "## [numpy.random.random_sample ([size])](https://docs.scipy.org/doc/numpy-1.15.1/reference/generated/numpy.random.random_sample.html#numpy.random.random_sample)\n",
    "Dimension are passed in a single tuple."
   ]
  },
  {
   "cell_type": "markdown",
   "metadata": {},
   "source": [
    "An idealized random number generator would be considered a [**continuous uniform distribution**](https://www.investopedia.com/terms/u/uniform-distribution.asp) which means every variable has an equal opportunity of appearing. <br>\n",
    "To sample  multiply the output of random_sample by (b-a) and add a:"
   ]
  },
  {
   "cell_type": "code",
   "execution_count": 7,
   "metadata": {
    "scrolled": false
   },
   "outputs": [
    {
     "data": {
      "text/plain": [
       "array([0.92923592, 0.47793135, 0.31917831, ..., 0.10560149, 0.33483256,\n",
       "       0.56332487])"
      ]
     },
     "execution_count": 7,
     "metadata": {},
     "output_type": "execute_result"
    }
   ],
   "source": [
    "# Passing in arguments\n",
    "np.random.random_sample((x,))"
   ]
  },
  {
   "cell_type": "code",
   "execution_count": 8,
   "metadata": {
    "scrolled": false
   },
   "outputs": [
    {
     "data": {
      "text/plain": [
       "array([[-2719.17855188, -1528.90059069],\n",
       "       [-9337.83237786, -5054.51240298],\n",
       "       [-2644.26784076, -2605.44838375],\n",
       "       [-7532.37234144, -9019.923299  ],\n",
       "       [ -752.96281882, -4511.24778996]])"
      ]
     },
     "execution_count": 8,
     "metadata": {},
     "output_type": "execute_result"
    }
   ],
   "source": [
    "rand_sample = x * np.random.random_sample((5, 2)) - x\n",
    "rand_sample"
   ]
  },
  {
   "cell_type": "markdown",
   "metadata": {},
   "source": [
    "### Visualise numpy.random.random_sample\n",
    "Displays a graph of how this function generates random numbers"
   ]
  },
  {
   "cell_type": "code",
   "execution_count": 9,
   "metadata": {
    "scrolled": true
   },
   "outputs": [
    {
     "data": {
      "text/plain": [
       "([array([1., 0., 0., 0., 1., 0., 0., 0., 0., 0., 0., 0., 0., 0., 0., 2., 0.,\n",
       "         0., 0., 1.]),\n",
       "  array([1., 0., 0., 0., 0., 0., 0., 0., 0., 1., 0., 1., 0., 0., 0., 1., 0.,\n",
       "         0., 1., 0.])],\n",
       " array([-9337.83237786, -8908.58889991, -8479.34542196, -8050.10194401,\n",
       "        -7620.85846605, -7191.6149881 , -6762.37151015, -6333.1280322 ,\n",
       "        -5903.88455424, -5474.64107629, -5045.39759834, -4616.15412039,\n",
       "        -4186.91064244, -3757.66716448, -3328.42368653, -2899.18020858,\n",
       "        -2469.93673063, -2040.69325267, -1611.44977472, -1182.20629677,\n",
       "         -752.96281882]),\n",
       " <a list of 2 Lists of Patches objects>)"
      ]
     },
     "execution_count": 9,
     "metadata": {},
     "output_type": "execute_result"
    },
    {
     "data": {
      "image/png": "[encoded data removed]",
      "text/plain": [
       "<Figure size 432x288 with 1 Axes>"
      ]
     },
     "metadata": {
      "needs_background": "light"
     },
     "output_type": "display_data"
    }
   ],
   "source": [
    "# Show the relationship between the amount of numbers in the array and their values\n",
    "plt.hist(rand_sample, hs)"
   ]
  },
  {
   "cell_type": "markdown",
   "metadata": {},
   "source": [
    "---\n",
    "# Permutations\n",
    "These are based on certain distribution functions <br>\n",
    "If no value is entered in the range an TypeError appears <br>\n",
    "The elements in the array can only be of integer vallues\n",
    "\n",
    "#### When shuffling a multi-dimentional array\n",
    "1. Formula - np.arange(x).reshape((d0, d1, ...., dn)) \n",
    "    * x = amount of numbers \n",
    "    * d = array dimensions\n",
    "    \n",
    "2. Explain formula\n",
    "    * Array dimensions must be the same\n",
    "        * i.e.\n",
    "            * d0 = d1 = ... = dn\n",
    "    * The number of numbers must be the dimension value at the power of the number of dimensions\n",
    "        * i.e.              \n",
    "            * x = d ^ n"
   ]
  },
  {
   "cell_type": "markdown",
   "metadata": {},
   "source": [
    "## [numpy.random.shuffle (x)](https://docs.scipy.org/doc/numpy-1.15.1/reference/generated/numpy.random.shuffle.html#numpy.random.shuffle)\n",
    "Randomly shuffles an array"
   ]
  },
  {
   "cell_type": "markdown",
   "metadata": {},
   "source": [
    "* It takes in the size of an array and randomly shuffles its contents <br>"
   ]
  },
  {
   "cell_type": "code",
   "execution_count": 10,
   "metadata": {},
   "outputs": [
    {
     "data": {
      "text/plain": [
       "array([0, 1, 2, 3, 4, 5, 6, 7, 8, 9])"
      ]
     },
     "execution_count": 10,
     "metadata": {},
     "output_type": "execute_result"
    }
   ],
   "source": [
    "# The original array of numbers\n",
    "sh_arr = np.arange(10)\n",
    "sh_arr"
   ]
  },
  {
   "cell_type": "code",
   "execution_count": 11,
   "metadata": {
    "scrolled": true
   },
   "outputs": [
    {
     "data": {
      "text/plain": [
       "array([6, 2, 3, 1, 4, 8, 0, 5, 9, 7])"
      ]
     },
     "execution_count": 11,
     "metadata": {},
     "output_type": "execute_result"
    }
   ],
   "source": [
    "# The array of numbers shuffle\n",
    "np.random.shuffle(sh_arr)\n",
    "sh_arr"
   ]
  },
  {
   "cell_type": "code",
   "execution_count": 12,
   "metadata": {},
   "outputs": [
    {
     "data": {
      "text/plain": [
       "array([[ 400,  401,  402, ...,  497,  498,  499],\n",
       "       [7200, 7201, 7202, ..., 7297, 7298, 7299],\n",
       "       [1000, 1001, 1002, ..., 1097, 1098, 1099],\n",
       "       ...,\n",
       "       [5900, 5901, 5902, ..., 5997, 5998, 5999],\n",
       "       [6500, 6501, 6502, ..., 6597, 6598, 6599],\n",
       "       [9000, 9001, 9002, ..., 9097, 9098, 9099]])"
      ]
     },
     "execution_count": 12,
     "metadata": {},
     "output_type": "execute_result"
    }
   ],
   "source": [
    "# Shuffle a multi-dimentional array by reshaping the size of an array\n",
    "shuffle_array = np.arange(x).reshape((d, d))\n",
    "np.random.shuffle(shuffle_array)\n",
    "shuffle_array"
   ]
  },
  {
   "cell_type": "markdown",
   "metadata": {},
   "source": [
    "### Visualise numpy.random.shuffle\n",
    "Displays a graph of how this function shuffles the random numbers"
   ]
  },
  {
   "cell_type": "code",
   "execution_count": 13,
   "metadata": {},
   "outputs": [
    {
     "data": {
      "text/plain": [
       "[<matplotlib.lines.Line2D at 0x29a1a827470>,\n",
       " <matplotlib.lines.Line2D at 0x29a1a8276a0>,\n",
       " <matplotlib.lines.Line2D at 0x29a1a8277f0>,\n",
       " <matplotlib.lines.Line2D at 0x29a1a827940>,\n",
       " <matplotlib.lines.Line2D at 0x29a1a827a90>,\n",
       " <matplotlib.lines.Line2D at 0x29a1a827be0>,\n",
       " <matplotlib.lines.Line2D at 0x29a1a827d30>,\n",
       " <matplotlib.lines.Line2D at 0x29a1a827e80>,\n",
       " <matplotlib.lines.Line2D at 0x29a1a827fd0>,\n",
       " <matplotlib.lines.Line2D at 0x29a1a82f160>,\n",
       " <matplotlib.lines.Line2D at 0x29a1a82f2b0>,\n",
       " <matplotlib.lines.Line2D at 0x29a1a82f400>,\n",
       " <matplotlib.lines.Line2D at 0x29a1a82f550>,\n",
       " <matplotlib.lines.Line2D at 0x29a1a82f6a0>,\n",
       " <matplotlib.lines.Line2D at 0x29a1a82f7f0>,\n",
       " <matplotlib.lines.Line2D at 0x29a1a82f940>,\n",
       " <matplotlib.lines.Line2D at 0x29a1a82fa90>,\n",
       " <matplotlib.lines.Line2D at 0x29a1a82fbe0>,\n",
       " <matplotlib.lines.Line2D at 0x29a1a82fd30>,\n",
       " <matplotlib.lines.Line2D at 0x29a1a82fe80>,\n",
       " <matplotlib.lines.Line2D at 0x29a1a82ffd0>,\n",
       " <matplotlib.lines.Line2D at 0x29a1a833160>,\n",
       " <matplotlib.lines.Line2D at 0x29a1a8332b0>,\n",
       " <matplotlib.lines.Line2D at 0x29a1a833400>,\n",
       " <matplotlib.lines.Line2D at 0x29a1a833550>,\n",
       " <matplotlib.lines.Line2D at 0x29a1a8336a0>,\n",
       " <matplotlib.lines.Line2D at 0x29a1a8337f0>,\n",
       " <matplotlib.lines.Line2D at 0x29a1a833940>,\n",
       " <matplotlib.lines.Line2D at 0x29a1a833a90>,\n",
       " <matplotlib.lines.Line2D at 0x29a1a833be0>,\n",
       " <matplotlib.lines.Line2D at 0x29a1a833d30>,\n",
       " <matplotlib.lines.Line2D at 0x29a1a833e80>,\n",
       " <matplotlib.lines.Line2D at 0x29a1a833fd0>,\n",
       " <matplotlib.lines.Line2D at 0x29a1a839160>,\n",
       " <matplotlib.lines.Line2D at 0x29a1a8392b0>,\n",
       " <matplotlib.lines.Line2D at 0x29a1a839400>,\n",
       " <matplotlib.lines.Line2D at 0x29a1a839550>,\n",
       " <matplotlib.lines.Line2D at 0x29a1a8396a0>,\n",
       " <matplotlib.lines.Line2D at 0x29a1a8397f0>,\n",
       " <matplotlib.lines.Line2D at 0x29a1a839940>,\n",
       " <matplotlib.lines.Line2D at 0x29a1a839a90>,\n",
       " <matplotlib.lines.Line2D at 0x29a1a839be0>,\n",
       " <matplotlib.lines.Line2D at 0x29a1a839d30>,\n",
       " <matplotlib.lines.Line2D at 0x29a1a839e80>,\n",
       " <matplotlib.lines.Line2D at 0x29a1a839fd0>,\n",
       " <matplotlib.lines.Line2D at 0x29a1a83e160>,\n",
       " <matplotlib.lines.Line2D at 0x29a1a83e2b0>,\n",
       " <matplotlib.lines.Line2D at 0x29a1a83e400>,\n",
       " <matplotlib.lines.Line2D at 0x29a1a83e550>,\n",
       " <matplotlib.lines.Line2D at 0x29a1a83e6a0>,\n",
       " <matplotlib.lines.Line2D at 0x29a1a83e7f0>,\n",
       " <matplotlib.lines.Line2D at 0x29a1a83e940>,\n",
       " <matplotlib.lines.Line2D at 0x29a1a83ea90>,\n",
       " <matplotlib.lines.Line2D at 0x29a1a83ebe0>,\n",
       " <matplotlib.lines.Line2D at 0x29a1a83ed30>,\n",
       " <matplotlib.lines.Line2D at 0x29a1a83ee80>,\n",
       " <matplotlib.lines.Line2D at 0x29a1a83efd0>,\n",
       " <matplotlib.lines.Line2D at 0x29a1a843160>,\n",
       " <matplotlib.lines.Line2D at 0x29a1a8432b0>,\n",
       " <matplotlib.lines.Line2D at 0x29a1a843400>,\n",
       " <matplotlib.lines.Line2D at 0x29a1a843550>,\n",
       " <matplotlib.lines.Line2D at 0x29a1a8436a0>,\n",
       " <matplotlib.lines.Line2D at 0x29a1a8437f0>,\n",
       " <matplotlib.lines.Line2D at 0x29a1a843940>,\n",
       " <matplotlib.lines.Line2D at 0x29a1a843a90>,\n",
       " <matplotlib.lines.Line2D at 0x29a1a843be0>,\n",
       " <matplotlib.lines.Line2D at 0x29a1a843d30>,\n",
       " <matplotlib.lines.Line2D at 0x29a1a843e80>,\n",
       " <matplotlib.lines.Line2D at 0x29a1a843fd0>,\n",
       " <matplotlib.lines.Line2D at 0x29a1a847160>,\n",
       " <matplotlib.lines.Line2D at 0x29a1a8472b0>,\n",
       " <matplotlib.lines.Line2D at 0x29a1a847400>,\n",
       " <matplotlib.lines.Line2D at 0x29a1a847550>,\n",
       " <matplotlib.lines.Line2D at 0x29a1a8476a0>,\n",
       " <matplotlib.lines.Line2D at 0x29a1a8477f0>,\n",
       " <matplotlib.lines.Line2D at 0x29a1a847940>,\n",
       " <matplotlib.lines.Line2D at 0x29a1a847a90>,\n",
       " <matplotlib.lines.Line2D at 0x29a1a847be0>,\n",
       " <matplotlib.lines.Line2D at 0x29a1a847d30>,\n",
       " <matplotlib.lines.Line2D at 0x29a1a847e80>,\n",
       " <matplotlib.lines.Line2D at 0x29a1a847fd0>,\n",
       " <matplotlib.lines.Line2D at 0x29a1a84d160>,\n",
       " <matplotlib.lines.Line2D at 0x29a1a84d2b0>,\n",
       " <matplotlib.lines.Line2D at 0x29a1a84d400>,\n",
       " <matplotlib.lines.Line2D at 0x29a1a84d550>,\n",
       " <matplotlib.lines.Line2D at 0x29a1a84d6a0>,\n",
       " <matplotlib.lines.Line2D at 0x29a1a84d7f0>,\n",
       " <matplotlib.lines.Line2D at 0x29a1a84d940>,\n",
       " <matplotlib.lines.Line2D at 0x29a1a84da90>,\n",
       " <matplotlib.lines.Line2D at 0x29a1a84dbe0>,\n",
       " <matplotlib.lines.Line2D at 0x29a1a84dd30>,\n",
       " <matplotlib.lines.Line2D at 0x29a1a84de80>,\n",
       " <matplotlib.lines.Line2D at 0x29a1a84dfd0>,\n",
       " <matplotlib.lines.Line2D at 0x29a1a853160>,\n",
       " <matplotlib.lines.Line2D at 0x29a1a8532b0>,\n",
       " <matplotlib.lines.Line2D at 0x29a1a853400>,\n",
       " <matplotlib.lines.Line2D at 0x29a1a853550>,\n",
       " <matplotlib.lines.Line2D at 0x29a1a8536a0>,\n",
       " <matplotlib.lines.Line2D at 0x29a1a8537f0>,\n",
       " <matplotlib.lines.Line2D at 0x29a1a853940>]"
      ]
     },
     "execution_count": 13,
     "metadata": {},
     "output_type": "execute_result"
    },
    {
     "data": {
      "image/png": "[encoded data removed]",
      "text/plain": [
       "<Figure size 432x288 with 1 Axes>"
      ]
     },
     "metadata": {
      "needs_background": "light"
     },
     "output_type": "display_data"
    }
   ],
   "source": [
    "# Show the relationship between numbers in the original array and the numbers in the shuffled array\n",
    "# With lines\n",
    "plt.plot(shuffle_array, 'c-')"
   ]
  },
  {
   "cell_type": "code",
   "execution_count": 14,
   "metadata": {},
   "outputs": [
    {
     "data": {
      "text/plain": [
       "[<matplotlib.lines.Line2D at 0x29a1a956cc0>,\n",
       " <matplotlib.lines.Line2D at 0x29a1a956dd8>,\n",
       " <matplotlib.lines.Line2D at 0x29a1a956f28>,\n",
       " <matplotlib.lines.Line2D at 0x29a1a96d0b8>,\n",
       " <matplotlib.lines.Line2D at 0x29a1a96d208>,\n",
       " <matplotlib.lines.Line2D at 0x29a1a96d358>,\n",
       " <matplotlib.lines.Line2D at 0x29a1a96d4a8>,\n",
       " <matplotlib.lines.Line2D at 0x29a1a96d5f8>,\n",
       " <matplotlib.lines.Line2D at 0x29a1a96d748>,\n",
       " <matplotlib.lines.Line2D at 0x29a1a96d898>,\n",
       " <matplotlib.lines.Line2D at 0x29a1a96d9e8>,\n",
       " <matplotlib.lines.Line2D at 0x29a1a96db38>,\n",
       " <matplotlib.lines.Line2D at 0x29a1a96dc88>,\n",
       " <matplotlib.lines.Line2D at 0x29a1a96ddd8>,\n",
       " <matplotlib.lines.Line2D at 0x29a1a96df28>,\n",
       " <matplotlib.lines.Line2D at 0x29a1a97b0b8>,\n",
       " <matplotlib.lines.Line2D at 0x29a1a97b208>,\n",
       " <matplotlib.lines.Line2D at 0x29a1a97b358>,\n",
       " <matplotlib.lines.Line2D at 0x29a1a97b4a8>,\n",
       " <matplotlib.lines.Line2D at 0x29a1a97b5f8>,\n",
       " <matplotlib.lines.Line2D at 0x29a1a97b748>,\n",
       " <matplotlib.lines.Line2D at 0x29a1a97b898>,\n",
       " <matplotlib.lines.Line2D at 0x29a1a97b9e8>,\n",
       " <matplotlib.lines.Line2D at 0x29a1a97bb38>,\n",
       " <matplotlib.lines.Line2D at 0x29a1a97bc88>,\n",
       " <matplotlib.lines.Line2D at 0x29a1a97bdd8>,\n",
       " <matplotlib.lines.Line2D at 0x29a1a97bf28>,\n",
       " <matplotlib.lines.Line2D at 0x29a1a9810b8>,\n",
       " <matplotlib.lines.Line2D at 0x29a1a981208>,\n",
       " <matplotlib.lines.Line2D at 0x29a1a981358>,\n",
       " <matplotlib.lines.Line2D at 0x29a1a9814a8>,\n",
       " <matplotlib.lines.Line2D at 0x29a1a9815f8>,\n",
       " <matplotlib.lines.Line2D at 0x29a1a981748>,\n",
       " <matplotlib.lines.Line2D at 0x29a1a981898>,\n",
       " <matplotlib.lines.Line2D at 0x29a1a9819e8>,\n",
       " <matplotlib.lines.Line2D at 0x29a1a981b38>,\n",
       " <matplotlib.lines.Line2D at 0x29a1a981c88>,\n",
       " <matplotlib.lines.Line2D at 0x29a1a981dd8>,\n",
       " <matplotlib.lines.Line2D at 0x29a1a981f28>,\n",
       " <matplotlib.lines.Line2D at 0x29a1a9860b8>,\n",
       " <matplotlib.lines.Line2D at 0x29a1a986208>,\n",
       " <matplotlib.lines.Line2D at 0x29a1a986358>,\n",
       " <matplotlib.lines.Line2D at 0x29a1a9864a8>,\n",
       " <matplotlib.lines.Line2D at 0x29a1a9865f8>,\n",
       " <matplotlib.lines.Line2D at 0x29a1a986748>,\n",
       " <matplotlib.lines.Line2D at 0x29a1a986898>,\n",
       " <matplotlib.lines.Line2D at 0x29a1a9869e8>,\n",
       " <matplotlib.lines.Line2D at 0x29a1a986b38>,\n",
       " <matplotlib.lines.Line2D at 0x29a1a986c88>,\n",
       " <matplotlib.lines.Line2D at 0x29a1a986dd8>,\n",
       " <matplotlib.lines.Line2D at 0x29a1a986f28>,\n",
       " <matplotlib.lines.Line2D at 0x29a1a98a0b8>,\n",
       " <matplotlib.lines.Line2D at 0x29a1a98a208>,\n",
       " <matplotlib.lines.Line2D at 0x29a1a98a358>,\n",
       " <matplotlib.lines.Line2D at 0x29a1a98a4a8>,\n",
       " <matplotlib.lines.Line2D at 0x29a1a98a5f8>,\n",
       " <matplotlib.lines.Line2D at 0x29a1a98a748>,\n",
       " <matplotlib.lines.Line2D at 0x29a1a98a898>,\n",
       " <matplotlib.lines.Line2D at 0x29a1a98a9e8>,\n",
       " <matplotlib.lines.Line2D at 0x29a1a98ab38>,\n",
       " <matplotlib.lines.Line2D at 0x29a1a98ac88>,\n",
       " <matplotlib.lines.Line2D at 0x29a1a98add8>,\n",
       " <matplotlib.lines.Line2D at 0x29a1a98af28>,\n",
       " <matplotlib.lines.Line2D at 0x29a1a9920b8>,\n",
       " <matplotlib.lines.Line2D at 0x29a1a992208>,\n",
       " <matplotlib.lines.Line2D at 0x29a1a992358>,\n",
       " <matplotlib.lines.Line2D at 0x29a1a9924a8>,\n",
       " <matplotlib.lines.Line2D at 0x29a1a9925f8>,\n",
       " <matplotlib.lines.Line2D at 0x29a1a992748>,\n",
       " <matplotlib.lines.Line2D at 0x29a1a992898>,\n",
       " <matplotlib.lines.Line2D at 0x29a1a9929e8>,\n",
       " <matplotlib.lines.Line2D at 0x29a1a992b38>,\n",
       " <matplotlib.lines.Line2D at 0x29a1a992c88>,\n",
       " <matplotlib.lines.Line2D at 0x29a1a992dd8>,\n",
       " <matplotlib.lines.Line2D at 0x29a1a992f28>,\n",
       " <matplotlib.lines.Line2D at 0x29a1a9970b8>,\n",
       " <matplotlib.lines.Line2D at 0x29a1a997208>,\n",
       " <matplotlib.lines.Line2D at 0x29a1a997358>,\n",
       " <matplotlib.lines.Line2D at 0x29a1a9974a8>,\n",
       " <matplotlib.lines.Line2D at 0x29a1a9975f8>,\n",
       " <matplotlib.lines.Line2D at 0x29a1a997748>,\n",
       " <matplotlib.lines.Line2D at 0x29a1a997898>,\n",
       " <matplotlib.lines.Line2D at 0x29a1a9979e8>,\n",
       " <matplotlib.lines.Line2D at 0x29a1a997b38>,\n",
       " <matplotlib.lines.Line2D at 0x29a1a997c88>,\n",
       " <matplotlib.lines.Line2D at 0x29a1a997dd8>,\n",
       " <matplotlib.lines.Line2D at 0x29a1a997f28>,\n",
       " <matplotlib.lines.Line2D at 0x29a1a99b0b8>,\n",
       " <matplotlib.lines.Line2D at 0x29a1a99b208>,\n",
       " <matplotlib.lines.Line2D at 0x29a1a99b358>,\n",
       " <matplotlib.lines.Line2D at 0x29a1a99b4a8>,\n",
       " <matplotlib.lines.Line2D at 0x29a1a99b5f8>,\n",
       " <matplotlib.lines.Line2D at 0x29a1a99b748>,\n",
       " <matplotlib.lines.Line2D at 0x29a1a99b898>,\n",
       " <matplotlib.lines.Line2D at 0x29a1a99b9e8>,\n",
       " <matplotlib.lines.Line2D at 0x29a1a99bb38>,\n",
       " <matplotlib.lines.Line2D at 0x29a1a99bc88>,\n",
       " <matplotlib.lines.Line2D at 0x29a1a99bdd8>,\n",
       " <matplotlib.lines.Line2D at 0x29a1a99bf28>,\n",
       " <matplotlib.lines.Line2D at 0x29a1a9a00b8>]"
      ]
     },
     "execution_count": 14,
     "metadata": {},
     "output_type": "execute_result"
    },
    {
     "data": {
      "image/png": "[encoded data removed]",
      "text/plain": [
       "<Figure size 432x288 with 1 Axes>"
      ]
     },
     "metadata": {
      "needs_background": "light"
     },
     "output_type": "display_data"
    }
   ],
   "source": [
    "# With pluses\n",
    "plt.plot(shuffle_array, 'c+')"
   ]
  },
  {
   "cell_type": "markdown",
   "metadata": {},
   "source": [
    "## [numpy.random.permutation (x)](https://docs.scipy.org/doc/numpy-1.15.1/reference/generated/numpy.random.permutation.html#numpy.random.permutation)\n",
    "Randomly permutes an array"
   ]
  },
  {
   "cell_type": "markdown",
   "metadata": {},
   "source": [
    "* It takes in \n",
    "    * size of an array \n",
    "        * dirrectly - without using np.arange(x)\n",
    "        * randomly permutes\n",
    "    * an array \n",
    "        * makes a copy of the array\n",
    "        * randomly shuffle its contents\n",
    "        * **Note**: if multi-dimensional - only shuffled along its first index"
   ]
  },
  {
   "cell_type": "code",
   "execution_count": 15,
   "metadata": {
    "scrolled": true
   },
   "outputs": [
    {
     "data": {
      "text/plain": [
       "array([7, 0, 1, 9, 6, 8, 5, 2, 3, 4])"
      ]
     },
     "execution_count": 15,
     "metadata": {},
     "output_type": "execute_result"
    }
   ],
   "source": [
    "# Permutes size of an array\n",
    "np.random.permutation(10)"
   ]
  },
  {
   "cell_type": "code",
   "execution_count": 16,
   "metadata": {
    "scrolled": true
   },
   "outputs": [
    {
     "data": {
      "text/plain": [
       "array([  4,  50,   5, 100,  10])"
      ]
     },
     "execution_count": 16,
     "metadata": {},
     "output_type": "execute_result"
    }
   ],
   "source": [
    "# Makes a copy of an array and shuffles it\n",
    "np.random.permutation([100, 5, 10, 50, 4])"
   ]
  },
  {
   "cell_type": "code",
   "execution_count": 17,
   "metadata": {},
   "outputs": [
    {
     "data": {
      "text/plain": [
       "array([[0.93034861, 0.05388343],\n",
       "       [0.82293848, 0.20266186],\n",
       "       [0.215836  , 0.54469966],\n",
       "       [0.887495  , 0.49658331]])"
      ]
     },
     "execution_count": 17,
     "metadata": {},
     "output_type": "execute_result"
    }
   ],
   "source": [
    "# Create multi-dimentional array\n",
    "mdp_array = np.random.rand(4, 2)\n",
    "mdp_array"
   ]
  },
  {
   "cell_type": "code",
   "execution_count": 18,
   "metadata": {},
   "outputs": [
    {
     "data": {
      "text/plain": [
       "array([[0.887495  , 0.49658331],\n",
       "       [0.93034861, 0.05388343],\n",
       "       [0.215836  , 0.54469966],\n",
       "       [0.82293848, 0.20266186]])"
      ]
     },
     "execution_count": 18,
     "metadata": {},
     "output_type": "execute_result"
    }
   ],
   "source": [
    "# Permute the multi-dimentional array\n",
    "np.random.permutation(mdp_array)"
   ]
  },
  {
   "cell_type": "code",
   "execution_count": 19,
   "metadata": {},
   "outputs": [
    {
     "data": {
      "text/plain": [
       "array([[   0,    1,    2, ...,   97,   98,   99],\n",
       "       [ 100,  101,  102, ...,  197,  198,  199],\n",
       "       [ 200,  201,  202, ...,  297,  298,  299],\n",
       "       ...,\n",
       "       [9700, 9701, 9702, ..., 9797, 9798, 9799],\n",
       "       [9800, 9801, 9802, ..., 9897, 9898, 9899],\n",
       "       [9900, 9901, 9902, ..., 9997, 9998, 9999]])"
      ]
     },
     "execution_count": 19,
     "metadata": {},
     "output_type": "execute_result"
    }
   ],
   "source": [
    "# Reshape the size of an array\n",
    "permutation_array = np.arange(x).reshape((d, d))\n",
    "permutation_array"
   ]
  },
  {
   "cell_type": "code",
   "execution_count": 20,
   "metadata": {
    "scrolled": true
   },
   "outputs": [
    {
     "data": {
      "text/plain": [
       "array([[8100, 8101, 8102, ..., 8197, 8198, 8199],\n",
       "       [1300, 1301, 1302, ..., 1397, 1398, 1399],\n",
       "       [8400, 8401, 8402, ..., 8497, 8498, 8499],\n",
       "       ...,\n",
       "       [9600, 9601, 9602, ..., 9697, 9698, 9699],\n",
       "       [3200, 3201, 3202, ..., 3297, 3298, 3299],\n",
       "       [4800, 4801, 4802, ..., 4897, 4898, 4899]])"
      ]
     },
     "execution_count": 20,
     "metadata": {},
     "output_type": "execute_result"
    }
   ],
   "source": [
    "# Make a copy and shuffle the array\n",
    "np.random.permutation(permutation_array)"
   ]
  },
  {
   "cell_type": "markdown",
   "metadata": {},
   "source": [
    "### Visualise numpy.random.permutation\n",
    "Displays a graph of how this function permutes the random numbers"
   ]
  },
  {
   "cell_type": "code",
   "execution_count": 21,
   "metadata": {
    "scrolled": true
   },
   "outputs": [
    {
     "data": {
      "text/plain": [
       "[<matplotlib.lines.Line2D at 0x29a1aac1160>,\n",
       " <matplotlib.lines.Line2D at 0x29a1aac12b0>,\n",
       " <matplotlib.lines.Line2D at 0x29a1aac1400>,\n",
       " <matplotlib.lines.Line2D at 0x29a1aac1550>,\n",
       " <matplotlib.lines.Line2D at 0x29a1aac16a0>,\n",
       " <matplotlib.lines.Line2D at 0x29a1aac17f0>,\n",
       " <matplotlib.lines.Line2D at 0x29a1aac1940>,\n",
       " <matplotlib.lines.Line2D at 0x29a1aac1a90>,\n",
       " <matplotlib.lines.Line2D at 0x29a1aac1be0>,\n",
       " <matplotlib.lines.Line2D at 0x29a1aac1d30>,\n",
       " <matplotlib.lines.Line2D at 0x29a1aac1e80>,\n",
       " <matplotlib.lines.Line2D at 0x29a1aac1fd0>,\n",
       " <matplotlib.lines.Line2D at 0x29a1aac6160>,\n",
       " <matplotlib.lines.Line2D at 0x29a1aac62b0>,\n",
       " <matplotlib.lines.Line2D at 0x29a1aac6400>,\n",
       " <matplotlib.lines.Line2D at 0x29a1aac6550>,\n",
       " <matplotlib.lines.Line2D at 0x29a1aac66a0>,\n",
       " <matplotlib.lines.Line2D at 0x29a1aac67f0>,\n",
       " <matplotlib.lines.Line2D at 0x29a1aac6940>,\n",
       " <matplotlib.lines.Line2D at 0x29a1aac6a90>,\n",
       " <matplotlib.lines.Line2D at 0x29a1aac6be0>,\n",
       " <matplotlib.lines.Line2D at 0x29a1aac6d30>,\n",
       " <matplotlib.lines.Line2D at 0x29a1aac6e80>,\n",
       " <matplotlib.lines.Line2D at 0x29a1aac6fd0>,\n",
       " <matplotlib.lines.Line2D at 0x29a1aaca160>,\n",
       " <matplotlib.lines.Line2D at 0x29a1aaca2b0>,\n",
       " <matplotlib.lines.Line2D at 0x29a1aaca400>,\n",
       " <matplotlib.lines.Line2D at 0x29a1aaca550>,\n",
       " <matplotlib.lines.Line2D at 0x29a1aaca6a0>,\n",
       " <matplotlib.lines.Line2D at 0x29a1aaca7f0>,\n",
       " <matplotlib.lines.Line2D at 0x29a1aaca940>,\n",
       " <matplotlib.lines.Line2D at 0x29a1aacaa90>,\n",
       " <matplotlib.lines.Line2D at 0x29a1aacabe0>,\n",
       " <matplotlib.lines.Line2D at 0x29a1aacad30>,\n",
       " <matplotlib.lines.Line2D at 0x29a1aacae80>,\n",
       " <matplotlib.lines.Line2D at 0x29a1aacafd0>,\n",
       " <matplotlib.lines.Line2D at 0x29a1aad0160>,\n",
       " <matplotlib.lines.Line2D at 0x29a1aad02b0>,\n",
       " <matplotlib.lines.Line2D at 0x29a1aad0400>,\n",
       " <matplotlib.lines.Line2D at 0x29a1aad0550>,\n",
       " <matplotlib.lines.Line2D at 0x29a1aad06a0>,\n",
       " <matplotlib.lines.Line2D at 0x29a1aad07f0>,\n",
       " <matplotlib.lines.Line2D at 0x29a1aad0940>,\n",
       " <matplotlib.lines.Line2D at 0x29a1aad0a90>,\n",
       " <matplotlib.lines.Line2D at 0x29a1aad0be0>,\n",
       " <matplotlib.lines.Line2D at 0x29a1aad0d30>,\n",
       " <matplotlib.lines.Line2D at 0x29a1aad0e80>,\n",
       " <matplotlib.lines.Line2D at 0x29a1aad0fd0>,\n",
       " <matplotlib.lines.Line2D at 0x29a1aad6160>,\n",
       " <matplotlib.lines.Line2D at 0x29a1aad62b0>,\n",
       " <matplotlib.lines.Line2D at 0x29a1aad6400>,\n",
       " <matplotlib.lines.Line2D at 0x29a1aad6550>,\n",
       " <matplotlib.lines.Line2D at 0x29a1aad66a0>,\n",
       " <matplotlib.lines.Line2D at 0x29a1aad67f0>,\n",
       " <matplotlib.lines.Line2D at 0x29a1aad6940>,\n",
       " <matplotlib.lines.Line2D at 0x29a1aad6a90>,\n",
       " <matplotlib.lines.Line2D at 0x29a1aad6be0>,\n",
       " <matplotlib.lines.Line2D at 0x29a1aad6d30>,\n",
       " <matplotlib.lines.Line2D at 0x29a1aad6e80>,\n",
       " <matplotlib.lines.Line2D at 0x29a1aad6fd0>,\n",
       " <matplotlib.lines.Line2D at 0x29a1aadb160>,\n",
       " <matplotlib.lines.Line2D at 0x29a1aadb2b0>,\n",
       " <matplotlib.lines.Line2D at 0x29a1aadb400>,\n",
       " <matplotlib.lines.Line2D at 0x29a1aadb550>,\n",
       " <matplotlib.lines.Line2D at 0x29a1aadb6a0>,\n",
       " <matplotlib.lines.Line2D at 0x29a1aadb7f0>,\n",
       " <matplotlib.lines.Line2D at 0x29a1aadb940>,\n",
       " <matplotlib.lines.Line2D at 0x29a1aadba90>,\n",
       " <matplotlib.lines.Line2D at 0x29a1aadbbe0>,\n",
       " <matplotlib.lines.Line2D at 0x29a1aadbd30>,\n",
       " <matplotlib.lines.Line2D at 0x29a1aadbe80>,\n",
       " <matplotlib.lines.Line2D at 0x29a1aadbfd0>,\n",
       " <matplotlib.lines.Line2D at 0x29a1aadf160>,\n",
       " <matplotlib.lines.Line2D at 0x29a1aadf2b0>,\n",
       " <matplotlib.lines.Line2D at 0x29a1aadf400>,\n",
       " <matplotlib.lines.Line2D at 0x29a1aadf550>,\n",
       " <matplotlib.lines.Line2D at 0x29a1aadf6a0>,\n",
       " <matplotlib.lines.Line2D at 0x29a1aadf7f0>,\n",
       " <matplotlib.lines.Line2D at 0x29a1aadf940>,\n",
       " <matplotlib.lines.Line2D at 0x29a1aadfa90>,\n",
       " <matplotlib.lines.Line2D at 0x29a1aadfbe0>,\n",
       " <matplotlib.lines.Line2D at 0x29a1aadfd30>,\n",
       " <matplotlib.lines.Line2D at 0x29a1aadfe80>,\n",
       " <matplotlib.lines.Line2D at 0x29a1aadffd0>,\n",
       " <matplotlib.lines.Line2D at 0x29a1aae4160>,\n",
       " <matplotlib.lines.Line2D at 0x29a1aae42b0>,\n",
       " <matplotlib.lines.Line2D at 0x29a1aae4400>,\n",
       " <matplotlib.lines.Line2D at 0x29a1aae4550>,\n",
       " <matplotlib.lines.Line2D at 0x29a1aae46a0>,\n",
       " <matplotlib.lines.Line2D at 0x29a1aae47f0>,\n",
       " <matplotlib.lines.Line2D at 0x29a1aae4940>,\n",
       " <matplotlib.lines.Line2D at 0x29a1aae4a90>,\n",
       " <matplotlib.lines.Line2D at 0x29a1aae4be0>,\n",
       " <matplotlib.lines.Line2D at 0x29a1aae4d30>,\n",
       " <matplotlib.lines.Line2D at 0x29a1aae4e80>,\n",
       " <matplotlib.lines.Line2D at 0x29a1aae4fd0>,\n",
       " <matplotlib.lines.Line2D at 0x29a1aaea160>,\n",
       " <matplotlib.lines.Line2D at 0x29a1aaea2b0>,\n",
       " <matplotlib.lines.Line2D at 0x29a1aaea400>,\n",
       " <matplotlib.lines.Line2D at 0x29a1aaea550>]"
      ]
     },
     "execution_count": 21,
     "metadata": {},
     "output_type": "execute_result"
    },
    {
     "data": {
      "image/png": "[encoded data removed]",
      "text/plain": [
       "<Figure size 432x288 with 1 Axes>"
      ]
     },
     "metadata": {
      "needs_background": "light"
     },
     "output_type": "display_data"
    }
   ],
   "source": [
    "# Show the relationship between numbers in the original array and the numbers in the shuffled array\n",
    "# With lines\n",
    "plt.plot(permutation_array, 'c-')"
   ]
  },
  {
   "cell_type": "code",
   "execution_count": 22,
   "metadata": {},
   "outputs": [
    {
     "data": {
      "text/plain": [
       "[<matplotlib.lines.Line2D at 0x29a1abf4f98>,\n",
       " <matplotlib.lines.Line2D at 0x29a1ac050f0>,\n",
       " <matplotlib.lines.Line2D at 0x29a1ac05240>,\n",
       " <matplotlib.lines.Line2D at 0x29a1ac05390>,\n",
       " <matplotlib.lines.Line2D at 0x29a1ac054e0>,\n",
       " <matplotlib.lines.Line2D at 0x29a1ac05630>,\n",
       " <matplotlib.lines.Line2D at 0x29a1ac05780>,\n",
       " <matplotlib.lines.Line2D at 0x29a1ac058d0>,\n",
       " <matplotlib.lines.Line2D at 0x29a1ac05a20>,\n",
       " <matplotlib.lines.Line2D at 0x29a1ac05b70>,\n",
       " <matplotlib.lines.Line2D at 0x29a1ac05cc0>,\n",
       " <matplotlib.lines.Line2D at 0x29a1ac05e10>,\n",
       " <matplotlib.lines.Line2D at 0x29a1ac05f60>,\n",
       " <matplotlib.lines.Line2D at 0x29a1ac0a0f0>,\n",
       " <matplotlib.lines.Line2D at 0x29a1ac0a240>,\n",
       " <matplotlib.lines.Line2D at 0x29a1ac0a390>,\n",
       " <matplotlib.lines.Line2D at 0x29a1ac0a4e0>,\n",
       " <matplotlib.lines.Line2D at 0x29a1ac0a630>,\n",
       " <matplotlib.lines.Line2D at 0x29a1ac0a780>,\n",
       " <matplotlib.lines.Line2D at 0x29a1ac0a8d0>,\n",
       " <matplotlib.lines.Line2D at 0x29a1ac0aa20>,\n",
       " <matplotlib.lines.Line2D at 0x29a1ac0ab70>,\n",
       " <matplotlib.lines.Line2D at 0x29a1ac0acc0>,\n",
       " <matplotlib.lines.Line2D at 0x29a1ac0ae10>,\n",
       " <matplotlib.lines.Line2D at 0x29a1ac0af60>,\n",
       " <matplotlib.lines.Line2D at 0x29a1ac100f0>,\n",
       " <matplotlib.lines.Line2D at 0x29a1ac10240>,\n",
       " <matplotlib.lines.Line2D at 0x29a1ac10390>,\n",
       " <matplotlib.lines.Line2D at 0x29a1ac104e0>,\n",
       " <matplotlib.lines.Line2D at 0x29a1ac10630>,\n",
       " <matplotlib.lines.Line2D at 0x29a1ac10780>,\n",
       " <matplotlib.lines.Line2D at 0x29a1ac108d0>,\n",
       " <matplotlib.lines.Line2D at 0x29a1ac10a20>,\n",
       " <matplotlib.lines.Line2D at 0x29a1ac10b70>,\n",
       " <matplotlib.lines.Line2D at 0x29a1ac10cc0>,\n",
       " <matplotlib.lines.Line2D at 0x29a1ac10e10>,\n",
       " <matplotlib.lines.Line2D at 0x29a1ac10f60>,\n",
       " <matplotlib.lines.Line2D at 0x29a1ac110f0>,\n",
       " <matplotlib.lines.Line2D at 0x29a1ac11240>,\n",
       " <matplotlib.lines.Line2D at 0x29a1ac11390>,\n",
       " <matplotlib.lines.Line2D at 0x29a1ac114e0>,\n",
       " <matplotlib.lines.Line2D at 0x29a1ac11630>,\n",
       " <matplotlib.lines.Line2D at 0x29a1ac11780>,\n",
       " <matplotlib.lines.Line2D at 0x29a1ac118d0>,\n",
       " <matplotlib.lines.Line2D at 0x29a1ac11a20>,\n",
       " <matplotlib.lines.Line2D at 0x29a1ac11b70>,\n",
       " <matplotlib.lines.Line2D at 0x29a1ac11cc0>,\n",
       " <matplotlib.lines.Line2D at 0x29a1ac11e10>,\n",
       " <matplotlib.lines.Line2D at 0x29a1ac11f60>,\n",
       " <matplotlib.lines.Line2D at 0x29a1ac1b0f0>,\n",
       " <matplotlib.lines.Line2D at 0x29a1ac1b240>,\n",
       " <matplotlib.lines.Line2D at 0x29a1ac1b390>,\n",
       " <matplotlib.lines.Line2D at 0x29a1ac1b4e0>,\n",
       " <matplotlib.lines.Line2D at 0x29a1ac1b630>,\n",
       " <matplotlib.lines.Line2D at 0x29a1ac1b780>,\n",
       " <matplotlib.lines.Line2D at 0x29a1ac1b8d0>,\n",
       " <matplotlib.lines.Line2D at 0x29a1ac1ba20>,\n",
       " <matplotlib.lines.Line2D at 0x29a1ac1bb70>,\n",
       " <matplotlib.lines.Line2D at 0x29a1ac1bcc0>,\n",
       " <matplotlib.lines.Line2D at 0x29a1ac1be10>,\n",
       " <matplotlib.lines.Line2D at 0x29a1ac1bf60>,\n",
       " <matplotlib.lines.Line2D at 0x29a1ac200f0>,\n",
       " <matplotlib.lines.Line2D at 0x29a1ac20240>,\n",
       " <matplotlib.lines.Line2D at 0x29a1ac20390>,\n",
       " <matplotlib.lines.Line2D at 0x29a1ac204e0>,\n",
       " <matplotlib.lines.Line2D at 0x29a1ac20630>,\n",
       " <matplotlib.lines.Line2D at 0x29a1ac20780>,\n",
       " <matplotlib.lines.Line2D at 0x29a1ac208d0>,\n",
       " <matplotlib.lines.Line2D at 0x29a1ac20a20>,\n",
       " <matplotlib.lines.Line2D at 0x29a1ac20b70>,\n",
       " <matplotlib.lines.Line2D at 0x29a1ac20cc0>,\n",
       " <matplotlib.lines.Line2D at 0x29a1ac20e10>,\n",
       " <matplotlib.lines.Line2D at 0x29a1ac20f60>,\n",
       " <matplotlib.lines.Line2D at 0x29a1ac240f0>,\n",
       " <matplotlib.lines.Line2D at 0x29a1ac24240>,\n",
       " <matplotlib.lines.Line2D at 0x29a1ac24390>,\n",
       " <matplotlib.lines.Line2D at 0x29a1ac244e0>,\n",
       " <matplotlib.lines.Line2D at 0x29a1ac24630>,\n",
       " <matplotlib.lines.Line2D at 0x29a1ac24780>,\n",
       " <matplotlib.lines.Line2D at 0x29a1ac248d0>,\n",
       " <matplotlib.lines.Line2D at 0x29a1ac24a20>,\n",
       " <matplotlib.lines.Line2D at 0x29a1ac24b70>,\n",
       " <matplotlib.lines.Line2D at 0x29a1ac24cc0>,\n",
       " <matplotlib.lines.Line2D at 0x29a1ac24e10>,\n",
       " <matplotlib.lines.Line2D at 0x29a1ac24f60>,\n",
       " <matplotlib.lines.Line2D at 0x29a1ac2b0f0>,\n",
       " <matplotlib.lines.Line2D at 0x29a1ac2b240>,\n",
       " <matplotlib.lines.Line2D at 0x29a1ac2b390>,\n",
       " <matplotlib.lines.Line2D at 0x29a1ac2b4e0>,\n",
       " <matplotlib.lines.Line2D at 0x29a1ac2b630>,\n",
       " <matplotlib.lines.Line2D at 0x29a1ac2b780>,\n",
       " <matplotlib.lines.Line2D at 0x29a1ac2b8d0>,\n",
       " <matplotlib.lines.Line2D at 0x29a1ac2ba20>,\n",
       " <matplotlib.lines.Line2D at 0x29a1ac2bb70>,\n",
       " <matplotlib.lines.Line2D at 0x29a1ac2bcc0>,\n",
       " <matplotlib.lines.Line2D at 0x29a1ac2be10>,\n",
       " <matplotlib.lines.Line2D at 0x29a1ac2bf60>,\n",
       " <matplotlib.lines.Line2D at 0x29a1ac300f0>,\n",
       " <matplotlib.lines.Line2D at 0x29a1ac30240>,\n",
       " <matplotlib.lines.Line2D at 0x29a1ac30390>]"
      ]
     },
     "execution_count": 22,
     "metadata": {},
     "output_type": "execute_result"
    },
    {
     "data": {
      "image/png": "[encoded data removed]",
      "text/plain": [
       "<Figure size 432x288 with 1 Axes>"
      ]
     },
     "metadata": {
      "needs_background": "light"
     },
     "output_type": "display_data"
    }
   ],
   "source": [
    "# With pluses\n",
    "plt.plot(permutation_array, 'c+')"
   ]
  },
  {
   "cell_type": "markdown",
   "metadata": {},
   "source": [
    "___\n",
    "## Distributions\n",
    "If size is none by default & shape and scale are both scalars, a single value is returned <br>\n",
    "If the given shape is, e.g., (m, n, k), then m * n * k samples are drawn"
   ]
  },
  {
   "cell_type": "markdown",
   "metadata": {},
   "source": [
    "## [numpy.random.poisson ([lam, size])](https://docs.scipy.org/doc/numpy-1.15.1/reference/generated/numpy.random.poisson.html#numpy.random.poisson)\n",
    "It is a [discrete probability distribution](https://brilliant.org/wiki/discrete-random-variables-definition/) useful for [characterizing events with very low probabilities of occurrence](https://www.britannica.com/topic/Poisson-distribution) within a time or space interval.\n",
    "<br><br>\n",
    "In case of events where separation is expected, the distribution describes the probability of events occurring within an observed interval. <br>\n",
    "Because the output is limited to the range of the C long type, a ValueError is raised when lam is within 10 sigma of the maximum representable value."
   ]
  },
  {
   "attachments": {},
   "cell_type": "markdown",
   "metadata": {},
   "source": [
    "#### Poisson distribution\n",
    "\n",
    "![image](https://wikimedia.org/api/rest_v1/media/math/render/svg/df3b6a7648b33ca3a987b970e4e8a719f888edb5)\n",
    "\n",
    "\n",
    "1. Lam - float or array_like of floats\n",
    "    * Expectation of interval, should be >= 0\n",
    "    * It uses a sequence of expected intervals or ranges\n",
    "2. Size - int or tuple of ints, optional\n",
    "    * If size is  not None (default) np.array(lam).size samples are drawn"
   ]
  },
  {
   "cell_type": "code",
   "execution_count": 23,
   "metadata": {},
   "outputs": [
    {
     "name": "stdout",
     "output_type": "stream",
     "text": [
      "Value of a:  100.0  \n",
      "Value of b:  300.0 \n",
      "Value of newX: 50.0\n"
     ]
    }
   ],
   "source": [
    "a, b = 100., 300.         # Give values to lambda\n",
    "newX = x/200              # Get the x (= 10000) value from earlier and devide it by 200 to get x to a value of 50\n",
    "print(\"Value of a: \", a, \" \\nValue of b: \", b, \"\\nValue of newX:\", newX)"
   ]
  },
  {
   "cell_type": "code",
   "execution_count": 24,
   "metadata": {},
   "outputs": [
    {
     "data": {
      "text/plain": [
       "array([ 1,  6,  4, ...,  3,  8, 12])"
      ]
     },
     "execution_count": 24,
     "metadata": {},
     "output_type": "execute_result"
    }
   ],
   "source": [
    "# Draw samples from the distribution:\n",
    "sample_poisson = np.random.poisson(5, x)\n",
    "sample_poisson"
   ]
  },
  {
   "cell_type": "code",
   "execution_count": 25,
   "metadata": {
    "scrolled": true
   },
   "outputs": [
    {
     "data": {
      "text/plain": [
       "array([[ 87, 300],\n",
       "       [ 85, 312],\n",
       "       [ 84, 323],\n",
       "       [ 83, 300],\n",
       "       [122, 315],\n",
       "       [ 96, 332],\n",
       "       [108, 308],\n",
       "       [110, 298],\n",
       "       [ 94, 272],\n",
       "       [ 77, 293],\n",
       "       [ 92, 310],\n",
       "       [106, 327],\n",
       "       [114, 288],\n",
       "       [110, 296],\n",
       "       [ 96, 296],\n",
       "       [ 94, 297],\n",
       "       [108, 284],\n",
       "       [ 97, 290],\n",
       "       [ 99, 298],\n",
       "       [ 78, 306],\n",
       "       [116, 273],\n",
       "       [100, 294],\n",
       "       [ 88, 291],\n",
       "       [110, 318],\n",
       "       [ 94, 286],\n",
       "       [104, 307],\n",
       "       [116, 305],\n",
       "       [ 94, 286],\n",
       "       [ 98, 307],\n",
       "       [ 91, 308],\n",
       "       [ 91, 309],\n",
       "       [ 92, 296],\n",
       "       [ 98, 329],\n",
       "       [109, 306],\n",
       "       [ 88, 289],\n",
       "       [ 98, 297],\n",
       "       [ 95, 281],\n",
       "       [112, 286],\n",
       "       [ 91, 294],\n",
       "       [100, 261],\n",
       "       [103, 294],\n",
       "       [ 92, 315],\n",
       "       [ 98, 309],\n",
       "       [ 86, 277],\n",
       "       [ 89, 283],\n",
       "       [ 96, 298],\n",
       "       [ 97, 299],\n",
       "       [103, 307],\n",
       "       [ 96, 280],\n",
       "       [108, 301]])"
      ]
     },
     "execution_count": 25,
     "metadata": {},
     "output_type": "execute_result"
    }
   ],
   "source": [
    "# Draw each \"newX\" values for lambda \"a\" and \"b\":\n",
    "range_poisson = np.random.poisson(lam=(a, b), size=(int(newX), 2))\n",
    "range_poisson"
   ]
  },
  {
   "cell_type": "markdown",
   "metadata": {},
   "source": [
    "### Visualise numpy.random.poisson\n",
    "Display the histogram of the samples"
   ]
  },
  {
   "cell_type": "code",
   "execution_count": 26,
   "metadata": {
    "scrolled": true
   },
   "outputs": [
    {
     "data": {
      "text/plain": [
       "(array([8.900e+01, 3.010e+02, 8.250e+02, 1.345e+03, 1.792e+03, 1.703e+03,\n",
       "        0.000e+00, 1.491e+03, 1.124e+03, 6.760e+02, 3.350e+02, 1.660e+02,\n",
       "        8.700e+01, 0.000e+00, 4.300e+01, 1.300e+01, 7.000e+00, 1.000e+00,\n",
       "        1.000e+00, 1.000e+00]),\n",
       " array([ 0.  ,  0.85,  1.7 ,  2.55,  3.4 ,  4.25,  5.1 ,  5.95,  6.8 ,\n",
       "         7.65,  8.5 ,  9.35, 10.2 , 11.05, 11.9 , 12.75, 13.6 , 14.45,\n",
       "        15.3 , 16.15, 17.  ]),\n",
       " <a list of 20 Patch objects>)"
      ]
     },
     "execution_count": 26,
     "metadata": {},
     "output_type": "execute_result"
    },
    {
     "data": {
      "image/png": "[encoded data removed]",
      "text/plain": [
       "<Figure size 432x288 with 1 Axes>"
      ]
     },
     "metadata": {
      "needs_background": "light"
     },
     "output_type": "display_data"
    }
   ],
   "source": [
    "# Histogram of samples\n",
    "count, bins, ignored = plt.hist(sample_poisson, 14, density=True)\n",
    "plt.hist(sample_poisson, hs)"
   ]
  },
  {
   "cell_type": "code",
   "execution_count": 27,
   "metadata": {},
   "outputs": [
    {
     "data": {
      "text/plain": [
       "([array([10., 24., 13.,  3.,  0.,  0.,  0.,  0.,  0.,  0.,  0.,  0.,  0.,\n",
       "          0.,  0.,  0.,  0.,  0.,  0.,  0.]),\n",
       "  array([ 0.,  0.,  0.,  0.,  0.,  0.,  0.,  0.,  0.,  0.,  0.,  0.,  0.,\n",
       "          0.,  1.,  4., 11., 18., 12.,  4.])],\n",
       " array([ 77.  ,  89.75, 102.5 , 115.25, 128.  , 140.75, 153.5 , 166.25,\n",
       "        179.  , 191.75, 204.5 , 217.25, 230.  , 242.75, 255.5 , 268.25,\n",
       "        281.  , 293.75, 306.5 , 319.25, 332.  ]),\n",
       " <a list of 2 Lists of Patches objects>)"
      ]
     },
     "execution_count": 27,
     "metadata": {},
     "output_type": "execute_result"
    },
    {
     "data": {
      "image/png": "[encoded data removed]",
      "text/plain": [
       "<Figure size 432x288 with 1 Axes>"
      ]
     },
     "metadata": {
      "needs_background": "light"
     },
     "output_type": "display_data"
    }
   ],
   "source": [
    "# Histogram of samples from lambda range\n",
    "count, bins, ignored = plt.hist(range_poisson, 14, density=True)\n",
    "plt.hist(range_poisson, hs)"
   ]
  },
  {
   "cell_type": "markdown",
   "metadata": {},
   "source": [
    "## [numpy.random.dirichlet (alpha[, size])](https://docs.scipy.org/doc/numpy-1.15.1/reference/generated/numpy.random.dirichlet.html#numpy.random.dirichlet)\n",
    "It is a [discrete probability distribution](https://brilliant.org/wiki/discrete-random-variables-definition/) and it's used to [model random probability mass functions (PMFs)](https://www.statisticshowto.datasciencecentral.com/dirichlet-distribution/) for finite sets. <br>"
   ]
  },
  {
   "cell_type": "markdown",
   "metadata": {},
   "source": [
    "### [Random PMF (probability mass function)](https://www.statisticshowto.datasciencecentral.com/dirichlet-distribution/)\n",
    "An example would be the distribution of words in books and other documents. A book of length \"k\" words can be modeled by the distribution with a PMF of length \"k\"."
   ]
  },
  {
   "cell_type": "markdown",
   "metadata": {},
   "source": [
    "### [Dirichlet Process](https://www.statisticshowto.datasciencecentral.com/dirichlet-distribution/)\n",
    "* A way to model randomness of a PMF with unlimited options\n",
    "* Polya's Urn is similar, but instead of a set number of options you have an unlimited amount.\n",
    "\n",
    "#### How does the Dirichlet Process work?\n",
    "* Start with an empty urn\n",
    "* Randomly pick an object ball and place it in the urn.\n",
    "\n",
    "The more elements in the urn, the lower the probability of choosing a different one. <br>\n",
    "The proportion of objects in the urn after an infinite amount of draws is a Dirichlet process."
   ]
  },
  {
   "attachments": {},
   "cell_type": "markdown",
   "metadata": {},
   "source": [
    "#### Dirichlet distribution\n",
    "\n",
    "![image](https://docs.scipy.org/doc/numpy/_images/math/abe825f82947a4f83e886f159c1212d262de0fe5.svg)\n",
    "\n",
    "1. Alpha - array\n",
    "    * Parameter of the distribution (k dimension for sample of dimension k).\n",
    "2. Size - int or tuple of ints, optional\n",
    "    * If size is  not None (default) np.array(lam).size samples are drawn"
   ]
  },
  {
   "cell_type": "code",
   "execution_count": 28,
   "metadata": {
    "scrolled": false
   },
   "outputs": [
    {
     "data": {
      "text/plain": [
       "array([[0.55544867, 0.44003577, 0.5877239 , 0.68421924, 0.56584504,\n",
       "        0.40564207, 0.52451564, 0.41183192, 0.52155645, 0.48885735,\n",
       "        0.51464531, 0.48472712, 0.46717215, 0.68073426, 0.38415893,\n",
       "        0.61507529, 0.64473218, 0.73118968, 0.5580188 , 0.71276405],\n",
       "       [0.34101764, 0.31865274, 0.18905076, 0.23186832, 0.29699863,\n",
       "        0.31347692, 0.31187707, 0.12949093, 0.38464125, 0.31021442,\n",
       "        0.28973539, 0.29727308, 0.27782345, 0.22482142, 0.43860909,\n",
       "        0.14394957, 0.19157399, 0.14999704, 0.31714834, 0.25947017],\n",
       "       [0.10353369, 0.24131149, 0.22322534, 0.08391244, 0.13715633,\n",
       "        0.28088101, 0.1636073 , 0.45867715, 0.0938023 , 0.20092823,\n",
       "        0.1956193 , 0.2179998 , 0.2550044 , 0.09444432, 0.17723198,\n",
       "        0.24097514, 0.16369383, 0.11881328, 0.12483286, 0.02776578]])"
      ]
     },
     "execution_count": 28,
     "metadata": {},
     "output_type": "execute_result"
    }
   ],
   "source": [
    "s = np.random.dirichlet((10, 5, 3), 20).transpose()\n",
    "s"
   ]
  },
  {
   "cell_type": "markdown",
   "metadata": {},
   "source": [
    "### Visualise numpy.random.dirichlet"
   ]
  },
  {
   "cell_type": "code",
   "execution_count": 29,
   "metadata": {},
   "outputs": [
    {
     "data": {
      "text/plain": [
       "Text(0.5, 1.0, 'Lengths of Strings')"
      ]
     },
     "execution_count": 29,
     "metadata": {},
     "output_type": "execute_result"
    },
    {
     "data": {
      "image/png": "[encoded data removed]",
      "text/plain": [
       "<Figure size 432x288 with 1 Axes>"
      ]
     },
     "metadata": {
      "needs_background": "light"
     },
     "output_type": "display_data"
    }
   ],
   "source": [
    "plt.barh(range(20), s[0])\n",
    "plt.barh(range(20), s[1], left=s[0], color='g')\n",
    "plt.barh(range(20), s[2], left=s[0]+s[1], color='r')\n",
    "plt.title(\"Lengths of Strings\")"
   ]
  },
  {
   "cell_type": "markdown",
   "metadata": {},
   "source": [
    "---\n",
    "## Random generator"
   ]
  },
  {
   "cell_type": "markdown",
   "metadata": {},
   "source": [
    "## [numpy.random.seed ([seed])](https://docs.scipy.org/doc/numpy-1.15.1/reference/routines.random.html)\n",
    "### [What is seed?](https://www.statisticshowto.datasciencecentral.com/random-seed-definition/)\n",
    "Random numbers are generated by deterministic algorithms and they follow a sequence with a very large period.  <br>\n",
    "The seed during random number generation specifies the start point in a sequence. This is usually affected by the seconds on a computer system’s clock. <br>\n",
    "If we use same seed every time, it will yield same sequence of random numbers. <br>\n",
    "The reason for using a seed of some value is when we want to debug the program using such deterministic behavior."
   ]
  },
  {
   "cell_type": "code",
   "execution_count": 30,
   "metadata": {},
   "outputs": [],
   "source": [
    "s_no = 10       # Seed value"
   ]
  },
  {
   "cell_type": "code",
   "execution_count": 31,
   "metadata": {
    "scrolled": false
   },
   "outputs": [
    {
     "data": {
      "text/plain": [
       "0.9673929147624826"
      ]
     },
     "execution_count": 31,
     "metadata": {},
     "output_type": "execute_result"
    }
   ],
   "source": [
    "# Get a random number\n",
    "np.random.rand()"
   ]
  },
  {
   "cell_type": "code",
   "execution_count": 32,
   "metadata": {
    "scrolled": false
   },
   "outputs": [
    {
     "data": {
      "text/plain": [
       "(0.771320643266746, 0.0207519493594015)"
      ]
     },
     "execution_count": 32,
     "metadata": {},
     "output_type": "execute_result"
    }
   ],
   "source": [
    "# Get a specific seed and output random numbers after that\n",
    "np.random.seed(s_no)\n",
    "rand1 = np.random.rand()\n",
    "rand2 = np.random.rand()\n",
    "rand1, rand2"
   ]
  },
  {
   "cell_type": "markdown",
   "metadata": {},
   "source": [
    "**Note:** notice the value of the random numbers when the seed is 10"
   ]
  },
  {
   "cell_type": "code",
   "execution_count": 33,
   "metadata": {
    "scrolled": true
   },
   "outputs": [
    {
     "data": {
      "text/plain": [
       "0.6336482349262754"
      ]
     },
     "execution_count": 33,
     "metadata": {},
     "output_type": "execute_result"
    }
   ],
   "source": [
    "# Get a 2nd random number\n",
    "np.random.rand()"
   ]
  },
  {
   "cell_type": "code",
   "execution_count": 34,
   "metadata": {
    "scrolled": true
   },
   "outputs": [
    {
     "data": {
      "text/plain": [
       "(0.771320643266746, 0.0207519493594015)"
      ]
     },
     "execution_count": 34,
     "metadata": {},
     "output_type": "execute_result"
    }
   ],
   "source": [
    "# Get the same seed as used above and output random numbers after that\n",
    "np.random.seed(s_no)\n",
    "rand1 = np.random.rand()\n",
    "rand2 = np.random.rand()\n",
    "rand1, rand2"
   ]
  },
  {
   "cell_type": "markdown",
   "metadata": {},
   "source": [
    "**Note:** notice that values of the random numbers seeded in the *above cell* are exactly the same as the the *numbers seeded the first time*. The same see value was used which means the same random numbers will show up."
   ]
  },
  {
   "cell_type": "code",
   "execution_count": 35,
   "metadata": {
    "scrolled": true
   },
   "outputs": [
    {
     "data": {
      "text/plain": [
       "0.6336482349262754"
      ]
     },
     "execution_count": 35,
     "metadata": {},
     "output_type": "execute_result"
    }
   ],
   "source": [
    "# Get another random number\n",
    "np.random.rand()"
   ]
  }
 ],
 "metadata": {
  "kernelspec": {
   "display_name": "Python 3",
   "language": "python",
   "name": "python3"
  },
  "language_info": {
   "codemirror_mode": {
    "name": "ipython",
    "version": 3
   },
   "file_extension": ".py",
   "mimetype": "text/x-python",
   "name": "python",
   "nbconvert_exporter": "python",
   "pygments_lexer": "ipython3",
   "version": "3.6.7"
  }
 },
 "nbformat": 4,
 "nbformat_minor": 2
}
