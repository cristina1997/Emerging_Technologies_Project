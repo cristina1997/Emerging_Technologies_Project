{
 "cells": [
  {
   "cell_type": "markdown",
   "metadata": {},
   "source": [
    "# Numpy\n",
    "![image](https://miro.medium.com/max/800/1*mc5YIn7jvo5uwuqBOUDw7Q.jpeg)"
   ]
  },
  {
   "cell_type": "markdown",
   "metadata": {},
   "source": [
    "---\n",
    "\n",
    "## [What is Numpy?](http://www.numpy.org)\n",
    "Numpy is a Python library used for scientific computing that can be used as a multi-dimensional container of data. \n",
    "It provides:\n",
    "* a N-dimensional array object\n",
    "* broadcasting functions\n",
    "* tools to integrate languages such as C and C++ \n",
    "* computations such as\n",
    "    * linear algebra\n",
    "    * Fourier transform \n",
    "    * random number capabilities\n",
    "---"
   ]
  },
  {
   "cell_type": "markdown",
   "metadata": {},
   "source": [
    "## Packages\n",
    "We need to import the packages require for this code to work."
   ]
  },
  {
   "cell_type": "code",
   "execution_count": 1,
   "metadata": {},
   "outputs": [],
   "source": [
    "# Random algebra\n",
    "import numpy as np\n",
    "\n",
    "# Visualise data\n",
    "import matplotlib.pyplot as plt\n",
    "%matplotlib inline"
   ]
  },
  {
   "cell_type": "code",
   "execution_count": 2,
   "metadata": {},
   "outputs": [],
   "source": [
    "# Initialise number of numbers to be used\n",
    "\n",
    "x = 10000          # amount of values used in all tests\n",
    "\n",
    "d = 100           # array dimensions used in permutations\n",
    "\n",
    "hs = 20           # size of histograms used in all tests"
   ]
  },
  {
   "cell_type": "markdown",
   "metadata": {},
   "source": [
    "___\n",
    "# Simple random data\n",
    "\n",
    "Positive dimension values of an array are passed in<br>\n",
    "If the argument is missing a random Python float is returned"
   ]
  },
  {
   "cell_type": "markdown",
   "metadata": {},
   "source": [
    "## [numpy.random.rand (d0, d1, d2, ..., dn)](https://docs.scipy.org/doc/numpy-1.15.1/reference/generated/numpy.random.rand.html#numpy.random.rand)\n",
    " Dimensions are passed in separate arguments. "
   ]
  },
  {
   "cell_type": "markdown",
   "metadata": {},
   "source": [
    "1. Parameter size: \n",
    "    * number of parameters signifies the size of the array (d2 = 2D array)\n",
    "2. d0 \n",
    "    * number of elements in a 1D array (x)\n",
    "3. d1 \n",
    "    * number of elements in a 2D array (y)\n",
    "4. d2\n",
    "    * number of elements in a 3D array (z)\n",
    "#### and so on\n",
    " \n",
    "The values of elements from the array are, between 0 (including 0) and 1 (not including 1) as shown in [this documentation](https://docs.scipy.org/doc/numpy-1.15.1/reference/generated/numpy.random.rand.html#numpy.random.rand)\n",
    "\n",
    "\n",
    "* Square bracked(s) - **[ ]**\n",
    "    * included\n",
    "* Round bracket(s) - **( )**\n",
    "    * not included"
   ]
  },
  {
   "cell_type": "code",
   "execution_count": 3,
   "metadata": {
    "scrolled": false
   },
   "outputs": [
    {
     "data": {
      "text/plain": [
       "array([[0.0161567 , 0.11238219],\n",
       "       [0.29110121, 0.33112163],\n",
       "       [0.52784352, 0.42418488],\n",
       "       [0.15864365, 0.44750254]])"
      ]
     },
     "execution_count": 3,
     "metadata": {},
     "output_type": "execute_result"
    }
   ],
   "source": [
    "# Source code adapted from:\n",
    "# - https://docs.scipy.org/doc/numpy-1.15.1/reference/generated/numpy.random.rand.html#numpy.random.rand\n",
    "# Passing in arguments\n",
    "np.random.rand(4, 2)"
   ]
  },
  {
   "cell_type": "code",
   "execution_count": 4,
   "metadata": {},
   "outputs": [
    {
     "data": {
      "text/plain": [
       "0.27298003644696234"
      ]
     },
     "execution_count": 4,
     "metadata": {},
     "output_type": "execute_result"
    }
   ],
   "source": [
    "# No argument\n",
    "np.random.rand()"
   ]
  },
  {
   "cell_type": "markdown",
   "metadata": {},
   "source": [
    "### Visualise numpy.random.rand\n",
    "Displays a graph of how this function generates random numbers"
   ]
  },
  {
   "cell_type": "code",
   "execution_count": 5,
   "metadata": {},
   "outputs": [],
   "source": [
    "# Create a 1D array with 100 elements of random number values\n",
    "random_rand = np.random.rand(x)"
   ]
  },
  {
   "cell_type": "code",
   "execution_count": 6,
   "metadata": {
    "scrolled": true
   },
   "outputs": [
    {
     "data": {
      "text/plain": [
       "(array([444., 467., 485., 488., 507., 502., 548., 486., 503., 533., 500.,\n",
       "        499., 501., 514., 497., 485., 502., 521., 503., 515.]),\n",
       " array([2.05985873e-04, 5.01944767e-02, 1.00182967e-01, 1.50171458e-01,\n",
       "        2.00159949e-01, 2.50148440e-01, 3.00136931e-01, 3.50125421e-01,\n",
       "        4.00113912e-01, 4.50102403e-01, 5.00090894e-01, 5.50079385e-01,\n",
       "        6.00067875e-01, 6.50056366e-01, 7.00044857e-01, 7.50033348e-01,\n",
       "        8.00021839e-01, 8.50010329e-01, 8.99998820e-01, 9.49987311e-01,\n",
       "        9.99975802e-01]),\n",
       " <a list of 20 Patch objects>)"
      ]
     },
     "execution_count": 6,
     "metadata": {},
     "output_type": "execute_result"
    },
    {
     "data": {
      "image/png": "[encoded data removed]",
      "text/plain": [
       "<Figure size 432x288 with 1 Axes>"
      ]
     },
     "metadata": {
      "needs_background": "light"
     },
     "output_type": "display_data"
    }
   ],
   "source": [
    "# Show the relationship between the amount of numbers in the array and their values\n",
    "plt.hist(random_rand, hs)"
   ]
  },
  {
   "cell_type": "markdown",
   "metadata": {},
   "source": [
    "## [numpy.random.random_sample ([size])](https://docs.scipy.org/doc/numpy-1.15.1/reference/generated/numpy.random.random_sample.html#numpy.random.random_sample)\n",
    "Dimension are passed in a single tuple."
   ]
  },
  {
   "cell_type": "markdown",
   "metadata": {},
   "source": [
    "An idealized random number generator would be considered a [**continuous uniform distribution**](https://www.investopedia.com/terms/u/uniform-distribution.asp) which means every variable has an equal opportunity of appearing. <br>\n",
    "To sample  multiply the output of random_sample by (b-a) and add a:"
   ]
  },
  {
   "cell_type": "code",
   "execution_count": 7,
   "metadata": {
    "scrolled": false
   },
   "outputs": [
    {
     "data": {
      "text/plain": [
       "array([0.5376186 , 0.7717157 , 0.87723276, ..., 0.92741854, 0.86318369,\n",
       "       0.40146902])"
      ]
     },
     "execution_count": 7,
     "metadata": {},
     "output_type": "execute_result"
    }
   ],
   "source": [
    "# Passing in arguments\n",
    "np.random.random_sample((x,))"
   ]
  },
  {
   "cell_type": "code",
   "execution_count": 8,
   "metadata": {
    "scrolled": false
   },
   "outputs": [
    {
     "data": {
      "text/plain": [
       "array([[-4874.07861345, -8697.10677359],\n",
       "       [-4908.12716514, -8578.02028915],\n",
       "       [-7926.94016822, -7186.83868699],\n",
       "       [-2674.39975611, -3100.57579279],\n",
       "       [-9346.01221547, -6412.43854111]])"
      ]
     },
     "execution_count": 8,
     "metadata": {},
     "output_type": "execute_result"
    }
   ],
   "source": [
    "rand_sample = x * np.random.random_sample((5, 2)) - x\n",
    "rand_sample"
   ]
  },
  {
   "cell_type": "markdown",
   "metadata": {},
   "source": [
    "### Visualise numpy.random.random_sample\n",
    "Displays a graph of how this function generates random numbers"
   ]
  },
  {
   "cell_type": "code",
   "execution_count": 9,
   "metadata": {
    "scrolled": true
   },
   "outputs": [
    {
     "data": {
      "text/plain": [
       "([array([1., 0., 0., 0., 1., 0., 0., 0., 0., 0., 0., 0., 0., 2., 0., 0., 0.,\n",
       "         0., 0., 1.]),\n",
       "  array([0., 1., 1., 0., 0., 0., 1., 0., 1., 0., 0., 0., 0., 0., 0., 0., 0.,\n",
       "         0., 1., 0.])],\n",
       " array([-9346.01221547, -9012.4315925 , -8678.85096953, -8345.27034657,\n",
       "        -8011.6897236 , -7678.10910063, -7344.52847766, -7010.94785469,\n",
       "        -6677.36723173, -6343.78660876, -6010.20598579, -5676.62536282,\n",
       "        -5343.04473985, -5009.46411689, -4675.88349392, -4342.30287095,\n",
       "        -4008.72224798, -3675.14162501, -3341.56100205, -3007.98037908,\n",
       "        -2674.39975611]),\n",
       " <a list of 2 Lists of Patches objects>)"
      ]
     },
     "execution_count": 9,
     "metadata": {},
     "output_type": "execute_result"
    },
    {
     "data": {
      "image/png": "[encoded data removed]",
      "text/plain": [
       "<Figure size 432x288 with 1 Axes>"
      ]
     },
     "metadata": {
      "needs_background": "light"
     },
     "output_type": "display_data"
    }
   ],
   "source": [
    "# Show the relationship between the amount of numbers in the array and their values\n",
    "plt.hist(rand_sample, hs)"
   ]
  },
  {
   "cell_type": "markdown",
   "metadata": {},
   "source": [
    "---\n",
    "# Permutations\n",
    "These are based on certain distribution functions <br>\n",
    "If no value is entered in the range an TypeError appears <br>\n",
    "The elements in the array can only be of integer vallues\n",
    "\n",
    "#### When shuffling a multi-dimentional array\n",
    "1. Formula - np.arange(x).reshape((d0, d1, ...., dn)) \n",
    "    * x = amount of numbers \n",
    "    * d = array dimensions\n",
    "    \n",
    "2. Explain formula\n",
    "    * Array dimensions must be the same\n",
    "        * i.e.\n",
    "            * d0 = d1 = ... = dn\n",
    "    * The number of numbers must be the dimension value at the power of the number of dimensions\n",
    "        * i.e.              \n",
    "            * x = d ^ n"
   ]
  },
  {
   "cell_type": "markdown",
   "metadata": {},
   "source": [
    "## [numpy.random.shuffle (x)](https://docs.scipy.org/doc/numpy-1.15.1/reference/generated/numpy.random.shuffle.html#numpy.random.shuffle)\n",
    "Randomly shuffles an array"
   ]
  },
  {
   "cell_type": "markdown",
   "metadata": {},
   "source": [
    "* It takes in the size of an array and randomly shuffles its contents <br>"
   ]
  },
  {
   "cell_type": "code",
   "execution_count": 10,
   "metadata": {},
   "outputs": [
    {
     "data": {
      "text/plain": [
       "array([0, 1, 2, 3, 4, 5, 6, 7, 8, 9])"
      ]
     },
     "execution_count": 10,
     "metadata": {},
     "output_type": "execute_result"
    }
   ],
   "source": [
    "# The original array of numbers\n",
    "sh_arr = np.arange(10)\n",
    "sh_arr"
   ]
  },
  {
   "cell_type": "code",
   "execution_count": 11,
   "metadata": {
    "scrolled": true
   },
   "outputs": [
    {
     "data": {
      "text/plain": [
       "array([3, 7, 1, 8, 5, 4, 0, 2, 6, 9])"
      ]
     },
     "execution_count": 11,
     "metadata": {},
     "output_type": "execute_result"
    }
   ],
   "source": [
    "# The array of numbers shuffle\n",
    "np.random.shuffle(sh_arr)\n",
    "sh_arr"
   ]
  },
  {
   "cell_type": "code",
   "execution_count": 12,
   "metadata": {},
   "outputs": [
    {
     "data": {
      "text/plain": [
       "array([[2700, 2701, 2702, ..., 2797, 2798, 2799],\n",
       "       [5500, 5501, 5502, ..., 5597, 5598, 5599],\n",
       "       [6300, 6301, 6302, ..., 6397, 6398, 6399],\n",
       "       ...,\n",
       "       [4100, 4101, 4102, ..., 4197, 4198, 4199],\n",
       "       [9000, 9001, 9002, ..., 9097, 9098, 9099],\n",
       "       [7500, 7501, 7502, ..., 7597, 7598, 7599]])"
      ]
     },
     "execution_count": 12,
     "metadata": {},
     "output_type": "execute_result"
    }
   ],
   "source": [
    "# Shuffle a multi-dimentional array by reshaping the size of an array\n",
    "shuffle_array = np.arange(x).reshape((d, d))\n",
    "np.random.shuffle(shuffle_array)\n",
    "shuffle_array"
   ]
  },
  {
   "cell_type": "markdown",
   "metadata": {},
   "source": [
    "### Visualise numpy.random.shuffle\n",
    "Displays a graph of how this function shuffles the random numbers"
   ]
  },
  {
   "cell_type": "code",
   "execution_count": 13,
   "metadata": {},
   "outputs": [
    {
     "data": {
      "text/plain": [
       "[<matplotlib.lines.Line2D at 0x29188951240>,\n",
       " <matplotlib.lines.Line2D at 0x29188951470>,\n",
       " <matplotlib.lines.Line2D at 0x291889515c0>,\n",
       " <matplotlib.lines.Line2D at 0x29188951710>,\n",
       " <matplotlib.lines.Line2D at 0x29188951860>,\n",
       " <matplotlib.lines.Line2D at 0x291889519b0>,\n",
       " <matplotlib.lines.Line2D at 0x29188951b00>,\n",
       " <matplotlib.lines.Line2D at 0x29188951c50>,\n",
       " <matplotlib.lines.Line2D at 0x29188951da0>,\n",
       " <matplotlib.lines.Line2D at 0x29188951ef0>,\n",
       " <matplotlib.lines.Line2D at 0x29188959080>,\n",
       " <matplotlib.lines.Line2D at 0x291889591d0>,\n",
       " <matplotlib.lines.Line2D at 0x29188959320>,\n",
       " <matplotlib.lines.Line2D at 0x29188959470>,\n",
       " <matplotlib.lines.Line2D at 0x291889595c0>,\n",
       " <matplotlib.lines.Line2D at 0x29188959710>,\n",
       " <matplotlib.lines.Line2D at 0x29188959860>,\n",
       " <matplotlib.lines.Line2D at 0x291889599b0>,\n",
       " <matplotlib.lines.Line2D at 0x29188959b00>,\n",
       " <matplotlib.lines.Line2D at 0x29188959c50>,\n",
       " <matplotlib.lines.Line2D at 0x29188959da0>,\n",
       " <matplotlib.lines.Line2D at 0x29188959ef0>,\n",
       " <matplotlib.lines.Line2D at 0x2918895c080>,\n",
       " <matplotlib.lines.Line2D at 0x2918895c1d0>,\n",
       " <matplotlib.lines.Line2D at 0x2918895c320>,\n",
       " <matplotlib.lines.Line2D at 0x2918895c470>,\n",
       " <matplotlib.lines.Line2D at 0x2918895c5c0>,\n",
       " <matplotlib.lines.Line2D at 0x2918895c710>,\n",
       " <matplotlib.lines.Line2D at 0x2918895c860>,\n",
       " <matplotlib.lines.Line2D at 0x2918895c9b0>,\n",
       " <matplotlib.lines.Line2D at 0x2918895cb00>,\n",
       " <matplotlib.lines.Line2D at 0x2918895cc50>,\n",
       " <matplotlib.lines.Line2D at 0x2918895cda0>,\n",
       " <matplotlib.lines.Line2D at 0x2918895cef0>,\n",
       " <matplotlib.lines.Line2D at 0x29188963080>,\n",
       " <matplotlib.lines.Line2D at 0x291889631d0>,\n",
       " <matplotlib.lines.Line2D at 0x29188963320>,\n",
       " <matplotlib.lines.Line2D at 0x29188963470>,\n",
       " <matplotlib.lines.Line2D at 0x291889635c0>,\n",
       " <matplotlib.lines.Line2D at 0x29188963710>,\n",
       " <matplotlib.lines.Line2D at 0x29188963860>,\n",
       " <matplotlib.lines.Line2D at 0x291889639b0>,\n",
       " <matplotlib.lines.Line2D at 0x29188963b00>,\n",
       " <matplotlib.lines.Line2D at 0x29188963c50>,\n",
       " <matplotlib.lines.Line2D at 0x29188963da0>,\n",
       " <matplotlib.lines.Line2D at 0x29188963ef0>,\n",
       " <matplotlib.lines.Line2D at 0x29188967080>,\n",
       " <matplotlib.lines.Line2D at 0x291889671d0>,\n",
       " <matplotlib.lines.Line2D at 0x29188967320>,\n",
       " <matplotlib.lines.Line2D at 0x29188967470>,\n",
       " <matplotlib.lines.Line2D at 0x291889675c0>,\n",
       " <matplotlib.lines.Line2D at 0x29188967710>,\n",
       " <matplotlib.lines.Line2D at 0x29188967860>,\n",
       " <matplotlib.lines.Line2D at 0x291889679b0>,\n",
       " <matplotlib.lines.Line2D at 0x29188967b00>,\n",
       " <matplotlib.lines.Line2D at 0x29188967c50>,\n",
       " <matplotlib.lines.Line2D at 0x29188967da0>,\n",
       " <matplotlib.lines.Line2D at 0x29188967ef0>,\n",
       " <matplotlib.lines.Line2D at 0x2918896c080>,\n",
       " <matplotlib.lines.Line2D at 0x2918896c1d0>,\n",
       " <matplotlib.lines.Line2D at 0x2918896c320>,\n",
       " <matplotlib.lines.Line2D at 0x2918896c470>,\n",
       " <matplotlib.lines.Line2D at 0x2918896c5c0>,\n",
       " <matplotlib.lines.Line2D at 0x2918896c710>,\n",
       " <matplotlib.lines.Line2D at 0x2918896c860>,\n",
       " <matplotlib.lines.Line2D at 0x2918896c9b0>,\n",
       " <matplotlib.lines.Line2D at 0x2918896cb00>,\n",
       " <matplotlib.lines.Line2D at 0x2918896cc50>,\n",
       " <matplotlib.lines.Line2D at 0x2918896cda0>,\n",
       " <matplotlib.lines.Line2D at 0x2918896cef0>,\n",
       " <matplotlib.lines.Line2D at 0x29188971080>,\n",
       " <matplotlib.lines.Line2D at 0x291889711d0>,\n",
       " <matplotlib.lines.Line2D at 0x29188971320>,\n",
       " <matplotlib.lines.Line2D at 0x29188971470>,\n",
       " <matplotlib.lines.Line2D at 0x291889715c0>,\n",
       " <matplotlib.lines.Line2D at 0x29188971710>,\n",
       " <matplotlib.lines.Line2D at 0x29188971860>,\n",
       " <matplotlib.lines.Line2D at 0x291889719b0>,\n",
       " <matplotlib.lines.Line2D at 0x29188971b00>,\n",
       " <matplotlib.lines.Line2D at 0x29188971c50>,\n",
       " <matplotlib.lines.Line2D at 0x29188971da0>,\n",
       " <matplotlib.lines.Line2D at 0x29188971ef0>,\n",
       " <matplotlib.lines.Line2D at 0x29188978080>,\n",
       " <matplotlib.lines.Line2D at 0x291889781d0>,\n",
       " <matplotlib.lines.Line2D at 0x29188978320>,\n",
       " <matplotlib.lines.Line2D at 0x29188978470>,\n",
       " <matplotlib.lines.Line2D at 0x291889785c0>,\n",
       " <matplotlib.lines.Line2D at 0x29188978710>,\n",
       " <matplotlib.lines.Line2D at 0x29188978860>,\n",
       " <matplotlib.lines.Line2D at 0x291889789b0>,\n",
       " <matplotlib.lines.Line2D at 0x29188978b00>,\n",
       " <matplotlib.lines.Line2D at 0x29188978c50>,\n",
       " <matplotlib.lines.Line2D at 0x29188978da0>,\n",
       " <matplotlib.lines.Line2D at 0x29188978ef0>,\n",
       " <matplotlib.lines.Line2D at 0x2918897c080>,\n",
       " <matplotlib.lines.Line2D at 0x2918897c1d0>,\n",
       " <matplotlib.lines.Line2D at 0x2918897c320>,\n",
       " <matplotlib.lines.Line2D at 0x2918897c470>,\n",
       " <matplotlib.lines.Line2D at 0x2918897c5c0>,\n",
       " <matplotlib.lines.Line2D at 0x2918897c710>]"
      ]
     },
     "execution_count": 13,
     "metadata": {},
     "output_type": "execute_result"
    },
    {
     "data": {
      "image/png": "[encoded data removed]",
      "text/plain": [
       "<Figure size 432x288 with 1 Axes>"
      ]
     },
     "metadata": {
      "needs_background": "light"
     },
     "output_type": "display_data"
    }
   ],
   "source": [
    "# Show the relationship between numbers in the original array and the numbers in the shuffled array\n",
    "# With lines\n",
    "plt.plot(shuffle_array, 'c-')"
   ]
  },
  {
   "cell_type": "code",
   "execution_count": 14,
   "metadata": {},
   "outputs": [
    {
     "data": {
      "text/plain": [
       "[<matplotlib.lines.Line2D at 0x29188a918d0>,\n",
       " <matplotlib.lines.Line2D at 0x29188a919e8>,\n",
       " <matplotlib.lines.Line2D at 0x29188a91b38>,\n",
       " <matplotlib.lines.Line2D at 0x29188a91c88>,\n",
       " <matplotlib.lines.Line2D at 0x29188a91dd8>,\n",
       " <matplotlib.lines.Line2D at 0x29188a91f28>,\n",
       " <matplotlib.lines.Line2D at 0x29188aa20b8>,\n",
       " <matplotlib.lines.Line2D at 0x29188aa2208>,\n",
       " <matplotlib.lines.Line2D at 0x29188aa2358>,\n",
       " <matplotlib.lines.Line2D at 0x29188aa24a8>,\n",
       " <matplotlib.lines.Line2D at 0x29188aa25f8>,\n",
       " <matplotlib.lines.Line2D at 0x29188aa2748>,\n",
       " <matplotlib.lines.Line2D at 0x29188aa2898>,\n",
       " <matplotlib.lines.Line2D at 0x29188aa29e8>,\n",
       " <matplotlib.lines.Line2D at 0x29188aa2b38>,\n",
       " <matplotlib.lines.Line2D at 0x29188aa2c88>,\n",
       " <matplotlib.lines.Line2D at 0x29188aa2dd8>,\n",
       " <matplotlib.lines.Line2D at 0x29188aa2f28>,\n",
       " <matplotlib.lines.Line2D at 0x29188aa80b8>,\n",
       " <matplotlib.lines.Line2D at 0x29188aa8208>,\n",
       " <matplotlib.lines.Line2D at 0x29188aa8358>,\n",
       " <matplotlib.lines.Line2D at 0x29188aa84a8>,\n",
       " <matplotlib.lines.Line2D at 0x29188aa85f8>,\n",
       " <matplotlib.lines.Line2D at 0x29188aa8748>,\n",
       " <matplotlib.lines.Line2D at 0x29188aa8898>,\n",
       " <matplotlib.lines.Line2D at 0x29188aa89e8>,\n",
       " <matplotlib.lines.Line2D at 0x29188aa8b38>,\n",
       " <matplotlib.lines.Line2D at 0x29188aa8c88>,\n",
       " <matplotlib.lines.Line2D at 0x29188aa8dd8>,\n",
       " <matplotlib.lines.Line2D at 0x29188aa8f28>,\n",
       " <matplotlib.lines.Line2D at 0x29188aad0b8>,\n",
       " <matplotlib.lines.Line2D at 0x29188aad208>,\n",
       " <matplotlib.lines.Line2D at 0x29188aad358>,\n",
       " <matplotlib.lines.Line2D at 0x29188aad4a8>,\n",
       " <matplotlib.lines.Line2D at 0x29188aad5f8>,\n",
       " <matplotlib.lines.Line2D at 0x29188aad748>,\n",
       " <matplotlib.lines.Line2D at 0x29188aad898>,\n",
       " <matplotlib.lines.Line2D at 0x29188aad9e8>,\n",
       " <matplotlib.lines.Line2D at 0x29188aadb38>,\n",
       " <matplotlib.lines.Line2D at 0x29188aadc88>,\n",
       " <matplotlib.lines.Line2D at 0x29188aaddd8>,\n",
       " <matplotlib.lines.Line2D at 0x29188aadf28>,\n",
       " <matplotlib.lines.Line2D at 0x29188ab20b8>,\n",
       " <matplotlib.lines.Line2D at 0x29188ab2208>,\n",
       " <matplotlib.lines.Line2D at 0x29188ab2358>,\n",
       " <matplotlib.lines.Line2D at 0x29188ab24a8>,\n",
       " <matplotlib.lines.Line2D at 0x29188ab25f8>,\n",
       " <matplotlib.lines.Line2D at 0x29188ab2748>,\n",
       " <matplotlib.lines.Line2D at 0x29188ab2898>,\n",
       " <matplotlib.lines.Line2D at 0x29188ab29e8>,\n",
       " <matplotlib.lines.Line2D at 0x29188ab2b38>,\n",
       " <matplotlib.lines.Line2D at 0x29188ab2c88>,\n",
       " <matplotlib.lines.Line2D at 0x29188ab2dd8>,\n",
       " <matplotlib.lines.Line2D at 0x29188ab2f28>,\n",
       " <matplotlib.lines.Line2D at 0x29188ab80b8>,\n",
       " <matplotlib.lines.Line2D at 0x29188ab8208>,\n",
       " <matplotlib.lines.Line2D at 0x29188ab8358>,\n",
       " <matplotlib.lines.Line2D at 0x29188ab84a8>,\n",
       " <matplotlib.lines.Line2D at 0x29188ab85f8>,\n",
       " <matplotlib.lines.Line2D at 0x29188ab8748>,\n",
       " <matplotlib.lines.Line2D at 0x29188ab8898>,\n",
       " <matplotlib.lines.Line2D at 0x29188ab89e8>,\n",
       " <matplotlib.lines.Line2D at 0x29188ab8b38>,\n",
       " <matplotlib.lines.Line2D at 0x29188ab8c88>,\n",
       " <matplotlib.lines.Line2D at 0x29188ab8dd8>,\n",
       " <matplotlib.lines.Line2D at 0x29188ab8f28>,\n",
       " <matplotlib.lines.Line2D at 0x29188abe0b8>,\n",
       " <matplotlib.lines.Line2D at 0x29188abe208>,\n",
       " <matplotlib.lines.Line2D at 0x29188abe358>,\n",
       " <matplotlib.lines.Line2D at 0x29188abe4a8>,\n",
       " <matplotlib.lines.Line2D at 0x29188abe5f8>,\n",
       " <matplotlib.lines.Line2D at 0x29188abe748>,\n",
       " <matplotlib.lines.Line2D at 0x29188abe898>,\n",
       " <matplotlib.lines.Line2D at 0x29188abe9e8>,\n",
       " <matplotlib.lines.Line2D at 0x29188abeb38>,\n",
       " <matplotlib.lines.Line2D at 0x29188abec88>,\n",
       " <matplotlib.lines.Line2D at 0x29188abedd8>,\n",
       " <matplotlib.lines.Line2D at 0x29188abef28>,\n",
       " <matplotlib.lines.Line2D at 0x29188ac20b8>,\n",
       " <matplotlib.lines.Line2D at 0x29188ac2208>,\n",
       " <matplotlib.lines.Line2D at 0x29188ac2358>,\n",
       " <matplotlib.lines.Line2D at 0x29188ac24a8>,\n",
       " <matplotlib.lines.Line2D at 0x29188ac25f8>,\n",
       " <matplotlib.lines.Line2D at 0x29188ac2748>,\n",
       " <matplotlib.lines.Line2D at 0x29188ac2898>,\n",
       " <matplotlib.lines.Line2D at 0x29188ac29e8>,\n",
       " <matplotlib.lines.Line2D at 0x29188ac2b38>,\n",
       " <matplotlib.lines.Line2D at 0x29188ac2c88>,\n",
       " <matplotlib.lines.Line2D at 0x29188ac2dd8>,\n",
       " <matplotlib.lines.Line2D at 0x29188ac2f28>,\n",
       " <matplotlib.lines.Line2D at 0x29188ac80b8>,\n",
       " <matplotlib.lines.Line2D at 0x29188ac8208>,\n",
       " <matplotlib.lines.Line2D at 0x29188ac8358>,\n",
       " <matplotlib.lines.Line2D at 0x29188ac84a8>,\n",
       " <matplotlib.lines.Line2D at 0x29188ac85f8>,\n",
       " <matplotlib.lines.Line2D at 0x29188ac8748>,\n",
       " <matplotlib.lines.Line2D at 0x29188ac8898>,\n",
       " <matplotlib.lines.Line2D at 0x29188ac89e8>,\n",
       " <matplotlib.lines.Line2D at 0x29188ac8b38>,\n",
       " <matplotlib.lines.Line2D at 0x29188ac8c88>]"
      ]
     },
     "execution_count": 14,
     "metadata": {},
     "output_type": "execute_result"
    },
    {
     "data": {
      "image/png": "[encoded data removed]",
      "text/plain": [
       "<Figure size 432x288 with 1 Axes>"
      ]
     },
     "metadata": {
      "needs_background": "light"
     },
     "output_type": "display_data"
    }
   ],
   "source": [
    "# With pluses\n",
    "plt.plot(shuffle_array, 'c+')"
   ]
  },
  {
   "cell_type": "markdown",
   "metadata": {},
   "source": [
    "## [numpy.random.permutation (x)](https://docs.scipy.org/doc/numpy-1.15.1/reference/generated/numpy.random.permutation.html#numpy.random.permutation)\n",
    "Randomly permutes an array"
   ]
  },
  {
   "cell_type": "markdown",
   "metadata": {},
   "source": [
    "* It takes in \n",
    "    * size of an array \n",
    "        * dirrectly - without using np.arange(x)\n",
    "        * randomly permutes\n",
    "    * an array \n",
    "        * makes a copy of the array\n",
    "        * randomly shuffle its contents\n",
    "        * **Note**: if multi-dimensional - only shuffled along its first index"
   ]
  },
  {
   "cell_type": "code",
   "execution_count": 15,
   "metadata": {
    "scrolled": true
   },
   "outputs": [
    {
     "data": {
      "text/plain": [
       "array([1, 0, 6, 8, 5, 7, 9, 2, 3, 4])"
      ]
     },
     "execution_count": 15,
     "metadata": {},
     "output_type": "execute_result"
    }
   ],
   "source": [
    "# Permutes size of an array\n",
    "np.random.permutation(10)"
   ]
  },
  {
   "cell_type": "code",
   "execution_count": 16,
   "metadata": {
    "scrolled": true
   },
   "outputs": [
    {
     "data": {
      "text/plain": [
       "array([ 10, 100,   4,  50,   5])"
      ]
     },
     "execution_count": 16,
     "metadata": {},
     "output_type": "execute_result"
    }
   ],
   "source": [
    "# Makes a copy of an array and shuffles it\n",
    "np.random.permutation([100, 5, 10, 50, 4])"
   ]
  },
  {
   "cell_type": "code",
   "execution_count": 17,
   "metadata": {},
   "outputs": [
    {
     "data": {
      "text/plain": [
       "array([[0.18327558, 0.56740169],\n",
       "       [0.40819048, 0.44214471],\n",
       "       [0.30489273, 0.51765497],\n",
       "       [0.60672584, 0.88282497]])"
      ]
     },
     "execution_count": 17,
     "metadata": {},
     "output_type": "execute_result"
    }
   ],
   "source": [
    "# Create multi-dimentional array\n",
    "mdp_array = np.random.rand(4, 2)\n",
    "mdp_array"
   ]
  },
  {
   "cell_type": "code",
   "execution_count": 18,
   "metadata": {},
   "outputs": [
    {
     "data": {
      "text/plain": [
       "array([[0.60672584, 0.88282497],\n",
       "       [0.40819048, 0.44214471],\n",
       "       [0.18327558, 0.56740169],\n",
       "       [0.30489273, 0.51765497]])"
      ]
     },
     "execution_count": 18,
     "metadata": {},
     "output_type": "execute_result"
    }
   ],
   "source": [
    "# Permute the multi-dimentional array\n",
    "np.random.permutation(mdp_array)"
   ]
  },
  {
   "cell_type": "code",
   "execution_count": 19,
   "metadata": {},
   "outputs": [
    {
     "data": {
      "text/plain": [
       "array([[   0,    1,    2, ...,   97,   98,   99],\n",
       "       [ 100,  101,  102, ...,  197,  198,  199],\n",
       "       [ 200,  201,  202, ...,  297,  298,  299],\n",
       "       ...,\n",
       "       [9700, 9701, 9702, ..., 9797, 9798, 9799],\n",
       "       [9800, 9801, 9802, ..., 9897, 9898, 9899],\n",
       "       [9900, 9901, 9902, ..., 9997, 9998, 9999]])"
      ]
     },
     "execution_count": 19,
     "metadata": {},
     "output_type": "execute_result"
    }
   ],
   "source": [
    "# Reshape the size of an array\n",
    "permutation_array = np.arange(x).reshape((d, d))\n",
    "permutation_array"
   ]
  },
  {
   "cell_type": "code",
   "execution_count": 20,
   "metadata": {
    "scrolled": true
   },
   "outputs": [
    {
     "data": {
      "text/plain": [
       "array([[8200, 8201, 8202, ..., 8297, 8298, 8299],\n",
       "       [ 500,  501,  502, ...,  597,  598,  599],\n",
       "       [4400, 4401, 4402, ..., 4497, 4498, 4499],\n",
       "       ...,\n",
       "       [7700, 7701, 7702, ..., 7797, 7798, 7799],\n",
       "       [1400, 1401, 1402, ..., 1497, 1498, 1499],\n",
       "       [6000, 6001, 6002, ..., 6097, 6098, 6099]])"
      ]
     },
     "execution_count": 20,
     "metadata": {},
     "output_type": "execute_result"
    }
   ],
   "source": [
    "# Make a copy and shuffle the array\n",
    "np.random.permutation(permutation_array)"
   ]
  },
  {
   "cell_type": "markdown",
   "metadata": {},
   "source": [
    "### Visualise numpy.random.permutation\n",
    "Displays a graph of how this function permutes the random numbers"
   ]
  },
  {
   "cell_type": "code",
   "execution_count": 21,
   "metadata": {
    "scrolled": true
   },
   "outputs": [
    {
     "data": {
      "text/plain": [
       "[<matplotlib.lines.Line2D at 0x29188bd8dd8>,\n",
       " <matplotlib.lines.Line2D at 0x29188bd8f28>,\n",
       " <matplotlib.lines.Line2D at 0x29188bea0b8>,\n",
       " <matplotlib.lines.Line2D at 0x29188bea208>,\n",
       " <matplotlib.lines.Line2D at 0x29188bea358>,\n",
       " <matplotlib.lines.Line2D at 0x29188bea4a8>,\n",
       " <matplotlib.lines.Line2D at 0x29188bea5f8>,\n",
       " <matplotlib.lines.Line2D at 0x29188bea748>,\n",
       " <matplotlib.lines.Line2D at 0x29188bea898>,\n",
       " <matplotlib.lines.Line2D at 0x29188bea9e8>,\n",
       " <matplotlib.lines.Line2D at 0x29188beab38>,\n",
       " <matplotlib.lines.Line2D at 0x29188beac88>,\n",
       " <matplotlib.lines.Line2D at 0x29188beadd8>,\n",
       " <matplotlib.lines.Line2D at 0x29188beaf28>,\n",
       " <matplotlib.lines.Line2D at 0x29188bee0b8>,\n",
       " <matplotlib.lines.Line2D at 0x29188bee208>,\n",
       " <matplotlib.lines.Line2D at 0x29188bee358>,\n",
       " <matplotlib.lines.Line2D at 0x29188bee4a8>,\n",
       " <matplotlib.lines.Line2D at 0x29188bee5f8>,\n",
       " <matplotlib.lines.Line2D at 0x29188bee748>,\n",
       " <matplotlib.lines.Line2D at 0x29188bee898>,\n",
       " <matplotlib.lines.Line2D at 0x29188bee9e8>,\n",
       " <matplotlib.lines.Line2D at 0x29188beeb38>,\n",
       " <matplotlib.lines.Line2D at 0x29188beec88>,\n",
       " <matplotlib.lines.Line2D at 0x29188beedd8>,\n",
       " <matplotlib.lines.Line2D at 0x29188beef28>,\n",
       " <matplotlib.lines.Line2D at 0x29188bf30b8>,\n",
       " <matplotlib.lines.Line2D at 0x29188bf3208>,\n",
       " <matplotlib.lines.Line2D at 0x29188bf3358>,\n",
       " <matplotlib.lines.Line2D at 0x29188bf34a8>,\n",
       " <matplotlib.lines.Line2D at 0x29188bf35f8>,\n",
       " <matplotlib.lines.Line2D at 0x29188bf3748>,\n",
       " <matplotlib.lines.Line2D at 0x29188bf3898>,\n",
       " <matplotlib.lines.Line2D at 0x29188bf39e8>,\n",
       " <matplotlib.lines.Line2D at 0x29188bf3b38>,\n",
       " <matplotlib.lines.Line2D at 0x29188bf3c88>,\n",
       " <matplotlib.lines.Line2D at 0x29188bf3dd8>,\n",
       " <matplotlib.lines.Line2D at 0x29188bf3f28>,\n",
       " <matplotlib.lines.Line2D at 0x29188bf40b8>,\n",
       " <matplotlib.lines.Line2D at 0x29188bf4208>,\n",
       " <matplotlib.lines.Line2D at 0x29188bf4358>,\n",
       " <matplotlib.lines.Line2D at 0x29188bf44a8>,\n",
       " <matplotlib.lines.Line2D at 0x29188bf45f8>,\n",
       " <matplotlib.lines.Line2D at 0x29188bf4748>,\n",
       " <matplotlib.lines.Line2D at 0x29188bf4898>,\n",
       " <matplotlib.lines.Line2D at 0x29188bf49e8>,\n",
       " <matplotlib.lines.Line2D at 0x29188bf4b38>,\n",
       " <matplotlib.lines.Line2D at 0x29188bf4c88>,\n",
       " <matplotlib.lines.Line2D at 0x29188bf4dd8>,\n",
       " <matplotlib.lines.Line2D at 0x29188bf4f28>,\n",
       " <matplotlib.lines.Line2D at 0x29188bff0b8>,\n",
       " <matplotlib.lines.Line2D at 0x29188bff208>,\n",
       " <matplotlib.lines.Line2D at 0x29188bff358>,\n",
       " <matplotlib.lines.Line2D at 0x29188bff4a8>,\n",
       " <matplotlib.lines.Line2D at 0x29188bff5f8>,\n",
       " <matplotlib.lines.Line2D at 0x29188bff748>,\n",
       " <matplotlib.lines.Line2D at 0x29188bff898>,\n",
       " <matplotlib.lines.Line2D at 0x29188bff9e8>,\n",
       " <matplotlib.lines.Line2D at 0x29188bffb38>,\n",
       " <matplotlib.lines.Line2D at 0x29188bffc88>,\n",
       " <matplotlib.lines.Line2D at 0x29188bffdd8>,\n",
       " <matplotlib.lines.Line2D at 0x29188bfff28>,\n",
       " <matplotlib.lines.Line2D at 0x29188c020b8>,\n",
       " <matplotlib.lines.Line2D at 0x29188c02208>,\n",
       " <matplotlib.lines.Line2D at 0x29188c02358>,\n",
       " <matplotlib.lines.Line2D at 0x29188c024a8>,\n",
       " <matplotlib.lines.Line2D at 0x29188c025f8>,\n",
       " <matplotlib.lines.Line2D at 0x29188c02748>,\n",
       " <matplotlib.lines.Line2D at 0x29188c02898>,\n",
       " <matplotlib.lines.Line2D at 0x29188c029e8>,\n",
       " <matplotlib.lines.Line2D at 0x29188c02b38>,\n",
       " <matplotlib.lines.Line2D at 0x29188c02c88>,\n",
       " <matplotlib.lines.Line2D at 0x29188c02dd8>,\n",
       " <matplotlib.lines.Line2D at 0x29188c02f28>,\n",
       " <matplotlib.lines.Line2D at 0x29188c080b8>,\n",
       " <matplotlib.lines.Line2D at 0x29188c08208>,\n",
       " <matplotlib.lines.Line2D at 0x29188c08358>,\n",
       " <matplotlib.lines.Line2D at 0x29188c084a8>,\n",
       " <matplotlib.lines.Line2D at 0x29188c085f8>,\n",
       " <matplotlib.lines.Line2D at 0x29188c08748>,\n",
       " <matplotlib.lines.Line2D at 0x29188c08898>,\n",
       " <matplotlib.lines.Line2D at 0x29188c089e8>,\n",
       " <matplotlib.lines.Line2D at 0x29188c08b38>,\n",
       " <matplotlib.lines.Line2D at 0x29188c08c88>,\n",
       " <matplotlib.lines.Line2D at 0x29188c08dd8>,\n",
       " <matplotlib.lines.Line2D at 0x29188c08f28>,\n",
       " <matplotlib.lines.Line2D at 0x29188c0d0b8>,\n",
       " <matplotlib.lines.Line2D at 0x29188c0d208>,\n",
       " <matplotlib.lines.Line2D at 0x29188c0d358>,\n",
       " <matplotlib.lines.Line2D at 0x29188c0d4a8>,\n",
       " <matplotlib.lines.Line2D at 0x29188c0d5f8>,\n",
       " <matplotlib.lines.Line2D at 0x29188c0d748>,\n",
       " <matplotlib.lines.Line2D at 0x29188c0d898>,\n",
       " <matplotlib.lines.Line2D at 0x29188c0d9e8>,\n",
       " <matplotlib.lines.Line2D at 0x29188c0db38>,\n",
       " <matplotlib.lines.Line2D at 0x29188c0dc88>,\n",
       " <matplotlib.lines.Line2D at 0x29188c0ddd8>,\n",
       " <matplotlib.lines.Line2D at 0x29188c0df28>,\n",
       " <matplotlib.lines.Line2D at 0x29188c130b8>,\n",
       " <matplotlib.lines.Line2D at 0x29188c13208>]"
      ]
     },
     "execution_count": 21,
     "metadata": {},
     "output_type": "execute_result"
    },
    {
     "data": {
      "image/png": "[encoded data removed]",
      "text/plain": [
       "<Figure size 432x288 with 1 Axes>"
      ]
     },
     "metadata": {
      "needs_background": "light"
     },
     "output_type": "display_data"
    }
   ],
   "source": [
    "# Show the relationship between numbers in the original array and the numbers in the shuffled array\n",
    "# With lines\n",
    "plt.plot(permutation_array, 'c-')"
   ]
  },
  {
   "cell_type": "code",
   "execution_count": 22,
   "metadata": {},
   "outputs": [
    {
     "data": {
      "text/plain": [
       "[<matplotlib.lines.Line2D at 0x29188d1bc18>,\n",
       " <matplotlib.lines.Line2D at 0x29188d1bd30>,\n",
       " <matplotlib.lines.Line2D at 0x29188d1be80>,\n",
       " <matplotlib.lines.Line2D at 0x29188d1bfd0>,\n",
       " <matplotlib.lines.Line2D at 0x29188d2d160>,\n",
       " <matplotlib.lines.Line2D at 0x29188d2d2b0>,\n",
       " <matplotlib.lines.Line2D at 0x29188d2d400>,\n",
       " <matplotlib.lines.Line2D at 0x29188d2d550>,\n",
       " <matplotlib.lines.Line2D at 0x29188d2d6a0>,\n",
       " <matplotlib.lines.Line2D at 0x29188d2d7f0>,\n",
       " <matplotlib.lines.Line2D at 0x29188d2d940>,\n",
       " <matplotlib.lines.Line2D at 0x29188d2da90>,\n",
       " <matplotlib.lines.Line2D at 0x29188d2dbe0>,\n",
       " <matplotlib.lines.Line2D at 0x29188d2dd30>,\n",
       " <matplotlib.lines.Line2D at 0x29188d2de80>,\n",
       " <matplotlib.lines.Line2D at 0x29188d2dfd0>,\n",
       " <matplotlib.lines.Line2D at 0x29188d32160>,\n",
       " <matplotlib.lines.Line2D at 0x29188d322b0>,\n",
       " <matplotlib.lines.Line2D at 0x29188d32400>,\n",
       " <matplotlib.lines.Line2D at 0x29188d32550>,\n",
       " <matplotlib.lines.Line2D at 0x29188d326a0>,\n",
       " <matplotlib.lines.Line2D at 0x29188d327f0>,\n",
       " <matplotlib.lines.Line2D at 0x29188d32940>,\n",
       " <matplotlib.lines.Line2D at 0x29188d32a90>,\n",
       " <matplotlib.lines.Line2D at 0x29188d32be0>,\n",
       " <matplotlib.lines.Line2D at 0x29188d32d30>,\n",
       " <matplotlib.lines.Line2D at 0x29188d32e80>,\n",
       " <matplotlib.lines.Line2D at 0x29188d32fd0>,\n",
       " <matplotlib.lines.Line2D at 0x29188d39160>,\n",
       " <matplotlib.lines.Line2D at 0x29188d392b0>,\n",
       " <matplotlib.lines.Line2D at 0x29188d39400>,\n",
       " <matplotlib.lines.Line2D at 0x29188d39550>,\n",
       " <matplotlib.lines.Line2D at 0x29188d396a0>,\n",
       " <matplotlib.lines.Line2D at 0x29188d397f0>,\n",
       " <matplotlib.lines.Line2D at 0x29188d39940>,\n",
       " <matplotlib.lines.Line2D at 0x29188d39a90>,\n",
       " <matplotlib.lines.Line2D at 0x29188d39be0>,\n",
       " <matplotlib.lines.Line2D at 0x29188d39d30>,\n",
       " <matplotlib.lines.Line2D at 0x29188d39e80>,\n",
       " <matplotlib.lines.Line2D at 0x29188d39fd0>,\n",
       " <matplotlib.lines.Line2D at 0x29188d3d160>,\n",
       " <matplotlib.lines.Line2D at 0x29188d3d2b0>,\n",
       " <matplotlib.lines.Line2D at 0x29188d3d400>,\n",
       " <matplotlib.lines.Line2D at 0x29188d3d550>,\n",
       " <matplotlib.lines.Line2D at 0x29188d3d6a0>,\n",
       " <matplotlib.lines.Line2D at 0x29188d3d7f0>,\n",
       " <matplotlib.lines.Line2D at 0x29188d3d940>,\n",
       " <matplotlib.lines.Line2D at 0x29188d3da90>,\n",
       " <matplotlib.lines.Line2D at 0x29188d3dbe0>,\n",
       " <matplotlib.lines.Line2D at 0x29188d3dd30>,\n",
       " <matplotlib.lines.Line2D at 0x29188d3de80>,\n",
       " <matplotlib.lines.Line2D at 0x29188d3dfd0>,\n",
       " <matplotlib.lines.Line2D at 0x29188d42160>,\n",
       " <matplotlib.lines.Line2D at 0x29188d422b0>,\n",
       " <matplotlib.lines.Line2D at 0x29188d42400>,\n",
       " <matplotlib.lines.Line2D at 0x29188d42550>,\n",
       " <matplotlib.lines.Line2D at 0x29188d426a0>,\n",
       " <matplotlib.lines.Line2D at 0x29188d427f0>,\n",
       " <matplotlib.lines.Line2D at 0x29188d42940>,\n",
       " <matplotlib.lines.Line2D at 0x29188d42a90>,\n",
       " <matplotlib.lines.Line2D at 0x29188d42be0>,\n",
       " <matplotlib.lines.Line2D at 0x29188d42d30>,\n",
       " <matplotlib.lines.Line2D at 0x29188d42e80>,\n",
       " <matplotlib.lines.Line2D at 0x29188d42fd0>,\n",
       " <matplotlib.lines.Line2D at 0x29188d47160>,\n",
       " <matplotlib.lines.Line2D at 0x29188d472b0>,\n",
       " <matplotlib.lines.Line2D at 0x29188d47400>,\n",
       " <matplotlib.lines.Line2D at 0x29188d47550>,\n",
       " <matplotlib.lines.Line2D at 0x29188d476a0>,\n",
       " <matplotlib.lines.Line2D at 0x29188d477f0>,\n",
       " <matplotlib.lines.Line2D at 0x29188d47940>,\n",
       " <matplotlib.lines.Line2D at 0x29188d47a90>,\n",
       " <matplotlib.lines.Line2D at 0x29188d47be0>,\n",
       " <matplotlib.lines.Line2D at 0x29188d47d30>,\n",
       " <matplotlib.lines.Line2D at 0x29188d47e80>,\n",
       " <matplotlib.lines.Line2D at 0x29188d47fd0>,\n",
       " <matplotlib.lines.Line2D at 0x29188d4d160>,\n",
       " <matplotlib.lines.Line2D at 0x29188d4d2b0>,\n",
       " <matplotlib.lines.Line2D at 0x29188d4d400>,\n",
       " <matplotlib.lines.Line2D at 0x29188d4d550>,\n",
       " <matplotlib.lines.Line2D at 0x29188d4d6a0>,\n",
       " <matplotlib.lines.Line2D at 0x29188d4d7f0>,\n",
       " <matplotlib.lines.Line2D at 0x29188d4d940>,\n",
       " <matplotlib.lines.Line2D at 0x29188d4da90>,\n",
       " <matplotlib.lines.Line2D at 0x29188d4dbe0>,\n",
       " <matplotlib.lines.Line2D at 0x29188d4dd30>,\n",
       " <matplotlib.lines.Line2D at 0x29188d4de80>,\n",
       " <matplotlib.lines.Line2D at 0x29188d4dfd0>,\n",
       " <matplotlib.lines.Line2D at 0x29188d52160>,\n",
       " <matplotlib.lines.Line2D at 0x29188d522b0>,\n",
       " <matplotlib.lines.Line2D at 0x29188d52400>,\n",
       " <matplotlib.lines.Line2D at 0x29188d52550>,\n",
       " <matplotlib.lines.Line2D at 0x29188d526a0>,\n",
       " <matplotlib.lines.Line2D at 0x29188d527f0>,\n",
       " <matplotlib.lines.Line2D at 0x29188d52940>,\n",
       " <matplotlib.lines.Line2D at 0x29188d52a90>,\n",
       " <matplotlib.lines.Line2D at 0x29188d52be0>,\n",
       " <matplotlib.lines.Line2D at 0x29188d52d30>,\n",
       " <matplotlib.lines.Line2D at 0x29188d52e80>,\n",
       " <matplotlib.lines.Line2D at 0x29188d52fd0>]"
      ]
     },
     "execution_count": 22,
     "metadata": {},
     "output_type": "execute_result"
    },
    {
     "data": {
      "image/png": "[encoded data removed]",
      "text/plain": [
       "<Figure size 432x288 with 1 Axes>"
      ]
     },
     "metadata": {
      "needs_background": "light"
     },
     "output_type": "display_data"
    }
   ],
   "source": [
    "# With pluses\n",
    "plt.plot(permutation_array, 'c+')"
   ]
  },
  {
   "cell_type": "markdown",
   "metadata": {},
   "source": [
    "___\n",
    "## Distributions\n",
    "If size is none by default & shape and scale are both scalars, a single value is returned <br>\n",
    "If the given shape is, e.g., (m, n, k), then m * n * k samples are drawn"
   ]
  },
  {
   "cell_type": "markdown",
   "metadata": {},
   "source": [
    "## [numpy.random.poisson ([lam, size])](https://docs.scipy.org/doc/numpy-1.15.1/reference/generated/numpy.random.poisson.html#numpy.random.poisson)\n",
    "It is a [discrete probability distribution](https://brilliant.org/wiki/discrete-random-variables-definition/) useful for [characterizing events with very low probabilities of occurrence](https://www.britannica.com/topic/Poisson-distribution) within a time or space interval.\n",
    "<br><br>\n",
    "In case of events where separation is expected, the distribution describes the probability of events occurring within an observed interval. <br>\n",
    "Because the output is limited to the range of the C long type, a ValueError is raised when lam is within 10 sigma of the maximum representable value."
   ]
  },
  {
   "cell_type": "markdown",
   "metadata": {},
   "source": [
    "#### Poisson distribution\n",
    "\n",
    "![image](https://wikimedia.org/api/rest_v1/media/math/render/svg/df3b6a7648b33ca3a987b970e4e8a719f888edb5)\n",
    "\n",
    "\n",
    "1. Lam - float or array_like of floats\n",
    "    * Expectation of interval, should be >= 0\n",
    "    * It uses a sequence of expected intervals or ranges\n",
    "2. Size - int or tuple of ints, optional\n",
    "    * If size is  not None (default) np.array(lam).size samples are drawn"
   ]
  },
  {
   "cell_type": "code",
   "execution_count": 23,
   "metadata": {},
   "outputs": [
    {
     "name": "stdout",
     "output_type": "stream",
     "text": [
      "Value of a:  100.0  \n",
      "Value of b:  300.0 \n",
      "Value of newX: 50.0\n"
     ]
    }
   ],
   "source": [
    "a, b = 100., 300.         # Give values to lambda\n",
    "newX = x/200              # Get the x (= 10000) value from earlier and devide it by 200 to get x to a value of 50\n",
    "print(\"Value of a: \", a, \" \\nValue of b: \", b, \"\\nValue of newX:\", newX)"
   ]
  },
  {
   "cell_type": "code",
   "execution_count": 24,
   "metadata": {},
   "outputs": [
    {
     "data": {
      "text/plain": [
       "array([3, 3, 3, ..., 2, 1, 3])"
      ]
     },
     "execution_count": 24,
     "metadata": {},
     "output_type": "execute_result"
    }
   ],
   "source": [
    "# Draw samples from the distribution:\n",
    "sample_poisson = np.random.poisson(5, x)\n",
    "sample_poisson"
   ]
  },
  {
   "cell_type": "code",
   "execution_count": 25,
   "metadata": {
    "scrolled": true
   },
   "outputs": [
    {
     "data": {
      "text/plain": [
       "array([[105, 307],\n",
       "       [110, 269],\n",
       "       [ 85, 317],\n",
       "       [ 98, 275],\n",
       "       [ 97, 273],\n",
       "       [ 94, 290],\n",
       "       [ 94, 315],\n",
       "       [100, 297],\n",
       "       [ 91, 290],\n",
       "       [ 92, 300],\n",
       "       [110, 298],\n",
       "       [113, 272],\n",
       "       [ 98, 315],\n",
       "       [ 93, 287],\n",
       "       [114, 282],\n",
       "       [103, 297],\n",
       "       [102, 311],\n",
       "       [106, 312],\n",
       "       [114, 295],\n",
       "       [ 98, 322],\n",
       "       [ 96, 281],\n",
       "       [105, 279],\n",
       "       [104, 297],\n",
       "       [ 99, 314],\n",
       "       [103, 302],\n",
       "       [102, 275],\n",
       "       [ 90, 318],\n",
       "       [106, 292],\n",
       "       [ 97, 300],\n",
       "       [103, 282],\n",
       "       [ 83, 283],\n",
       "       [ 89, 292],\n",
       "       [ 98, 299],\n",
       "       [101, 288],\n",
       "       [ 89, 300],\n",
       "       [ 71, 267],\n",
       "       [ 93, 316],\n",
       "       [ 92, 312],\n",
       "       [ 97, 288],\n",
       "       [120, 305],\n",
       "       [111, 325],\n",
       "       [ 90, 303],\n",
       "       [ 98, 300],\n",
       "       [ 81, 314],\n",
       "       [100, 258],\n",
       "       [110, 295],\n",
       "       [113, 314],\n",
       "       [110, 296],\n",
       "       [116, 298],\n",
       "       [112, 275]])"
      ]
     },
     "execution_count": 25,
     "metadata": {},
     "output_type": "execute_result"
    }
   ],
   "source": [
    "# Draw each \"newX\" values for lambda \"a\" and \"b\":\n",
    "range_poisson = np.random.poisson(lam=(a, b), size=(int(newX), 2))\n",
    "range_poisson"
   ]
  },
  {
   "cell_type": "markdown",
   "metadata": {},
   "source": [
    "### Visualise numpy.random.poisson\n",
    "Display the histogram of the samples"
   ]
  },
  {
   "cell_type": "code",
   "execution_count": 26,
   "metadata": {
    "scrolled": true
   },
   "outputs": [
    {
     "data": {
      "text/plain": [
       "(array([  55.,  316.,  797.,    0., 1407., 1738., 1751.,    0., 1532.,\n",
       "        1099.,  614.,    0.,  361.,  191.,   89.,    0.,   37.,    9.,\n",
       "           2.,    2.]),\n",
       " array([ 0.  ,  0.75,  1.5 ,  2.25,  3.  ,  3.75,  4.5 ,  5.25,  6.  ,\n",
       "         6.75,  7.5 ,  8.25,  9.  ,  9.75, 10.5 , 11.25, 12.  , 12.75,\n",
       "        13.5 , 14.25, 15.  ]),\n",
       " <a list of 20 Patch objects>)"
      ]
     },
     "execution_count": 26,
     "metadata": {},
     "output_type": "execute_result"
    },
    {
     "data": {
      "image/png": "[encoded data removed]",
      "text/plain": [
       "<Figure size 432x288 with 1 Axes>"
      ]
     },
     "metadata": {
      "needs_background": "light"
     },
     "output_type": "display_data"
    }
   ],
   "source": [
    "# Histogram of samples\n",
    "count, bins, ignored = plt.hist(sample_poisson, 14, density=True)\n",
    "plt.hist(sample_poisson, hs)"
   ]
  },
  {
   "cell_type": "code",
   "execution_count": 27,
   "metadata": {},
   "outputs": [
    {
     "data": {
      "text/plain": [
       "([array([ 3., 13., 22., 12.,  0.,  0.,  0.,  0.,  0.,  0.,  0.,  0.,  0.,\n",
       "          0.,  0.,  0.,  0.,  0.,  0.,  0.]),\n",
       "  array([ 0.,  0.,  0.,  0.,  0.,  0.,  0.,  0.,  0.,  0.,  0.,  0.,  0.,\n",
       "          0.,  1.,  4.,  8., 16., 11., 10.])],\n",
       " array([ 71. ,  83.7,  96.4, 109.1, 121.8, 134.5, 147.2, 159.9, 172.6,\n",
       "        185.3, 198. , 210.7, 223.4, 236.1, 248.8, 261.5, 274.2, 286.9,\n",
       "        299.6, 312.3, 325. ]),\n",
       " <a list of 2 Lists of Patches objects>)"
      ]
     },
     "execution_count": 27,
     "metadata": {},
     "output_type": "execute_result"
    },
    {
     "data": {
      "image/png": "[encoded data removed]",
      "text/plain": [
       "<Figure size 432x288 with 1 Axes>"
      ]
     },
     "metadata": {
      "needs_background": "light"
     },
     "output_type": "display_data"
    }
   ],
   "source": [
    "# Histogram of samples from lambda range\n",
    "count, bins, ignored = plt.hist(range_poisson, 14, density=True)\n",
    "plt.hist(range_poisson, hs)"
   ]
  },
  {
   "cell_type": "markdown",
   "metadata": {},
   "source": [
    "## [numpy.random.dirichlet (alpha[, size])](https://docs.scipy.org/doc/numpy-1.15.1/reference/generated/numpy.random.dirichlet.html#numpy.random.dirichlet)\n",
    "It is a [discrete probability distribution](https://brilliant.org/wiki/discrete-random-variables-definition/) and it's used to [model random probability mass functions (PMFs)](https://www.statisticshowto.datasciencecentral.com/dirichlet-distribution/) for finite sets. <br>"
   ]
  },
  {
   "cell_type": "markdown",
   "metadata": {},
   "source": [
    "### [Random PMF (probability mass function)](https://www.statisticshowto.datasciencecentral.com/dirichlet-distribution/)\n",
    "An example would be the distribution of words in books and other documents. A book of length \"k\" words can be modeled by the distribution with a PMF of length \"k\"."
   ]
  },
  {
   "cell_type": "markdown",
   "metadata": {},
   "source": [
    "### [Dirichlet Process](https://www.statisticshowto.datasciencecentral.com/dirichlet-distribution/)\n",
    "* A way to model randomness of a PMF with unlimited options\n",
    "* Polya's Urn is similar, but instead of a set number of options you have an unlimited amount.\n",
    "\n",
    "#### How does the Dirichlet Process work?\n",
    "* Start with an empty urn\n",
    "* Randomly pick an object ball and place it in the urn.\n",
    "\n",
    "The more elements in the urn, the lower the probability of choosing a different one. <br>\n",
    "The proportion of objects in the urn after an infinite amount of draws is a Dirichlet process."
   ]
  },
  {
   "cell_type": "markdown",
   "metadata": {},
   "source": [
    "#### Dirichlet distribution\n",
    "\n",
    "![image](https://docs.scipy.org/doc/numpy/_images/math/abe825f82947a4f83e886f159c1212d262de0fe5.svg)\n",
    "\n",
    "1. Alpha - array\n",
    "    * Parameter of the distribution (k dimension for sample of dimension k).\n",
    "2. Size - int or tuple of ints, optional\n",
    "    * If size is  not None (default) np.array(lam).size samples are drawn"
   ]
  },
  {
   "cell_type": "code",
   "execution_count": 28,
   "metadata": {
    "scrolled": false
   },
   "outputs": [
    {
     "data": {
      "text/plain": [
       "array([[0.44820447, 0.46163725, 0.61423206, 0.65729978, 0.52688225,\n",
       "        0.55968618, 0.70963806, 0.6872979 , 0.43182338, 0.56168898,\n",
       "        0.64502664, 0.59405177, 0.55520812, 0.67619326, 0.70702501,\n",
       "        0.4544675 , 0.57011275, 0.48388274, 0.60846411, 0.40856704],\n",
       "       [0.33381166, 0.42939616, 0.22523307, 0.10552483, 0.30849054,\n",
       "        0.21765988, 0.18336263, 0.14087106, 0.28909206, 0.19105784,\n",
       "        0.22898212, 0.18246129, 0.35411411, 0.2662991 , 0.2401932 ,\n",
       "        0.33080463, 0.33065708, 0.42891572, 0.23247796, 0.42966311],\n",
       "       [0.21798387, 0.1089666 , 0.16053486, 0.23717539, 0.16462721,\n",
       "        0.22265394, 0.10699931, 0.17183105, 0.27908456, 0.24725319,\n",
       "        0.12599124, 0.22348694, 0.09067777, 0.05750763, 0.0527818 ,\n",
       "        0.21472787, 0.09923017, 0.08720155, 0.15905793, 0.16176985]])"
      ]
     },
     "execution_count": 28,
     "metadata": {},
     "output_type": "execute_result"
    }
   ],
   "source": [
    "s = np.random.dirichlet((10, 5, 3), 20).transpose()\n",
    "s"
   ]
  },
  {
   "cell_type": "markdown",
   "metadata": {},
   "source": [
    "### Visualise numpy.random.dirichlet"
   ]
  },
  {
   "cell_type": "code",
   "execution_count": 29,
   "metadata": {},
   "outputs": [
    {
     "data": {
      "text/plain": [
       "Text(0.5, 1.0, 'Lengths of Strings')"
      ]
     },
     "execution_count": 29,
     "metadata": {},
     "output_type": "execute_result"
    },
    {
     "data": {
      "image/png": "[encoded data removed]",
      "text/plain": [
       "<Figure size 432x288 with 1 Axes>"
      ]
     },
     "metadata": {
      "needs_background": "light"
     },
     "output_type": "display_data"
    }
   ],
   "source": [
    "plt.barh(range(20), s[0])\n",
    "plt.barh(range(20), s[1], left=s[0], color='g')\n",
    "plt.barh(range(20), s[2], left=s[0]+s[1], color='r')\n",
    "plt.title(\"Lengths of Strings\")"
   ]
  },
  {
   "cell_type": "markdown",
   "metadata": {},
   "source": [
    "---\n",
    "## Random generator"
   ]
  },
  {
   "cell_type": "markdown",
   "metadata": {},
   "source": [
    "## [numpy.random.seed ([seed])](https://docs.scipy.org/doc/numpy-1.15.1/reference/routines.random.html)\n",
    "### [What is seed?](https://www.statisticshowto.datasciencecentral.com/random-seed-definition/)\n",
    "Random numbers are generated by deterministic algorithms and they follow a sequence with a very large period.  <br>\n",
    "The seed during random number generation specifies the start point in a sequence. This is usually affected by the seconds on a computer system’s clock. <br>\n",
    "If we use same seed every time, it will yield same sequence of random numbers. <br>\n",
    "The reason for using a seed of some value is when we want to debug the program using such deterministic behavior."
   ]
  },
  {
   "cell_type": "code",
   "execution_count": 30,
   "metadata": {},
   "outputs": [],
   "source": [
    "s_no = 10       # Seed value"
   ]
  },
  {
   "cell_type": "code",
   "execution_count": 31,
   "metadata": {
    "scrolled": false
   },
   "outputs": [
    {
     "data": {
      "text/plain": [
       "0.5615141144057242"
      ]
     },
     "execution_count": 31,
     "metadata": {},
     "output_type": "execute_result"
    }
   ],
   "source": [
    "# Get a random number\n",
    "np.random.rand()"
   ]
  },
  {
   "cell_type": "code",
   "execution_count": 32,
   "metadata": {
    "scrolled": false
   },
   "outputs": [
    {
     "data": {
      "text/plain": [
       "(0.771320643266746, 0.0207519493594015)"
      ]
     },
     "execution_count": 32,
     "metadata": {},
     "output_type": "execute_result"
    }
   ],
   "source": [
    "# Get a specific seed and output random numbers after that\n",
    "np.random.seed(s_no)\n",
    "rand1 = np.random.rand()\n",
    "rand2 = np.random.rand()\n",
    "rand1, rand2"
   ]
  },
  {
   "cell_type": "markdown",
   "metadata": {},
   "source": [
    "**Note:** notice the value of the random numbers when the seed is 10"
   ]
  },
  {
   "cell_type": "code",
   "execution_count": 33,
   "metadata": {
    "scrolled": true
   },
   "outputs": [
    {
     "data": {
      "text/plain": [
       "0.6336482349262754"
      ]
     },
     "execution_count": 33,
     "metadata": {},
     "output_type": "execute_result"
    }
   ],
   "source": [
    "# Get a 2nd random number\n",
    "np.random.rand()"
   ]
  },
  {
   "cell_type": "code",
   "execution_count": 34,
   "metadata": {
    "scrolled": true
   },
   "outputs": [
    {
     "data": {
      "text/plain": [
       "(0.771320643266746, 0.0207519493594015)"
      ]
     },
     "execution_count": 34,
     "metadata": {},
     "output_type": "execute_result"
    }
   ],
   "source": [
    "# Get the same seed as used above and output random numbers after that\n",
    "np.random.seed(s_no)\n",
    "rand1 = np.random.rand()\n",
    "rand2 = np.random.rand()\n",
    "rand1, rand2"
   ]
  },
  {
   "cell_type": "markdown",
   "metadata": {},
   "source": [
    "**Note:** notice that values of the random numbers seeded in the *above cell* are exactly the same as the the *numbers seeded the first time*. The same see value was used which means the same random numbers will show up."
   ]
  },
  {
   "cell_type": "code",
   "execution_count": 35,
   "metadata": {
    "scrolled": true
   },
   "outputs": [
    {
     "data": {
      "text/plain": [
       "0.6336482349262754"
      ]
     },
     "execution_count": 35,
     "metadata": {},
     "output_type": "execute_result"
    }
   ],
   "source": [
    "# Get another random number\n",
    "np.random.rand()"
   ]
  }
 ],
 "metadata": {
  "kernelspec": {
   "display_name": "Python 3",
   "language": "python",
   "name": "python3"
  },
  "language_info": {
   "codemirror_mode": {
    "name": "ipython",
    "version": 3
   },
   "file_extension": ".py",
   "mimetype": "text/x-python",
   "name": "python",
   "nbconvert_exporter": "python",
   "pygments_lexer": "ipython3",
   "version": "3.6.7"
  }
 },
 "nbformat": 4,
 "nbformat_minor": 2
}
