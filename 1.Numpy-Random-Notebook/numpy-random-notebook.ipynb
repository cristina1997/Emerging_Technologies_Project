{
 "cells": [
  {
   "cell_type": "markdown",
   "metadata": {},
   "source": [
    "# Numpy random sampling notebook"
   ]
  },
  {
   "cell_type": "markdown",
   "metadata": {},
   "source": [
    "---\n",
    "## [What is Numpy?](http://www.numpy.org)\n",
    "Numpy is a Python library used for scientific computing that can be used as a multi-dimensional container of data. \n",
    "It provides:\n",
    "* a N-dimensional array object\n",
    "* broadcasting functions\n",
    "* tools to integrate languages such as C and C++ \n",
    "* computations such as\n",
    "    * linear algebra\n",
    "    * Fourier transform \n",
    "    * random number capabilities\n",
    "---"
   ]
  },
  {
   "cell_type": "markdown",
   "metadata": {},
   "source": [
    "## Packages\n",
    "We need to import the packages require for this code to work."
   ]
  },
  {
   "cell_type": "code",
   "execution_count": 1,
   "metadata": {},
   "outputs": [],
   "source": [
    "# Random algebra\n",
    "import numpy as np\n",
    "\n",
    "# Visualise data\n",
    "import matplotlib.pyplot as plt\n",
    "%matplotlib inline"
   ]
  },
  {
   "cell_type": "code",
   "execution_count": 2,
   "metadata": {},
   "outputs": [],
   "source": [
    "# Initialise number of numbers to be used\n",
    "x = 10000\n",
    "d = 100"
   ]
  },
  {
   "cell_type": "markdown",
   "metadata": {},
   "source": [
    "___\n",
    "# Simple random data\n",
    "\n",
    "Positive dimension values of an array are passed in<br>\n",
    "If the argument is missing a random Python float is returned"
   ]
  },
  {
   "cell_type": "markdown",
   "metadata": {},
   "source": [
    "## [numpy.random.rand (d0, d1, d2, ..., dn)](https://docs.scipy.org/doc/numpy-1.15.1/reference/generated/numpy.random.rand.html#numpy.random.rand)\n",
    " Dimensions are passed in separate arguments. "
   ]
  },
  {
   "cell_type": "markdown",
   "metadata": {},
   "source": [
    "1. Parameter size: \n",
    "    * number of parameters signifies the size of the array (d2 = 2D array)\n",
    "2. d0 \n",
    "    * number of elements in a 1D array (x)\n",
    "3. d1 \n",
    "    * number of elements in a 2D array (y)\n",
    "4. d2\n",
    "    * number of elements in a 3D array (z)\n",
    "#### and so on\n",
    " \n",
    "The values of elements from the array are, between 0 (including 0) and 1 (not including 1) as shown in [this documentation](https://docs.scipy.org/doc/numpy-1.15.1/reference/generated/numpy.random.rand.html#numpy.random.rand)\n",
    "\n",
    "\n",
    "* Square bracked(s) - **[ ]**\n",
    "    * included\n",
    "* Round bracket(s) - **( )**\n",
    "    * not included"
   ]
  },
  {
   "cell_type": "code",
   "execution_count": 3,
   "metadata": {
    "scrolled": false
   },
   "outputs": [
    {
     "data": {
      "text/plain": [
       "array([[0.29420647, 0.54110356],\n",
       "       [0.41302139, 0.03558498],\n",
       "       [0.65206244, 0.96548623],\n",
       "       [0.58757555, 0.63179459]])"
      ]
     },
     "execution_count": 3,
     "metadata": {},
     "output_type": "execute_result"
    }
   ],
   "source": [
    "# Source code adapted from:\n",
    "# - https://docs.scipy.org/doc/numpy-1.15.1/reference/generated/numpy.random.rand.html#numpy.random.rand\n",
    "# Passing in arguments\n",
    "np.random.rand(4, 2)"
   ]
  },
  {
   "cell_type": "code",
   "execution_count": 4,
   "metadata": {},
   "outputs": [
    {
     "data": {
      "text/plain": [
       "0.036672678457378094"
      ]
     },
     "execution_count": 4,
     "metadata": {},
     "output_type": "execute_result"
    }
   ],
   "source": [
    "# No argument\n",
    "np.random.rand()"
   ]
  },
  {
   "cell_type": "markdown",
   "metadata": {},
   "source": [
    "### Visualise numpy.random.rand\n",
    "Displays a graph of how this function generates random numbers"
   ]
  },
  {
   "cell_type": "code",
   "execution_count": 5,
   "metadata": {},
   "outputs": [],
   "source": [
    "# Create a 1D array with 100 elements of random number values\n",
    "random_rand = np.random.rand(x)"
   ]
  },
  {
   "cell_type": "code",
   "execution_count": 6,
   "metadata": {
    "scrolled": true
   },
   "outputs": [
    {
     "data": {
      "text/plain": [
       "(array([207., 176., 192., 193., 192., 172., 198., 194., 192., 191., 192.,\n",
       "        204., 201., 197., 189., 210., 226., 188., 208., 208., 221., 211.,\n",
       "        210., 221., 209., 208., 194., 206., 224., 194., 206., 209., 193.,\n",
       "        193., 195., 229., 195., 224., 187., 208., 170., 221., 190., 181.,\n",
       "        202., 183., 188., 194., 195., 209.]),\n",
       " array([6.19187407e-05, 2.00603595e-02, 4.00588002e-02, 6.00572410e-02,\n",
       "        8.00556817e-02, 1.00054122e-01, 1.20052563e-01, 1.40051004e-01,\n",
       "        1.60049445e-01, 1.80047885e-01, 2.00046326e-01, 2.20044767e-01,\n",
       "        2.40043208e-01, 2.60041648e-01, 2.80040089e-01, 3.00038530e-01,\n",
       "        3.20036971e-01, 3.40035411e-01, 3.60033852e-01, 3.80032293e-01,\n",
       "        4.00030734e-01, 4.20029174e-01, 4.40027615e-01, 4.60026056e-01,\n",
       "        4.80024497e-01, 5.00022937e-01, 5.20021378e-01, 5.40019819e-01,\n",
       "        5.60018260e-01, 5.80016700e-01, 6.00015141e-01, 6.20013582e-01,\n",
       "        6.40012023e-01, 6.60010463e-01, 6.80008904e-01, 7.00007345e-01,\n",
       "        7.20005786e-01, 7.40004226e-01, 7.60002667e-01, 7.80001108e-01,\n",
       "        7.99999549e-01, 8.19997989e-01, 8.39996430e-01, 8.59994871e-01,\n",
       "        8.79993312e-01, 8.99991752e-01, 9.19990193e-01, 9.39988634e-01,\n",
       "        9.59987075e-01, 9.79985515e-01, 9.99983956e-01]),\n",
       " <a list of 50 Patch objects>)"
      ]
     },
     "execution_count": 6,
     "metadata": {},
     "output_type": "execute_result"
    },
    {
     "data": {
      "image/png": "[encoded data removed]",
      "text/plain": [
       "<Figure size 432x288 with 1 Axes>"
      ]
     },
     "metadata": {
      "needs_background": "light"
     },
     "output_type": "display_data"
    }
   ],
   "source": [
    "# Show the relationship between the amount of numbers in the array and their values\n",
    "plt.hist(random_rand, 50)"
   ]
  },
  {
   "cell_type": "markdown",
   "metadata": {},
   "source": [
    "## [numpy.random.random_sample ([size])](https://docs.scipy.org/doc/numpy-1.15.1/reference/generated/numpy.random.random_sample.html#numpy.random.random_sample)\n",
    "Dimension are passed in a single tuple."
   ]
  },
  {
   "cell_type": "markdown",
   "metadata": {},
   "source": [
    "An idealized random number generator would be considered a [**continuous uniform distribution**](https://www.investopedia.com/terms/u/uniform-distribution.asp) which means every variable has an equal opportunity of appearing.\n",
    "To sample  multiply the output of random_sample by (b-a) and add a:"
   ]
  },
  {
   "cell_type": "code",
   "execution_count": 7,
   "metadata": {
    "scrolled": false
   },
   "outputs": [
    {
     "data": {
      "text/plain": [
       "array([0.21123269, 0.26504011, 0.12898881, ..., 0.05134051, 0.94324493,\n",
       "       0.74470358])"
      ]
     },
     "execution_count": 7,
     "metadata": {},
     "output_type": "execute_result"
    }
   ],
   "source": [
    "# Passing in arguments\n",
    "np.random.random_sample((x,))"
   ]
  },
  {
   "cell_type": "code",
   "execution_count": 8,
   "metadata": {
    "scrolled": false
   },
   "outputs": [
    {
     "data": {
      "text/plain": [
       "array([[-6064.85156171, -4577.64864061],\n",
       "       [-1729.58478466, -9997.01839608],\n",
       "       [-3484.59354664, -6028.6427753 ],\n",
       "       [-3556.46428748, -7415.25112989],\n",
       "       [-3466.97331034, -9091.8324591 ]])"
      ]
     },
     "execution_count": 8,
     "metadata": {},
     "output_type": "execute_result"
    }
   ],
   "source": [
    "rand_sample = x * np.random.random_sample((5, 2)) - x\n",
    "rand_sample"
   ]
  },
  {
   "cell_type": "markdown",
   "metadata": {},
   "source": [
    "### Visualise numpy.random.random_sample\n",
    "Displays a graph of how this function generates random numbers"
   ]
  },
  {
   "cell_type": "code",
   "execution_count": 9,
   "metadata": {
    "scrolled": true
   },
   "outputs": [
    {
     "data": {
      "text/plain": [
       "([array([0., 0., 0., 0., 0., 0., 0., 0., 0., 0., 0., 0., 0., 0., 0., 0., 0.,\n",
       "         0., 0., 0., 0., 0., 0., 1., 0., 0., 0., 0., 0., 0., 0., 0., 0., 0.,\n",
       "         0., 0., 0., 0., 1., 2., 0., 0., 0., 0., 0., 0., 0., 0., 0., 1.]),\n",
       "  array([1., 0., 0., 0., 0., 1., 0., 0., 0., 0., 0., 0., 0., 0., 0., 1., 0.,\n",
       "         0., 0., 0., 0., 0., 0., 0., 1., 0., 0., 0., 0., 0., 0., 0., 1., 0.,\n",
       "         0., 0., 0., 0., 0., 0., 0., 0., 0., 0., 0., 0., 0., 0., 0., 0.])],\n",
       " array([-9997.01839608, -9831.66972385, -9666.32105162, -9500.97237939,\n",
       "        -9335.62370716, -9170.27503493, -9004.92636271, -8839.57769048,\n",
       "        -8674.22901825, -8508.88034602, -8343.53167379, -8178.18300156,\n",
       "        -8012.83432934, -7847.48565711, -7682.13698488, -7516.78831265,\n",
       "        -7351.43964042, -7186.09096819, -7020.74229597, -6855.39362374,\n",
       "        -6690.04495151, -6524.69627928, -6359.34760705, -6193.99893482,\n",
       "        -6028.6502626 , -5863.30159037, -5697.95291814, -5532.60424591,\n",
       "        -5367.25557368, -5201.90690145, -5036.55822923, -4871.209557  ,\n",
       "        -4705.86088477, -4540.51221254, -4375.16354031, -4209.81486808,\n",
       "        -4044.46619586, -3879.11752363, -3713.7688514 , -3548.42017917,\n",
       "        -3383.07150694, -3217.72283471, -3052.37416248, -2887.02549026,\n",
       "        -2721.67681803, -2556.3281458 , -2390.97947357, -2225.63080134,\n",
       "        -2060.28212911, -1894.93345689, -1729.58478466]),\n",
       " <a list of 2 Lists of Patches objects>)"
      ]
     },
     "execution_count": 9,
     "metadata": {},
     "output_type": "execute_result"
    },
    {
     "data": {
      "image/png": "[encoded data removed]",
      "text/plain": [
       "<Figure size 432x288 with 1 Axes>"
      ]
     },
     "metadata": {
      "needs_background": "light"
     },
     "output_type": "display_data"
    }
   ],
   "source": [
    "# Show the relationship between the amount of numbers in the array and their values\n",
    "plt.hist(rand_sample, 50)"
   ]
  },
  {
   "cell_type": "markdown",
   "metadata": {},
   "source": [
    "---\n",
    "# Permutations\n",
    "These are based on certain distribution functions\n",
    "If no value is entered in the range an TypeError appears\n",
    "The elements in the array can only be of integer vallues\n",
    "\n",
    "#### When shuffling a multi-dimentional array\n",
    "1. Formula - np.arange(x).reshape((d0, d1, ...., dn)) \n",
    "    * x = amount of numbers \n",
    "    * d = array dimensions\n",
    "    \n",
    "2. Explain formula\n",
    "    * Array dimensions must be the same\n",
    "        * i.e.\n",
    "            * d0 = d1 = ... = dn\n",
    "    * The number of numbers must be the dimension value at the power of the number of dimensions\n",
    "        * i.e.              \n",
    "            * x = d ^ n"
   ]
  },
  {
   "cell_type": "markdown",
   "metadata": {},
   "source": [
    "## [numpy.random.shuffle (x)](https://docs.scipy.org/doc/numpy-1.15.1/reference/generated/numpy.random.shuffle.html#numpy.random.shuffle)\n",
    "Randomly shuffles an array"
   ]
  },
  {
   "cell_type": "markdown",
   "metadata": {},
   "source": [
    "* It takes in the size of an array and randomly shuffles its contents <br>"
   ]
  },
  {
   "cell_type": "code",
   "execution_count": 10,
   "metadata": {},
   "outputs": [
    {
     "data": {
      "text/plain": [
       "array([0, 1, 2, 3, 4, 5, 6, 7, 8, 9])"
      ]
     },
     "execution_count": 10,
     "metadata": {},
     "output_type": "execute_result"
    }
   ],
   "source": [
    "# The original array of numbers\n",
    "sh_arr = np.arange(10)\n",
    "sh_arr"
   ]
  },
  {
   "cell_type": "code",
   "execution_count": 11,
   "metadata": {
    "scrolled": true
   },
   "outputs": [
    {
     "data": {
      "text/plain": [
       "array([4, 1, 5, 0, 2, 3, 7, 8, 6, 9])"
      ]
     },
     "execution_count": 11,
     "metadata": {},
     "output_type": "execute_result"
    }
   ],
   "source": [
    "# The array of numbers shuffle\n",
    "np.random.shuffle(sh_arr)\n",
    "sh_arr"
   ]
  },
  {
   "cell_type": "code",
   "execution_count": 12,
   "metadata": {},
   "outputs": [
    {
     "data": {
      "text/plain": [
       "array([[4600, 4601, 4602, ..., 4697, 4698, 4699],\n",
       "       [   0,    1,    2, ...,   97,   98,   99],\n",
       "       [7100, 7101, 7102, ..., 7197, 7198, 7199],\n",
       "       ...,\n",
       "       [9300, 9301, 9302, ..., 9397, 9398, 9399],\n",
       "       [7900, 7901, 7902, ..., 7997, 7998, 7999],\n",
       "       [2800, 2801, 2802, ..., 2897, 2898, 2899]])"
      ]
     },
     "execution_count": 12,
     "metadata": {},
     "output_type": "execute_result"
    }
   ],
   "source": [
    "# Shuffle a multi-dimentional array by reshaping the size of an array\n",
    "shuffle_array = np.arange(x).reshape((d, d))\n",
    "np.random.shuffle(shuffle_array)\n",
    "shuffle_array"
   ]
  },
  {
   "cell_type": "markdown",
   "metadata": {},
   "source": [
    "### Visualise numpy.random.shuffle\n",
    "Displays a graph of how this function shuffles the random numbers"
   ]
  },
  {
   "cell_type": "code",
   "execution_count": 13,
   "metadata": {},
   "outputs": [
    {
     "data": {
      "text/plain": [
       "[<matplotlib.lines.Line2D at 0x2627b34fb38>,\n",
       " <matplotlib.lines.Line2D at 0x2627b34fd68>,\n",
       " <matplotlib.lines.Line2D at 0x2627b34feb8>,\n",
       " <matplotlib.lines.Line2D at 0x2627b357048>,\n",
       " <matplotlib.lines.Line2D at 0x2627b357198>,\n",
       " <matplotlib.lines.Line2D at 0x2627b3572e8>,\n",
       " <matplotlib.lines.Line2D at 0x2627b357438>,\n",
       " <matplotlib.lines.Line2D at 0x2627b357588>,\n",
       " <matplotlib.lines.Line2D at 0x2627b3576d8>,\n",
       " <matplotlib.lines.Line2D at 0x2627b357828>,\n",
       " <matplotlib.lines.Line2D at 0x2627b357978>,\n",
       " <matplotlib.lines.Line2D at 0x2627b357ac8>,\n",
       " <matplotlib.lines.Line2D at 0x2627b357c18>,\n",
       " <matplotlib.lines.Line2D at 0x2627b357d68>,\n",
       " <matplotlib.lines.Line2D at 0x2627b357eb8>,\n",
       " <matplotlib.lines.Line2D at 0x2627b35c048>,\n",
       " <matplotlib.lines.Line2D at 0x2627b35c198>,\n",
       " <matplotlib.lines.Line2D at 0x2627b35c2e8>,\n",
       " <matplotlib.lines.Line2D at 0x2627b35c438>,\n",
       " <matplotlib.lines.Line2D at 0x2627b35c588>,\n",
       " <matplotlib.lines.Line2D at 0x2627b35c6d8>,\n",
       " <matplotlib.lines.Line2D at 0x2627b35c828>,\n",
       " <matplotlib.lines.Line2D at 0x2627b35c978>,\n",
       " <matplotlib.lines.Line2D at 0x2627b35cac8>,\n",
       " <matplotlib.lines.Line2D at 0x2627b35cc18>,\n",
       " <matplotlib.lines.Line2D at 0x2627b35cd68>,\n",
       " <matplotlib.lines.Line2D at 0x2627b35ceb8>,\n",
       " <matplotlib.lines.Line2D at 0x2627b361048>,\n",
       " <matplotlib.lines.Line2D at 0x2627b361198>,\n",
       " <matplotlib.lines.Line2D at 0x2627b3612e8>,\n",
       " <matplotlib.lines.Line2D at 0x2627b361438>,\n",
       " <matplotlib.lines.Line2D at 0x2627b361588>,\n",
       " <matplotlib.lines.Line2D at 0x2627b3616d8>,\n",
       " <matplotlib.lines.Line2D at 0x2627b361828>,\n",
       " <matplotlib.lines.Line2D at 0x2627b361978>,\n",
       " <matplotlib.lines.Line2D at 0x2627b361ac8>,\n",
       " <matplotlib.lines.Line2D at 0x2627b361c18>,\n",
       " <matplotlib.lines.Line2D at 0x2627b361d68>,\n",
       " <matplotlib.lines.Line2D at 0x2627b361eb8>,\n",
       " <matplotlib.lines.Line2D at 0x2627b366048>,\n",
       " <matplotlib.lines.Line2D at 0x2627b366198>,\n",
       " <matplotlib.lines.Line2D at 0x2627b3662e8>,\n",
       " <matplotlib.lines.Line2D at 0x2627b366438>,\n",
       " <matplotlib.lines.Line2D at 0x2627b366588>,\n",
       " <matplotlib.lines.Line2D at 0x2627b3666d8>,\n",
       " <matplotlib.lines.Line2D at 0x2627b366828>,\n",
       " <matplotlib.lines.Line2D at 0x2627b366978>,\n",
       " <matplotlib.lines.Line2D at 0x2627b366ac8>,\n",
       " <matplotlib.lines.Line2D at 0x2627b366c18>,\n",
       " <matplotlib.lines.Line2D at 0x2627b366d68>,\n",
       " <matplotlib.lines.Line2D at 0x2627b366eb8>,\n",
       " <matplotlib.lines.Line2D at 0x2627b36b048>,\n",
       " <matplotlib.lines.Line2D at 0x2627b36b198>,\n",
       " <matplotlib.lines.Line2D at 0x2627b36b2e8>,\n",
       " <matplotlib.lines.Line2D at 0x2627b36b438>,\n",
       " <matplotlib.lines.Line2D at 0x2627b36b588>,\n",
       " <matplotlib.lines.Line2D at 0x2627b36b6d8>,\n",
       " <matplotlib.lines.Line2D at 0x2627b36b828>,\n",
       " <matplotlib.lines.Line2D at 0x2627b36b978>,\n",
       " <matplotlib.lines.Line2D at 0x2627b36bac8>,\n",
       " <matplotlib.lines.Line2D at 0x2627b36bc18>,\n",
       " <matplotlib.lines.Line2D at 0x2627b36bd68>,\n",
       " <matplotlib.lines.Line2D at 0x2627b36beb8>,\n",
       " <matplotlib.lines.Line2D at 0x2627b370048>,\n",
       " <matplotlib.lines.Line2D at 0x2627b370198>,\n",
       " <matplotlib.lines.Line2D at 0x2627b3702e8>,\n",
       " <matplotlib.lines.Line2D at 0x2627b370438>,\n",
       " <matplotlib.lines.Line2D at 0x2627b370588>,\n",
       " <matplotlib.lines.Line2D at 0x2627b3706d8>,\n",
       " <matplotlib.lines.Line2D at 0x2627b370828>,\n",
       " <matplotlib.lines.Line2D at 0x2627b370978>,\n",
       " <matplotlib.lines.Line2D at 0x2627b370ac8>,\n",
       " <matplotlib.lines.Line2D at 0x2627b370c18>,\n",
       " <matplotlib.lines.Line2D at 0x2627b370d68>,\n",
       " <matplotlib.lines.Line2D at 0x2627b370eb8>,\n",
       " <matplotlib.lines.Line2D at 0x2627b375048>,\n",
       " <matplotlib.lines.Line2D at 0x2627b375198>,\n",
       " <matplotlib.lines.Line2D at 0x2627b3752e8>,\n",
       " <matplotlib.lines.Line2D at 0x2627b375438>,\n",
       " <matplotlib.lines.Line2D at 0x2627b375588>,\n",
       " <matplotlib.lines.Line2D at 0x2627b3756d8>,\n",
       " <matplotlib.lines.Line2D at 0x2627b375828>,\n",
       " <matplotlib.lines.Line2D at 0x2627b375978>,\n",
       " <matplotlib.lines.Line2D at 0x2627b375ac8>,\n",
       " <matplotlib.lines.Line2D at 0x2627b375c18>,\n",
       " <matplotlib.lines.Line2D at 0x2627b375d68>,\n",
       " <matplotlib.lines.Line2D at 0x2627b375eb8>,\n",
       " <matplotlib.lines.Line2D at 0x2627b379048>,\n",
       " <matplotlib.lines.Line2D at 0x2627b379198>,\n",
       " <matplotlib.lines.Line2D at 0x2627b3792e8>,\n",
       " <matplotlib.lines.Line2D at 0x2627b379438>,\n",
       " <matplotlib.lines.Line2D at 0x2627b379588>,\n",
       " <matplotlib.lines.Line2D at 0x2627b3796d8>,\n",
       " <matplotlib.lines.Line2D at 0x2627b379828>,\n",
       " <matplotlib.lines.Line2D at 0x2627b379978>,\n",
       " <matplotlib.lines.Line2D at 0x2627b379ac8>,\n",
       " <matplotlib.lines.Line2D at 0x2627b379c18>,\n",
       " <matplotlib.lines.Line2D at 0x2627b379d68>,\n",
       " <matplotlib.lines.Line2D at 0x2627b379eb8>,\n",
       " <matplotlib.lines.Line2D at 0x2627b37f048>]"
      ]
     },
     "execution_count": 13,
     "metadata": {},
     "output_type": "execute_result"
    },
    {
     "data": {
      "image/png": "[encoded data removed]",
      "text/plain": [
       "<Figure size 432x288 with 1 Axes>"
      ]
     },
     "metadata": {
      "needs_background": "light"
     },
     "output_type": "display_data"
    }
   ],
   "source": [
    "# Show the relationship between numbers in the original array and the numbers in the shuffled array\n",
    "# With lines\n",
    "plt.plot(shuffle_array, 'c-')"
   ]
  },
  {
   "cell_type": "code",
   "execution_count": 14,
   "metadata": {},
   "outputs": [
    {
     "data": {
      "text/plain": [
       "[<matplotlib.lines.Line2D at 0x2627b49f320>,\n",
       " <matplotlib.lines.Line2D at 0x2627b49f438>,\n",
       " <matplotlib.lines.Line2D at 0x2627b49f588>,\n",
       " <matplotlib.lines.Line2D at 0x2627b49f6d8>,\n",
       " <matplotlib.lines.Line2D at 0x2627b49f828>,\n",
       " <matplotlib.lines.Line2D at 0x2627b49f978>,\n",
       " <matplotlib.lines.Line2D at 0x2627b49fac8>,\n",
       " <matplotlib.lines.Line2D at 0x2627b49fc18>,\n",
       " <matplotlib.lines.Line2D at 0x2627b49fd68>,\n",
       " <matplotlib.lines.Line2D at 0x2627b49feb8>,\n",
       " <matplotlib.lines.Line2D at 0x2627b4a4048>,\n",
       " <matplotlib.lines.Line2D at 0x2627b4a4198>,\n",
       " <matplotlib.lines.Line2D at 0x2627b4a42e8>,\n",
       " <matplotlib.lines.Line2D at 0x2627b4a4438>,\n",
       " <matplotlib.lines.Line2D at 0x2627b4a4588>,\n",
       " <matplotlib.lines.Line2D at 0x2627b4a46d8>,\n",
       " <matplotlib.lines.Line2D at 0x2627b4a4828>,\n",
       " <matplotlib.lines.Line2D at 0x2627b4a4978>,\n",
       " <matplotlib.lines.Line2D at 0x2627b4a4ac8>,\n",
       " <matplotlib.lines.Line2D at 0x2627b4a4c18>,\n",
       " <matplotlib.lines.Line2D at 0x2627b4a4d68>,\n",
       " <matplotlib.lines.Line2D at 0x2627b4a4eb8>,\n",
       " <matplotlib.lines.Line2D at 0x2627b4a9048>,\n",
       " <matplotlib.lines.Line2D at 0x2627b4a9198>,\n",
       " <matplotlib.lines.Line2D at 0x2627b4a92e8>,\n",
       " <matplotlib.lines.Line2D at 0x2627b4a9438>,\n",
       " <matplotlib.lines.Line2D at 0x2627b4a9588>,\n",
       " <matplotlib.lines.Line2D at 0x2627b4a96d8>,\n",
       " <matplotlib.lines.Line2D at 0x2627b4a9828>,\n",
       " <matplotlib.lines.Line2D at 0x2627b4a9978>,\n",
       " <matplotlib.lines.Line2D at 0x2627b4a9ac8>,\n",
       " <matplotlib.lines.Line2D at 0x2627b4a9c18>,\n",
       " <matplotlib.lines.Line2D at 0x2627b4a9d68>,\n",
       " <matplotlib.lines.Line2D at 0x2627b4a9eb8>,\n",
       " <matplotlib.lines.Line2D at 0x2627b4af048>,\n",
       " <matplotlib.lines.Line2D at 0x2627b4af198>,\n",
       " <matplotlib.lines.Line2D at 0x2627b4af2e8>,\n",
       " <matplotlib.lines.Line2D at 0x2627b4af438>,\n",
       " <matplotlib.lines.Line2D at 0x2627b4af588>,\n",
       " <matplotlib.lines.Line2D at 0x2627b4af6d8>,\n",
       " <matplotlib.lines.Line2D at 0x2627b4af828>,\n",
       " <matplotlib.lines.Line2D at 0x2627b4af978>,\n",
       " <matplotlib.lines.Line2D at 0x2627b4afac8>,\n",
       " <matplotlib.lines.Line2D at 0x2627b4afc18>,\n",
       " <matplotlib.lines.Line2D at 0x2627b4afd68>,\n",
       " <matplotlib.lines.Line2D at 0x2627b4afeb8>,\n",
       " <matplotlib.lines.Line2D at 0x2627b4b5048>,\n",
       " <matplotlib.lines.Line2D at 0x2627b4b5198>,\n",
       " <matplotlib.lines.Line2D at 0x2627b4b52e8>,\n",
       " <matplotlib.lines.Line2D at 0x2627b4b5438>,\n",
       " <matplotlib.lines.Line2D at 0x2627b4b5588>,\n",
       " <matplotlib.lines.Line2D at 0x2627b4b56d8>,\n",
       " <matplotlib.lines.Line2D at 0x2627b4b5828>,\n",
       " <matplotlib.lines.Line2D at 0x2627b4b5978>,\n",
       " <matplotlib.lines.Line2D at 0x2627b4b5ac8>,\n",
       " <matplotlib.lines.Line2D at 0x2627b4b5c18>,\n",
       " <matplotlib.lines.Line2D at 0x2627b4b5d68>,\n",
       " <matplotlib.lines.Line2D at 0x2627b4b5eb8>,\n",
       " <matplotlib.lines.Line2D at 0x2627b4b9048>,\n",
       " <matplotlib.lines.Line2D at 0x2627b4b9198>,\n",
       " <matplotlib.lines.Line2D at 0x2627b4b92e8>,\n",
       " <matplotlib.lines.Line2D at 0x2627b4b9438>,\n",
       " <matplotlib.lines.Line2D at 0x2627b4b9588>,\n",
       " <matplotlib.lines.Line2D at 0x2627b4b96d8>,\n",
       " <matplotlib.lines.Line2D at 0x2627b4b9828>,\n",
       " <matplotlib.lines.Line2D at 0x2627b4b9978>,\n",
       " <matplotlib.lines.Line2D at 0x2627b4b9ac8>,\n",
       " <matplotlib.lines.Line2D at 0x2627b4b9c18>,\n",
       " <matplotlib.lines.Line2D at 0x2627b4b9d68>,\n",
       " <matplotlib.lines.Line2D at 0x2627b4b9eb8>,\n",
       " <matplotlib.lines.Line2D at 0x2627b4be048>,\n",
       " <matplotlib.lines.Line2D at 0x2627b4be198>,\n",
       " <matplotlib.lines.Line2D at 0x2627b4be2e8>,\n",
       " <matplotlib.lines.Line2D at 0x2627b4be438>,\n",
       " <matplotlib.lines.Line2D at 0x2627b4be588>,\n",
       " <matplotlib.lines.Line2D at 0x2627b4be6d8>,\n",
       " <matplotlib.lines.Line2D at 0x2627b4be828>,\n",
       " <matplotlib.lines.Line2D at 0x2627b4be978>,\n",
       " <matplotlib.lines.Line2D at 0x2627b4beac8>,\n",
       " <matplotlib.lines.Line2D at 0x2627b4bec18>,\n",
       " <matplotlib.lines.Line2D at 0x2627b4bed68>,\n",
       " <matplotlib.lines.Line2D at 0x2627b4beeb8>,\n",
       " <matplotlib.lines.Line2D at 0x2627b4c3048>,\n",
       " <matplotlib.lines.Line2D at 0x2627b4c3198>,\n",
       " <matplotlib.lines.Line2D at 0x2627b4c32e8>,\n",
       " <matplotlib.lines.Line2D at 0x2627b4c3438>,\n",
       " <matplotlib.lines.Line2D at 0x2627b4c3588>,\n",
       " <matplotlib.lines.Line2D at 0x2627b4c36d8>,\n",
       " <matplotlib.lines.Line2D at 0x2627b4c3828>,\n",
       " <matplotlib.lines.Line2D at 0x2627b4c3978>,\n",
       " <matplotlib.lines.Line2D at 0x2627b4c3ac8>,\n",
       " <matplotlib.lines.Line2D at 0x2627b4c3c18>,\n",
       " <matplotlib.lines.Line2D at 0x2627b4c3d68>,\n",
       " <matplotlib.lines.Line2D at 0x2627b4c3eb8>,\n",
       " <matplotlib.lines.Line2D at 0x2627b4ca048>,\n",
       " <matplotlib.lines.Line2D at 0x2627b4ca198>,\n",
       " <matplotlib.lines.Line2D at 0x2627b4ca2e8>,\n",
       " <matplotlib.lines.Line2D at 0x2627b4ca438>,\n",
       " <matplotlib.lines.Line2D at 0x2627b4ca588>,\n",
       " <matplotlib.lines.Line2D at 0x2627b4ca6d8>]"
      ]
     },
     "execution_count": 14,
     "metadata": {},
     "output_type": "execute_result"
    },
    {
     "data": {
      "image/png": "[encoded data removed]",
      "text/plain": [
       "<Figure size 432x288 with 1 Axes>"
      ]
     },
     "metadata": {
      "needs_background": "light"
     },
     "output_type": "display_data"
    }
   ],
   "source": [
    "# With pluses\n",
    "plt.plot(shuffle_array, 'c+')"
   ]
  },
  {
   "cell_type": "markdown",
   "metadata": {},
   "source": [
    "## [numpy.random.permutation (x)](https://docs.scipy.org/doc/numpy-1.15.1/reference/generated/numpy.random.permutation.html#numpy.random.permutation)\n",
    "Randomly permutes an array"
   ]
  },
  {
   "cell_type": "markdown",
   "metadata": {},
   "source": [
    "* It takes in \n",
    "    * size of an array \n",
    "        * dirrectly - without using np.arange(x)\n",
    "        * randomly permutes\n",
    "    * an array \n",
    "        * makes a copy of the array\n",
    "        * randomly shuffle its contents\n",
    "        * **Note**: if multi-dimensional - only shuffled along its first index"
   ]
  },
  {
   "cell_type": "code",
   "execution_count": 15,
   "metadata": {
    "scrolled": true
   },
   "outputs": [
    {
     "data": {
      "text/plain": [
       "array([5, 1, 9, 6, 7, 3, 4, 2, 8, 0])"
      ]
     },
     "execution_count": 15,
     "metadata": {},
     "output_type": "execute_result"
    }
   ],
   "source": [
    "# Permutes size of an array\n",
    "np.random.permutation(10)"
   ]
  },
  {
   "cell_type": "code",
   "execution_count": 16,
   "metadata": {
    "scrolled": true
   },
   "outputs": [
    {
     "data": {
      "text/plain": [
       "array([ 50, 100,  10,   5,   4])"
      ]
     },
     "execution_count": 16,
     "metadata": {},
     "output_type": "execute_result"
    }
   ],
   "source": [
    "# Makes a copy of an array and shuffles it\n",
    "np.random.permutation([100, 5, 10, 50, 4])"
   ]
  },
  {
   "cell_type": "code",
   "execution_count": 17,
   "metadata": {},
   "outputs": [
    {
     "data": {
      "text/plain": [
       "array([[0.74261496, 0.73808343],\n",
       "       [0.55705324, 0.20218937],\n",
       "       [0.24313046, 0.94507099],\n",
       "       [0.56738111, 0.5443181 ]])"
      ]
     },
     "execution_count": 17,
     "metadata": {},
     "output_type": "execute_result"
    }
   ],
   "source": [
    "# Create multi-dimentional array\n",
    "mdp_array = np.random.rand(4, 2)\n",
    "mdp_array"
   ]
  },
  {
   "cell_type": "code",
   "execution_count": 18,
   "metadata": {},
   "outputs": [
    {
     "data": {
      "text/plain": [
       "array([[0.24313046, 0.94507099],\n",
       "       [0.55705324, 0.20218937],\n",
       "       [0.74261496, 0.73808343],\n",
       "       [0.56738111, 0.5443181 ]])"
      ]
     },
     "execution_count": 18,
     "metadata": {},
     "output_type": "execute_result"
    }
   ],
   "source": [
    "# Permute the multi-dimentional array\n",
    "np.random.permutation(mdp_array)"
   ]
  },
  {
   "cell_type": "code",
   "execution_count": 19,
   "metadata": {},
   "outputs": [
    {
     "data": {
      "text/plain": [
       "array([[   0,    1,    2, ...,   97,   98,   99],\n",
       "       [ 100,  101,  102, ...,  197,  198,  199],\n",
       "       [ 200,  201,  202, ...,  297,  298,  299],\n",
       "       ...,\n",
       "       [9700, 9701, 9702, ..., 9797, 9798, 9799],\n",
       "       [9800, 9801, 9802, ..., 9897, 9898, 9899],\n",
       "       [9900, 9901, 9902, ..., 9997, 9998, 9999]])"
      ]
     },
     "execution_count": 19,
     "metadata": {},
     "output_type": "execute_result"
    }
   ],
   "source": [
    "# Reshape the size of an array\n",
    "permutation_array = np.arange(x).reshape((d, d))\n",
    "permutation_array"
   ]
  },
  {
   "cell_type": "code",
   "execution_count": 20,
   "metadata": {
    "scrolled": true
   },
   "outputs": [
    {
     "data": {
      "text/plain": [
       "array([[6400, 6401, 6402, ..., 6497, 6498, 6499],\n",
       "       [3800, 3801, 3802, ..., 3897, 3898, 3899],\n",
       "       [2400, 2401, 2402, ..., 2497, 2498, 2499],\n",
       "       ...,\n",
       "       [ 800,  801,  802, ...,  897,  898,  899],\n",
       "       [8500, 8501, 8502, ..., 8597, 8598, 8599],\n",
       "       [8400, 8401, 8402, ..., 8497, 8498, 8499]])"
      ]
     },
     "execution_count": 20,
     "metadata": {},
     "output_type": "execute_result"
    }
   ],
   "source": [
    "# Make a copy and shuffle the array\n",
    "np.random.permutation(permutation_array)"
   ]
  },
  {
   "cell_type": "markdown",
   "metadata": {},
   "source": [
    "### Visualise numpy.random.permutation\n",
    "Displays a graph of how this function permutes the random numbers"
   ]
  },
  {
   "cell_type": "code",
   "execution_count": 21,
   "metadata": {
    "scrolled": true
   },
   "outputs": [
    {
     "data": {
      "text/plain": [
       "[<matplotlib.lines.Line2D at 0x2627b5dd898>,\n",
       " <matplotlib.lines.Line2D at 0x2627b5dd9e8>,\n",
       " <matplotlib.lines.Line2D at 0x2627b5ddb38>,\n",
       " <matplotlib.lines.Line2D at 0x2627b5ddc88>,\n",
       " <matplotlib.lines.Line2D at 0x2627b5dddd8>,\n",
       " <matplotlib.lines.Line2D at 0x2627b5ddf28>,\n",
       " <matplotlib.lines.Line2D at 0x2627b5e90b8>,\n",
       " <matplotlib.lines.Line2D at 0x2627b5e9208>,\n",
       " <matplotlib.lines.Line2D at 0x2627b5e9358>,\n",
       " <matplotlib.lines.Line2D at 0x2627b5e94a8>,\n",
       " <matplotlib.lines.Line2D at 0x2627b5e95f8>,\n",
       " <matplotlib.lines.Line2D at 0x2627b5e9748>,\n",
       " <matplotlib.lines.Line2D at 0x2627b5e9898>,\n",
       " <matplotlib.lines.Line2D at 0x2627b5e99e8>,\n",
       " <matplotlib.lines.Line2D at 0x2627b5e9b38>,\n",
       " <matplotlib.lines.Line2D at 0x2627b5e9c88>,\n",
       " <matplotlib.lines.Line2D at 0x2627b5e9dd8>,\n",
       " <matplotlib.lines.Line2D at 0x2627b5e9f28>,\n",
       " <matplotlib.lines.Line2D at 0x2627b5ef0b8>,\n",
       " <matplotlib.lines.Line2D at 0x2627b5ef208>,\n",
       " <matplotlib.lines.Line2D at 0x2627b5ef358>,\n",
       " <matplotlib.lines.Line2D at 0x2627b5ef4a8>,\n",
       " <matplotlib.lines.Line2D at 0x2627b5ef5f8>,\n",
       " <matplotlib.lines.Line2D at 0x2627b5ef748>,\n",
       " <matplotlib.lines.Line2D at 0x2627b5ef898>,\n",
       " <matplotlib.lines.Line2D at 0x2627b5ef9e8>,\n",
       " <matplotlib.lines.Line2D at 0x2627b5efb38>,\n",
       " <matplotlib.lines.Line2D at 0x2627b5efc88>,\n",
       " <matplotlib.lines.Line2D at 0x2627b5efdd8>,\n",
       " <matplotlib.lines.Line2D at 0x2627b5eff28>,\n",
       " <matplotlib.lines.Line2D at 0x2627b5f30b8>,\n",
       " <matplotlib.lines.Line2D at 0x2627b5f3208>,\n",
       " <matplotlib.lines.Line2D at 0x2627b5f3358>,\n",
       " <matplotlib.lines.Line2D at 0x2627b5f34a8>,\n",
       " <matplotlib.lines.Line2D at 0x2627b5f35f8>,\n",
       " <matplotlib.lines.Line2D at 0x2627b5f3748>,\n",
       " <matplotlib.lines.Line2D at 0x2627b5f3898>,\n",
       " <matplotlib.lines.Line2D at 0x2627b5f39e8>,\n",
       " <matplotlib.lines.Line2D at 0x2627b5f3b38>,\n",
       " <matplotlib.lines.Line2D at 0x2627b5f3c88>,\n",
       " <matplotlib.lines.Line2D at 0x2627b5f3dd8>,\n",
       " <matplotlib.lines.Line2D at 0x2627b5f3f28>,\n",
       " <matplotlib.lines.Line2D at 0x2627b5f80b8>,\n",
       " <matplotlib.lines.Line2D at 0x2627b5f8208>,\n",
       " <matplotlib.lines.Line2D at 0x2627b5f8358>,\n",
       " <matplotlib.lines.Line2D at 0x2627b5f84a8>,\n",
       " <matplotlib.lines.Line2D at 0x2627b5f85f8>,\n",
       " <matplotlib.lines.Line2D at 0x2627b5f8748>,\n",
       " <matplotlib.lines.Line2D at 0x2627b5f8898>,\n",
       " <matplotlib.lines.Line2D at 0x2627b5f89e8>,\n",
       " <matplotlib.lines.Line2D at 0x2627b5f8b38>,\n",
       " <matplotlib.lines.Line2D at 0x2627b5f8c88>,\n",
       " <matplotlib.lines.Line2D at 0x2627b5f8dd8>,\n",
       " <matplotlib.lines.Line2D at 0x2627b5f8f28>,\n",
       " <matplotlib.lines.Line2D at 0x2627b5fe0b8>,\n",
       " <matplotlib.lines.Line2D at 0x2627b5fe208>,\n",
       " <matplotlib.lines.Line2D at 0x2627b5fe358>,\n",
       " <matplotlib.lines.Line2D at 0x2627b5fe4a8>,\n",
       " <matplotlib.lines.Line2D at 0x2627b5fe5f8>,\n",
       " <matplotlib.lines.Line2D at 0x2627b5fe748>,\n",
       " <matplotlib.lines.Line2D at 0x2627b5fe898>,\n",
       " <matplotlib.lines.Line2D at 0x2627b5fe9e8>,\n",
       " <matplotlib.lines.Line2D at 0x2627b5feb38>,\n",
       " <matplotlib.lines.Line2D at 0x2627b5fec88>,\n",
       " <matplotlib.lines.Line2D at 0x2627b5fedd8>,\n",
       " <matplotlib.lines.Line2D at 0x2627b5fef28>,\n",
       " <matplotlib.lines.Line2D at 0x2627b6030b8>,\n",
       " <matplotlib.lines.Line2D at 0x2627b603208>,\n",
       " <matplotlib.lines.Line2D at 0x2627b603358>,\n",
       " <matplotlib.lines.Line2D at 0x2627b6034a8>,\n",
       " <matplotlib.lines.Line2D at 0x2627b6035f8>,\n",
       " <matplotlib.lines.Line2D at 0x2627b603748>,\n",
       " <matplotlib.lines.Line2D at 0x2627b603898>,\n",
       " <matplotlib.lines.Line2D at 0x2627b6039e8>,\n",
       " <matplotlib.lines.Line2D at 0x2627b603b38>,\n",
       " <matplotlib.lines.Line2D at 0x2627b603c88>,\n",
       " <matplotlib.lines.Line2D at 0x2627b603dd8>,\n",
       " <matplotlib.lines.Line2D at 0x2627b603f28>,\n",
       " <matplotlib.lines.Line2D at 0x2627b6070b8>,\n",
       " <matplotlib.lines.Line2D at 0x2627b607208>,\n",
       " <matplotlib.lines.Line2D at 0x2627b607358>,\n",
       " <matplotlib.lines.Line2D at 0x2627b6074a8>,\n",
       " <matplotlib.lines.Line2D at 0x2627b6075f8>,\n",
       " <matplotlib.lines.Line2D at 0x2627b607748>,\n",
       " <matplotlib.lines.Line2D at 0x2627b607898>,\n",
       " <matplotlib.lines.Line2D at 0x2627b6079e8>,\n",
       " <matplotlib.lines.Line2D at 0x2627b607b38>,\n",
       " <matplotlib.lines.Line2D at 0x2627b607c88>,\n",
       " <matplotlib.lines.Line2D at 0x2627b607dd8>,\n",
       " <matplotlib.lines.Line2D at 0x2627b607f28>,\n",
       " <matplotlib.lines.Line2D at 0x2627b60d0b8>,\n",
       " <matplotlib.lines.Line2D at 0x2627b60d208>,\n",
       " <matplotlib.lines.Line2D at 0x2627b60d358>,\n",
       " <matplotlib.lines.Line2D at 0x2627b60d4a8>,\n",
       " <matplotlib.lines.Line2D at 0x2627b60d5f8>,\n",
       " <matplotlib.lines.Line2D at 0x2627b60d748>,\n",
       " <matplotlib.lines.Line2D at 0x2627b60d898>,\n",
       " <matplotlib.lines.Line2D at 0x2627b60d9e8>,\n",
       " <matplotlib.lines.Line2D at 0x2627b60db38>,\n",
       " <matplotlib.lines.Line2D at 0x2627b60dc88>]"
      ]
     },
     "execution_count": 21,
     "metadata": {},
     "output_type": "execute_result"
    },
    {
     "data": {
      "image/png": "[encoded data removed]",
      "text/plain": [
       "<Figure size 432x288 with 1 Axes>"
      ]
     },
     "metadata": {
      "needs_background": "light"
     },
     "output_type": "display_data"
    }
   ],
   "source": [
    "# Show the relationship between numbers in the original array and the numbers in the shuffled array\n",
    "# With lines\n",
    "plt.plot(permutation_array, 'c-')"
   ]
  },
  {
   "cell_type": "code",
   "execution_count": 22,
   "metadata": {},
   "outputs": [
    {
     "data": {
      "text/plain": [
       "[<matplotlib.lines.Line2D at 0x2627b714668>,\n",
       " <matplotlib.lines.Line2D at 0x2627b714780>,\n",
       " <matplotlib.lines.Line2D at 0x2627b7148d0>,\n",
       " <matplotlib.lines.Line2D at 0x2627b714a20>,\n",
       " <matplotlib.lines.Line2D at 0x2627b714b70>,\n",
       " <matplotlib.lines.Line2D at 0x2627b714cc0>,\n",
       " <matplotlib.lines.Line2D at 0x2627b714e10>,\n",
       " <matplotlib.lines.Line2D at 0x2627b714f60>,\n",
       " <matplotlib.lines.Line2D at 0x2627b72b0f0>,\n",
       " <matplotlib.lines.Line2D at 0x2627b72b240>,\n",
       " <matplotlib.lines.Line2D at 0x2627b72b390>,\n",
       " <matplotlib.lines.Line2D at 0x2627b72b4e0>,\n",
       " <matplotlib.lines.Line2D at 0x2627b72b630>,\n",
       " <matplotlib.lines.Line2D at 0x2627b72b780>,\n",
       " <matplotlib.lines.Line2D at 0x2627b72b8d0>,\n",
       " <matplotlib.lines.Line2D at 0x2627b72ba20>,\n",
       " <matplotlib.lines.Line2D at 0x2627b72bb70>,\n",
       " <matplotlib.lines.Line2D at 0x2627b72bcc0>,\n",
       " <matplotlib.lines.Line2D at 0x2627b72be10>,\n",
       " <matplotlib.lines.Line2D at 0x2627b72bf60>,\n",
       " <matplotlib.lines.Line2D at 0x2627b7310f0>,\n",
       " <matplotlib.lines.Line2D at 0x2627b731240>,\n",
       " <matplotlib.lines.Line2D at 0x2627b731390>,\n",
       " <matplotlib.lines.Line2D at 0x2627b7314e0>,\n",
       " <matplotlib.lines.Line2D at 0x2627b731630>,\n",
       " <matplotlib.lines.Line2D at 0x2627b731780>,\n",
       " <matplotlib.lines.Line2D at 0x2627b7318d0>,\n",
       " <matplotlib.lines.Line2D at 0x2627b731a20>,\n",
       " <matplotlib.lines.Line2D at 0x2627b731b70>,\n",
       " <matplotlib.lines.Line2D at 0x2627b731cc0>,\n",
       " <matplotlib.lines.Line2D at 0x2627b731e10>,\n",
       " <matplotlib.lines.Line2D at 0x2627b731f60>,\n",
       " <matplotlib.lines.Line2D at 0x2627b7350f0>,\n",
       " <matplotlib.lines.Line2D at 0x2627b735240>,\n",
       " <matplotlib.lines.Line2D at 0x2627b735390>,\n",
       " <matplotlib.lines.Line2D at 0x2627b7354e0>,\n",
       " <matplotlib.lines.Line2D at 0x2627b735630>,\n",
       " <matplotlib.lines.Line2D at 0x2627b735780>,\n",
       " <matplotlib.lines.Line2D at 0x2627b7358d0>,\n",
       " <matplotlib.lines.Line2D at 0x2627b735a20>,\n",
       " <matplotlib.lines.Line2D at 0x2627b735b70>,\n",
       " <matplotlib.lines.Line2D at 0x2627b735cc0>,\n",
       " <matplotlib.lines.Line2D at 0x2627b735e10>,\n",
       " <matplotlib.lines.Line2D at 0x2627b735f60>,\n",
       " <matplotlib.lines.Line2D at 0x2627b73b0f0>,\n",
       " <matplotlib.lines.Line2D at 0x2627b73b240>,\n",
       " <matplotlib.lines.Line2D at 0x2627b73b390>,\n",
       " <matplotlib.lines.Line2D at 0x2627b73b4e0>,\n",
       " <matplotlib.lines.Line2D at 0x2627b73b630>,\n",
       " <matplotlib.lines.Line2D at 0x2627b73b780>,\n",
       " <matplotlib.lines.Line2D at 0x2627b73b8d0>,\n",
       " <matplotlib.lines.Line2D at 0x2627b73ba20>,\n",
       " <matplotlib.lines.Line2D at 0x2627b73bb70>,\n",
       " <matplotlib.lines.Line2D at 0x2627b73bcc0>,\n",
       " <matplotlib.lines.Line2D at 0x2627b73be10>,\n",
       " <matplotlib.lines.Line2D at 0x2627b73bf60>,\n",
       " <matplotlib.lines.Line2D at 0x2627b7410f0>,\n",
       " <matplotlib.lines.Line2D at 0x2627b741240>,\n",
       " <matplotlib.lines.Line2D at 0x2627b741390>,\n",
       " <matplotlib.lines.Line2D at 0x2627b7414e0>,\n",
       " <matplotlib.lines.Line2D at 0x2627b741630>,\n",
       " <matplotlib.lines.Line2D at 0x2627b741780>,\n",
       " <matplotlib.lines.Line2D at 0x2627b7418d0>,\n",
       " <matplotlib.lines.Line2D at 0x2627b741a20>,\n",
       " <matplotlib.lines.Line2D at 0x2627b741b70>,\n",
       " <matplotlib.lines.Line2D at 0x2627b741cc0>,\n",
       " <matplotlib.lines.Line2D at 0x2627b741e10>,\n",
       " <matplotlib.lines.Line2D at 0x2627b741f60>,\n",
       " <matplotlib.lines.Line2D at 0x2627b7460f0>,\n",
       " <matplotlib.lines.Line2D at 0x2627b746240>,\n",
       " <matplotlib.lines.Line2D at 0x2627b746390>,\n",
       " <matplotlib.lines.Line2D at 0x2627b7464e0>,\n",
       " <matplotlib.lines.Line2D at 0x2627b746630>,\n",
       " <matplotlib.lines.Line2D at 0x2627b746780>,\n",
       " <matplotlib.lines.Line2D at 0x2627b7468d0>,\n",
       " <matplotlib.lines.Line2D at 0x2627b746a20>,\n",
       " <matplotlib.lines.Line2D at 0x2627b746b70>,\n",
       " <matplotlib.lines.Line2D at 0x2627b746cc0>,\n",
       " <matplotlib.lines.Line2D at 0x2627b746e10>,\n",
       " <matplotlib.lines.Line2D at 0x2627b746f60>,\n",
       " <matplotlib.lines.Line2D at 0x2627b74b0f0>,\n",
       " <matplotlib.lines.Line2D at 0x2627b74b240>,\n",
       " <matplotlib.lines.Line2D at 0x2627b74b390>,\n",
       " <matplotlib.lines.Line2D at 0x2627b74b4e0>,\n",
       " <matplotlib.lines.Line2D at 0x2627b74b630>,\n",
       " <matplotlib.lines.Line2D at 0x2627b74b780>,\n",
       " <matplotlib.lines.Line2D at 0x2627b74b8d0>,\n",
       " <matplotlib.lines.Line2D at 0x2627b74ba20>,\n",
       " <matplotlib.lines.Line2D at 0x2627b74bb70>,\n",
       " <matplotlib.lines.Line2D at 0x2627b74bcc0>,\n",
       " <matplotlib.lines.Line2D at 0x2627b74be10>,\n",
       " <matplotlib.lines.Line2D at 0x2627b74bf60>,\n",
       " <matplotlib.lines.Line2D at 0x2627b7510f0>,\n",
       " <matplotlib.lines.Line2D at 0x2627b751240>,\n",
       " <matplotlib.lines.Line2D at 0x2627b751390>,\n",
       " <matplotlib.lines.Line2D at 0x2627b7514e0>,\n",
       " <matplotlib.lines.Line2D at 0x2627b751630>,\n",
       " <matplotlib.lines.Line2D at 0x2627b751780>,\n",
       " <matplotlib.lines.Line2D at 0x2627b7518d0>,\n",
       " <matplotlib.lines.Line2D at 0x2627b751a20>]"
      ]
     },
     "execution_count": 22,
     "metadata": {},
     "output_type": "execute_result"
    },
    {
     "data": {
      "image/png": "[encoded data removed]",
      "text/plain": [
       "<Figure size 432x288 with 1 Axes>"
      ]
     },
     "metadata": {
      "needs_background": "light"
     },
     "output_type": "display_data"
    }
   ],
   "source": [
    "# With pluses\n",
    "plt.plot(permutation_array, 'c+')"
   ]
  },
  {
   "cell_type": "markdown",
   "metadata": {},
   "source": [
    "___\n",
    "## Distributions"
   ]
  },
  {
   "cell_type": "markdown",
   "metadata": {},
   "source": [
    "---\n",
    "## Random generator"
   ]
  },
  {
   "cell_type": "code",
   "execution_count": null,
   "metadata": {},
   "outputs": [],
   "source": []
  }
 ],
 "metadata": {
  "kernelspec": {
   "display_name": "Python 3",
   "language": "python",
   "name": "python3"
  },
  "language_info": {
   "codemirror_mode": {
    "name": "ipython",
    "version": 3
   },
   "file_extension": ".py",
   "mimetype": "text/x-python",
   "name": "python",
   "nbconvert_exporter": "python",
   "pygments_lexer": "ipython3",
   "version": "3.6.7"
  }
 },
 "nbformat": 4,
 "nbformat_minor": 2
}
