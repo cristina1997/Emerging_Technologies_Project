{
 "cells": [
  {
   "cell_type": "markdown",
   "metadata": {},
   "source": [
    "# Numpy random sampling notebook"
   ]
  },
  {
   "cell_type": "markdown",
   "metadata": {},
   "source": [
    "---\n",
    "## [What is Numpy?](http://www.numpy.org)\n",
    "Numpy is a Python library used for scientific computing that can be used as a multi-dimensional container of data. \n",
    "It provides:\n",
    "* a N-dimensional array object\n",
    "* broadcasting functions\n",
    "* tools to integrate languages such as C and C++ \n",
    "* computations such as\n",
    "    * linear algebra\n",
    "    * Fourier transform \n",
    "    * random number capabilities\n",
    "---"
   ]
  },
  {
   "cell_type": "markdown",
   "metadata": {},
   "source": [
    "## Packages\n",
    "We need to import the packages require for this code to work."
   ]
  },
  {
   "cell_type": "code",
   "execution_count": 1,
   "metadata": {},
   "outputs": [],
   "source": [
    "# Random algebra\n",
    "import numpy as np\n",
    "\n",
    "# \n",
    "import scipy.special as sps\n",
    "\n",
    "# Visualise data\n",
    "import matplotlib.pyplot as plt\n",
    "%matplotlib inline"
   ]
  },
  {
   "cell_type": "code",
   "execution_count": 2,
   "metadata": {},
   "outputs": [],
   "source": [
    "# Initialise number of numbers to be used\n",
    "\n",
    "x = 10000          # amount of values used in all tests\n",
    "\n",
    "d = 100           # array dimensions used in permutations\n",
    "\n",
    "hs = 20           # size of histograms used in all tests"
   ]
  },
  {
   "cell_type": "markdown",
   "metadata": {},
   "source": [
    "___\n",
    "# Simple random data\n",
    "\n",
    "Positive dimension values of an array are passed in<br>\n",
    "If the argument is missing a random Python float is returned"
   ]
  },
  {
   "cell_type": "markdown",
   "metadata": {},
   "source": [
    "## [numpy.random.rand (d0, d1, d2, ..., dn)](https://docs.scipy.org/doc/numpy-1.15.1/reference/generated/numpy.random.rand.html#numpy.random.rand)\n",
    " Dimensions are passed in separate arguments. "
   ]
  },
  {
   "cell_type": "markdown",
   "metadata": {},
   "source": [
    "1. Parameter size: \n",
    "    * number of parameters signifies the size of the array (d2 = 2D array)\n",
    "2. d0 \n",
    "    * number of elements in a 1D array (x)\n",
    "3. d1 \n",
    "    * number of elements in a 2D array (y)\n",
    "4. d2\n",
    "    * number of elements in a 3D array (z)\n",
    "#### and so on\n",
    " \n",
    "The values of elements from the array are, between 0 (including 0) and 1 (not including 1) as shown in [this documentation](https://docs.scipy.org/doc/numpy-1.15.1/reference/generated/numpy.random.rand.html#numpy.random.rand)\n",
    "\n",
    "\n",
    "* Square bracked(s) - **[ ]**\n",
    "    * included\n",
    "* Round bracket(s) - **( )**\n",
    "    * not included"
   ]
  },
  {
   "cell_type": "code",
   "execution_count": 3,
   "metadata": {
    "scrolled": false
   },
   "outputs": [
    {
     "data": {
      "text/plain": [
       "array([[0.59506178, 0.98638927],\n",
       "       [0.60884041, 0.88248218],\n",
       "       [0.1520668 , 0.2439459 ],\n",
       "       [0.85599339, 0.73105303]])"
      ]
     },
     "execution_count": 3,
     "metadata": {},
     "output_type": "execute_result"
    }
   ],
   "source": [
    "# Source code adapted from:\n",
    "# - https://docs.scipy.org/doc/numpy-1.15.1/reference/generated/numpy.random.rand.html#numpy.random.rand\n",
    "# Passing in arguments\n",
    "np.random.rand(4, 2)"
   ]
  },
  {
   "cell_type": "code",
   "execution_count": 4,
   "metadata": {},
   "outputs": [
    {
     "data": {
      "text/plain": [
       "0.426255509742539"
      ]
     },
     "execution_count": 4,
     "metadata": {},
     "output_type": "execute_result"
    }
   ],
   "source": [
    "# No argument\n",
    "np.random.rand()"
   ]
  },
  {
   "cell_type": "markdown",
   "metadata": {},
   "source": [
    "### Visualise numpy.random.rand\n",
    "Displays a graph of how this function generates random numbers"
   ]
  },
  {
   "cell_type": "code",
   "execution_count": 5,
   "metadata": {},
   "outputs": [],
   "source": [
    "# Create a 1D array with 100 elements of random number values\n",
    "random_rand = np.random.rand(x)"
   ]
  },
  {
   "cell_type": "code",
   "execution_count": 6,
   "metadata": {
    "scrolled": true
   },
   "outputs": [
    {
     "data": {
      "text/plain": [
       "(array([481., 531., 473., 510., 496., 523., 503., 496., 470., 479., 474.,\n",
       "        474., 530., 492., 532., 483., 499., 503., 502., 549.]),\n",
       " array([1.43564298e-04, 5.01341637e-02, 1.00124763e-01, 1.50115363e-01,\n",
       "        2.00105962e-01, 2.50096561e-01, 3.00087161e-01, 3.50077760e-01,\n",
       "        4.00068360e-01, 4.50058959e-01, 5.00049559e-01, 5.50040158e-01,\n",
       "        6.00030758e-01, 6.50021357e-01, 7.00011956e-01, 7.50002556e-01,\n",
       "        7.99993155e-01, 8.49983755e-01, 8.99974354e-01, 9.49964954e-01,\n",
       "        9.99955553e-01]),\n",
       " <a list of 20 Patch objects>)"
      ]
     },
     "execution_count": 6,
     "metadata": {},
     "output_type": "execute_result"
    },
    {
     "data": {
      "image/png": "[encoded data removed]",
      "text/plain": [
       "<Figure size 432x288 with 1 Axes>"
      ]
     },
     "metadata": {
      "needs_background": "light"
     },
     "output_type": "display_data"
    }
   ],
   "source": [
    "# Show the relationship between the amount of numbers in the array and their values\n",
    "plt.hist(random_rand, hs)"
   ]
  },
  {
   "cell_type": "markdown",
   "metadata": {},
   "source": [
    "## [numpy.random.random_sample ([size])](https://docs.scipy.org/doc/numpy-1.15.1/reference/generated/numpy.random.random_sample.html#numpy.random.random_sample)\n",
    "Dimension are passed in a single tuple."
   ]
  },
  {
   "cell_type": "markdown",
   "metadata": {},
   "source": [
    "An idealized random number generator would be considered a [**continuous uniform distribution**](https://www.investopedia.com/terms/u/uniform-distribution.asp) which means every variable has an equal opportunity of appearing. <br>\n",
    "To sample  multiply the output of random_sample by (b-a) and add a:"
   ]
  },
  {
   "cell_type": "code",
   "execution_count": 7,
   "metadata": {
    "scrolled": false
   },
   "outputs": [
    {
     "data": {
      "text/plain": [
       "array([0.11233074, 0.29216505, 0.59576642, ..., 0.18219001, 0.28619019,\n",
       "       0.54293729])"
      ]
     },
     "execution_count": 7,
     "metadata": {},
     "output_type": "execute_result"
    }
   ],
   "source": [
    "# Passing in arguments\n",
    "np.random.random_sample((x,))"
   ]
  },
  {
   "cell_type": "code",
   "execution_count": 8,
   "metadata": {
    "scrolled": false
   },
   "outputs": [
    {
     "data": {
      "text/plain": [
       "array([[-8320.43733767, -6516.24453742],\n",
       "       [-2357.93454404, -6960.22786805],\n",
       "       [-2943.28615387, -9771.00646224],\n",
       "       [-7808.91544263, -3895.1647991 ],\n",
       "       [-5511.24693766, -1829.1482063 ]])"
      ]
     },
     "execution_count": 8,
     "metadata": {},
     "output_type": "execute_result"
    }
   ],
   "source": [
    "rand_sample = x * np.random.random_sample((5, 2)) - x\n",
    "rand_sample"
   ]
  },
  {
   "cell_type": "markdown",
   "metadata": {},
   "source": [
    "### Visualise numpy.random.random_sample\n",
    "Displays a graph of how this function generates random numbers"
   ]
  },
  {
   "cell_type": "code",
   "execution_count": 9,
   "metadata": {
    "scrolled": true
   },
   "outputs": [
    {
     "data": {
      "text/plain": [
       "([array([0., 0., 0., 1., 1., 0., 0., 0., 0., 0., 1., 0., 0., 0., 0., 0., 0.,\n",
       "         1., 1., 0.]),\n",
       "  array([1., 0., 0., 0., 0., 0., 0., 1., 1., 0., 0., 0., 0., 0., 1., 0., 0.,\n",
       "         0., 0., 1.])],\n",
       " array([-9771.00646224, -9373.91354945, -8976.82063665, -8579.72772385,\n",
       "        -8182.63481105, -7785.54189826, -7388.44898546, -6991.35607266,\n",
       "        -6594.26315987, -6197.17024707, -5800.07733427, -5402.98442147,\n",
       "        -5005.89150868, -4608.79859588, -4211.70568308, -3814.61277029,\n",
       "        -3417.51985749, -3020.42694469, -2623.3340319 , -2226.2411191 ,\n",
       "        -1829.1482063 ]),\n",
       " <a list of 2 Lists of Patches objects>)"
      ]
     },
     "execution_count": 9,
     "metadata": {},
     "output_type": "execute_result"
    },
    {
     "data": {
      "image/png": "[encoded data removed]",
      "text/plain": [
       "<Figure size 432x288 with 1 Axes>"
      ]
     },
     "metadata": {
      "needs_background": "light"
     },
     "output_type": "display_data"
    }
   ],
   "source": [
    "# Show the relationship between the amount of numbers in the array and their values\n",
    "plt.hist(rand_sample, hs)"
   ]
  },
  {
   "cell_type": "markdown",
   "metadata": {},
   "source": [
    "---\n",
    "# Permutations\n",
    "These are based on certain distribution functions <br>\n",
    "If no value is entered in the range an TypeError appears <br>\n",
    "The elements in the array can only be of integer vallues\n",
    "\n",
    "#### When shuffling a multi-dimentional array\n",
    "1. Formula - np.arange(x).reshape((d0, d1, ...., dn)) \n",
    "    * x = amount of numbers \n",
    "    * d = array dimensions\n",
    "    \n",
    "2. Explain formula\n",
    "    * Array dimensions must be the same\n",
    "        * i.e.\n",
    "            * d0 = d1 = ... = dn\n",
    "    * The number of numbers must be the dimension value at the power of the number of dimensions\n",
    "        * i.e.              \n",
    "            * x = d ^ n"
   ]
  },
  {
   "cell_type": "markdown",
   "metadata": {},
   "source": [
    "## [numpy.random.shuffle (x)](https://docs.scipy.org/doc/numpy-1.15.1/reference/generated/numpy.random.shuffle.html#numpy.random.shuffle)\n",
    "Randomly shuffles an array"
   ]
  },
  {
   "cell_type": "markdown",
   "metadata": {},
   "source": [
    "* It takes in the size of an array and randomly shuffles its contents <br>"
   ]
  },
  {
   "cell_type": "code",
   "execution_count": 10,
   "metadata": {},
   "outputs": [
    {
     "data": {
      "text/plain": [
       "array([0, 1, 2, 3, 4, 5, 6, 7, 8, 9])"
      ]
     },
     "execution_count": 10,
     "metadata": {},
     "output_type": "execute_result"
    }
   ],
   "source": [
    "# The original array of numbers\n",
    "sh_arr = np.arange(10)\n",
    "sh_arr"
   ]
  },
  {
   "cell_type": "code",
   "execution_count": 11,
   "metadata": {
    "scrolled": true
   },
   "outputs": [
    {
     "data": {
      "text/plain": [
       "array([2, 8, 6, 7, 0, 3, 1, 5, 9, 4])"
      ]
     },
     "execution_count": 11,
     "metadata": {},
     "output_type": "execute_result"
    }
   ],
   "source": [
    "# The array of numbers shuffle\n",
    "np.random.shuffle(sh_arr)\n",
    "sh_arr"
   ]
  },
  {
   "cell_type": "code",
   "execution_count": 12,
   "metadata": {},
   "outputs": [
    {
     "data": {
      "text/plain": [
       "array([[5100, 5101, 5102, ..., 5197, 5198, 5199],\n",
       "       [1200, 1201, 1202, ..., 1297, 1298, 1299],\n",
       "       [3400, 3401, 3402, ..., 3497, 3498, 3499],\n",
       "       ...,\n",
       "       [5300, 5301, 5302, ..., 5397, 5398, 5399],\n",
       "       [9200, 9201, 9202, ..., 9297, 9298, 9299],\n",
       "       [3700, 3701, 3702, ..., 3797, 3798, 3799]])"
      ]
     },
     "execution_count": 12,
     "metadata": {},
     "output_type": "execute_result"
    }
   ],
   "source": [
    "# Shuffle a multi-dimentional array by reshaping the size of an array\n",
    "shuffle_array = np.arange(x).reshape((d, d))\n",
    "np.random.shuffle(shuffle_array)\n",
    "shuffle_array"
   ]
  },
  {
   "cell_type": "markdown",
   "metadata": {},
   "source": [
    "### Visualise numpy.random.shuffle\n",
    "Displays a graph of how this function shuffles the random numbers"
   ]
  },
  {
   "cell_type": "code",
   "execution_count": 13,
   "metadata": {},
   "outputs": [
    {
     "data": {
      "text/plain": [
       "[<matplotlib.lines.Line2D at 0x2c451b65240>,\n",
       " <matplotlib.lines.Line2D at 0x2c451b65470>,\n",
       " <matplotlib.lines.Line2D at 0x2c451b655c0>,\n",
       " <matplotlib.lines.Line2D at 0x2c451b65710>,\n",
       " <matplotlib.lines.Line2D at 0x2c451b65860>,\n",
       " <matplotlib.lines.Line2D at 0x2c451b659b0>,\n",
       " <matplotlib.lines.Line2D at 0x2c451b65b00>,\n",
       " <matplotlib.lines.Line2D at 0x2c451b65c50>,\n",
       " <matplotlib.lines.Line2D at 0x2c451b65da0>,\n",
       " <matplotlib.lines.Line2D at 0x2c451b65ef0>,\n",
       " <matplotlib.lines.Line2D at 0x2c451b6d080>,\n",
       " <matplotlib.lines.Line2D at 0x2c451b6d1d0>,\n",
       " <matplotlib.lines.Line2D at 0x2c451b6d320>,\n",
       " <matplotlib.lines.Line2D at 0x2c451b6d470>,\n",
       " <matplotlib.lines.Line2D at 0x2c451b6d5c0>,\n",
       " <matplotlib.lines.Line2D at 0x2c451b6d710>,\n",
       " <matplotlib.lines.Line2D at 0x2c451b6d860>,\n",
       " <matplotlib.lines.Line2D at 0x2c451b6d9b0>,\n",
       " <matplotlib.lines.Line2D at 0x2c451b6db00>,\n",
       " <matplotlib.lines.Line2D at 0x2c451b6dc50>,\n",
       " <matplotlib.lines.Line2D at 0x2c451b6dda0>,\n",
       " <matplotlib.lines.Line2D at 0x2c451b6def0>,\n",
       " <matplotlib.lines.Line2D at 0x2c451b72080>,\n",
       " <matplotlib.lines.Line2D at 0x2c451b721d0>,\n",
       " <matplotlib.lines.Line2D at 0x2c451b72320>,\n",
       " <matplotlib.lines.Line2D at 0x2c451b72470>,\n",
       " <matplotlib.lines.Line2D at 0x2c451b725c0>,\n",
       " <matplotlib.lines.Line2D at 0x2c451b72710>,\n",
       " <matplotlib.lines.Line2D at 0x2c451b72860>,\n",
       " <matplotlib.lines.Line2D at 0x2c451b729b0>,\n",
       " <matplotlib.lines.Line2D at 0x2c451b72b00>,\n",
       " <matplotlib.lines.Line2D at 0x2c451b72c50>,\n",
       " <matplotlib.lines.Line2D at 0x2c451b72da0>,\n",
       " <matplotlib.lines.Line2D at 0x2c451b72ef0>,\n",
       " <matplotlib.lines.Line2D at 0x2c451b77080>,\n",
       " <matplotlib.lines.Line2D at 0x2c451b771d0>,\n",
       " <matplotlib.lines.Line2D at 0x2c451b77320>,\n",
       " <matplotlib.lines.Line2D at 0x2c451b77470>,\n",
       " <matplotlib.lines.Line2D at 0x2c451b775c0>,\n",
       " <matplotlib.lines.Line2D at 0x2c451b77710>,\n",
       " <matplotlib.lines.Line2D at 0x2c451b77860>,\n",
       " <matplotlib.lines.Line2D at 0x2c451b779b0>,\n",
       " <matplotlib.lines.Line2D at 0x2c451b77b00>,\n",
       " <matplotlib.lines.Line2D at 0x2c451b77c50>,\n",
       " <matplotlib.lines.Line2D at 0x2c451b77da0>,\n",
       " <matplotlib.lines.Line2D at 0x2c451b77ef0>,\n",
       " <matplotlib.lines.Line2D at 0x2c451b7c080>,\n",
       " <matplotlib.lines.Line2D at 0x2c451b7c1d0>,\n",
       " <matplotlib.lines.Line2D at 0x2c451b7c320>,\n",
       " <matplotlib.lines.Line2D at 0x2c451b7c470>,\n",
       " <matplotlib.lines.Line2D at 0x2c451b7c5c0>,\n",
       " <matplotlib.lines.Line2D at 0x2c451b7c710>,\n",
       " <matplotlib.lines.Line2D at 0x2c451b7c860>,\n",
       " <matplotlib.lines.Line2D at 0x2c451b7c9b0>,\n",
       " <matplotlib.lines.Line2D at 0x2c451b7cb00>,\n",
       " <matplotlib.lines.Line2D at 0x2c451b7cc50>,\n",
       " <matplotlib.lines.Line2D at 0x2c451b7cda0>,\n",
       " <matplotlib.lines.Line2D at 0x2c451b7cef0>,\n",
       " <matplotlib.lines.Line2D at 0x2c451b81080>,\n",
       " <matplotlib.lines.Line2D at 0x2c451b811d0>,\n",
       " <matplotlib.lines.Line2D at 0x2c451b81320>,\n",
       " <matplotlib.lines.Line2D at 0x2c451b81470>,\n",
       " <matplotlib.lines.Line2D at 0x2c451b815c0>,\n",
       " <matplotlib.lines.Line2D at 0x2c451b81710>,\n",
       " <matplotlib.lines.Line2D at 0x2c451b81860>,\n",
       " <matplotlib.lines.Line2D at 0x2c451b819b0>,\n",
       " <matplotlib.lines.Line2D at 0x2c451b81b00>,\n",
       " <matplotlib.lines.Line2D at 0x2c451b81c50>,\n",
       " <matplotlib.lines.Line2D at 0x2c451b81da0>,\n",
       " <matplotlib.lines.Line2D at 0x2c451b81ef0>,\n",
       " <matplotlib.lines.Line2D at 0x2c451b86080>,\n",
       " <matplotlib.lines.Line2D at 0x2c451b861d0>,\n",
       " <matplotlib.lines.Line2D at 0x2c451b86320>,\n",
       " <matplotlib.lines.Line2D at 0x2c451b86470>,\n",
       " <matplotlib.lines.Line2D at 0x2c451b865c0>,\n",
       " <matplotlib.lines.Line2D at 0x2c451b86710>,\n",
       " <matplotlib.lines.Line2D at 0x2c451b86860>,\n",
       " <matplotlib.lines.Line2D at 0x2c451b869b0>,\n",
       " <matplotlib.lines.Line2D at 0x2c451b86b00>,\n",
       " <matplotlib.lines.Line2D at 0x2c451b86c50>,\n",
       " <matplotlib.lines.Line2D at 0x2c451b86da0>,\n",
       " <matplotlib.lines.Line2D at 0x2c451b86ef0>,\n",
       " <matplotlib.lines.Line2D at 0x2c451b8b080>,\n",
       " <matplotlib.lines.Line2D at 0x2c451b8b1d0>,\n",
       " <matplotlib.lines.Line2D at 0x2c451b8b320>,\n",
       " <matplotlib.lines.Line2D at 0x2c451b8b470>,\n",
       " <matplotlib.lines.Line2D at 0x2c451b8b5c0>,\n",
       " <matplotlib.lines.Line2D at 0x2c451b8b710>,\n",
       " <matplotlib.lines.Line2D at 0x2c451b8b860>,\n",
       " <matplotlib.lines.Line2D at 0x2c451b8b9b0>,\n",
       " <matplotlib.lines.Line2D at 0x2c451b8bb00>,\n",
       " <matplotlib.lines.Line2D at 0x2c451b8bc50>,\n",
       " <matplotlib.lines.Line2D at 0x2c451b8bda0>,\n",
       " <matplotlib.lines.Line2D at 0x2c451b8bef0>,\n",
       " <matplotlib.lines.Line2D at 0x2c451b90080>,\n",
       " <matplotlib.lines.Line2D at 0x2c451b901d0>,\n",
       " <matplotlib.lines.Line2D at 0x2c451b90320>,\n",
       " <matplotlib.lines.Line2D at 0x2c451b90470>,\n",
       " <matplotlib.lines.Line2D at 0x2c451b905c0>,\n",
       " <matplotlib.lines.Line2D at 0x2c451b90710>]"
      ]
     },
     "execution_count": 13,
     "metadata": {},
     "output_type": "execute_result"
    },
    {
     "data": {
      "image/png": "[encoded data removed]",
      "text/plain": [
       "<Figure size 432x288 with 1 Axes>"
      ]
     },
     "metadata": {
      "needs_background": "light"
     },
     "output_type": "display_data"
    }
   ],
   "source": [
    "# Show the relationship between numbers in the original array and the numbers in the shuffled array\n",
    "# With lines\n",
    "plt.plot(shuffle_array, 'c-')"
   ]
  },
  {
   "cell_type": "code",
   "execution_count": 14,
   "metadata": {},
   "outputs": [
    {
     "data": {
      "text/plain": [
       "[<matplotlib.lines.Line2D at 0x2c451c93a58>,\n",
       " <matplotlib.lines.Line2D at 0x2c451c93b70>,\n",
       " <matplotlib.lines.Line2D at 0x2c451c93cc0>,\n",
       " <matplotlib.lines.Line2D at 0x2c451c93e10>,\n",
       " <matplotlib.lines.Line2D at 0x2c451c93f60>,\n",
       " <matplotlib.lines.Line2D at 0x2c451cb10f0>,\n",
       " <matplotlib.lines.Line2D at 0x2c451cb1240>,\n",
       " <matplotlib.lines.Line2D at 0x2c451cb1390>,\n",
       " <matplotlib.lines.Line2D at 0x2c451cb14e0>,\n",
       " <matplotlib.lines.Line2D at 0x2c451cb1630>,\n",
       " <matplotlib.lines.Line2D at 0x2c451cb1780>,\n",
       " <matplotlib.lines.Line2D at 0x2c451cb18d0>,\n",
       " <matplotlib.lines.Line2D at 0x2c451cb1a20>,\n",
       " <matplotlib.lines.Line2D at 0x2c451cb1b70>,\n",
       " <matplotlib.lines.Line2D at 0x2c451cb1cc0>,\n",
       " <matplotlib.lines.Line2D at 0x2c451cb1e10>,\n",
       " <matplotlib.lines.Line2D at 0x2c451cb1f60>,\n",
       " <matplotlib.lines.Line2D at 0x2c451cb80f0>,\n",
       " <matplotlib.lines.Line2D at 0x2c451cb8240>,\n",
       " <matplotlib.lines.Line2D at 0x2c451cb8390>,\n",
       " <matplotlib.lines.Line2D at 0x2c451cb84e0>,\n",
       " <matplotlib.lines.Line2D at 0x2c451cb8630>,\n",
       " <matplotlib.lines.Line2D at 0x2c451cb8780>,\n",
       " <matplotlib.lines.Line2D at 0x2c451cb88d0>,\n",
       " <matplotlib.lines.Line2D at 0x2c451cb8a20>,\n",
       " <matplotlib.lines.Line2D at 0x2c451c73f28>,\n",
       " <matplotlib.lines.Line2D at 0x2c451cb8c50>,\n",
       " <matplotlib.lines.Line2D at 0x2c451cb8da0>,\n",
       " <matplotlib.lines.Line2D at 0x2c451cb8ef0>,\n",
       " <matplotlib.lines.Line2D at 0x2c451cbe080>,\n",
       " <matplotlib.lines.Line2D at 0x2c451cbe1d0>,\n",
       " <matplotlib.lines.Line2D at 0x2c451cbe320>,\n",
       " <matplotlib.lines.Line2D at 0x2c451cbe470>,\n",
       " <matplotlib.lines.Line2D at 0x2c451cbe5c0>,\n",
       " <matplotlib.lines.Line2D at 0x2c451cbe710>,\n",
       " <matplotlib.lines.Line2D at 0x2c451cbe860>,\n",
       " <matplotlib.lines.Line2D at 0x2c451cbe9b0>,\n",
       " <matplotlib.lines.Line2D at 0x2c451cbeb00>,\n",
       " <matplotlib.lines.Line2D at 0x2c451cbec50>,\n",
       " <matplotlib.lines.Line2D at 0x2c451cbeda0>,\n",
       " <matplotlib.lines.Line2D at 0x2c451cbeef0>,\n",
       " <matplotlib.lines.Line2D at 0x2c451cc3080>,\n",
       " <matplotlib.lines.Line2D at 0x2c451cc31d0>,\n",
       " <matplotlib.lines.Line2D at 0x2c451cc3320>,\n",
       " <matplotlib.lines.Line2D at 0x2c451cc3470>,\n",
       " <matplotlib.lines.Line2D at 0x2c451cc35c0>,\n",
       " <matplotlib.lines.Line2D at 0x2c451cc3710>,\n",
       " <matplotlib.lines.Line2D at 0x2c451cc3860>,\n",
       " <matplotlib.lines.Line2D at 0x2c451cc39b0>,\n",
       " <matplotlib.lines.Line2D at 0x2c451cc3b00>,\n",
       " <matplotlib.lines.Line2D at 0x2c451cc3c50>,\n",
       " <matplotlib.lines.Line2D at 0x2c451cc3da0>,\n",
       " <matplotlib.lines.Line2D at 0x2c451cc3ef0>,\n",
       " <matplotlib.lines.Line2D at 0x2c451cc8080>,\n",
       " <matplotlib.lines.Line2D at 0x2c451cc81d0>,\n",
       " <matplotlib.lines.Line2D at 0x2c451cc8320>,\n",
       " <matplotlib.lines.Line2D at 0x2c451cc8470>,\n",
       " <matplotlib.lines.Line2D at 0x2c451cc85c0>,\n",
       " <matplotlib.lines.Line2D at 0x2c451cc8710>,\n",
       " <matplotlib.lines.Line2D at 0x2c451cc8860>,\n",
       " <matplotlib.lines.Line2D at 0x2c451cc89b0>,\n",
       " <matplotlib.lines.Line2D at 0x2c451cc8b00>,\n",
       " <matplotlib.lines.Line2D at 0x2c451cc8c50>,\n",
       " <matplotlib.lines.Line2D at 0x2c451cc8da0>,\n",
       " <matplotlib.lines.Line2D at 0x2c451cc8ef0>,\n",
       " <matplotlib.lines.Line2D at 0x2c451cce080>,\n",
       " <matplotlib.lines.Line2D at 0x2c451cce1d0>,\n",
       " <matplotlib.lines.Line2D at 0x2c451cce320>,\n",
       " <matplotlib.lines.Line2D at 0x2c451cce470>,\n",
       " <matplotlib.lines.Line2D at 0x2c451cce5c0>,\n",
       " <matplotlib.lines.Line2D at 0x2c451cce710>,\n",
       " <matplotlib.lines.Line2D at 0x2c451cce860>,\n",
       " <matplotlib.lines.Line2D at 0x2c451cce9b0>,\n",
       " <matplotlib.lines.Line2D at 0x2c451cceb00>,\n",
       " <matplotlib.lines.Line2D at 0x2c451ccec50>,\n",
       " <matplotlib.lines.Line2D at 0x2c451cceda0>,\n",
       " <matplotlib.lines.Line2D at 0x2c451cceef0>,\n",
       " <matplotlib.lines.Line2D at 0x2c451cd3080>,\n",
       " <matplotlib.lines.Line2D at 0x2c451cd31d0>,\n",
       " <matplotlib.lines.Line2D at 0x2c451cd3320>,\n",
       " <matplotlib.lines.Line2D at 0x2c451cd3470>,\n",
       " <matplotlib.lines.Line2D at 0x2c451cd35c0>,\n",
       " <matplotlib.lines.Line2D at 0x2c451cd3710>,\n",
       " <matplotlib.lines.Line2D at 0x2c451cd3860>,\n",
       " <matplotlib.lines.Line2D at 0x2c451cd39b0>,\n",
       " <matplotlib.lines.Line2D at 0x2c451cd3b00>,\n",
       " <matplotlib.lines.Line2D at 0x2c451cd3c50>,\n",
       " <matplotlib.lines.Line2D at 0x2c451cd3da0>,\n",
       " <matplotlib.lines.Line2D at 0x2c451cd3ef0>,\n",
       " <matplotlib.lines.Line2D at 0x2c451cd9080>,\n",
       " <matplotlib.lines.Line2D at 0x2c451cd91d0>,\n",
       " <matplotlib.lines.Line2D at 0x2c451cd9320>,\n",
       " <matplotlib.lines.Line2D at 0x2c451cd9470>,\n",
       " <matplotlib.lines.Line2D at 0x2c451cd95c0>,\n",
       " <matplotlib.lines.Line2D at 0x2c451cd9710>,\n",
       " <matplotlib.lines.Line2D at 0x2c451cd9860>,\n",
       " <matplotlib.lines.Line2D at 0x2c451cd99b0>,\n",
       " <matplotlib.lines.Line2D at 0x2c451cd9b00>,\n",
       " <matplotlib.lines.Line2D at 0x2c451cd9c50>,\n",
       " <matplotlib.lines.Line2D at 0x2c451cd9da0>]"
      ]
     },
     "execution_count": 14,
     "metadata": {},
     "output_type": "execute_result"
    },
    {
     "data": {
      "image/png": "[encoded data removed]",
      "text/plain": [
       "<Figure size 432x288 with 1 Axes>"
      ]
     },
     "metadata": {
      "needs_background": "light"
     },
     "output_type": "display_data"
    }
   ],
   "source": [
    "# With pluses\n",
    "plt.plot(shuffle_array, 'c+')"
   ]
  },
  {
   "cell_type": "markdown",
   "metadata": {},
   "source": [
    "## [numpy.random.permutation (x)](https://docs.scipy.org/doc/numpy-1.15.1/reference/generated/numpy.random.permutation.html#numpy.random.permutation)\n",
    "Randomly permutes an array"
   ]
  },
  {
   "cell_type": "markdown",
   "metadata": {},
   "source": [
    "* It takes in \n",
    "    * size of an array \n",
    "        * dirrectly - without using np.arange(x)\n",
    "        * randomly permutes\n",
    "    * an array \n",
    "        * makes a copy of the array\n",
    "        * randomly shuffle its contents\n",
    "        * **Note**: if multi-dimensional - only shuffled along its first index"
   ]
  },
  {
   "cell_type": "code",
   "execution_count": 15,
   "metadata": {
    "scrolled": true
   },
   "outputs": [
    {
     "data": {
      "text/plain": [
       "array([4, 2, 7, 5, 1, 8, 9, 3, 6, 0])"
      ]
     },
     "execution_count": 15,
     "metadata": {},
     "output_type": "execute_result"
    }
   ],
   "source": [
    "# Permutes size of an array\n",
    "np.random.permutation(10)"
   ]
  },
  {
   "cell_type": "code",
   "execution_count": 16,
   "metadata": {
    "scrolled": true
   },
   "outputs": [
    {
     "data": {
      "text/plain": [
       "array([100,   5,  10,   4,  50])"
      ]
     },
     "execution_count": 16,
     "metadata": {},
     "output_type": "execute_result"
    }
   ],
   "source": [
    "# Makes a copy of an array and shuffles it\n",
    "np.random.permutation([100, 5, 10, 50, 4])"
   ]
  },
  {
   "cell_type": "code",
   "execution_count": 17,
   "metadata": {},
   "outputs": [
    {
     "data": {
      "text/plain": [
       "array([[0.3061919 , 0.42921356],\n",
       "       [0.20434314, 0.24214368],\n",
       "       [0.16396259, 0.98216574],\n",
       "       [0.70688981, 0.43319275]])"
      ]
     },
     "execution_count": 17,
     "metadata": {},
     "output_type": "execute_result"
    }
   ],
   "source": [
    "# Create multi-dimentional array\n",
    "mdp_array = np.random.rand(4, 2)\n",
    "mdp_array"
   ]
  },
  {
   "cell_type": "code",
   "execution_count": 18,
   "metadata": {},
   "outputs": [
    {
     "data": {
      "text/plain": [
       "array([[0.16396259, 0.98216574],\n",
       "       [0.70688981, 0.43319275],\n",
       "       [0.3061919 , 0.42921356],\n",
       "       [0.20434314, 0.24214368]])"
      ]
     },
     "execution_count": 18,
     "metadata": {},
     "output_type": "execute_result"
    }
   ],
   "source": [
    "# Permute the multi-dimentional array\n",
    "np.random.permutation(mdp_array)"
   ]
  },
  {
   "cell_type": "code",
   "execution_count": 19,
   "metadata": {},
   "outputs": [
    {
     "data": {
      "text/plain": [
       "array([[   0,    1,    2, ...,   97,   98,   99],\n",
       "       [ 100,  101,  102, ...,  197,  198,  199],\n",
       "       [ 200,  201,  202, ...,  297,  298,  299],\n",
       "       ...,\n",
       "       [9700, 9701, 9702, ..., 9797, 9798, 9799],\n",
       "       [9800, 9801, 9802, ..., 9897, 9898, 9899],\n",
       "       [9900, 9901, 9902, ..., 9997, 9998, 9999]])"
      ]
     },
     "execution_count": 19,
     "metadata": {},
     "output_type": "execute_result"
    }
   ],
   "source": [
    "# Reshape the size of an array\n",
    "permutation_array = np.arange(x).reshape((d, d))\n",
    "permutation_array"
   ]
  },
  {
   "cell_type": "code",
   "execution_count": 20,
   "metadata": {
    "scrolled": true
   },
   "outputs": [
    {
     "data": {
      "text/plain": [
       "array([[2100, 2101, 2102, ..., 2197, 2198, 2199],\n",
       "       [8600, 8601, 8602, ..., 8697, 8698, 8699],\n",
       "       [5700, 5701, 5702, ..., 5797, 5798, 5799],\n",
       "       ...,\n",
       "       [8400, 8401, 8402, ..., 8497, 8498, 8499],\n",
       "       [3800, 3801, 3802, ..., 3897, 3898, 3899],\n",
       "       [3900, 3901, 3902, ..., 3997, 3998, 3999]])"
      ]
     },
     "execution_count": 20,
     "metadata": {},
     "output_type": "execute_result"
    }
   ],
   "source": [
    "# Make a copy and shuffle the array\n",
    "np.random.permutation(permutation_array)"
   ]
  },
  {
   "cell_type": "markdown",
   "metadata": {},
   "source": [
    "### Visualise numpy.random.permutation\n",
    "Displays a graph of how this function permutes the random numbers"
   ]
  },
  {
   "cell_type": "code",
   "execution_count": 21,
   "metadata": {
    "scrolled": true
   },
   "outputs": [
    {
     "data": {
      "text/plain": [
       "[<matplotlib.lines.Line2D at 0x2c451defeb8>,\n",
       " <matplotlib.lines.Line2D at 0x2c451dff048>,\n",
       " <matplotlib.lines.Line2D at 0x2c451dff198>,\n",
       " <matplotlib.lines.Line2D at 0x2c451dff2e8>,\n",
       " <matplotlib.lines.Line2D at 0x2c451dff438>,\n",
       " <matplotlib.lines.Line2D at 0x2c451dff588>,\n",
       " <matplotlib.lines.Line2D at 0x2c451dff6d8>,\n",
       " <matplotlib.lines.Line2D at 0x2c451dff828>,\n",
       " <matplotlib.lines.Line2D at 0x2c451dff978>,\n",
       " <matplotlib.lines.Line2D at 0x2c451dffac8>,\n",
       " <matplotlib.lines.Line2D at 0x2c451dffc18>,\n",
       " <matplotlib.lines.Line2D at 0x2c451dffd68>,\n",
       " <matplotlib.lines.Line2D at 0x2c451dffeb8>,\n",
       " <matplotlib.lines.Line2D at 0x2c451e03048>,\n",
       " <matplotlib.lines.Line2D at 0x2c451e03198>,\n",
       " <matplotlib.lines.Line2D at 0x2c451e032e8>,\n",
       " <matplotlib.lines.Line2D at 0x2c451e03438>,\n",
       " <matplotlib.lines.Line2D at 0x2c451e03588>,\n",
       " <matplotlib.lines.Line2D at 0x2c451e036d8>,\n",
       " <matplotlib.lines.Line2D at 0x2c451e03828>,\n",
       " <matplotlib.lines.Line2D at 0x2c451e03978>,\n",
       " <matplotlib.lines.Line2D at 0x2c451e03ac8>,\n",
       " <matplotlib.lines.Line2D at 0x2c451e03c18>,\n",
       " <matplotlib.lines.Line2D at 0x2c451e03d68>,\n",
       " <matplotlib.lines.Line2D at 0x2c451e03eb8>,\n",
       " <matplotlib.lines.Line2D at 0x2c451e08048>,\n",
       " <matplotlib.lines.Line2D at 0x2c451e08198>,\n",
       " <matplotlib.lines.Line2D at 0x2c451e082e8>,\n",
       " <matplotlib.lines.Line2D at 0x2c451e08438>,\n",
       " <matplotlib.lines.Line2D at 0x2c451e08588>,\n",
       " <matplotlib.lines.Line2D at 0x2c451e086d8>,\n",
       " <matplotlib.lines.Line2D at 0x2c451e08828>,\n",
       " <matplotlib.lines.Line2D at 0x2c451e08978>,\n",
       " <matplotlib.lines.Line2D at 0x2c451e08ac8>,\n",
       " <matplotlib.lines.Line2D at 0x2c451e08c18>,\n",
       " <matplotlib.lines.Line2D at 0x2c451e08d68>,\n",
       " <matplotlib.lines.Line2D at 0x2c451e08eb8>,\n",
       " <matplotlib.lines.Line2D at 0x2c451e0d048>,\n",
       " <matplotlib.lines.Line2D at 0x2c451e0d198>,\n",
       " <matplotlib.lines.Line2D at 0x2c451e0d2e8>,\n",
       " <matplotlib.lines.Line2D at 0x2c451e0d438>,\n",
       " <matplotlib.lines.Line2D at 0x2c451e0d588>,\n",
       " <matplotlib.lines.Line2D at 0x2c451e0d6d8>,\n",
       " <matplotlib.lines.Line2D at 0x2c451e0d828>,\n",
       " <matplotlib.lines.Line2D at 0x2c451e0d978>,\n",
       " <matplotlib.lines.Line2D at 0x2c451e0dac8>,\n",
       " <matplotlib.lines.Line2D at 0x2c451e0dc18>,\n",
       " <matplotlib.lines.Line2D at 0x2c451e0dd68>,\n",
       " <matplotlib.lines.Line2D at 0x2c451e0deb8>,\n",
       " <matplotlib.lines.Line2D at 0x2c451e13048>,\n",
       " <matplotlib.lines.Line2D at 0x2c451e13198>,\n",
       " <matplotlib.lines.Line2D at 0x2c451e132e8>,\n",
       " <matplotlib.lines.Line2D at 0x2c451e13438>,\n",
       " <matplotlib.lines.Line2D at 0x2c451e13588>,\n",
       " <matplotlib.lines.Line2D at 0x2c451e136d8>,\n",
       " <matplotlib.lines.Line2D at 0x2c451e13828>,\n",
       " <matplotlib.lines.Line2D at 0x2c451e13978>,\n",
       " <matplotlib.lines.Line2D at 0x2c451e13ac8>,\n",
       " <matplotlib.lines.Line2D at 0x2c451e13c18>,\n",
       " <matplotlib.lines.Line2D at 0x2c451e13d68>,\n",
       " <matplotlib.lines.Line2D at 0x2c451e13eb8>,\n",
       " <matplotlib.lines.Line2D at 0x2c451e17048>,\n",
       " <matplotlib.lines.Line2D at 0x2c451e17198>,\n",
       " <matplotlib.lines.Line2D at 0x2c451e172e8>,\n",
       " <matplotlib.lines.Line2D at 0x2c451e17438>,\n",
       " <matplotlib.lines.Line2D at 0x2c451e17588>,\n",
       " <matplotlib.lines.Line2D at 0x2c451e176d8>,\n",
       " <matplotlib.lines.Line2D at 0x2c451e17828>,\n",
       " <matplotlib.lines.Line2D at 0x2c451e17978>,\n",
       " <matplotlib.lines.Line2D at 0x2c451e17ac8>,\n",
       " <matplotlib.lines.Line2D at 0x2c451e17c18>,\n",
       " <matplotlib.lines.Line2D at 0x2c451e17d68>,\n",
       " <matplotlib.lines.Line2D at 0x2c451e17eb8>,\n",
       " <matplotlib.lines.Line2D at 0x2c451e1d048>,\n",
       " <matplotlib.lines.Line2D at 0x2c451e1d198>,\n",
       " <matplotlib.lines.Line2D at 0x2c451e1d2e8>,\n",
       " <matplotlib.lines.Line2D at 0x2c451e1d438>,\n",
       " <matplotlib.lines.Line2D at 0x2c451e1d588>,\n",
       " <matplotlib.lines.Line2D at 0x2c451e1d6d8>,\n",
       " <matplotlib.lines.Line2D at 0x2c451e1d828>,\n",
       " <matplotlib.lines.Line2D at 0x2c451e1d978>,\n",
       " <matplotlib.lines.Line2D at 0x2c451e1dac8>,\n",
       " <matplotlib.lines.Line2D at 0x2c451e1dc18>,\n",
       " <matplotlib.lines.Line2D at 0x2c451e1dd68>,\n",
       " <matplotlib.lines.Line2D at 0x2c451e1deb8>,\n",
       " <matplotlib.lines.Line2D at 0x2c451e23048>,\n",
       " <matplotlib.lines.Line2D at 0x2c451e23198>,\n",
       " <matplotlib.lines.Line2D at 0x2c451e232e8>,\n",
       " <matplotlib.lines.Line2D at 0x2c451e23438>,\n",
       " <matplotlib.lines.Line2D at 0x2c451e23588>,\n",
       " <matplotlib.lines.Line2D at 0x2c451e236d8>,\n",
       " <matplotlib.lines.Line2D at 0x2c451e23828>,\n",
       " <matplotlib.lines.Line2D at 0x2c451e23978>,\n",
       " <matplotlib.lines.Line2D at 0x2c451e23ac8>,\n",
       " <matplotlib.lines.Line2D at 0x2c451e23c18>,\n",
       " <matplotlib.lines.Line2D at 0x2c451e23d68>,\n",
       " <matplotlib.lines.Line2D at 0x2c451e23eb8>,\n",
       " <matplotlib.lines.Line2D at 0x2c451e27048>,\n",
       " <matplotlib.lines.Line2D at 0x2c451e27198>,\n",
       " <matplotlib.lines.Line2D at 0x2c451e272e8>]"
      ]
     },
     "execution_count": 21,
     "metadata": {},
     "output_type": "execute_result"
    },
    {
     "data": {
      "image/png": "[encoded data removed]",
      "text/plain": [
       "<Figure size 432x288 with 1 Axes>"
      ]
     },
     "metadata": {
      "needs_background": "light"
     },
     "output_type": "display_data"
    }
   ],
   "source": [
    "# Show the relationship between numbers in the original array and the numbers in the shuffled array\n",
    "# With lines\n",
    "plt.plot(permutation_array, 'c-')"
   ]
  },
  {
   "cell_type": "code",
   "execution_count": 22,
   "metadata": {},
   "outputs": [
    {
     "data": {
      "text/plain": [
       "[<matplotlib.lines.Line2D at 0x2c451f35cf8>,\n",
       " <matplotlib.lines.Line2D at 0x2c451f35e10>,\n",
       " <matplotlib.lines.Line2D at 0x2c451f35f60>,\n",
       " <matplotlib.lines.Line2D at 0x2c451f410f0>,\n",
       " <matplotlib.lines.Line2D at 0x2c451f41240>,\n",
       " <matplotlib.lines.Line2D at 0x2c451f41390>,\n",
       " <matplotlib.lines.Line2D at 0x2c451f414e0>,\n",
       " <matplotlib.lines.Line2D at 0x2c451f41630>,\n",
       " <matplotlib.lines.Line2D at 0x2c451f41780>,\n",
       " <matplotlib.lines.Line2D at 0x2c451f418d0>,\n",
       " <matplotlib.lines.Line2D at 0x2c451f41a20>,\n",
       " <matplotlib.lines.Line2D at 0x2c451f41b70>,\n",
       " <matplotlib.lines.Line2D at 0x2c451f41cc0>,\n",
       " <matplotlib.lines.Line2D at 0x2c451f41e10>,\n",
       " <matplotlib.lines.Line2D at 0x2c451f41f60>,\n",
       " <matplotlib.lines.Line2D at 0x2c451f470f0>,\n",
       " <matplotlib.lines.Line2D at 0x2c451f47240>,\n",
       " <matplotlib.lines.Line2D at 0x2c451f47390>,\n",
       " <matplotlib.lines.Line2D at 0x2c451f474e0>,\n",
       " <matplotlib.lines.Line2D at 0x2c451f47630>,\n",
       " <matplotlib.lines.Line2D at 0x2c451f47780>,\n",
       " <matplotlib.lines.Line2D at 0x2c451f478d0>,\n",
       " <matplotlib.lines.Line2D at 0x2c451f47a20>,\n",
       " <matplotlib.lines.Line2D at 0x2c451f47b70>,\n",
       " <matplotlib.lines.Line2D at 0x2c451f47cc0>,\n",
       " <matplotlib.lines.Line2D at 0x2c451f47e10>,\n",
       " <matplotlib.lines.Line2D at 0x2c451f47f60>,\n",
       " <matplotlib.lines.Line2D at 0x2c451f4b0f0>,\n",
       " <matplotlib.lines.Line2D at 0x2c451f4b240>,\n",
       " <matplotlib.lines.Line2D at 0x2c451f4b390>,\n",
       " <matplotlib.lines.Line2D at 0x2c451f4b4e0>,\n",
       " <matplotlib.lines.Line2D at 0x2c451f4b630>,\n",
       " <matplotlib.lines.Line2D at 0x2c451f4b780>,\n",
       " <matplotlib.lines.Line2D at 0x2c451f4b8d0>,\n",
       " <matplotlib.lines.Line2D at 0x2c451f4ba20>,\n",
       " <matplotlib.lines.Line2D at 0x2c451f4bb70>,\n",
       " <matplotlib.lines.Line2D at 0x2c451f4bcc0>,\n",
       " <matplotlib.lines.Line2D at 0x2c451f4be10>,\n",
       " <matplotlib.lines.Line2D at 0x2c451f4bf60>,\n",
       " <matplotlib.lines.Line2D at 0x2c451f500f0>,\n",
       " <matplotlib.lines.Line2D at 0x2c451f50240>,\n",
       " <matplotlib.lines.Line2D at 0x2c451f50390>,\n",
       " <matplotlib.lines.Line2D at 0x2c451f504e0>,\n",
       " <matplotlib.lines.Line2D at 0x2c451f50630>,\n",
       " <matplotlib.lines.Line2D at 0x2c451f50780>,\n",
       " <matplotlib.lines.Line2D at 0x2c451f508d0>,\n",
       " <matplotlib.lines.Line2D at 0x2c451f50a20>,\n",
       " <matplotlib.lines.Line2D at 0x2c451f50b70>,\n",
       " <matplotlib.lines.Line2D at 0x2c451f50cc0>,\n",
       " <matplotlib.lines.Line2D at 0x2c451f50e10>,\n",
       " <matplotlib.lines.Line2D at 0x2c451f50f60>,\n",
       " <matplotlib.lines.Line2D at 0x2c451f580f0>,\n",
       " <matplotlib.lines.Line2D at 0x2c451f58240>,\n",
       " <matplotlib.lines.Line2D at 0x2c451f58390>,\n",
       " <matplotlib.lines.Line2D at 0x2c451f584e0>,\n",
       " <matplotlib.lines.Line2D at 0x2c451f58630>,\n",
       " <matplotlib.lines.Line2D at 0x2c451f58780>,\n",
       " <matplotlib.lines.Line2D at 0x2c451f588d0>,\n",
       " <matplotlib.lines.Line2D at 0x2c451f58a20>,\n",
       " <matplotlib.lines.Line2D at 0x2c451f58b70>,\n",
       " <matplotlib.lines.Line2D at 0x2c451f58cc0>,\n",
       " <matplotlib.lines.Line2D at 0x2c451f58e10>,\n",
       " <matplotlib.lines.Line2D at 0x2c451f58f60>,\n",
       " <matplotlib.lines.Line2D at 0x2c451f5d0f0>,\n",
       " <matplotlib.lines.Line2D at 0x2c451f5d240>,\n",
       " <matplotlib.lines.Line2D at 0x2c451f5d390>,\n",
       " <matplotlib.lines.Line2D at 0x2c451f5d4e0>,\n",
       " <matplotlib.lines.Line2D at 0x2c451f5d630>,\n",
       " <matplotlib.lines.Line2D at 0x2c451f5d780>,\n",
       " <matplotlib.lines.Line2D at 0x2c451f5d8d0>,\n",
       " <matplotlib.lines.Line2D at 0x2c451f5da20>,\n",
       " <matplotlib.lines.Line2D at 0x2c451f5db70>,\n",
       " <matplotlib.lines.Line2D at 0x2c451f5dcc0>,\n",
       " <matplotlib.lines.Line2D at 0x2c451f5de10>,\n",
       " <matplotlib.lines.Line2D at 0x2c451f5df60>,\n",
       " <matplotlib.lines.Line2D at 0x2c451f610f0>,\n",
       " <matplotlib.lines.Line2D at 0x2c451f61240>,\n",
       " <matplotlib.lines.Line2D at 0x2c451f61390>,\n",
       " <matplotlib.lines.Line2D at 0x2c451f614e0>,\n",
       " <matplotlib.lines.Line2D at 0x2c451f61630>,\n",
       " <matplotlib.lines.Line2D at 0x2c451f61780>,\n",
       " <matplotlib.lines.Line2D at 0x2c451f618d0>,\n",
       " <matplotlib.lines.Line2D at 0x2c451f61a20>,\n",
       " <matplotlib.lines.Line2D at 0x2c451f61b70>,\n",
       " <matplotlib.lines.Line2D at 0x2c451f61cc0>,\n",
       " <matplotlib.lines.Line2D at 0x2c451f61e10>,\n",
       " <matplotlib.lines.Line2D at 0x2c451f61f60>,\n",
       " <matplotlib.lines.Line2D at 0x2c451f670f0>,\n",
       " <matplotlib.lines.Line2D at 0x2c451f67240>,\n",
       " <matplotlib.lines.Line2D at 0x2c451f67390>,\n",
       " <matplotlib.lines.Line2D at 0x2c451f674e0>,\n",
       " <matplotlib.lines.Line2D at 0x2c451f67630>,\n",
       " <matplotlib.lines.Line2D at 0x2c451f67780>,\n",
       " <matplotlib.lines.Line2D at 0x2c451f678d0>,\n",
       " <matplotlib.lines.Line2D at 0x2c451f67a20>,\n",
       " <matplotlib.lines.Line2D at 0x2c451f67b70>,\n",
       " <matplotlib.lines.Line2D at 0x2c451f67cc0>,\n",
       " <matplotlib.lines.Line2D at 0x2c451f67e10>,\n",
       " <matplotlib.lines.Line2D at 0x2c451f67f60>,\n",
       " <matplotlib.lines.Line2D at 0x2c451f6c0f0>]"
      ]
     },
     "execution_count": 22,
     "metadata": {},
     "output_type": "execute_result"
    },
    {
     "data": {
      "image/png": "[encoded data removed]",
      "text/plain": [
       "<Figure size 432x288 with 1 Axes>"
      ]
     },
     "metadata": {
      "needs_background": "light"
     },
     "output_type": "display_data"
    }
   ],
   "source": [
    "# With pluses\n",
    "plt.plot(permutation_array, 'c+')"
   ]
  },
  {
   "cell_type": "markdown",
   "metadata": {},
   "source": [
    "___\n",
    "## Distributions\n",
    "If size is none by default & shape and scale are both scalars, a single value is returned <br>\n",
    "If the given shape is, e.g., (m, n, k), then m * n * k samples are drawn"
   ]
  },
  {
   "cell_type": "markdown",
   "metadata": {},
   "source": [
    "## [numpy.random.poisson ([lam, size])](https://docs.scipy.org/doc/numpy-1.15.1/reference/generated/numpy.random.poisson.html#numpy.random.poisson)\n",
    "It is a [discrete probability distribution](https://brilliant.org/wiki/discrete-random-variables-definition/) useful for [characterizing events with very low probabilities of occurrence](https://www.britannica.com/topic/Poisson-distribution) within a time or space interval.\n",
    "<br><br>\n",
    "In case of events where separation is expected, the distribution describes the probability of events occurring within an observed interval. <br>\n",
    "Because the output is limited to the range of the C long type, a ValueError is raised when lam is within 10 sigma of the maximum representable value."
   ]
  },
  {
   "attachments": {
    "image.png": {
     "image/png": "[encoded data removed]"
    }
   },
   "cell_type": "markdown",
   "metadata": {},
   "source": [
    "#### Poisson distribution\n",
    "\n",
    "![image.png](attachment:image.png)\n",
    "\n",
    "\n",
    "1. Lam - float or array_like of floats\n",
    "    * Expectation of interval, should be >= 0\n",
    "    * It uses a sequence of expected intervals or ranges\n",
    "2. Size - int or tuple of ints, optional\n",
    "    * If size is  not None (default) np.array(lam).size samples are drawn"
   ]
  },
  {
   "cell_type": "code",
   "execution_count": 23,
   "metadata": {},
   "outputs": [
    {
     "name": "stdout",
     "output_type": "stream",
     "text": [
      "Value of a:  100.0  \n",
      "Value of b:  300.0 \n",
      "Value of newX: 50.0\n"
     ]
    }
   ],
   "source": [
    "a, b = 100., 300.         # Give values to lambda\n",
    "newX = x/200              # Get the x (= 10000) value from earlier and devide it by 200 to get x to a value of 50\n",
    "print(\"Value of a: \", a, \" \\nValue of b: \", b, \"\\nValue of newX:\", newX)"
   ]
  },
  {
   "cell_type": "code",
   "execution_count": 24,
   "metadata": {},
   "outputs": [
    {
     "data": {
      "text/plain": [
       "array([3, 3, 4, ..., 6, 6, 5])"
      ]
     },
     "execution_count": 24,
     "metadata": {},
     "output_type": "execute_result"
    }
   ],
   "source": [
    "# Draw samples from the distribution:\n",
    "sample_poisson = np.random.poisson(5, x)\n",
    "sample_poisson"
   ]
  },
  {
   "cell_type": "code",
   "execution_count": 25,
   "metadata": {
    "scrolled": true
   },
   "outputs": [
    {
     "data": {
      "text/plain": [
       "array([[ 86, 276],\n",
       "       [111, 301],\n",
       "       [103, 286],\n",
       "       [ 95, 329],\n",
       "       [114, 284],\n",
       "       [112, 293],\n",
       "       [101, 284],\n",
       "       [116, 287],\n",
       "       [ 93, 289],\n",
       "       [102, 257],\n",
       "       [ 99, 281],\n",
       "       [ 93, 292],\n",
       "       [ 91, 317],\n",
       "       [ 92, 295],\n",
       "       [ 84, 314],\n",
       "       [ 97, 263],\n",
       "       [110, 294],\n",
       "       [ 98, 323],\n",
       "       [100, 299],\n",
       "       [108, 297],\n",
       "       [102, 315],\n",
       "       [ 93, 326],\n",
       "       [102, 282],\n",
       "       [ 84, 283],\n",
       "       [ 79, 278],\n",
       "       [ 99, 306],\n",
       "       [ 93, 321],\n",
       "       [ 88, 306],\n",
       "       [105, 295],\n",
       "       [107, 282],\n",
       "       [ 94, 285],\n",
       "       [105, 275],\n",
       "       [ 85, 282],\n",
       "       [ 98, 293],\n",
       "       [101, 312],\n",
       "       [113, 298],\n",
       "       [ 91, 305],\n",
       "       [115, 318],\n",
       "       [111, 313],\n",
       "       [104, 307],\n",
       "       [ 99, 294],\n",
       "       [ 98, 339],\n",
       "       [106, 305],\n",
       "       [103, 333],\n",
       "       [ 97, 294],\n",
       "       [103, 294],\n",
       "       [113, 304],\n",
       "       [101, 270],\n",
       "       [107, 290],\n",
       "       [ 93, 298]])"
      ]
     },
     "execution_count": 25,
     "metadata": {},
     "output_type": "execute_result"
    }
   ],
   "source": [
    "# Draw each \"newX\" values for lambda \"a\" and \"b\":\n",
    "range_poisson = np.random.poisson(lam=(a, b), size=(int(newX), 2))\n",
    "range_poisson"
   ]
  },
  {
   "cell_type": "markdown",
   "metadata": {},
   "source": [
    "### Visualise numpy.random.poisson\n",
    "Display the histogram of the samples"
   ]
  },
  {
   "cell_type": "code",
   "execution_count": 26,
   "metadata": {
    "scrolled": true
   },
   "outputs": [
    {
     "data": {
      "text/plain": [
       "(array([  65.,  331.,  826., 1382.,    0., 1823., 1732., 1445., 1020.,\n",
       "           0.,  677.,  388.,  179.,   74.,    0.,   38.,   14.,    3.,\n",
       "           0.,    3.]),\n",
       " array([ 0. ,  0.8,  1.6,  2.4,  3.2,  4. ,  4.8,  5.6,  6.4,  7.2,  8. ,\n",
       "         8.8,  9.6, 10.4, 11.2, 12. , 12.8, 13.6, 14.4, 15.2, 16. ]),\n",
       " <a list of 20 Patch objects>)"
      ]
     },
     "execution_count": 26,
     "metadata": {},
     "output_type": "execute_result"
    },
    {
     "data": {
      "image/png": "[encoded data removed]",
      "text/plain": [
       "<Figure size 432x288 with 1 Axes>"
      ]
     },
     "metadata": {
      "needs_background": "light"
     },
     "output_type": "display_data"
    }
   ],
   "source": [
    "# Histogram of samples\n",
    "count, bins, ignored = plt.hist(sample_poisson, 14, density=True)\n",
    "plt.hist(sample_poisson, hs)"
   ]
  },
  {
   "cell_type": "code",
   "execution_count": 27,
   "metadata": {},
   "outputs": [
    {
     "data": {
      "text/plain": [
       "([array([ 8., 27., 15.,  0.,  0.,  0.,  0.,  0.,  0.,  0.,  0.,  0.,  0.,\n",
       "          0.,  0.,  0.,  0.,  0.,  0.,  0.]),\n",
       "  array([ 0.,  0.,  0.,  0.,  0.,  0.,  0.,  0.,  0.,  0.,  0.,  0.,  0.,\n",
       "          1.,  2., 12., 16.,  8.,  7.,  4.])],\n",
       " array([ 79.,  92., 105., 118., 131., 144., 157., 170., 183., 196., 209.,\n",
       "        222., 235., 248., 261., 274., 287., 300., 313., 326., 339.]),\n",
       " <a list of 2 Lists of Patches objects>)"
      ]
     },
     "execution_count": 27,
     "metadata": {},
     "output_type": "execute_result"
    },
    {
     "data": {
      "image/png": "[encoded data removed]",
      "text/plain": [
       "<Figure size 432x288 with 1 Axes>"
      ]
     },
     "metadata": {
      "needs_background": "light"
     },
     "output_type": "display_data"
    }
   ],
   "source": [
    "# Histogram of samples from lambda range\n",
    "count, bins, ignored = plt.hist(range_poisson, 14, density=True)\n",
    "plt.hist(range_poisson, hs)"
   ]
  },
  {
   "cell_type": "markdown",
   "metadata": {},
   "source": [
    "## [numpy.random.dirichlet (alpha[, size])](https://docs.scipy.org/doc/numpy-1.15.1/reference/generated/numpy.random.dirichlet.html#numpy.random.dirichlet)\n",
    "It is a [discrete probability distribution](https://brilliant.org/wiki/discrete-random-variables-definition/) and it's used to [model random probability mass functions (PMFs)](https://www.statisticshowto.datasciencecentral.com/dirichlet-distribution/) for finite sets. <br>"
   ]
  },
  {
   "cell_type": "markdown",
   "metadata": {},
   "source": [
    "### [Random PMF (probability mass function)](https://www.statisticshowto.datasciencecentral.com/dirichlet-distribution/)\n",
    "An example would be the distribution of words in books and other documents. A book of length \"k\" words can be modeled by the distribution with a PMF of length \"k\"."
   ]
  },
  {
   "cell_type": "markdown",
   "metadata": {},
   "source": [
    "### [Dirichlet Process](https://www.statisticshowto.datasciencecentral.com/dirichlet-distribution/)\n",
    "* A way to model randomness of a PMF with unlimited options\n",
    "* Polya's Urn is similar, but instead of a set number of options you have an unlimited amount.\n",
    "\n",
    "#### How does the Dirichlet Process work?\n",
    "* Start with an empty urn\n",
    "* Randomly pick an object ball and place it in the urn.\n",
    "\n",
    "The more elements in the urn, the lower the probability of choosing a different one. <br>\n",
    "The proportion of objects in the urn after an infinite amount of draws is a Dirichlet process."
   ]
  },
  {
   "attachments": {
    "image.png": {
     "image/png": "[encoded data removed]"
    }
   },
   "cell_type": "markdown",
   "metadata": {},
   "source": [
    "#### Dirichlet distribution\n",
    "\n",
    "![image.png](attachment:image.png)\n",
    "\n",
    "1. Alpha - array\n",
    "    * Parameter of the distribution (k dimension for sample of dimension k).\n",
    "2. Size - int or tuple of ints, optional\n",
    "    * If size is  not None (default) np.array(lam).size samples are drawn"
   ]
  },
  {
   "cell_type": "code",
   "execution_count": 28,
   "metadata": {
    "scrolled": false
   },
   "outputs": [
    {
     "data": {
      "text/plain": [
       "array([[0.44939478, 0.56054973, 0.4231139 , 0.55849616, 0.39248395,\n",
       "        0.4396533 , 0.68498203, 0.58985575, 0.48449498, 0.51367412,\n",
       "        0.56048719, 0.68690167, 0.28529147, 0.58217533, 0.4233369 ,\n",
       "        0.71742828, 0.43755326, 0.50560017, 0.4893645 , 0.45331649],\n",
       "       [0.43947628, 0.36132885, 0.37620963, 0.13100819, 0.2122652 ,\n",
       "        0.43884347, 0.11945099, 0.24752318, 0.3189015 , 0.23165024,\n",
       "        0.28420268, 0.21520721, 0.53732121, 0.33878697, 0.43198981,\n",
       "        0.21543985, 0.36677064, 0.2834324 , 0.22432238, 0.21925625],\n",
       "       [0.11112894, 0.07812142, 0.20067647, 0.31049565, 0.39525085,\n",
       "        0.12150323, 0.19556697, 0.16262107, 0.19660352, 0.25467564,\n",
       "        0.15531013, 0.09789113, 0.17738732, 0.0790377 , 0.14467329,\n",
       "        0.06713187, 0.1956761 , 0.21096743, 0.28631313, 0.32742726]])"
      ]
     },
     "execution_count": 28,
     "metadata": {},
     "output_type": "execute_result"
    }
   ],
   "source": [
    "s = np.random.dirichlet((10, 5, 3), 20).transpose()\n",
    "s"
   ]
  },
  {
   "cell_type": "markdown",
   "metadata": {},
   "source": [
    "### Visualise numpy.random.dirichlet"
   ]
  },
  {
   "cell_type": "code",
   "execution_count": 29,
   "metadata": {},
   "outputs": [
    {
     "data": {
      "text/plain": [
       "Text(0.5, 1.0, 'Lengths of Strings')"
      ]
     },
     "execution_count": 29,
     "metadata": {},
     "output_type": "execute_result"
    },
    {
     "data": {
      "image/png": "[encoded data removed]",
      "text/plain": [
       "<Figure size 432x288 with 1 Axes>"
      ]
     },
     "metadata": {
      "needs_background": "light"
     },
     "output_type": "display_data"
    }
   ],
   "source": [
    "plt.barh(range(20), s[0])\n",
    "plt.barh(range(20), s[1], left=s[0], color='g')\n",
    "plt.barh(range(20), s[2], left=s[0]+s[1], color='r')\n",
    "plt.title(\"Lengths of Strings\")"
   ]
  },
  {
   "cell_type": "markdown",
   "metadata": {},
   "source": [
    "---\n",
    "## Random generator"
   ]
  },
  {
   "cell_type": "markdown",
   "metadata": {},
   "source": [
    "## [numpy.random.seed ([seed])](https://docs.scipy.org/doc/numpy-1.15.1/reference/routines.random.html)\n",
    "### [What is seed?](https://www.statisticshowto.datasciencecentral.com/random-seed-definition/)\n",
    "Random numbers are generated by deterministic algorithms and they follow a sequence with a very large period.  <br>\n",
    "The seed during random number generation specifies the start point in a sequence. This is usually affected by the seconds on a computer system’s clock. <br>\n",
    "If we use same seed every time, it will yield same sequence of random numbers. <br>\n",
    "The reason for using a seed of some value is when we want to debug the program using such deterministic behavior."
   ]
  },
  {
   "cell_type": "code",
   "execution_count": 30,
   "metadata": {},
   "outputs": [],
   "source": [
    "s_no = 10       # Seed value"
   ]
  },
  {
   "cell_type": "code",
   "execution_count": 31,
   "metadata": {
    "scrolled": false
   },
   "outputs": [
    {
     "data": {
      "text/plain": [
       "0.4160406410610126"
      ]
     },
     "execution_count": 31,
     "metadata": {},
     "output_type": "execute_result"
    }
   ],
   "source": [
    "# Get a random number\n",
    "np.random.rand()"
   ]
  },
  {
   "cell_type": "code",
   "execution_count": 32,
   "metadata": {
    "scrolled": false
   },
   "outputs": [
    {
     "data": {
      "text/plain": [
       "(0.771320643266746, 0.0207519493594015)"
      ]
     },
     "execution_count": 32,
     "metadata": {},
     "output_type": "execute_result"
    }
   ],
   "source": [
    "# Get a specific seed and output random numbers after that\n",
    "np.random.seed(s_no)\n",
    "rand1 = np.random.rand()\n",
    "rand2 = np.random.rand()\n",
    "rand1, rand2"
   ]
  },
  {
   "cell_type": "markdown",
   "metadata": {},
   "source": [
    "**Note:** notice the value of the random numbers when the seed is 10"
   ]
  },
  {
   "cell_type": "code",
   "execution_count": 33,
   "metadata": {
    "scrolled": true
   },
   "outputs": [
    {
     "data": {
      "text/plain": [
       "0.6336482349262754"
      ]
     },
     "execution_count": 33,
     "metadata": {},
     "output_type": "execute_result"
    }
   ],
   "source": [
    "# Get a 2nd random number\n",
    "np.random.rand()"
   ]
  },
  {
   "cell_type": "code",
   "execution_count": 34,
   "metadata": {
    "scrolled": true
   },
   "outputs": [
    {
     "data": {
      "text/plain": [
       "(0.771320643266746, 0.0207519493594015)"
      ]
     },
     "execution_count": 34,
     "metadata": {},
     "output_type": "execute_result"
    }
   ],
   "source": [
    "# Get the same seed as used above and output random numbers after that\n",
    "np.random.seed(s_no)\n",
    "rand1 = np.random.rand()\n",
    "rand2 = np.random.rand()\n",
    "rand1, rand2"
   ]
  },
  {
   "cell_type": "markdown",
   "metadata": {},
   "source": [
    "**Note:** notice that values of the random numbers seeded in the *above cell* are exactly the same as the the *numbers seeded the first time*. The same see value was used which means the same random numbers will show up."
   ]
  },
  {
   "cell_type": "code",
   "execution_count": 35,
   "metadata": {
    "scrolled": true
   },
   "outputs": [
    {
     "data": {
      "text/plain": [
       "0.6336482349262754"
      ]
     },
     "execution_count": 35,
     "metadata": {},
     "output_type": "execute_result"
    }
   ],
   "source": [
    "# Get another random number\n",
    "np.random.rand()"
   ]
  }
 ],
 "metadata": {
  "kernelspec": {
   "display_name": "Python 3",
   "language": "python",
   "name": "python3"
  },
  "language_info": {
   "codemirror_mode": {
    "name": "ipython",
    "version": 3
   },
   "file_extension": ".py",
   "mimetype": "text/x-python",
   "name": "python",
   "nbconvert_exporter": "python",
   "pygments_lexer": "ipython3",
   "version": "3.6.7"
  }
 },
 "nbformat": 4,
 "nbformat_minor": 2
}
