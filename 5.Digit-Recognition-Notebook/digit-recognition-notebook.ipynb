{
 "cells": [
  {
   "cell_type": "markdown",
   "metadata": {},
   "source": [
    "# Digit Recognition Notebook"
   ]
  },
  {
   "cell_type": "markdown",
   "metadata": {},
   "source": [
    "## Introduction\n",
    "Neural networks are a method of deep learning that are used to try replicate how a brain function works and how it controls us to do certain things.\n",
    "The neurons simulated are connected in layers and they have weights that show how they respond to signals that pass through the network."
   ]
  },
  {
   "cell_type": "markdown",
   "metadata": {},
   "source": [
    "## Configuration"
   ]
  },
  {
   "cell_type": "markdown",
   "metadata": {},
   "source": [
    "A few dependencies are needed for the handwritten digit recognition program to work.\n",
    "\n",
    "First create a directory \n",
    "\n",
    "mkdir tensorflow-demo\n",
    "cd tensorflow-demo\n",
    "Execute the following commands to set up the virtual environment for this tutorial:\n",
    "\n",
    "python3 -m venv tensorflow-demo\n",
    "source tensorflow-demo/bin/activate\n",
    "Next, install the libraries you'll use in this tutorial. We'll use specific versions of these libraries by creating a requirements.txt file in the project directory which specifies the requirement and the version we need. Create the requirements.txt file:\n",
    "\n",
    "touch requirements.txt\n",
    "Open the file in your text editor and add the following lines to specify the Image, NumPy, and TensorFlow libraries and their versions:\n",
    "\n",
    "requirements.txt\n",
    "image==1.5.20\n",
    "numpy==1.14.3\n",
    "tensorflow==1.4.0\n",
    "Save the file and exit the editor. Then install these libraries with the following command:\n",
    "\n",
    "pip install -r requirements.txt"
   ]
  },
  {
   "attachments": {},
   "cell_type": "markdown",
   "metadata": {},
   "source": [
    "## MNIST Dataset"
   ]
  },
  {
   "cell_type": "markdown",
   "metadata": {},
   "source": [
    "The MNIST (Modified National Institute of Standards and Technology) database is a large database of handwritten digits used for \"classification\", \"image recognition\" task. It is also often used to compare algorithm performances in research.\n",
    "The dataset is made up of images of handwritten digits from 0-9 with a scale of 28x28 pixels.\n",
    "![image](https://upload.wikimedia.org/wikipedia/commons/2/27/MnistExamples.png)"
   ]
  }
 ],
 "metadata": {
  "kernelspec": {
   "display_name": "Python 3",
   "language": "python",
   "name": "python3"
  },
  "language_info": {
   "codemirror_mode": {
    "name": "ipython",
    "version": 3
   },
   "file_extension": ".py",
   "mimetype": "text/x-python",
   "name": "python",
   "nbconvert_exporter": "python",
   "pygments_lexer": "ipython3",
   "version": "3.6.7"
  }
 },
 "nbformat": 4,
 "nbformat_minor": 2
}
