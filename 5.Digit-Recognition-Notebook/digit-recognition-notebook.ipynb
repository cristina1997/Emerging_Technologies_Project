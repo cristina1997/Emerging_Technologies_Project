{
 "cells": [
  {
   "cell_type": "markdown",
   "metadata": {},
   "source": [
    "# Digit Recognition Notebook"
   ]
  },
  {
   "cell_type": "markdown",
   "metadata": {},
   "source": [
    "___\n",
    "## [Introduction](http://neuralnetworksanddeeplearning.com)\n",
    "Neural networks are a method of deep learning used to replicate how a brain functions. The neurons simulated are connected in layers and they have weights that show how they respond to signals that pass through the network.\n",
    "\n",
    "Neural networks and deep learning were used to recognise handwritten images based on observational data such as MNIST."
   ]
  },
  {
   "cell_type": "markdown",
   "metadata": {},
   "source": [
    "___\n",
    "## [Configuration](https://corochann.com/mnist-dataset-introduction-1138.html)"
   ]
  },
  {
   "cell_type": "markdown",
   "metadata": {},
   "source": [
    "A few dependencies are needed for the handwritten digit recognition program to work.\n",
    "\n",
    "1. Create a folder called \"tensorflow-demo\" and access it\n",
    "2. Libraries with specific versions need to be installed\n",
    "    * *Image library* - version 1.5.20\n",
    "    * *Numpy library* - version 1.14.3\n",
    "    * *Tensorflow library* - version 1.4.0"
   ]
  },
  {
   "attachments": {},
   "cell_type": "markdown",
   "metadata": {},
   "source": [
    "___\n",
    "## [MNIST Dataset](https://corochann.com/mnist-dataset-introduction-1138.html)"
   ]
  },
  {
   "cell_type": "markdown",
   "metadata": {},
   "source": [
    "The MNIST (Modified National Institute of Standards and Technology) database is a large database of handwritten digits used for \"classification\", \"image recognition\" task. It is also often used to compare algorithm performances in research.\n",
    "The dataset is made up of images of handwritten digits from 0-9 with a scale of 28x28 pixels.\n",
    "![image](https://upload.wikimedia.org/wikipedia/commons/2/27/MnistExamples.png)"
   ]
  },
  {
   "cell_type": "markdown",
   "metadata": {},
   "source": [
    "**The tensorflow library and MNIST dataset need to be imported in the program**\n",
    "* ***Code***: \n",
    "    import tensorflow as tf \n",
    "* ***Code***: \n",
    "    from tensorflow.examples.tutorials.mnist import input_data\n",
    "\n",
    "**stored in a variable - called mnist in this case - and saved in a folder - called MNIST_data (you can change the name if you wish)**\n",
    "* ***Code***: \n",
    "    mnist = input_data.read_data_sets(\"MNIST_data/\", one_hot=True) "
   ]
  },
  {
   "cell_type": "markdown",
   "metadata": {},
   "source": [
    "#### One-hot-encoding\n",
    "It uses a vector of binary values to represent numbers, which are basically the labels from the MNIST dataset. Because the labels are made up of digits from 0 to 9, our vector that represents those digits also contains 10 values represented in binary code. \n",
    "\n",
    "#### How are the digits recognised by the binary code?\n",
    "The way this works is by having 1 out of the 10 binary values represent the handwritten digit while the other values remain 0.\n",
    "For example, the following vector [0, 0, 0, 0, 0, 1, 0, 0, 0, 0] represents number 5 as it is in the position of where 5 would be provided it were a list of decimal numbers from 0-10 ."
   ]
  },
  {
   "cell_type": "markdown",
   "metadata": {},
   "source": [
    "In order to represent the images the 28x28 pixels are placed into a 1D vector of 784 pixels. Each of the 784 pixels is stored as a value between 0 and 255 that represents the picture's grayscale. All the pictures in this dataset are black and white, a black pixel represented by 255, a white pixel by 0 and grey shades in between.\n",
    "\n",
    "#### Dataset has been split into three subsets\n",
    "1. Training images - 55,000 images\n",
    "    * ***Code***: \n",
    "        n_train = mnist.train.num_examples \n",
    "2. Validation images - 5,000 images\n",
    "    * ***Code***: \n",
    "        n_validation = mnist.validation.num_examples\n",
    "3. Testing images - 10,000 images\n",
    "    * ***Code***: \n",
    "        n_test = mnist.test.num_examples\n",
    "\n",
    "We can find out the size of the dataset by looking at the num_samples on each of the above subsets and we can split the dataset into sets of images for each subset."
   ]
  },
  {
   "cell_type": "markdown",
   "metadata": {},
   "source": [
    "___\n",
    "## [Neural Network Architecture](https://www.dspguide.com/ch26/2.htm)\n",
    "This neural network is formed in three layers\n",
    "1. Input layer - the image containing the handwritten image (28x28 pixels)\n",
    "    * ***Code***: \n",
    "        n_input = 784\n",
    "2. Hidden layer - everything between the input and output\n",
    "    * ***Code***: \n",
    "        n_hidden1 = 512\n",
    "3. Output layer - the number predicted to the user (between 0 and 9)\n",
    "    * ***Code***: \n",
    "        n_output = 10\n",
    "    \n",
    "Each layer consisting of one or more nodes. The lines between the nodes are representing the flow of information from one node to the next. In our case, the information only flows from input to output, but in other cases in which feedback is possible the information can flow bothways.\n",
    "![image](https://www.dspguide.com/graphics/F_26_5.gif)"
   ]
  },
  {
   "cell_type": "markdown",
   "metadata": {},
   "source": [
    "[Hyperparameters](https://www.quora.com/What-are-hyperparameters-in-machine-learning) are constants or fixed numbers. They cannot be changed or learned from the training process because of their complexity or speed of learning, which of which are thought of as \"high-level\" properties.\n",
    "1. Learning rate - how much the parameters will adjust after each learning process\n",
    "    * ***Code***: \n",
    "        learning_rate = 1e-4\n",
    "2. Number of iterations - amount of times we go through the training step\n",
    "    * ***Code***: \n",
    "        n_iterations = 1000\n",
    "3. Batch size - amount of training samples used\n",
    "    * ***Code***: \n",
    "        batch_size = 128\n",
    "4. Dropout variable - threshold at which some units are randomly eliminated\n",
    "    * ***Code***: \n",
    "        dropout = 0.5"
   ]
  },
  {
   "cell_type": "markdown",
   "metadata": {},
   "source": [
    "___\n",
    "## TensorFlow Graph"
   ]
  },
  {
   "cell_type": "markdown",
   "metadata": {},
   "source": [
    "___\n",
    "## Train"
   ]
  },
  {
   "cell_type": "markdown",
   "metadata": {},
   "source": [
    "___\n",
    "## Test"
   ]
  }
 ],
 "metadata": {
  "kernelspec": {
   "display_name": "Python 3",
   "language": "python",
   "name": "python3"
  },
  "language_info": {
   "codemirror_mode": {
    "name": "ipython",
    "version": 3
   },
   "file_extension": ".py",
   "mimetype": "text/x-python",
   "name": "python",
   "nbconvert_exporter": "python",
   "pygments_lexer": "ipython3",
   "version": "3.6.7"
  }
 },
 "nbformat": 4,
 "nbformat_minor": 2
}
