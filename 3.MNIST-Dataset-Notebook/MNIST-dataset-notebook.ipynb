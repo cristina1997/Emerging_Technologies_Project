{
 "cells": [
  {
   "cell_type": "markdown",
   "metadata": {},
   "source": [
    "# MNIST Dataset Notebook"
   ]
  },
  {
   "cell_type": "markdown",
   "metadata": {},
   "source": [
    "___\n",
    "## [What is MNIST?](https://corochann.com/mnist-dataset-introduction-1138.html)\n",
    "The MNIST (Modified National Institute of Standards and Technology) database is a large database of handwritten digits used for \"classification\", \"image recognition\" task. It is also often used to compare algorithm performances in research.\n",
    "___"
   ]
  },
  {
   "cell_type": "markdown",
   "metadata": {},
   "source": [
    "## How was it created?\n",
    "Samples from NIST's datasets were remixed and then normalized to fit into a 28x28 pixel grayscale images.\n",
    "\n",
    "**[The dataset consists of:](https://corochann.com/mnist-dataset-introduction-1138.html)**\n",
    "1. Image - this is a **list** of unsigned bytes. <br>\n",
    "   The bytes array results from the image list need to be turned into a list [(hence why *list()* is included in reshaping the image)]((https://stackoverflow.com/questions/40427435/extract-images-from-idx3-ubyte-file-or-gzip-via-python/40430149))\n",
    "    * What is it? <br>\n",
    "       This is 28x28 (784 pixels) grayscale image of a handwritten number.\n",
    "       \n",
    "2. Label - this is an **array** of unsigned bytes\n",
    "    * What is it? <br>\n",
    "      This is a representation of the digit from the image, ranging between numbers 0 to 9.\n",
    "___"
   ]
  },
  {
   "cell_type": "markdown",
   "metadata": {},
   "source": [
    "## How to convert the content from bytes to integers\n",
    "1. Visit [this website](http://yann.lecun.com/exdb/mnist/)\n",
    "2. On the website, scroll down to find out more information about the content of the file you are testing\n",
    "    * **underneath the heading:** FILE FORMATS FOR THE MNIST DATABASE\n",
    "3. Display the integer values of the images from 0 to 16, every 4 bytes\n",
    "4. If your output matches the number under the *value* column, then it is the correct output\n",
    "\n",
    "**Note:** If the *value* is noted as two question marks - **??** - that means the output is 0"
   ]
  },
  {
   "cell_type": "markdown",
   "metadata": {},
   "source": [
    "#### [The following are the data types used in this code:](https://docs.scipy.org/doc/numpy-1.15.0/user/basics.types.html)\n",
    "* **unint8** &nbsp;&nbsp;&nbsp; - Unsigned integer (0 to 255)\n",
    "* **int_** &nbsp;&nbsp;&nbsp;&nbsp;&nbsp;&nbsp;&nbsp; - Default integer type (same as C long; normally either int64 or int32)\n",
    "___"
   ]
  },
  {
   "cell_type": "markdown",
   "metadata": {},
   "source": [
    "## Packages"
   ]
  },
  {
   "cell_type": "code",
   "execution_count": null,
   "metadata": {
    "scrolled": false
   },
   "outputs": [],
   "source": [
    "# To extract files from the gzipped folder\n",
    "import gzip\n",
    "\n",
    "# Algebra\n",
    "import numpy as np\n",
    "\n",
    "# Sends HTTP requests\n",
    "import requests\n",
    "\n",
    "# Download MNIST Data \n",
    "# Source code adapted from: \n",
    "# - https://www.digitalocean.com/community/tutorials/how-to-build-a-neural-network-to-recognize-handwritten-digits-with-tensorflow\n",
    "from tensorflow.examples.tutorials.mnist import input_data\n",
    "mnist = input_data.read_data_sets(\"data/MNIST_data/\", one_hot=True) # y labels are oh-encoded\n",
    "\n",
    "# Visualise data\n",
    "import matplotlib.pyplot as plt\n",
    "%matplotlib inline"
   ]
  },
  {
   "cell_type": "markdown",
   "metadata": {},
   "source": [
    "___\n",
    "# Folders from t10k"
   ]
  },
  {
   "cell_type": "markdown",
   "metadata": {},
   "source": [
    "## Read the file content from the [gzipped](http://yann.lecun.com/exdb/mnist/) folders"
   ]
  },
  {
   "cell_type": "code",
   "execution_count": null,
   "metadata": {},
   "outputs": [],
   "source": [
    "# Source code adapted from:\n",
    "# - https://stackoverflow.com/questions/48257255/how-to-import-pre-downloaded-mnist-dataset-from-a-specific-directory-or-folder\n",
    "# - https://docs.python.org/3/library/gzip.html"
   ]
  },
  {
   "cell_type": "code",
   "execution_count": null,
   "metadata": {},
   "outputs": [],
   "source": [
    "# Read a gzip compressed file\n",
    "# Handwritten image folder\n",
    "with gzip.open('data/MNIST_data/t10k-images-idx3-ubyte.gz', 'rb') as t10k_img:\n",
    "    image_t10k = t10k_img.read()"
   ]
  },
  {
   "cell_type": "code",
   "execution_count": null,
   "metadata": {},
   "outputs": [],
   "source": [
    "with gzip.open('data/MNIST_data/t10k-labels-idx1-ubyte.gz', 'rb') as t10k_label:\n",
    "    labels_t10k = t10k_label.read()"
   ]
  },
  {
   "cell_type": "markdown",
   "metadata": {},
   "source": [
    "## Handwritten Digit Image\n",
    "This file is a list of bytes that can displays the image of a digit"
   ]
  },
  {
   "cell_type": "code",
   "execution_count": null,
   "metadata": {
    "scrolled": true
   },
   "outputs": [],
   "source": [
    "# Obtain the file content type of the image_t10k folder\n",
    "type(image_t10k)"
   ]
  },
  {
   "cell_type": "code",
   "execution_count": null,
   "metadata": {},
   "outputs": [],
   "source": [
    "# A subset of the array can be accessed from the bytearray by using the \":\" notation\n",
    "# - https://www.youtube.com/watch?v=qnKX1y7HAyE"
   ]
  },
  {
   "cell_type": "code",
   "execution_count": null,
   "metadata": {},
   "outputs": [],
   "source": [
    "# Get the first 4 bytes\n",
    "image_t10k[0:4]"
   ]
  },
  {
   "cell_type": "code",
   "execution_count": null,
   "metadata": {},
   "outputs": [],
   "source": [
    "# Source code adapted from:\n",
    "# - https://stackoverflow.com/questions/444591/convert-a-string-of-bytes-into-an-int-python\n",
    "# - https://stackoverflow.com/questions/30402743/python-2-7-equivalent-of-built-in-method-int-from-bytes\n",
    "# - https://docs.python.org/3/library/stdtypes.html\n",
    "# - https://www.devdungeon.com/content/working-binary-data-python"
   ]
  },
  {
   "cell_type": "markdown",
   "metadata": {},
   "source": [
    "### Convert bytes to integers in the image folders"
   ]
  },
  {
   "cell_type": "code",
   "execution_count": null,
   "metadata": {},
   "outputs": [],
   "source": [
    "# First 4 bytes\n",
    "# You can use the output from the image_t10k[0:4]\n",
    "int.from_bytes(b'\\x00\\x00\\x08\\x03', byteorder='big')"
   ]
  },
  {
   "cell_type": "markdown",
   "metadata": {},
   "source": [
    "### OR\n",
    "\n"
   ]
  },
  {
   "cell_type": "code",
   "execution_count": null,
   "metadata": {},
   "outputs": [],
   "source": [
    "# You can use image_t10k[0:4] instead of the \n",
    "# direct output since it's more efficient\n",
    "int.from_bytes(image_t10k[0:4], byteorder='big')"
   ]
  },
  {
   "cell_type": "code",
   "execution_count": null,
   "metadata": {},
   "outputs": [],
   "source": [
    "# Bytes 4 to 8\n",
    "int.from_bytes(image_t10k[4:8], byteorder='big')"
   ]
  },
  {
   "cell_type": "code",
   "execution_count": null,
   "metadata": {
    "scrolled": true
   },
   "outputs": [],
   "source": [
    "# Bytes 8 to 12\n",
    "int.from_bytes(image_t10k[8:12], byteorder='big')"
   ]
  },
  {
   "cell_type": "code",
   "execution_count": null,
   "metadata": {},
   "outputs": [],
   "source": [
    "# Bytes 12 to 16\n",
    "int.from_bytes(image_t10k[12:16], byteorder='big')"
   ]
  },
  {
   "cell_type": "code",
   "execution_count": null,
   "metadata": {},
   "outputs": [],
   "source": [
    "# Bytes 16 to 17 - value being \"??\"\n",
    "int.from_bytes(image_t10k[16:17], byteorder='big')"
   ]
  },
  {
   "cell_type": "markdown",
   "metadata": {},
   "source": [
    "## Labels\n",
    "This is a file containing an array of bytes that prints out the digit"
   ]
  },
  {
   "cell_type": "code",
   "execution_count": null,
   "metadata": {},
   "outputs": [],
   "source": [
    "# Obtain the file content type of the labels_t10k folder\n",
    "type(labels_t10k)"
   ]
  },
  {
   "cell_type": "markdown",
   "metadata": {},
   "source": [
    "### Convert bytes to integers in the labels folders\n",
    "**Check if the numbers in the images match the number labels in each output**"
   ]
  },
  {
   "cell_type": "code",
   "execution_count": null,
   "metadata": {},
   "outputs": [],
   "source": [
    "# Source code adapted from:\n",
    "# - https://github.com/ianmcloughlin/jupyter-teaching-notebooks/blob/master/mnist.ipynb\n",
    "# First 4 bytes\n",
    "int.from_bytes(labels_t10k[0:4], byteorder='big')"
   ]
  },
  {
   "cell_type": "code",
   "execution_count": null,
   "metadata": {
    "scrolled": true
   },
   "outputs": [],
   "source": [
    "# Bytes 4 to 8\n",
    "int.from_bytes(labels_t10k[4:8], byteorder='big')"
   ]
  },
  {
   "cell_type": "markdown",
   "metadata": {},
   "source": [
    "#### Why does the image show between bytes 16 and 800 and not between 0 and 784?\n",
    "1. When converting  handwritten images folder from bytes 16-17 to integer you get 0\n",
    "2. Image scale is 28x28 which means 800 is the the no of bytes at which the first digit image ends\n",
    "3. When converting labels_t10k folder from bytes 8-9 to integer you get 7\n",
    "4. Each following digit image is another 28x28 bits (784 pixels) further from the previous digit\n",
    "    * Second digit is found between 800-1584 pixels"
   ]
  },
  {
   "cell_type": "markdown",
   "metadata": {},
   "source": [
    "### Display number\n",
    "This displays the digit between the bytes in the square brackets."
   ]
  },
  {
   "cell_type": "markdown",
   "metadata": {},
   "source": [
    "#### Output 1"
   ]
  },
  {
   "cell_type": "code",
   "execution_count": null,
   "metadata": {},
   "outputs": [],
   "source": [
    "# Bytes 15 to 16\n",
    "int.from_bytes(labels_t10k[15:16], byteorder='big')"
   ]
  },
  {
   "cell_type": "markdown",
   "metadata": {},
   "source": [
    "### Visualise\n",
    "This displays the handwritten number that matches the output from the label."
   ]
  },
  {
   "cell_type": "markdown",
   "metadata": {},
   "source": [
    "#### Image 1 - Should match Output 1"
   ]
  },
  {
   "cell_type": "code",
   "execution_count": null,
   "metadata": {},
   "outputs": [],
   "source": [
    "# Source code adapted from:\n",
    "# - https://stackoverflow.com/questions/37228371/visualize-mnist-dataset-using-opencv-or-matplotlib-pyplot"
   ]
  },
  {
   "cell_type": "code",
   "execution_count": null,
   "metadata": {
    "scrolled": true
   },
   "outputs": [],
   "source": [
    "# Obtain the image label from bytes 5504 to 6288 (28x28 - scale of the handwritten digit image)\n",
    "image1_tk = np.array(list(image_t10k[5504:6288])).reshape(28,28).astype(np.uint8)"
   ]
  },
  {
   "cell_type": "code",
   "execution_count": null,
   "metadata": {
    "scrolled": false
   },
   "outputs": [],
   "source": [
    "# Display the image of the digit\n",
    "plt.imshow(image1_tk, cmap='gray')"
   ]
  },
  {
   "cell_type": "markdown",
   "metadata": {},
   "source": [
    "---\n",
    "\n",
    "# Folders from train"
   ]
  },
  {
   "cell_type": "markdown",
   "metadata": {},
   "source": [
    "## Read the file content from the [gzipped](http://yann.lecun.com/exdb/mnist/) folders"
   ]
  },
  {
   "cell_type": "code",
   "execution_count": null,
   "metadata": {},
   "outputs": [],
   "source": [
    "with gzip.open('data/MNIST_data/train-images-idx3-ubyte.gz', 'rb') as tr_img:\n",
    "    image_tr = tr_img.read()"
   ]
  },
  {
   "cell_type": "code",
   "execution_count": null,
   "metadata": {},
   "outputs": [],
   "source": [
    "with gzip.open('data/MNIST_data/train-labels-idx1-ubyte.gz', 'rb') as tr_label:\n",
    "    labels_tr = tr_label.read()"
   ]
  },
  {
   "cell_type": "markdown",
   "metadata": {},
   "source": [
    "## Handwritten Digit Image"
   ]
  },
  {
   "cell_type": "markdown",
   "metadata": {},
   "source": [
    "### Convert bytes to integers in the image folders"
   ]
  },
  {
   "cell_type": "code",
   "execution_count": null,
   "metadata": {},
   "outputs": [],
   "source": [
    "# You can use image_tr[0:4] \n",
    "int.from_bytes(image_tr[0:4], byteorder='big')"
   ]
  },
  {
   "cell_type": "code",
   "execution_count": null,
   "metadata": {},
   "outputs": [],
   "source": [
    "# You can use image_tr[0:4] \n",
    "int.from_bytes(image_tr[0:4], byteorder='big')"
   ]
  },
  {
   "cell_type": "code",
   "execution_count": null,
   "metadata": {},
   "outputs": [],
   "source": [
    "# Bytes 4 to 8\n",
    "int.from_bytes(image_tr[4:8], byteorder='big')"
   ]
  },
  {
   "cell_type": "code",
   "execution_count": null,
   "metadata": {},
   "outputs": [],
   "source": [
    "# Bytes 8 to 12\n",
    "int.from_bytes(image_tr[8:12], byteorder='big')"
   ]
  },
  {
   "cell_type": "code",
   "execution_count": null,
   "metadata": {},
   "outputs": [],
   "source": [
    "# Bytes 12 to 16\n",
    "int.from_bytes(image_tr[12:16], byteorder='big')"
   ]
  },
  {
   "cell_type": "code",
   "execution_count": null,
   "metadata": {},
   "outputs": [],
   "source": [
    "# Bytes 16 to 17 - [value] being \"??\"\n",
    "int.from_bytes(image_t10k[16:17], byteorder='big')"
   ]
  },
  {
   "cell_type": "markdown",
   "metadata": {},
   "source": [
    "## Labels"
   ]
  },
  {
   "cell_type": "markdown",
   "metadata": {},
   "source": [
    "### Convert bytes to integers in the labels folders\n",
    "**Check if the numbers in the images match the number labels in each output**"
   ]
  },
  {
   "cell_type": "code",
   "execution_count": null,
   "metadata": {},
   "outputs": [],
   "source": [
    "# First 4 bytes\n",
    "int.from_bytes(labels_tr[0:4], byteorder='big')"
   ]
  },
  {
   "cell_type": "code",
   "execution_count": null,
   "metadata": {},
   "outputs": [],
   "source": [
    "# Bytes 4 to 8\n",
    "int.from_bytes(labels_tr[4:8], byteorder='big')"
   ]
  },
  {
   "cell_type": "markdown",
   "metadata": {},
   "source": [
    "### Display number\n",
    "This displays the digit between the bytes in the square brackets."
   ]
  },
  {
   "cell_type": "markdown",
   "metadata": {},
   "source": [
    "#### Output 1"
   ]
  },
  {
   "cell_type": "code",
   "execution_count": null,
   "metadata": {},
   "outputs": [],
   "source": [
    "# Bytes 8 to 9\n",
    "int.from_bytes(labels_tr[8:9], byteorder='big')"
   ]
  },
  {
   "cell_type": "markdown",
   "metadata": {},
   "source": [
    "### Visualise\n",
    "This displays the handwritten number that matches the output from the label."
   ]
  },
  {
   "cell_type": "markdown",
   "metadata": {},
   "source": [
    "#### Image 1 - Should match Output 1"
   ]
  },
  {
   "cell_type": "code",
   "execution_count": null,
   "metadata": {},
   "outputs": [],
   "source": [
    "# Obtain the image label from bytes 16 to 800 (28x28 - scale of the handwritten digit image)\n",
    "image1_tr = np.array(list(image_tr[16:800])).reshape(28,28).astype(np.uint8)"
   ]
  },
  {
   "cell_type": "code",
   "execution_count": null,
   "metadata": {
    "scrolled": true
   },
   "outputs": [],
   "source": [
    "plt.imshow(image1_tr, cmap='gray')"
   ]
  }
 ],
 "metadata": {
  "kernelspec": {
   "display_name": "Python 3",
   "language": "python",
   "name": "python3"
  },
  "language_info": {
   "codemirror_mode": {
    "name": "ipython",
    "version": 3
   },
   "file_extension": ".py",
   "mimetype": "text/x-python",
   "name": "python",
   "nbconvert_exporter": "python",
   "pygments_lexer": "ipython3",
   "version": "3.6.7"
  }
 },
 "nbformat": 4,
 "nbformat_minor": 2
}
