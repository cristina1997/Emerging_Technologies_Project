{
 "cells": [
  {
   "cell_type": "markdown",
   "metadata": {},
   "source": [
    "# Iris Dataset Notebook\n"
   ]
  },
  {
   "cell_type": "markdown",
   "metadata": {},
   "source": [
    "## What is the Iris Dataset?\n",
    "The Iris flower dataset was introduced by Ronald Fisher (a British statistician and biologist) in 1936. He used linear discriminant analysis to find a linear cobination of features that separates a multitude of classes, by taking multiple measurements which is an example of such analysis in taxonomic problems."
   ]
  },
  {
   "cell_type": "markdown",
   "metadata": {},
   "source": [
    "---\n",
    "### [More information about the content of the dataset](https://medium.com/codebagng/basic-analysis-of-the-iris-data-set-using-python-2995618a6342)\n",
    "In this dataset alone, 50 of Iris flowers from each of the 3 species were collected and measured for accurate and non-bias results. Although because 2 of the 3 species were collected from the same location (Gaspé Peninsula) on the same pasture and day and because they were measured at the same time by the same person with the same apparatus, the end results might have become slightly biased which is why the visualisation, as you will see later on, shows 2 species being more alike.\n",
    "* 150 iris flowers of 3 species were identified and used for this dataset\n",
    "    * setosa\n",
    "    * virginica\n",
    "    * versicolor\n",
    "* There are 4 columns included of the flowers' measurements\n",
    "    * sepal length\n",
    "    * sepal width\n",
    "    * petals length\n",
    "    * petals width\n",
    "* The 5th column in the dataset is the flower species - named as class in this case\n",
    "\n"
   ]
  },
  {
   "cell_type": "markdown",
   "metadata": {},
   "source": [
    "## Packages\n",
    "First and foremost we need to import the packages require for this code to work."
   ]
  },
  {
   "cell_type": "code",
   "execution_count": null,
   "metadata": {},
   "outputs": [],
   "source": [
    "# Load data sets - data procesing\n",
    "import pandas as pd\n",
    "\n",
    "# Encoding categorical variables.\n",
    "import sklearn.preprocessing as pre\n",
    "\n",
    "# Splitting into training and test sets.\n",
    "import sklearn.model_selection as mod\n",
    "\n",
    "# Find a number of training samples\n",
    "import sklearn.neighbors as nei\n",
    "\n",
    "# Compute subset accuracy\n",
    "from sklearn.metrics import accuracy_score\n",
    "\n",
    "# See the relation between each pair of features\n",
    "import seaborn as sns\n",
    "\n",
    "# Linear algebra\n",
    "import numpy as np\n",
    "\n",
    "import random\n",
    "\n",
    "# Visualise data\n",
    "import matplotlib.pyplot as plt\n",
    "%matplotlib inline"
   ]
  },
  {
   "cell_type": "markdown",
   "metadata": {},
   "source": [
    "## Show the dataset"
   ]
  },
  {
   "cell_type": "markdown",
   "metadata": {},
   "source": [
    "### Read the iris dataset\n",
    "Take the dataset from a csv (excel) file and read it"
   ]
  },
  {
   "cell_type": "code",
   "execution_count": null,
   "metadata": {
    "scrolled": false
   },
   "outputs": [],
   "source": [
    "# Loading the dataset\n",
    "dataset = pd.read_csv(\"https://raw.githubusercontent.com/ianmcloughlin/datasets/master/iris.csv\")\n",
    "\n",
    "# Displays the dataset in a user-friendly manner\n",
    "dataset"
   ]
  },
  {
   "cell_type": "markdown",
   "metadata": {},
   "source": [
    "---\n",
    "## Dataset information\n",
    "Gather additional information from the dataset that might be useful in coding"
   ]
  },
  {
   "cell_type": "code",
   "execution_count": null,
   "metadata": {},
   "outputs": [],
   "source": [
    "# Source code adapted from: \n",
    "# - https://medium.com/codebagng/basic-analysis-of-the-iris-data-set-using-python-2995618a6342"
   ]
  },
  {
   "cell_type": "code",
   "execution_count": null,
   "metadata": {},
   "outputs": [],
   "source": [
    "# Shows the start of the dataset\n",
    "# the first 5 rows\n",
    "dataset.head()"
   ]
  },
  {
   "cell_type": "code",
   "execution_count": null,
   "metadata": {},
   "outputs": [],
   "source": [
    "# Information about the dataset\n",
    "# - how many entries/objects were used in this dataset\n",
    "# - the value of those entries (null or not)\n",
    "# - the type of those entries (integer, float, object, etc)\n",
    "dataset.info() "
   ]
  },
  {
   "cell_type": "code",
   "execution_count": null,
   "metadata": {},
   "outputs": [],
   "source": [
    "# Statistics summarizing dispersion & shape of dataset’s distribution\n",
    "dataset.describe()"
   ]
  },
  {
   "cell_type": "code",
   "execution_count": null,
   "metadata": {},
   "outputs": [],
   "source": [
    "# Outputs the amount of rows and columns of dataset\n",
    "dataset.shape"
   ]
  },
  {
   "cell_type": "code",
   "execution_count": null,
   "metadata": {},
   "outputs": [],
   "source": [
    "# Object containing the amount of objects present in each class or species\n",
    "dataset['class'].value_counts()"
   ]
  },
  {
   "cell_type": "markdown",
   "metadata": {},
   "source": [
    "### Visualise"
   ]
  },
  {
   "cell_type": "markdown",
   "metadata": {},
   "source": [
    "#### Display the measurements of the iris species"
   ]
  },
  {
   "cell_type": "code",
   "execution_count": null,
   "metadata": {
    "scrolled": true
   },
   "outputs": [],
   "source": [
    "# Source code adapted from:\n",
    "# - https://www.kaggle.com/adityabhat24/iris-data-analysis-and-machine-learning-python\n",
    "# This graph plots on the graph the sepal length in each species\n",
    "sns.violinplot(data=dataset, x=\"class\", y=\"sepal_length\")"
   ]
  },
  {
   "cell_type": "code",
   "execution_count": null,
   "metadata": {},
   "outputs": [],
   "source": [
    "# This graph plots on the graph the sepal width in each species\n",
    "sns.violinplot(data=dataset, x=\"class\", y=\"sepal_width\")"
   ]
  },
  {
   "cell_type": "code",
   "execution_count": null,
   "metadata": {},
   "outputs": [],
   "source": [
    "# This graph plots on the graph the petal length in each species\n",
    "sns.violinplot(data=dataset, x=\"class\", y=\"petal_length\")"
   ]
  },
  {
   "cell_type": "code",
   "execution_count": null,
   "metadata": {
    "scrolled": true
   },
   "outputs": [],
   "source": [
    "# This graph plots on the graph the petal width in each species\n",
    "sns.violinplot(data=dataset, x=\"class\", y=\"petal_width\")"
   ]
  },
  {
   "cell_type": "markdown",
   "metadata": {},
   "source": [
    "#### Plot the Iris dataset which includes the distinguished species of the iris"
   ]
  },
  {
   "cell_type": "code",
   "execution_count": null,
   "metadata": {
    "scrolled": false
   },
   "outputs": [],
   "source": [
    "# Source code adapted from:\n",
    "# - https://www.kaggle.com/jchen2186/machine-learning-with-iris-dataset\n",
    "# Show the iris dataset using pairplot\n",
    "sns.pairplot(dataset, hue='class', markers='o')"
   ]
  },
  {
   "cell_type": "markdown",
   "metadata": {},
   "source": [
    "---\n",
    "## Train the dataset\n",
    "### To train and test the Iris dataset we need follow the following steps:\n",
    "1. Inputs/Outputs\n",
    "    * Get the inputs/features\n",
    "        - **Features:**\n",
    "            1. sepal length in cm\n",
    "            2. sepal width in cm\n",
    "            3. petal length in cm\n",
    "            4. petal width in cm\n",
    "    * Get the desired output/targets\n",
    "        - **Targets:**\n",
    "            1. Iris Setosa\n",
    "            2. Iris Versicolour\n",
    "            3. Iris Virginica\n",
    "2. Split \n",
    "    * The dataset is separated into 'training' & 'testing'\n",
    "3. Train \n",
    "    * The model is trained using the 'fit' method on the 'training'data.\n",
    "4. Predict \n",
    "    * The outputs for the 'test data' is predicted\n",
    "5. Print & plot \n",
    "    * Outputs\n",
    "\n",
    "This information was found [here](https://mclguide.readthedocs.io/en/latest/sklearn/multiclass.html#iris-dataset)"
   ]
  },
  {
   "cell_type": "markdown",
   "metadata": {},
   "source": [
    "### Inputs\n",
    "These represent the features or measurements taken from the Iris flowers that can be found in the Iris dataset."
   ]
  },
  {
   "cell_type": "code",
   "execution_count": null,
   "metadata": {
    "scrolled": true
   },
   "outputs": [],
   "source": [
    "# Check column names to find out what names the features were given\n",
    "dataset.columns"
   ]
  },
  {
   "cell_type": "markdown",
   "metadata": {},
   "source": [
    "[In relation to the iris dataset features](https://www.ritchieng.com/machine-learning-iris-dataset/)\n",
    "* Each row is an observation, or record\n",
    "* Each column is a feature or an independent variable"
   ]
  },
  {
   "cell_type": "code",
   "execution_count": null,
   "metadata": {},
   "outputs": [],
   "source": [
    "# Source code adapted from: \n",
    "# - https://stackoverflow.com/questions/41130856/keyerror-petal-length-not-in-index\n",
    "# dataset['sepal_length (cm)', 'sepal_width (cm)', 'petal_length (cm)', 'petal_width (cm)']\n",
    "inputs = np.array(dataset[['sepal_length', 'sepal_width', 'petal_length', 'petal_width']])\n",
    "inputs"
   ]
  },
  {
   "cell_type": "markdown",
   "metadata": {},
   "source": [
    "### Outputs\n",
    "**Get the targets of the Iris dataset which are the species of the Iris that were included in this dataset**"
   ]
  },
  {
   "cell_type": "code",
   "execution_count": null,
   "metadata": {
    "scrolled": true
   },
   "outputs": [],
   "source": [
    "outputs = np.array(dataset['class'], dtype='<U10')\n",
    "outputs"
   ]
  },
  {
   "cell_type": "markdown",
   "metadata": {},
   "source": [
    "### Classify"
   ]
  },
  {
   "cell_type": "code",
   "execution_count": null,
   "metadata": {},
   "outputs": [],
   "source": [
    "knn = nei.KNeighborsClassifier(n_neighbors=5)"
   ]
  },
  {
   "cell_type": "markdown",
   "metadata": {},
   "source": [
    "### Fit"
   ]
  },
  {
   "cell_type": "code",
   "execution_count": null,
   "metadata": {
    "scrolled": false
   },
   "outputs": [],
   "source": [
    "knn.fit(inputs, outputs)"
   ]
  },
  {
   "cell_type": "markdown",
   "metadata": {},
   "source": [
    "### Train"
   ]
  },
  {
   "cell_type": "code",
   "execution_count": null,
   "metadata": {},
   "outputs": [],
   "source": [
    "# Train the dataset to predict the input and output tests \n",
    "# with a set size for the maximum amount that can be tested\n",
    "inputs_train, inputs_test, outputs_train, outputs_test = mod.train_test_split(inputs, outputs, test_size=0.5)"
   ]
  },
  {
   "cell_type": "markdown",
   "metadata": {},
   "source": [
    "### Predict"
   ]
  },
  {
   "cell_type": "code",
   "execution_count": null,
   "metadata": {},
   "outputs": [],
   "source": [
    "# Source code adapted from:\n",
    "# - https://github.com/ianmcloughlin/jupyter-teaching-notebooks/blob/master/knn-iris.ipynb\n",
    "# Predict the species from the inputs \n",
    "prediction1 = knn.predict([[5.1, 3.5, 1.4, 0.2]])\n",
    "prediction2 = knn.predict([[5.9, 3. , 5.1, 1.8]])"
   ]
  },
  {
   "cell_type": "code",
   "execution_count": null,
   "metadata": {},
   "outputs": [],
   "source": [
    "# This should be setosa as it is the first input in the list of inputs\n",
    "prediction1"
   ]
  },
  {
   "cell_type": "code",
   "execution_count": null,
   "metadata": {},
   "outputs": [],
   "source": [
    "# This should be virginica as it is the last input in the list of inputs\n",
    "prediction2"
   ]
  },
  {
   "cell_type": "code",
   "execution_count": null,
   "metadata": {},
   "outputs": [],
   "source": [
    "# Source code adapted from: \n",
    "# - https://stackoverflow.com/questions/1058712/how-do-i-select-a-random-element-from-an-array-in-python\n",
    "# Takes a random array of inputs from the iris' measurements\n",
    "rand = random.choice(inputs)\n",
    "rand"
   ]
  },
  {
   "cell_type": "code",
   "execution_count": null,
   "metadata": {},
   "outputs": [],
   "source": [
    "# Predicts the species that matches the random features\n",
    "prediction3 = knn.predict([rand])"
   ]
  },
  {
   "cell_type": "code",
   "execution_count": null,
   "metadata": {},
   "outputs": [],
   "source": [
    "# This should predict the species of the iris according to the random measurements chosen\n",
    "prediction3"
   ]
  },
  {
   "cell_type": "markdown",
   "metadata": {},
   "source": [
    "### Accuracy"
   ]
  },
  {
   "cell_type": "code",
   "execution_count": null,
   "metadata": {},
   "outputs": [],
   "source": [
    "# Source code adapted from:\n",
    "# - https://kevinzakka.github.io/2016/07/13/k-nearest-neighbor/\n",
    "# Predicts the species from the input tests in the train\n",
    "pred = knn.predict(inputs_test)\n",
    "pred"
   ]
  },
  {
   "cell_type": "code",
   "execution_count": null,
   "metadata": {},
   "outputs": [],
   "source": [
    "# It shows how accurate it is in %\n",
    "perc = (accuracy_score(outputs_test, pred)) * 100\n",
    "print(perc \"%\")"
   ]
  }
 ],
 "metadata": {
  "kernelspec": {
   "display_name": "Python 3",
   "language": "python",
   "name": "python3"
  },
  "language_info": {
   "codemirror_mode": {
    "name": "ipython",
    "version": 3
   },
   "file_extension": ".py",
   "mimetype": "text/x-python",
   "name": "python",
   "nbconvert_exporter": "python",
   "pygments_lexer": "ipython3",
   "version": "3.6.7"
  }
 },
 "nbformat": 4,
 "nbformat_minor": 2
}
